{
 "cells": [
  {
   "cell_type": "code",
   "execution_count": null,
   "metadata": {
    "colab": {
     "base_uri": "https://localhost:8080/"
    },
    "id": "m-UbacE3YrYl",
    "outputId": "f8e3ebf3-fce3-421a-9d16-51e4fb054cdb"
   },
   "outputs": [
    {
     "name": "stdout",
     "output_type": "stream",
     "text": [
      "Collecting wandb\n",
      "\u001b[?25l  Downloading https://files.pythonhosted.org/packages/47/af/4cfe48fe55046181b992251933cff4ceb3bfd71a42838f5fe683683cd925/wandb-0.10.25-py2.py3-none-any.whl (2.1MB)\n",
      "\u001b[K     |████████████████████████████████| 2.1MB 6.2MB/s \n",
      "\u001b[?25hRequirement already satisfied: PyYAML in /usr/local/lib/python3.7/dist-packages (from wandb) (3.13)\n",
      "Requirement already satisfied: protobuf>=3.12.0 in /usr/local/lib/python3.7/dist-packages (from wandb) (3.12.4)\n",
      "Requirement already satisfied: psutil>=5.0.0 in /usr/local/lib/python3.7/dist-packages (from wandb) (5.4.8)\n",
      "Requirement already satisfied: requests<3,>=2.0.0 in /usr/local/lib/python3.7/dist-packages (from wandb) (2.23.0)\n",
      "Collecting configparser>=3.8.1\n",
      "  Downloading https://files.pythonhosted.org/packages/fd/01/ff260a18caaf4457eb028c96eeb405c4a230ca06c8ec9c1379f813caa52e/configparser-5.0.2-py3-none-any.whl\n",
      "Requirement already satisfied: promise<3,>=2.0 in /usr/local/lib/python3.7/dist-packages (from wandb) (2.3)\n",
      "Collecting pathtools\n",
      "  Downloading https://files.pythonhosted.org/packages/e7/7f/470d6fcdf23f9f3518f6b0b76be9df16dcc8630ad409947f8be2eb0ed13a/pathtools-0.1.2.tar.gz\n",
      "Requirement already satisfied: Click>=7.0 in /usr/local/lib/python3.7/dist-packages (from wandb) (7.1.2)\n",
      "Collecting shortuuid>=0.5.0\n",
      "  Downloading https://files.pythonhosted.org/packages/25/a6/2ecc1daa6a304e7f1b216f0896b26156b78e7c38e1211e9b798b4716c53d/shortuuid-1.0.1-py3-none-any.whl\n",
      "Collecting subprocess32>=3.5.3\n",
      "\u001b[?25l  Downloading https://files.pythonhosted.org/packages/32/c8/564be4d12629b912ea431f1a50eb8b3b9d00f1a0b1ceff17f266be190007/subprocess32-3.5.4.tar.gz (97kB)\n",
      "\u001b[K     |████████████████████████████████| 102kB 13.6MB/s \n",
      "\u001b[?25hCollecting sentry-sdk>=0.4.0\n",
      "\u001b[?25l  Downloading https://files.pythonhosted.org/packages/f3/92/5a33be64990ba815364a8f2dd9e6f51de60d23dfddafb4f1fc5577d4dc64/sentry_sdk-1.0.0-py2.py3-none-any.whl (131kB)\n",
      "\u001b[K     |████████████████████████████████| 133kB 52.1MB/s \n",
      "\u001b[?25hCollecting GitPython>=1.0.0\n",
      "\u001b[?25l  Downloading https://files.pythonhosted.org/packages/a6/99/98019716955ba243657daedd1de8f3a88ca1f5b75057c38e959db22fb87b/GitPython-3.1.14-py3-none-any.whl (159kB)\n",
      "\u001b[K     |████████████████████████████████| 163kB 53.2MB/s \n",
      "\u001b[?25hRequirement already satisfied: six>=1.13.0 in /usr/local/lib/python3.7/dist-packages (from wandb) (1.15.0)\n",
      "Collecting docker-pycreds>=0.4.0\n",
      "  Downloading https://files.pythonhosted.org/packages/f5/e8/f6bd1eee09314e7e6dee49cbe2c5e22314ccdb38db16c9fc72d2fa80d054/docker_pycreds-0.4.0-py2.py3-none-any.whl\n",
      "Requirement already satisfied: python-dateutil>=2.6.1 in /usr/local/lib/python3.7/dist-packages (from wandb) (2.8.1)\n",
      "Requirement already satisfied: setuptools in /usr/local/lib/python3.7/dist-packages (from protobuf>=3.12.0->wandb) (54.2.0)\n",
      "Requirement already satisfied: idna<3,>=2.5 in /usr/local/lib/python3.7/dist-packages (from requests<3,>=2.0.0->wandb) (2.10)\n",
      "Requirement already satisfied: urllib3!=1.25.0,!=1.25.1,<1.26,>=1.21.1 in /usr/local/lib/python3.7/dist-packages (from requests<3,>=2.0.0->wandb) (1.24.3)\n",
      "Requirement already satisfied: chardet<4,>=3.0.2 in /usr/local/lib/python3.7/dist-packages (from requests<3,>=2.0.0->wandb) (3.0.4)\n",
      "Requirement already satisfied: certifi>=2017.4.17 in /usr/local/lib/python3.7/dist-packages (from requests<3,>=2.0.0->wandb) (2020.12.5)\n",
      "Collecting gitdb<5,>=4.0.1\n",
      "\u001b[?25l  Downloading https://files.pythonhosted.org/packages/ea/e8/f414d1a4f0bbc668ed441f74f44c116d9816833a48bf81d22b697090dba8/gitdb-4.0.7-py3-none-any.whl (63kB)\n",
      "\u001b[K     |████████████████████████████████| 71kB 10.8MB/s \n",
      "\u001b[?25hCollecting smmap<5,>=3.0.1\n",
      "  Downloading https://files.pythonhosted.org/packages/68/ee/d540eb5e5996eb81c26ceffac6ee49041d473bc5125f2aa995cf51ec1cf1/smmap-4.0.0-py2.py3-none-any.whl\n",
      "Building wheels for collected packages: pathtools, subprocess32\n",
      "  Building wheel for pathtools (setup.py) ... \u001b[?25l\u001b[?25hdone\n",
      "  Created wheel for pathtools: filename=pathtools-0.1.2-cp37-none-any.whl size=8786 sha256=c0a0b163ff3ecee8fbf74b3c64ccc80d14d41036eeb6761e12c4830646dd20e9\n",
      "  Stored in directory: /root/.cache/pip/wheels/0b/04/79/c3b0c3a0266a3cb4376da31e5bfe8bba0c489246968a68e843\n",
      "  Building wheel for subprocess32 (setup.py) ... \u001b[?25l\u001b[?25hdone\n",
      "  Created wheel for subprocess32: filename=subprocess32-3.5.4-cp37-none-any.whl size=6489 sha256=be6e0b4b75735ed482862e93c307bc2d8df50a43a8560d7ff468742e11e7a5f9\n",
      "  Stored in directory: /root/.cache/pip/wheels/68/39/1a/5e402bdfdf004af1786c8b853fd92f8c4a04f22aad179654d1\n",
      "Successfully built pathtools subprocess32\n",
      "Installing collected packages: configparser, pathtools, shortuuid, subprocess32, sentry-sdk, smmap, gitdb, GitPython, docker-pycreds, wandb\n",
      "Successfully installed GitPython-3.1.14 configparser-5.0.2 docker-pycreds-0.4.0 gitdb-4.0.7 pathtools-0.1.2 sentry-sdk-1.0.0 shortuuid-1.0.1 smmap-4.0.0 subprocess32-3.5.4 wandb-0.10.25\n"
     ]
    }
   ],
   "source": [
    "! pip install wandb"
   ]
  },
  {
   "cell_type": "code",
   "execution_count": null,
   "metadata": {
    "id": "oIiUWUrPWYUv"
   },
   "outputs": [],
   "source": [
    "import wandb"
   ]
  },
  {
   "cell_type": "code",
   "execution_count": null,
   "metadata": {
    "id": "XGjnZ6_VYngP"
   },
   "outputs": [],
   "source": [
    "import numpy as np\n",
    "import math\n",
    "import os\n",
    "import random\n",
    "import cv2\n",
    "from keras.datasets import mnist\n",
    "import matplotlib.pyplot as plt\n",
    "from keras.utils import to_categorical\n",
    "\n",
    "from keras.models import Sequential\n",
    "from keras.layers import Dense, Conv2D, Flatten, MaxPooling2D, Dropout, BatchNormalization\n",
    "from keras import regularizers"
   ]
  },
  {
   "cell_type": "code",
   "execution_count": null,
   "metadata": {
    "colab": {
     "base_uri": "https://localhost:8080/"
    },
    "id": "-BPHSH2kJVvm",
    "outputId": "e252d824-c3e1-456d-b2d1-057c3ee4b8f7"
   },
   "outputs": [
    {
     "name": "stdout",
     "output_type": "stream",
     "text": [
      "Mounted at /content/drive\n"
     ]
    }
   ],
   "source": [
    "from google.colab import drive\n",
    "drive.mount('/content/drive')\n",
    "#4/1AY0e-g5A33WgmAv7RsYj81gtQSQa_dUhxU-NUTTWp3hhmJUKfWv9Di4Rwmk"
   ]
  },
  {
   "cell_type": "code",
   "execution_count": null,
   "metadata": {
    "colab": {
     "base_uri": "https://localhost:8080/"
    },
    "id": "ttZkcQzRJYrd",
    "outputId": "7d25202a-4d64-4a51-a7b4-6003190cbac4"
   },
   "outputs": [
    {
     "name": "stdout",
     "output_type": "stream",
     "text": [
      "1177\n"
     ]
    }
   ],
   "source": [
    "!ls /content/drive/MyDrive/demo_augumentation/Fungi | wc -l"
   ]
  },
  {
   "cell_type": "code",
   "execution_count": null,
   "metadata": {
    "colab": {
     "base_uri": "https://localhost:8080/"
    },
    "id": "ngAuxIF-JZn-",
    "outputId": "c97988ff-d405-43fe-e923-cdbb5f1fdd6a"
   },
   "outputs": [
    {
     "data": {
      "text/plain": [
       "['Reptilia',\n",
       " 'Mollusca',\n",
       " 'Animalia',\n",
       " 'Amphibia',\n",
       " 'Aves',\n",
       " 'Mammalia',\n",
       " 'Insecta',\n",
       " 'Plantae',\n",
       " 'Arachnida',\n",
       " 'Fungi']"
      ]
     },
     "execution_count": 6,
     "metadata": {
      "tags": []
     },
     "output_type": "execute_result"
    }
   ],
   "source": [
    "dir_train = \"/content/drive/MyDrive/demo_augumentation\"\n",
    "# dir_train = \"/content/drive/MyDrive/nature_12k_new/inaturalist_12K/train\"\n",
    "# dir_val = \"/content/drive/MyDrive/nature_12k_new/inaturalist_12K/val\"\n",
    "class_list = os.listdir(dir_train)\n",
    "if '.DS_Store' in class_list:\n",
    "  class_list.remove('.DS_Store')\n",
    "class_list"
   ]
  },
  {
   "cell_type": "code",
   "execution_count": null,
   "metadata": {
    "id": "hrk8K28DJchY"
   },
   "outputs": [],
   "source": [
    "num_per_cls = 600"
   ]
  },
  {
   "cell_type": "code",
   "execution_count": null,
   "metadata": {
    "colab": {
     "base_uri": "https://localhost:8080/"
    },
    "id": "UP2Hvn1yJhMM",
    "outputId": "45993779-8e07-4d15-91dc-7a58b02093f9"
   },
   "outputs": [
    {
     "name": "stdout",
     "output_type": "stream",
     "text": [
      "600 60\n",
      "1200 120\n",
      "1800 180\n",
      "2400 240\n",
      "3000 300\n",
      "3600 360\n",
      "4200 420\n",
      "4800 480\n",
      "5400 540\n",
      "6000 600\n"
     ]
    }
   ],
   "source": [
    "  # Load data\n",
    "  x_amp_train = []\n",
    "  x_amp_test = []\n",
    "\n",
    "  y_amp_train = []\n",
    "  y_amp_test = []\n",
    "\n",
    "  # num_per_cls = config.epochs\n",
    "    \n",
    "  for i in range(len(class_list)):\n",
    "    dir = dir_train+\"/\"+class_list[i]\n",
    "    #img_name = random.choices(os.listdir(dir), k=(num_per_cls+math.ceil(0.1*num_per_cls)))\n",
    "    img_name = random.sample(os.listdir(dir), k=(num_per_cls+math.ceil(0.1*num_per_cls)))\n",
    "    for inc in range(num_per_cls):\n",
    "      # print(inc)\n",
    "      # print(img_name[inc])\n",
    "      img = cv2.resize(cv2.imread(os.path.join(dir, img_name[inc])), (400,400))\n",
    "      # print(type(img))\n",
    "      if img is not None:\n",
    "          x_amp_train.append(img)\n",
    "          y_amp_train.append(i)\n",
    "\n",
    "        # print(\"----------------------------------------\")\n",
    "    for inc in range(num_per_cls, num_per_cls+math.ceil(0.1*num_per_cls)):\n",
    "      # print(inc)\n",
    "      # print(img_name[inc])\n",
    "      img = cv2.resize(cv2.imread(os.path.join(dir, img_name[inc])), (400,400))\n",
    "      if img is not None:\n",
    "          x_amp_test.append(img)\n",
    "          y_amp_test.append(i)\n",
    "    print(len(x_amp_train), len(x_amp_test))"
   ]
  },
  {
   "cell_type": "code",
   "execution_count": null,
   "metadata": {
    "id": "czrqmPlaJmPo"
   },
   "outputs": [],
   "source": [
    "    y_amp_train = to_categorical(y_amp_train)\n",
    "    y_amp_test = to_categorical(y_amp_test)"
   ]
  },
  {
   "cell_type": "code",
   "execution_count": null,
   "metadata": {
    "id": "-f4FKcsdJpY6"
   },
   "outputs": [],
   "source": [
    "    x_amp_train = np.array(x_amp_train)\n",
    "    x_amp_test = np.array(x_amp_test) "
   ]
  },
  {
   "cell_type": "code",
   "execution_count": null,
   "metadata": {
    "id": "avCepPMekPhK"
   },
   "outputs": [],
   "source": [
    "dir_no_aug_train ='/content/drive/MyDrive/nature_12k_new/inaturalist_12K/train'"
   ]
  },
  {
   "cell_type": "code",
   "execution_count": null,
   "metadata": {
    "colab": {
     "base_uri": "https://localhost:8080/"
    },
    "id": "XsqURrE9jUPG",
    "outputId": "12ac12bb-4c30-4aa1-ad66-9e19929b5c3e"
   },
   "outputs": [
    {
     "name": "stdout",
     "output_type": "stream",
     "text": [
      "600 60\n",
      "1200 120\n",
      "1800 180\n",
      "2400 240\n",
      "3000 300\n",
      "3600 360\n",
      "4200 420\n",
      "4800 480\n",
      "5400 540\n",
      "6000 600\n"
     ]
    }
   ],
   "source": [
    "x_no_aug_train = []\n",
    "x_no_aug_test = []\n",
    "\n",
    "y_no_aug_train = []\n",
    "y_no_aug_test = []\n",
    "\n",
    "  # num_per_cls = config.epochs\n",
    "    \n",
    "for i in range(len(class_list)):\n",
    "  dir = dir_no_aug_train+\"/\"+class_list[i]\n",
    "  #img_name = random.choices(os.listdir(dir), k=(num_per_cls+math.ceil(0.1*num_per_cls)))\n",
    "  img_name = random.sample(os.listdir(dir), k=(num_per_cls+math.ceil(0.1*num_per_cls)))\n",
    "  for inc in range(num_per_cls):\n",
    "    # print(inc)\n",
    "    # print(img_name[inc])\n",
    "    img = cv2.resize(cv2.imread(os.path.join(dir, img_name[inc])), (400,400))\n",
    "    # print(type(img))\n",
    "    if img is not None:\n",
    "        x_no_aug_train.append(img)\n",
    "        y_no_aug_train.append(i)\n",
    "       # print(\"----------------------------------------\")\n",
    "  for inc in range(num_per_cls, num_per_cls+math.ceil(0.1*num_per_cls)):\n",
    "    # print(inc)\n",
    "    # print(img_name[inc])\n",
    "    img = cv2.resize(cv2.imread(os.path.join(dir, img_name[inc])), (400,400))\n",
    "    if img is not None:\n",
    "        x_no_aug_test.append(img)\n",
    "        y_no_aug_test.append(i)\n",
    "  print(len(x_no_aug_train), len(x_no_aug_test))"
   ]
  },
  {
   "cell_type": "code",
   "execution_count": null,
   "metadata": {
    "id": "Kt0rmjePLltI"
   },
   "outputs": [],
   "source": [
    "  y_no_aug_train = to_categorical(y_no_aug_train)\n",
    "  y_no_aug_test = to_categorical(y_no_aug_test)"
   ]
  },
  {
   "cell_type": "code",
   "execution_count": null,
   "metadata": {
    "id": "-OwsZekFLtRZ"
   },
   "outputs": [],
   "source": [
    "  x_no_aug_train = np.array(x_no_aug_train)\n",
    "  x_no_aug_test = np.array(x_no_aug_test) "
   ]
  },
  {
   "cell_type": "code",
   "execution_count": null,
   "metadata": {
    "colab": {
     "base_uri": "https://localhost:8080/"
    },
    "id": "0iBwKVPgLukc",
    "outputId": "412fbf20-71bc-4d1e-d1c1-c2726f5f9dec"
   },
   "outputs": [
    {
     "name": "stdout",
     "output_type": "stream",
     "text": [
      "6000 600\n"
     ]
    }
   ],
   "source": [
    "print(len(x_amp_train),len(x_amp_test))"
   ]
  },
  {
   "cell_type": "code",
   "execution_count": null,
   "metadata": {
    "id": "aVc5IjWDLzTP"
   },
   "outputs": [],
   "source": [
    "# plt.imshow(x_amp_test[0])"
   ]
  },
  {
   "cell_type": "code",
   "execution_count": null,
   "metadata": {
    "id": "eR2RYX3QZTpD"
   },
   "outputs": [],
   "source": [
    "# Configure the sweep – specify the parameters to search through, the search strategy, the optimization metric et all.\n",
    "sweep_config = {\n",
    "    'method': 'random', #grid, random\n",
    "    'metric': {\n",
    "      'name': 'accuracy',\n",
    "      'goal': 'maximize'   \n",
    "    },\n",
    "    'parameters': {\n",
    "        'epochs': {\n",
    "            'values': [5, 10, 15,20]\n",
    "        },\n",
    "        'number_of_filters': { \n",
    "            'values': [16,32, 64]\n",
    "        },\n",
    "        'filter_organisation': {\n",
    "            'values': [2,1,0.5]\n",
    "        },\n",
    "        'data_augmentation':{\n",
    "            'values':[False,True,True]\n",
    "        },\n",
    "        'Batch_normalization':{\n",
    "            'values':[False,True,True]\n",
    "        },\n",
    "        'kernel_size':{\n",
    "            'values':[3,5,7]\n",
    "        },\n",
    "        'neurons_in_denseLyr':{\n",
    "            'values':[32,64,128,256]\n",
    "        },\n",
    "        'dropout':{\n",
    "            'values':[0.2,0.3]\n",
    "        },\n",
    "        'weight_decay':{\n",
    "           'values': [1e-1, 1e-2, 1e-3]\n",
    "        },\n",
    "        'no_of_layers':{\n",
    "            'values':[4,5,6,7]\n",
    "        },\n",
    "        'batch_size':{\n",
    "            'values':[16,32,64]\n",
    "        }\n",
    "        \n",
    "        \n",
    "    }\n",
    "}"
   ]
  },
  {
   "cell_type": "code",
   "execution_count": null,
   "metadata": {
    "colab": {
     "base_uri": "https://localhost:8080/"
    },
    "id": "1P86DlguoYyy",
    "outputId": "a427120f-75a4-44d2-bf4b-b781ca769a9f"
   },
   "outputs": [
    {
     "data": {
      "text/plain": [
       "(400, 400, 3)"
      ]
     },
     "execution_count": 25,
     "metadata": {
      "tags": []
     },
     "output_type": "execute_result"
    }
   ],
   "source": [
    "x_amp_train[0].shape"
   ]
  },
  {
   "cell_type": "code",
   "execution_count": null,
   "metadata": {
    "colab": {
     "base_uri": "https://localhost:8080/"
    },
    "id": "vF111VMdGMbW",
    "outputId": "d1911aac-9af7-408b-8a58-d00d9aa39471"
   },
   "outputs": [
    {
     "name": "stdout",
     "output_type": "stream",
     "text": [
      "Create sweep with ID: c0ebc10x\n",
      "Sweep URL: https://wandb.ai/dl_45_47/Convolution_Neural_Network_modules/sweeps/c0ebc10x\n"
     ]
    }
   ],
   "source": [
    "sweep_id = wandb.sweep(sweep_config, project=\"Convolution_Neural_Network_modules\")"
   ]
  },
  {
   "cell_type": "code",
   "execution_count": null,
   "metadata": {
    "id": "xmkXQF0OMHdR"
   },
   "outputs": [],
   "source": [
    "# The sweep calls this function with each set of hyperparameters\n",
    "def train():\n",
    "  # Default values for hyper-parameters we're going to sweep over\n",
    "    config_defaults = {\n",
    "        'epochs': 5,\n",
    "        'number_of_filters': 32,\n",
    "        'filter_organisation': 1,\n",
    "        'data_augmentation' : True,\n",
    "        'Batch_normalization': True,\n",
    "        'neurons_in_denseLyr':64,\n",
    "        'kernel_size':3,\n",
    "        'dropout':0.2,\n",
    "        'weight_decay':1e-2,\n",
    "        'no_of_layers': 5,\n",
    "        'batch_size': 16\n",
    "    }\n",
    "\n",
    "\n",
    "    # Initialize a new wandb run\n",
    "    wandb.init(config=config_defaults)\n",
    "    \n",
    "    # Config is a variable that holds and saves hyperparameters and inputs\n",
    "    config = wandb.config\n",
    "\n",
    "    if config.data_augmentation :\n",
    "      x_train=x_amp_train\n",
    "      y_train=y_amp_train\n",
    "      x_test=x_amp_test\n",
    "      y_test=y_amp_test\n",
    "    else:\n",
    "      x_train=x_no_aug_train\n",
    "      y_train=y_no_aug_train\n",
    "      x_test=x_no_aug_test\n",
    "      y_test=y_no_aug_test\n",
    "\n",
    "    filter_no=config.number_of_filters \n",
    "\n",
    "    #create model\n",
    "    model = Sequential()    \n",
    "\n",
    "    #add model layers\n",
    "    # if config.Batch_normalization :\n",
    "    #   # model.add(BatchNormalization(input_shape=(500,500,3)))\n",
    "    #   model.add(BatchNormalization(input_shape=(400,400,3)))\n",
    "    #   model.add(Dropout(config.dropout))\n",
    "    # else:\n",
    "    #   # model.add(Dropout(config.dropout, input_shape=(500,500,3)))\n",
    "    #   model.add(Dropout(config.dropout, input_shape=(400,400,3)))\n",
    "    model.add(Conv2D(filter_no, kernel_size=config.kernel_size, activation=\"relu\", input_shape=(400,400,3)))\n",
    "    if config.Batch_normalization :\n",
    "      model.add(BatchNormalization())\n",
    "    model.add(MaxPooling2D(pool_size=(2, 2), strides=(2,2), padding=\"valid\"))\n",
    "    model.add(Dropout(config.dropout))\n",
    "    for i in range(config.no_of_layers-1):\n",
    "      filter_no=math.ceil(filter_no*config.filter_organisation)\n",
    "      #filter_no =math.ceil(config.number_of_filters*pow(config.filter_organisation,(i+1)))\n",
    "      if(filter_no < 8 or filter_no > 256 ):\n",
    "        filter_no=config.number_of_filters\n",
    "      model.add(Conv2D(filter_no, kernel_size=config.kernel_size, activation=\"relu\"))\n",
    "      if config.Batch_normalization :\n",
    "        model.add(BatchNormalization())\n",
    "      model.add(MaxPooling2D(pool_size=(2, 2), strides=(2,2), padding=\"valid\"))\n",
    "      model.add(Dropout(config.dropout))\n",
    "    model.add(Flatten())\n",
    "    model.add(Dense(128, activation='relu', kernel_regularizer=regularizers.l2(config.weight_decay)))\n",
    "    if config.Batch_normalization :\n",
    "      model.add(BatchNormalization())\n",
    "    model.add(Dropout(config.dropout))\n",
    "    model.add(Dense(10, activation=\"softmax\", kernel_regularizer=regularizers.l2(config.weight_decay)))\n",
    "\n",
    "    model.compile(optimizer='adam', loss='categorical_crossentropy', metrics=['accuracy'])\n",
    "\n",
    "    history = model.fit(x_train, y_train, validation_data=(x_test, y_test), epochs=config.epochs, batch_size=config.batch_size) ################################################\n",
    "\n",
    "    accuracy, loss, val_accuracy, val_loss = history.history['accuracy'], history.history['loss'], history.history['val_accuracy'], history.history['val_loss']\n",
    "\n",
    "    # wandb.log({'val_loss' : val_loss, 'val_accuracy': val_accuracy})\n",
    "\n",
    "    for i in range(config.epochs):\n",
    "      wandb.log({'val_loss' : val_loss[i], 'val_accuracy': val_accuracy[i],'loss' : loss[i], 'accuracy': accuracy[i], 'epoch': i})\n",
    "    # wandb.finish()"
   ]
  },
  {
   "cell_type": "code",
   "execution_count": null,
   "metadata": {
    "colab": {
     "base_uri": "https://localhost:8080/",
     "height": 1000,
     "referenced_widgets": [
      "89e1edf46f5f44499a92c84cabd4a9f9",
      "abfea2da7adc41edbad8764084fe8b9d",
      "a4d0910d3cc246168a1aa9347f8da3f8",
      "283d053992dc434a818111cc036cd154",
      "2cda6918e273492e945ad26a218e1b65",
      "951ea8a14c3a470f825bf87ddc15e644",
      "9267d30aa7514017abd6e59cf58d30ba",
      "22f140e8adb74432901090104ff8bfc9",
      "18b913089220405c8d8d836d446aaa11",
      "efe822ef9ce644bfbba0428c9bf4997c",
      "a42f3d4b4df44f5ca310f75deee5dd66",
      "5b4d815d9a444f4c8db621b9d01ca61c",
      "a6bfb0fb97fd40699b26c84c8d40c644",
      "f24e4f5034b940de923db2b047df8f74",
      "ba68a9ea078a442aacac2f29a4c2a333",
      "88ffbd83340e44a98d181ae0c364c3bf",
      "0400692fe3c7409ba1c6871d1adbd4fe",
      "c9ee7a88ff224a239d99d8ca5efb6890",
      "5f4446c7bea847ed983ca0004a81d4c1",
      "e26a2ebc36774e22b3c4be72294e1c8e",
      "aa7ee85b3879401b990dba567c1ea0ec",
      "9064b936901f428aa0bdde56add8615a",
      "4f86a9c64a644944abc687ee31c5614d",
      "15b92a489ed54490b84fe02714be7f61",
      "00ab8cdf86f040dc9841b8bad6fca70e",
      "cf36e0890afc426388acb9f3790c6329",
      "3273353ee18a4c4bb2794bfc50b7d835",
      "bcb515f59f4d4779b96233f55338d343",
      "2917870a36dd40ab94fe3229f1ce067f",
      "791a342d42e54085ba0b72c1a44c77bd",
      "1ab1ada715a84a41b5bf8449464092e9",
      "b30842432b214d6e94e00863830a5342",
      "f716205589cd4db3915e7d0ad1423732",
      "93c1fd0525ac49e0ad85d7bf8accc04b",
      "ff776f6c204e4febb876cf0d5e54a632",
      "581df011ede641ccac7f6f670efa64fd",
      "de4bb303204c4070b4ddd4853f986df5",
      "0319e58ca85e4b1db08cdf3937c5648f",
      "0783c980f3c449db80fcf0bbf4981e87",
      "1c3fdabc080f4d509cb5c76a24e6fc58",
      "8547b5110837457f9a5ce121b9a374db",
      "6b703966b449493492f4ead03ce0af73",
      "d212b24c3f8a4b03a653007182f46919",
      "4d11b845ee4b4a16872975144b089890",
      "40ce0fe91b8846d5bab9a65ff8ba8d1b",
      "8666dca1331b44afb8a87a2bdd8ee233",
      "6548fd2011ba45c78675689cb3c1869b",
      "e7d562e2b2a54436b6e4fa53033a00d7",
      "167dc7a567994e8cae027c6d52bccad2",
      "7cc76b039f5c485f9f69b146a8076cc6",
      "469da8d86a3d4dc7a8b7f939c6ccf541",
      "aa2241ce19d74138be6a6edf11fd0dd9",
      "dfd7b8f212e24e57a3d5777290badbba",
      "5223ae5aeeeb4373ad995a9a26292bdd",
      "b62dc919052d4cee81f8325eec8ddab2",
      "e7a7843af7534532a9410b217dccb308",
      "9c35052c3c50407da1020141887164f2",
      "612dbdf1086a4135a4447ba2901bf99d",
      "bcb304d31f33494696c57fe037662520",
      "0c0d16b4aadc4051beb302a657e04caa",
      "9f70d76a98534441874a42a9605c52d1",
      "15f765ebc1a64a29b9c1c71ca5288f0b",
      "1f251c9d031c4f258a6d3f0a90ebb55d",
      "06535aa6df894e668242dc066d763acc",
      "a6eb0b532fcd4599aafa20a52d1e59fb",
      "4c53ebb4523c4f07a2456f83bc7b7969",
      "cbb056b7369e4e019b77ee1062d84932",
      "df695ba6eedb42618575eb77374bbd37",
      "ee4bacaeb1964876ae65e002b2211406",
      "be5c219418864b2cb5d5fd49f31d65ae",
      "6eab36a960e649a381bc65184b8348a6",
      "82bdccdd09ed4730b9f3b60682e92122",
      "b0c6092c387d4a1ea10ca9247109ee18",
      "aa41c2e1a1544faea3970565a55faa17",
      "0edce017faed4edc973e8b3d5a5ec5db",
      "5895e3582d234e51905434339e4d85f8",
      "48099fc0e83a4083b856ab2b89031977",
      "e8e13b52873c40b5adfd974801198986",
      "34d656262cc340f29ab95a1fba359e84",
      "41be5e59d08042b39964947de0334b62",
      "c6375d2df3a549a997fa04f3856a8f23",
      "65c19ea4afb4407db9ff03ef966545f4",
      "50b096ef0f5a4c61810f438c1714808c",
      "78c28754c63546f8b0823df33995543a",
      "d52f8ab548a14dbbb7e7178dce1f2338",
      "a8fe76057eb444c1a2775bd89861add5",
      "008c05c3563e41598b9005b74cb9e6bd",
      "6d7b85761e234b6ba7beb907184f05ec",
      "79706bbf8e4e4a45802cda9bb5a5eed9",
      "00ae761e3190420490b596fb8217749c",
      "540f4b8ffc7e44928f8bdb03ae2ea352",
      "2968e90a8191406398487cf27286def7",
      "0ad06406a97345c8ad90a4f2e7639977",
      "b00e3eb44a95458b84b8c71cc9eb3f2b",
      "1412a98b1a3c4910a959fd629dd43ec5",
      "c9b31a19b2c14c8ba2fd3f27cedbfcf4",
      "fe54aa7f3f414c4dbd155d6cbd1f3a1c",
      "aa90297304704a758d4a5eb9ae27a42b",
      "66ce997acc0a49df92852577bca474ac",
      "2d043ba24125422c94ec7a4c60b112f1",
      "be171380db2349c490c7214006eaf9d5",
      "9e68c74a96bb4ed6a0f7e957059f3787",
      "e992eaac14bd4662bb454cf1f5d68d34",
      "5462dc8b7df64747875702e562486a9e",
      "f5f13ecb028741f3aebf81fb3c0ffc22",
      "ad851da36aa04e0a8595aa641e006aba",
      "95af67eb25c842e8b30b762c08b1e4f2",
      "21afdeb9bf034f8db10955965c42834b",
      "d086bb0d78c0423fa5894425e559c5e6",
      "b2461e1ff3f64931936feab882120a52",
      "01bcb255b3cc4873a9c4d003597fbe50",
      "47e123c62223429facedd44468d009a8",
      "34da19f380af430aa8eda61919eb5bc5",
      "bf6f0d6de03742b183cc9f0cee187e0e",
      "4fc279109aa14aa8bef15c3f546eff5f",
      "4339301f279148feb19f828e182c0ad8",
      "e3d7bc7a6756493abe03405296f54f7e",
      "66d17fdf60be4de9ba48547dd430500e",
      "44d7571237674b2d8e0a5e0810be551e",
      "a69f849baa014ecaa06bc27c5b52110f",
      "06606efd04f44818886c050a50c1fcbe",
      "825a1c65689647f687fede2da05a4c5f",
      "6a18a33746674428878c9fc23a85d914",
      "7fdef29813c24b858a1c6682856bec90",
      "a47eb84d542c4e46bfe3cdd8ec6e4ec5",
      "3229c024f4d54afda4c430bea3846bf7",
      "d94665387fc34eb7a5d63a94f0c27819",
      "12f2f3c4c52c4c8185c467647612bc5d",
      "deec99ec53414edfbc622b9c1053af87",
      "ba38a47f9db244e78339b396a1d64aeb",
      "bd3f9810869145669b8164242d640ceb",
      "d3fbedd44e254bb3a8e2d9b331ca938b",
      "820ece69890e407aabbf24457637dc3c",
      "697f4596e4d742668f0a64db7021fdca",
      "dee8379b378d4f0aba219a447afa606d",
      "e30e989d73d04f87bbad07d024a607ed",
      "46b30e8dae7e490789b6971dd0a81023",
      "9931e3eb33614edf9ad34ef241c24b32",
      "468a26186fb141549167f41dbb809626",
      "45786e0debfb408bb8952be09ab54361",
      "0ee33908131144e19832fb925fa98dbe",
      "b7fbc03fbcda4fd88efba08489384e4b",
      "8dcee2bc586349f7becbfbf7651e9116",
      "4d860f81bf624067916b13871a9f4809",
      "f6b2f3f6647e4a38a75ea59cc2b4e4a2",
      "b224ddd2bd4842f6bd8f213fdb72dec5",
      "35e8aa8161044f9ab3c79ae983337a28",
      "4c71dd197bf147d78da845f76e8ab447",
      "ad7f63224fc0472c9304995fce47a89c",
      "54ab6cd4427446ffb6a39649888bf6f2",
      "429577eee87a446eb5868d16cfcf893d",
      "8a419797598a49beb7ad969b30516048",
      "409f0a752a1141f3aa51a798f117297c",
      "5ebc99cda9704c79a8da28229824e286",
      "27b1c1d58632474eb80b3de4c11d50e2",
      "5d1ba27f12ce4afcb8b0be71448e1301",
      "7cb464f0c8ce4d2eb8180102516df464",
      "367c9a94ae534d65ba632d85365beab1",
      "3fd60b48528643609376cc1fca3ae790",
      "ed1ea875f67448978c8caafedfcacf53",
      "b30f2b64f50d434f81daebc465edd5c4",
      "4b865152ed0f41b0b43d731a3c79e5c6",
      "92f01d8078f0497bbf0938190aea9937",
      "f521ed1dd10843fba20af4d50adb75e4",
      "49b8db8a3f63426399c7a20377268449",
      "480a8a171e404a959db2d0a4e5ea22c9",
      "cbd77aed37b341aaaac864d781a89879",
      "3b75382df9cd49998211f09ac0486f82",
      "47d7b9f742c04dde8b79064dc740acf2",
      "1146e066a44a49338a0aaf64aef0b415",
      "b0d476613a2148bc84046ca4a175ca46",
      "9b8ab111d5c54848b73e49760256693a",
      "9698435e3cd34cfe87f70d5f1aa956c5",
      "79cddc4b9ccf49859c0a64fbf0377807",
      "d03ce24577364e468c67249e43dc6b8c",
      "0743f037acdd486ca6e5d63b54c1b5a9",
      "5df8549e5e0642d38bdddff9edc88736",
      "fbd45d28521d42bfa812b946418efe0b",
      "ca2eb3115e104eed8094df7c9a1949ac",
      "5ea417f198704048a7131501a90fe2f3",
      "1b00672d027943049ab399041b01552d",
      "6739b71c97924853813dfc98a355815d"
     ]
    },
    "id": "Xrlbcsj4dWr4",
    "outputId": "f4da68c3-93cb-4ae5-b082-377ede97726b"
   },
   "outputs": [
    {
     "name": "stderr",
     "output_type": "stream",
     "text": [
      "\u001b[34m\u001b[1mwandb\u001b[0m: Agent Starting Run: 830592up with config:\n",
      "\u001b[34m\u001b[1mwandb\u001b[0m: \tBatch_normalization: False\n",
      "\u001b[34m\u001b[1mwandb\u001b[0m: \tbatch_size: 64\n",
      "\u001b[34m\u001b[1mwandb\u001b[0m: \tdata_augmentation: False\n",
      "\u001b[34m\u001b[1mwandb\u001b[0m: \tdropout: 0.3\n",
      "\u001b[34m\u001b[1mwandb\u001b[0m: \tepochs: 15\n",
      "\u001b[34m\u001b[1mwandb\u001b[0m: \tfilter_organisation: 2\n",
      "\u001b[34m\u001b[1mwandb\u001b[0m: \tkernel_size: 3\n",
      "\u001b[34m\u001b[1mwandb\u001b[0m: \tneurons_in_denseLyr: 32\n",
      "\u001b[34m\u001b[1mwandb\u001b[0m: \tno_of_layers: 6\n",
      "\u001b[34m\u001b[1mwandb\u001b[0m: \tnumber_of_filters: 16\n",
      "\u001b[34m\u001b[1mwandb\u001b[0m: \tweight_decay: 0.1\n"
     ]
    },
    {
     "data": {
      "text/html": [
       "\n",
       "                Tracking run with wandb version 0.10.25<br/>\n",
       "                Syncing run <strong style=\"color:#cdcd00\">denim-sweep-1</strong> to <a href=\"https://wandb.ai\" target=\"_blank\">Weights & Biases</a> <a href=\"https://docs.wandb.com/integrations/jupyter.html\" target=\"_blank\">(Documentation)</a>.<br/>\n",
       "                Project page: <a href=\"https://wandb.ai/dl_45_47/Convolution_Neural_Network_modules\" target=\"_blank\">https://wandb.ai/dl_45_47/Convolution_Neural_Network_modules</a><br/>\n",
       "                Sweep page: <a href=\"https://wandb.ai/dl_45_47/Convolution_Neural_Network_modules/sweeps/c0ebc10x\" target=\"_blank\">https://wandb.ai/dl_45_47/Convolution_Neural_Network_modules/sweeps/c0ebc10x</a><br/>\n",
       "Run page: <a href=\"https://wandb.ai/dl_45_47/Convolution_Neural_Network_modules/runs/830592up\" target=\"_blank\">https://wandb.ai/dl_45_47/Convolution_Neural_Network_modules/runs/830592up</a><br/>\n",
       "                Run data is saved locally in <code>/content/wandb/run-20210413_123042-830592up</code><br/><br/>\n",
       "            "
      ],
      "text/plain": [
       "<IPython.core.display.HTML object>"
      ]
     },
     "metadata": {
      "tags": []
     },
     "output_type": "display_data"
    },
    {
     "name": "stdout",
     "output_type": "stream",
     "text": [
      "Epoch 1/15\n",
      "94/94 [==============================] - 14s 121ms/step - loss: 45.6641 - accuracy: 0.1031 - val_loss: 17.5887 - val_accuracy: 0.1000\n",
      "Epoch 2/15\n",
      "94/94 [==============================] - 10s 102ms/step - loss: 16.7442 - accuracy: 0.0993 - val_loss: 14.4242 - val_accuracy: 0.1000\n",
      "Epoch 3/15\n",
      "94/94 [==============================] - 10s 101ms/step - loss: 13.7626 - accuracy: 0.0912 - val_loss: 11.9446 - val_accuracy: 0.1000\n",
      "Epoch 4/15\n",
      "94/94 [==============================] - 10s 102ms/step - loss: 11.4257 - accuracy: 0.0959 - val_loss: 9.9976 - val_accuracy: 0.1000\n",
      "Epoch 5/15\n",
      "94/94 [==============================] - 10s 101ms/step - loss: 9.5890 - accuracy: 0.1028 - val_loss: 8.4635 - val_accuracy: 0.1000\n",
      "Epoch 6/15\n",
      "94/94 [==============================] - 10s 101ms/step - loss: 8.1408 - accuracy: 0.0919 - val_loss: 7.2499 - val_accuracy: 0.1000\n",
      "Epoch 7/15\n",
      "94/94 [==============================] - 10s 101ms/step - loss: 6.9938 - accuracy: 0.0988 - val_loss: 6.2861 - val_accuracy: 0.1000\n",
      "Epoch 8/15\n",
      "94/94 [==============================] - 10s 102ms/step - loss: 6.0823 - accuracy: 0.0951 - val_loss: 5.5182 - val_accuracy: 0.1000\n",
      "Epoch 9/15\n",
      "94/94 [==============================] - 10s 102ms/step - loss: 5.3555 - accuracy: 0.0865 - val_loss: 4.9046 - val_accuracy: 0.1000\n",
      "Epoch 10/15\n",
      "94/94 [==============================] - 10s 101ms/step - loss: 4.7743 - accuracy: 0.0956 - val_loss: 4.4129 - val_accuracy: 0.1000\n",
      "Epoch 11/15\n",
      "94/94 [==============================] - 10s 102ms/step - loss: 4.3083 - accuracy: 0.0970 - val_loss: 4.0180 - val_accuracy: 0.1000\n",
      "Epoch 12/15\n",
      "94/94 [==============================] - 10s 101ms/step - loss: 3.9339 - accuracy: 0.0897 - val_loss: 3.6999 - val_accuracy: 0.1000\n",
      "Epoch 13/15\n",
      "94/94 [==============================] - 9s 101ms/step - loss: 3.6321 - accuracy: 0.0998 - val_loss: 3.4433 - val_accuracy: 0.1000\n",
      "Epoch 14/15\n",
      "94/94 [==============================] - 10s 102ms/step - loss: 3.3885 - accuracy: 0.1032 - val_loss: 3.2357 - val_accuracy: 0.1000\n",
      "Epoch 15/15\n",
      "94/94 [==============================] - 9s 101ms/step - loss: 3.1913 - accuracy: 0.0950 - val_loss: 3.0674 - val_accuracy: 0.1000\n"
     ]
    },
    {
     "data": {
      "text/html": [
       "<br/>Waiting for W&B process to finish, PID 1967<br/>Program ended successfully."
      ],
      "text/plain": [
       "<IPython.core.display.HTML object>"
      ]
     },
     "metadata": {
      "tags": []
     },
     "output_type": "display_data"
    },
    {
     "data": {
      "application/vnd.jupyter.widget-view+json": {
       "model_id": "89e1edf46f5f44499a92c84cabd4a9f9",
       "version_major": 2,
       "version_minor": 0
      },
      "text/plain": [
       "VBox(children=(Label(value=' 0.00MB of 0.00MB uploaded (0.00MB deduped)\\r'), FloatProgress(value=1.0, max=1.0)…"
      ]
     },
     "metadata": {
      "tags": []
     },
     "output_type": "display_data"
    },
    {
     "data": {
      "text/html": [
       "Find user logs for this run at: <code>/content/wandb/run-20210413_123042-830592up/logs/debug.log</code>"
      ],
      "text/plain": [
       "<IPython.core.display.HTML object>"
      ]
     },
     "metadata": {
      "tags": []
     },
     "output_type": "display_data"
    },
    {
     "data": {
      "text/html": [
       "Find internal logs for this run at: <code>/content/wandb/run-20210413_123042-830592up/logs/debug-internal.log</code>"
      ],
      "text/plain": [
       "<IPython.core.display.HTML object>"
      ]
     },
     "metadata": {
      "tags": []
     },
     "output_type": "display_data"
    },
    {
     "data": {
      "text/html": [
       "<h3>Run summary:</h3><br/><style>\n",
       "    table.wandb td:nth-child(1) { padding: 0 10px; text-align: right }\n",
       "    </style><table class=\"wandb\">\n",
       "<tr><td>val_loss</td><td>3.06739</td></tr><tr><td>val_accuracy</td><td>0.1</td></tr><tr><td>loss</td><td>3.14992</td></tr><tr><td>accuracy</td><td>0.09517</td></tr><tr><td>epoch</td><td>14</td></tr><tr><td>_runtime</td><td>150</td></tr><tr><td>_timestamp</td><td>1618317192</td></tr><tr><td>_step</td><td>14</td></tr></table>"
      ],
      "text/plain": [
       "<IPython.core.display.HTML object>"
      ]
     },
     "metadata": {
      "tags": []
     },
     "output_type": "display_data"
    },
    {
     "data": {
      "text/html": [
       "<h3>Run history:</h3><br/><style>\n",
       "    table.wandb td:nth-child(1) { padding: 0 10px; text-align: right }\n",
       "    </style><table class=\"wandb\">\n",
       "<tr><td>val_loss</td><td>█▆▅▄▄▃▃▂▂▂▁▁▁▁▁</td></tr><tr><td>val_accuracy</td><td>▁▁▁▁▁▁▁▁▁▁▁▁▁▁▁</td></tr><tr><td>loss</td><td>█▅▄▃▃▂▂▂▂▁▁▁▁▁▁</td></tr><tr><td>accuracy</td><td>██▂▅▅▃▇▄▁▅▆▄▄▆▅</td></tr><tr><td>epoch</td><td>▁▁▂▃▃▃▄▅▅▅▆▇▇▇█</td></tr><tr><td>_runtime</td><td>▁▁▁▁▁▁▁▁▁▁▁▁▁▁▁</td></tr><tr><td>_timestamp</td><td>▁▁▁▁▁▁▁▁▁▁▁▁▁▁▁</td></tr><tr><td>_step</td><td>▁▁▂▃▃▃▄▅▅▅▆▇▇▇█</td></tr></table><br/>"
      ],
      "text/plain": [
       "<IPython.core.display.HTML object>"
      ]
     },
     "metadata": {
      "tags": []
     },
     "output_type": "display_data"
    },
    {
     "data": {
      "text/html": [
       "Synced 5 W&B file(s), 0 media file(s), 0 artifact file(s) and 0 other file(s)"
      ],
      "text/plain": [
       "<IPython.core.display.HTML object>"
      ]
     },
     "metadata": {
      "tags": []
     },
     "output_type": "display_data"
    },
    {
     "data": {
      "text/html": [
       "\n",
       "                    <br/>Synced <strong style=\"color:#cdcd00\">denim-sweep-1</strong>: <a href=\"https://wandb.ai/dl_45_47/Convolution_Neural_Network_modules/runs/830592up\" target=\"_blank\">https://wandb.ai/dl_45_47/Convolution_Neural_Network_modules/runs/830592up</a><br/>\n",
       "                "
      ],
      "text/plain": [
       "<IPython.core.display.HTML object>"
      ]
     },
     "metadata": {
      "tags": []
     },
     "output_type": "display_data"
    },
    {
     "name": "stderr",
     "output_type": "stream",
     "text": [
      "\u001b[34m\u001b[1mwandb\u001b[0m: Agent Starting Run: 4cmbp6im with config:\n",
      "\u001b[34m\u001b[1mwandb\u001b[0m: \tBatch_normalization: False\n",
      "\u001b[34m\u001b[1mwandb\u001b[0m: \tbatch_size: 64\n",
      "\u001b[34m\u001b[1mwandb\u001b[0m: \tdata_augmentation: True\n",
      "\u001b[34m\u001b[1mwandb\u001b[0m: \tdropout: 0.3\n",
      "\u001b[34m\u001b[1mwandb\u001b[0m: \tepochs: 5\n",
      "\u001b[34m\u001b[1mwandb\u001b[0m: \tfilter_organisation: 1\n",
      "\u001b[34m\u001b[1mwandb\u001b[0m: \tkernel_size: 5\n",
      "\u001b[34m\u001b[1mwandb\u001b[0m: \tneurons_in_denseLyr: 128\n",
      "\u001b[34m\u001b[1mwandb\u001b[0m: \tno_of_layers: 6\n",
      "\u001b[34m\u001b[1mwandb\u001b[0m: \tnumber_of_filters: 64\n",
      "\u001b[34m\u001b[1mwandb\u001b[0m: \tweight_decay: 0.001\n"
     ]
    },
    {
     "data": {
      "text/html": [
       "\n",
       "                Tracking run with wandb version 0.10.25<br/>\n",
       "                Syncing run <strong style=\"color:#cdcd00\">classic-sweep-2</strong> to <a href=\"https://wandb.ai\" target=\"_blank\">Weights & Biases</a> <a href=\"https://docs.wandb.com/integrations/jupyter.html\" target=\"_blank\">(Documentation)</a>.<br/>\n",
       "                Project page: <a href=\"https://wandb.ai/dl_45_47/Convolution_Neural_Network_modules\" target=\"_blank\">https://wandb.ai/dl_45_47/Convolution_Neural_Network_modules</a><br/>\n",
       "                Sweep page: <a href=\"https://wandb.ai/dl_45_47/Convolution_Neural_Network_modules/sweeps/c0ebc10x\" target=\"_blank\">https://wandb.ai/dl_45_47/Convolution_Neural_Network_modules/sweeps/c0ebc10x</a><br/>\n",
       "Run page: <a href=\"https://wandb.ai/dl_45_47/Convolution_Neural_Network_modules/runs/4cmbp6im\" target=\"_blank\">https://wandb.ai/dl_45_47/Convolution_Neural_Network_modules/runs/4cmbp6im</a><br/>\n",
       "                Run data is saved locally in <code>/content/wandb/run-20210413_123316-4cmbp6im</code><br/><br/>\n",
       "            "
      ],
      "text/plain": [
       "<IPython.core.display.HTML object>"
      ]
     },
     "metadata": {
      "tags": []
     },
     "output_type": "display_data"
    },
    {
     "name": "stdout",
     "output_type": "stream",
     "text": [
      "Epoch 1/5\n",
      "94/94 [==============================] - 30s 292ms/step - loss: 13.6894 - accuracy: 0.1028 - val_loss: 2.4884 - val_accuracy: 0.0967\n",
      "Epoch 2/5\n",
      "94/94 [==============================] - 25s 265ms/step - loss: 2.4875 - accuracy: 0.1055 - val_loss: 2.4848 - val_accuracy: 0.1000\n",
      "Epoch 3/5\n",
      "94/94 [==============================] - 25s 266ms/step - loss: 2.4833 - accuracy: 0.1090 - val_loss: 2.4808 - val_accuracy: 0.1000\n",
      "Epoch 4/5\n",
      "94/94 [==============================] - 25s 266ms/step - loss: 2.4743 - accuracy: 0.1093 - val_loss: 2.4724 - val_accuracy: 0.1217\n",
      "Epoch 5/5\n",
      "94/94 [==============================] - 25s 266ms/step - loss: 2.4612 - accuracy: 0.1368 - val_loss: 2.4547 - val_accuracy: 0.1333\n"
     ]
    },
    {
     "data": {
      "text/html": [
       "<br/>Waiting for W&B process to finish, PID 2081<br/>Program ended successfully."
      ],
      "text/plain": [
       "<IPython.core.display.HTML object>"
      ]
     },
     "metadata": {
      "tags": []
     },
     "output_type": "display_data"
    },
    {
     "data": {
      "application/vnd.jupyter.widget-view+json": {
       "model_id": "abfea2da7adc41edbad8764084fe8b9d",
       "version_major": 2,
       "version_minor": 0
      },
      "text/plain": [
       "VBox(children=(Label(value=' 0.00MB of 0.00MB uploaded (0.00MB deduped)\\r'), FloatProgress(value=1.0, max=1.0)…"
      ]
     },
     "metadata": {
      "tags": []
     },
     "output_type": "display_data"
    },
    {
     "data": {
      "text/html": [
       "Find user logs for this run at: <code>/content/wandb/run-20210413_123316-4cmbp6im/logs/debug.log</code>"
      ],
      "text/plain": [
       "<IPython.core.display.HTML object>"
      ]
     },
     "metadata": {
      "tags": []
     },
     "output_type": "display_data"
    },
    {
     "data": {
      "text/html": [
       "Find internal logs for this run at: <code>/content/wandb/run-20210413_123316-4cmbp6im/logs/debug-internal.log</code>"
      ],
      "text/plain": [
       "<IPython.core.display.HTML object>"
      ]
     },
     "metadata": {
      "tags": []
     },
     "output_type": "display_data"
    },
    {
     "data": {
      "text/html": [
       "<h3>Run summary:</h3><br/><style>\n",
       "    table.wandb td:nth-child(1) { padding: 0 10px; text-align: right }\n",
       "    </style><table class=\"wandb\">\n",
       "<tr><td>val_loss</td><td>2.45473</td></tr><tr><td>val_accuracy</td><td>0.13333</td></tr><tr><td>loss</td><td>2.45603</td></tr><tr><td>accuracy</td><td>0.137</td></tr><tr><td>epoch</td><td>4</td></tr><tr><td>_runtime</td><td>133</td></tr><tr><td>_timestamp</td><td>1618317329</td></tr><tr><td>_step</td><td>4</td></tr></table>"
      ],
      "text/plain": [
       "<IPython.core.display.HTML object>"
      ]
     },
     "metadata": {
      "tags": []
     },
     "output_type": "display_data"
    },
    {
     "data": {
      "text/html": [
       "<h3>Run history:</h3><br/><style>\n",
       "    table.wandb td:nth-child(1) { padding: 0 10px; text-align: right }\n",
       "    </style><table class=\"wandb\">\n",
       "<tr><td>val_loss</td><td>█▇▆▅▁</td></tr><tr><td>val_accuracy</td><td>▁▂▂▆█</td></tr><tr><td>loss</td><td>█▁▁▁▁</td></tr><tr><td>accuracy</td><td>▁▁▂▄█</td></tr><tr><td>epoch</td><td>▁▃▅▆█</td></tr><tr><td>_runtime</td><td>▁▁▁▁▁</td></tr><tr><td>_timestamp</td><td>▁▁▁▁▁</td></tr><tr><td>_step</td><td>▁▃▅▆█</td></tr></table><br/>"
      ],
      "text/plain": [
       "<IPython.core.display.HTML object>"
      ]
     },
     "metadata": {
      "tags": []
     },
     "output_type": "display_data"
    },
    {
     "data": {
      "text/html": [
       "Synced 5 W&B file(s), 0 media file(s), 0 artifact file(s) and 0 other file(s)"
      ],
      "text/plain": [
       "<IPython.core.display.HTML object>"
      ]
     },
     "metadata": {
      "tags": []
     },
     "output_type": "display_data"
    },
    {
     "data": {
      "text/html": [
       "\n",
       "                    <br/>Synced <strong style=\"color:#cdcd00\">classic-sweep-2</strong>: <a href=\"https://wandb.ai/dl_45_47/Convolution_Neural_Network_modules/runs/4cmbp6im\" target=\"_blank\">https://wandb.ai/dl_45_47/Convolution_Neural_Network_modules/runs/4cmbp6im</a><br/>\n",
       "                "
      ],
      "text/plain": [
       "<IPython.core.display.HTML object>"
      ]
     },
     "metadata": {
      "tags": []
     },
     "output_type": "display_data"
    },
    {
     "name": "stderr",
     "output_type": "stream",
     "text": [
      "\u001b[34m\u001b[1mwandb\u001b[0m: Agent Starting Run: pj9fhg7p with config:\n",
      "\u001b[34m\u001b[1mwandb\u001b[0m: \tBatch_normalization: True\n",
      "\u001b[34m\u001b[1mwandb\u001b[0m: \tbatch_size: 16\n",
      "\u001b[34m\u001b[1mwandb\u001b[0m: \tdata_augmentation: True\n",
      "\u001b[34m\u001b[1mwandb\u001b[0m: \tdropout: 0.2\n",
      "\u001b[34m\u001b[1mwandb\u001b[0m: \tepochs: 15\n",
      "\u001b[34m\u001b[1mwandb\u001b[0m: \tfilter_organisation: 1\n",
      "\u001b[34m\u001b[1mwandb\u001b[0m: \tkernel_size: 3\n",
      "\u001b[34m\u001b[1mwandb\u001b[0m: \tneurons_in_denseLyr: 256\n",
      "\u001b[34m\u001b[1mwandb\u001b[0m: \tno_of_layers: 6\n",
      "\u001b[34m\u001b[1mwandb\u001b[0m: \tnumber_of_filters: 32\n",
      "\u001b[34m\u001b[1mwandb\u001b[0m: \tweight_decay: 0.001\n"
     ]
    },
    {
     "data": {
      "text/html": [
       "\n",
       "                Tracking run with wandb version 0.10.25<br/>\n",
       "                Syncing run <strong style=\"color:#cdcd00\">lilac-sweep-3</strong> to <a href=\"https://wandb.ai\" target=\"_blank\">Weights & Biases</a> <a href=\"https://docs.wandb.com/integrations/jupyter.html\" target=\"_blank\">(Documentation)</a>.<br/>\n",
       "                Project page: <a href=\"https://wandb.ai/dl_45_47/Convolution_Neural_Network_modules\" target=\"_blank\">https://wandb.ai/dl_45_47/Convolution_Neural_Network_modules</a><br/>\n",
       "                Sweep page: <a href=\"https://wandb.ai/dl_45_47/Convolution_Neural_Network_modules/sweeps/c0ebc10x\" target=\"_blank\">https://wandb.ai/dl_45_47/Convolution_Neural_Network_modules/sweeps/c0ebc10x</a><br/>\n",
       "Run page: <a href=\"https://wandb.ai/dl_45_47/Convolution_Neural_Network_modules/runs/pj9fhg7p\" target=\"_blank\">https://wandb.ai/dl_45_47/Convolution_Neural_Network_modules/runs/pj9fhg7p</a><br/>\n",
       "                Run data is saved locally in <code>/content/wandb/run-20210413_123534-pj9fhg7p</code><br/><br/>\n",
       "            "
      ],
      "text/plain": [
       "<IPython.core.display.HTML object>"
      ]
     },
     "metadata": {
      "tags": []
     },
     "output_type": "display_data"
    },
    {
     "name": "stdout",
     "output_type": "stream",
     "text": [
      "Epoch 1/15\n",
      "375/375 [==============================] - 18s 44ms/step - loss: 2.9631 - accuracy: 0.1351 - val_loss: 2.4758 - val_accuracy: 0.1583\n",
      "Epoch 2/15\n",
      "375/375 [==============================] - 16s 44ms/step - loss: 2.5265 - accuracy: 0.1991 - val_loss: 2.5011 - val_accuracy: 0.1533\n",
      "Epoch 3/15\n",
      "375/375 [==============================] - 16s 44ms/step - loss: 2.3840 - accuracy: 0.2239 - val_loss: 2.4300 - val_accuracy: 0.1733\n",
      "Epoch 4/15\n",
      "375/375 [==============================] - 16s 44ms/step - loss: 2.2953 - accuracy: 0.2536 - val_loss: 2.4598 - val_accuracy: 0.1800\n",
      "Epoch 5/15\n",
      "375/375 [==============================] - 16s 44ms/step - loss: 2.2464 - accuracy: 0.2613 - val_loss: 2.2638 - val_accuracy: 0.2300\n",
      "Epoch 6/15\n",
      "375/375 [==============================] - 16s 43ms/step - loss: 2.1728 - accuracy: 0.2722 - val_loss: 2.3214 - val_accuracy: 0.2133\n",
      "Epoch 7/15\n",
      "375/375 [==============================] - 16s 44ms/step - loss: 2.1197 - accuracy: 0.3047 - val_loss: 2.1957 - val_accuracy: 0.2700\n",
      "Epoch 8/15\n",
      "375/375 [==============================] - 16s 44ms/step - loss: 2.0579 - accuracy: 0.3246 - val_loss: 2.3075 - val_accuracy: 0.2233\n",
      "Epoch 9/15\n",
      "375/375 [==============================] - 16s 43ms/step - loss: 2.0050 - accuracy: 0.3452 - val_loss: 2.2011 - val_accuracy: 0.2583\n",
      "Epoch 10/15\n",
      "375/375 [==============================] - 16s 43ms/step - loss: 1.9673 - accuracy: 0.3452 - val_loss: 2.1822 - val_accuracy: 0.2783\n",
      "Epoch 11/15\n",
      "375/375 [==============================] - 16s 44ms/step - loss: 1.9265 - accuracy: 0.3521 - val_loss: 2.1974 - val_accuracy: 0.2550\n",
      "Epoch 12/15\n",
      "375/375 [==============================] - 16s 43ms/step - loss: 1.9185 - accuracy: 0.3768 - val_loss: 2.1206 - val_accuracy: 0.2650\n",
      "Epoch 13/15\n",
      "375/375 [==============================] - 16s 43ms/step - loss: 1.8960 - accuracy: 0.3681 - val_loss: 2.4587 - val_accuracy: 0.2250\n",
      "Epoch 14/15\n",
      "375/375 [==============================] - 16s 43ms/step - loss: 1.9124 - accuracy: 0.3658 - val_loss: 2.0193 - val_accuracy: 0.3417\n",
      "Epoch 15/15\n",
      "375/375 [==============================] - 16s 44ms/step - loss: 1.8263 - accuracy: 0.4179 - val_loss: 2.0940 - val_accuracy: 0.3017\n"
     ]
    },
    {
     "data": {
      "text/html": [
       "<br/>Waiting for W&B process to finish, PID 2161<br/>Program ended successfully."
      ],
      "text/plain": [
       "<IPython.core.display.HTML object>"
      ]
     },
     "metadata": {
      "tags": []
     },
     "output_type": "display_data"
    },
    {
     "data": {
      "application/vnd.jupyter.widget-view+json": {
       "model_id": "a4d0910d3cc246168a1aa9347f8da3f8",
       "version_major": 2,
       "version_minor": 0
      },
      "text/plain": [
       "VBox(children=(Label(value=' 0.00MB of 0.00MB uploaded (0.00MB deduped)\\r'), FloatProgress(value=1.0, max=1.0)…"
      ]
     },
     "metadata": {
      "tags": []
     },
     "output_type": "display_data"
    },
    {
     "data": {
      "text/html": [
       "Find user logs for this run at: <code>/content/wandb/run-20210413_123534-pj9fhg7p/logs/debug.log</code>"
      ],
      "text/plain": [
       "<IPython.core.display.HTML object>"
      ]
     },
     "metadata": {
      "tags": []
     },
     "output_type": "display_data"
    },
    {
     "data": {
      "text/html": [
       "Find internal logs for this run at: <code>/content/wandb/run-20210413_123534-pj9fhg7p/logs/debug-internal.log</code>"
      ],
      "text/plain": [
       "<IPython.core.display.HTML object>"
      ]
     },
     "metadata": {
      "tags": []
     },
     "output_type": "display_data"
    },
    {
     "data": {
      "text/html": [
       "<h3>Run summary:</h3><br/><style>\n",
       "    table.wandb td:nth-child(1) { padding: 0 10px; text-align: right }\n",
       "    </style><table class=\"wandb\">\n",
       "<tr><td>val_loss</td><td>2.09402</td></tr><tr><td>val_accuracy</td><td>0.30167</td></tr><tr><td>loss</td><td>1.86486</td></tr><tr><td>accuracy</td><td>0.398</td></tr><tr><td>epoch</td><td>14</td></tr><tr><td>_runtime</td><td>249</td></tr><tr><td>_timestamp</td><td>1618317583</td></tr><tr><td>_step</td><td>14</td></tr></table>"
      ],
      "text/plain": [
       "<IPython.core.display.HTML object>"
      ]
     },
     "metadata": {
      "tags": []
     },
     "output_type": "display_data"
    },
    {
     "data": {
      "text/html": [
       "<h3>Run history:</h3><br/><style>\n",
       "    table.wandb td:nth-child(1) { padding: 0 10px; text-align: right }\n",
       "    </style><table class=\"wandb\">\n",
       "<tr><td>val_loss</td><td>██▇▇▅▅▄▅▄▃▄▂▇▁▂</td></tr><tr><td>val_accuracy</td><td>▁▁▂▂▄▃▅▄▅▆▅▅▄█▇</td></tr><tr><td>loss</td><td>█▆▅▄▄▃▃▃▂▂▂▂▁▁▁</td></tr><tr><td>accuracy</td><td>▁▂▃▄▄▅▅▆▆▆▆▇▇▇█</td></tr><tr><td>epoch</td><td>▁▁▂▃▃▃▄▅▅▅▆▇▇▇█</td></tr><tr><td>_runtime</td><td>▁▁▁▁▁▁▁▁▁▁▁▁▁▁▁</td></tr><tr><td>_timestamp</td><td>▁▁▁▁▁▁▁▁▁▁▁▁▁▁▁</td></tr><tr><td>_step</td><td>▁▁▂▃▃▃▄▅▅▅▆▇▇▇█</td></tr></table><br/>"
      ],
      "text/plain": [
       "<IPython.core.display.HTML object>"
      ]
     },
     "metadata": {
      "tags": []
     },
     "output_type": "display_data"
    },
    {
     "data": {
      "text/html": [
       "Synced 5 W&B file(s), 0 media file(s), 0 artifact file(s) and 0 other file(s)"
      ],
      "text/plain": [
       "<IPython.core.display.HTML object>"
      ]
     },
     "metadata": {
      "tags": []
     },
     "output_type": "display_data"
    },
    {
     "data": {
      "text/html": [
       "\n",
       "                    <br/>Synced <strong style=\"color:#cdcd00\">lilac-sweep-3</strong>: <a href=\"https://wandb.ai/dl_45_47/Convolution_Neural_Network_modules/runs/pj9fhg7p\" target=\"_blank\">https://wandb.ai/dl_45_47/Convolution_Neural_Network_modules/runs/pj9fhg7p</a><br/>\n",
       "                "
      ],
      "text/plain": [
       "<IPython.core.display.HTML object>"
      ]
     },
     "metadata": {
      "tags": []
     },
     "output_type": "display_data"
    },
    {
     "name": "stderr",
     "output_type": "stream",
     "text": [
      "\u001b[34m\u001b[1mwandb\u001b[0m: Agent Starting Run: 1plqbbht with config:\n",
      "\u001b[34m\u001b[1mwandb\u001b[0m: \tBatch_normalization: True\n",
      "\u001b[34m\u001b[1mwandb\u001b[0m: \tbatch_size: 64\n",
      "\u001b[34m\u001b[1mwandb\u001b[0m: \tdata_augmentation: True\n",
      "\u001b[34m\u001b[1mwandb\u001b[0m: \tdropout: 0.2\n",
      "\u001b[34m\u001b[1mwandb\u001b[0m: \tepochs: 5\n",
      "\u001b[34m\u001b[1mwandb\u001b[0m: \tfilter_organisation: 2\n",
      "\u001b[34m\u001b[1mwandb\u001b[0m: \tkernel_size: 7\n",
      "\u001b[34m\u001b[1mwandb\u001b[0m: \tneurons_in_denseLyr: 256\n",
      "\u001b[34m\u001b[1mwandb\u001b[0m: \tno_of_layers: 4\n",
      "\u001b[34m\u001b[1mwandb\u001b[0m: \tnumber_of_filters: 32\n",
      "\u001b[34m\u001b[1mwandb\u001b[0m: \tweight_decay: 0.1\n"
     ]
    },
    {
     "data": {
      "text/html": [
       "\n",
       "                Tracking run with wandb version 0.10.25<br/>\n",
       "                Syncing run <strong style=\"color:#cdcd00\">kind-sweep-4</strong> to <a href=\"https://wandb.ai\" target=\"_blank\">Weights & Biases</a> <a href=\"https://docs.wandb.com/integrations/jupyter.html\" target=\"_blank\">(Documentation)</a>.<br/>\n",
       "                Project page: <a href=\"https://wandb.ai/dl_45_47/Convolution_Neural_Network_modules\" target=\"_blank\">https://wandb.ai/dl_45_47/Convolution_Neural_Network_modules</a><br/>\n",
       "                Sweep page: <a href=\"https://wandb.ai/dl_45_47/Convolution_Neural_Network_modules/sweeps/c0ebc10x\" target=\"_blank\">https://wandb.ai/dl_45_47/Convolution_Neural_Network_modules/sweeps/c0ebc10x</a><br/>\n",
       "Run page: <a href=\"https://wandb.ai/dl_45_47/Convolution_Neural_Network_modules/runs/1plqbbht\" target=\"_blank\">https://wandb.ai/dl_45_47/Convolution_Neural_Network_modules/runs/1plqbbht</a><br/>\n",
       "                Run data is saved locally in <code>/content/wandb/run-20210413_123951-1plqbbht</code><br/><br/>\n",
       "            "
      ],
      "text/plain": [
       "<IPython.core.display.HTML object>"
      ]
     },
     "metadata": {
      "tags": []
     },
     "output_type": "display_data"
    },
    {
     "name": "stdout",
     "output_type": "stream",
     "text": [
      "Epoch 1/5\n",
      "94/94 [==============================] - 38s 359ms/step - loss: 19.8731 - accuracy: 0.1586 - val_loss: 4.8101 - val_accuracy: 0.1750\n",
      "Epoch 2/5\n",
      "94/94 [==============================] - 30s 317ms/step - loss: 4.1369 - accuracy: 0.2094 - val_loss: 3.6574 - val_accuracy: 0.1583\n",
      "Epoch 3/5\n",
      "94/94 [==============================] - 30s 317ms/step - loss: 3.2977 - accuracy: 0.2186 - val_loss: 3.0139 - val_accuracy: 0.2500\n",
      "Epoch 4/5\n",
      "94/94 [==============================] - 30s 317ms/step - loss: 2.8614 - accuracy: 0.2462 - val_loss: 2.7115 - val_accuracy: 0.2400\n",
      "Epoch 5/5\n",
      "94/94 [==============================] - 30s 318ms/step - loss: 2.6317 - accuracy: 0.2649 - val_loss: 2.8271 - val_accuracy: 0.1683\n"
     ]
    },
    {
     "data": {
      "text/html": [
       "<br/>Waiting for W&B process to finish, PID 2299<br/>Program ended successfully."
      ],
      "text/plain": [
       "<IPython.core.display.HTML object>"
      ]
     },
     "metadata": {
      "tags": []
     },
     "output_type": "display_data"
    },
    {
     "data": {
      "application/vnd.jupyter.widget-view+json": {
       "model_id": "283d053992dc434a818111cc036cd154",
       "version_major": 2,
       "version_minor": 0
      },
      "text/plain": [
       "VBox(children=(Label(value=' 0.00MB of 0.00MB uploaded (0.00MB deduped)\\r'), FloatProgress(value=1.0, max=1.0)…"
      ]
     },
     "metadata": {
      "tags": []
     },
     "output_type": "display_data"
    },
    {
     "data": {
      "text/html": [
       "Find user logs for this run at: <code>/content/wandb/run-20210413_123951-1plqbbht/logs/debug.log</code>"
      ],
      "text/plain": [
       "<IPython.core.display.HTML object>"
      ]
     },
     "metadata": {
      "tags": []
     },
     "output_type": "display_data"
    },
    {
     "data": {
      "text/html": [
       "Find internal logs for this run at: <code>/content/wandb/run-20210413_123951-1plqbbht/logs/debug-internal.log</code>"
      ],
      "text/plain": [
       "<IPython.core.display.HTML object>"
      ]
     },
     "metadata": {
      "tags": []
     },
     "output_type": "display_data"
    },
    {
     "data": {
      "text/html": [
       "<h3>Run summary:</h3><br/><style>\n",
       "    table.wandb td:nth-child(1) { padding: 0 10px; text-align: right }\n",
       "    </style><table class=\"wandb\">\n",
       "<tr><td>val_loss</td><td>2.82709</td></tr><tr><td>val_accuracy</td><td>0.16833</td></tr><tr><td>loss</td><td>2.63358</td></tr><tr><td>accuracy</td><td>0.25083</td></tr><tr><td>epoch</td><td>4</td></tr><tr><td>_runtime</td><td>160</td></tr><tr><td>_timestamp</td><td>1618317751</td></tr><tr><td>_step</td><td>4</td></tr></table>"
      ],
      "text/plain": [
       "<IPython.core.display.HTML object>"
      ]
     },
     "metadata": {
      "tags": []
     },
     "output_type": "display_data"
    },
    {
     "data": {
      "text/html": [
       "<h3>Run history:</h3><br/><style>\n",
       "    table.wandb td:nth-child(1) { padding: 0 10px; text-align: right }\n",
       "    </style><table class=\"wandb\">\n",
       "<tr><td>val_loss</td><td>█▄▂▁▁</td></tr><tr><td>val_accuracy</td><td>▂▁█▇▂</td></tr><tr><td>loss</td><td>█▂▁▁▁</td></tr><tr><td>accuracy</td><td>▁▃▅▇█</td></tr><tr><td>epoch</td><td>▁▃▅▆█</td></tr><tr><td>_runtime</td><td>▁▁▁▁▁</td></tr><tr><td>_timestamp</td><td>▁▁▁▁▁</td></tr><tr><td>_step</td><td>▁▃▅▆█</td></tr></table><br/>"
      ],
      "text/plain": [
       "<IPython.core.display.HTML object>"
      ]
     },
     "metadata": {
      "tags": []
     },
     "output_type": "display_data"
    },
    {
     "data": {
      "text/html": [
       "Synced 5 W&B file(s), 0 media file(s), 0 artifact file(s) and 0 other file(s)"
      ],
      "text/plain": [
       "<IPython.core.display.HTML object>"
      ]
     },
     "metadata": {
      "tags": []
     },
     "output_type": "display_data"
    },
    {
     "data": {
      "text/html": [
       "\n",
       "                    <br/>Synced <strong style=\"color:#cdcd00\">kind-sweep-4</strong>: <a href=\"https://wandb.ai/dl_45_47/Convolution_Neural_Network_modules/runs/1plqbbht\" target=\"_blank\">https://wandb.ai/dl_45_47/Convolution_Neural_Network_modules/runs/1plqbbht</a><br/>\n",
       "                "
      ],
      "text/plain": [
       "<IPython.core.display.HTML object>"
      ]
     },
     "metadata": {
      "tags": []
     },
     "output_type": "display_data"
    },
    {
     "name": "stderr",
     "output_type": "stream",
     "text": [
      "\u001b[34m\u001b[1mwandb\u001b[0m: Agent Starting Run: yi9q18l2 with config:\n",
      "\u001b[34m\u001b[1mwandb\u001b[0m: \tBatch_normalization: True\n",
      "\u001b[34m\u001b[1mwandb\u001b[0m: \tbatch_size: 64\n",
      "\u001b[34m\u001b[1mwandb\u001b[0m: \tdata_augmentation: False\n",
      "\u001b[34m\u001b[1mwandb\u001b[0m: \tdropout: 0.3\n",
      "\u001b[34m\u001b[1mwandb\u001b[0m: \tepochs: 5\n",
      "\u001b[34m\u001b[1mwandb\u001b[0m: \tfilter_organisation: 0.5\n",
      "\u001b[34m\u001b[1mwandb\u001b[0m: \tkernel_size: 3\n",
      "\u001b[34m\u001b[1mwandb\u001b[0m: \tneurons_in_denseLyr: 128\n",
      "\u001b[34m\u001b[1mwandb\u001b[0m: \tno_of_layers: 7\n",
      "\u001b[34m\u001b[1mwandb\u001b[0m: \tnumber_of_filters: 16\n",
      "\u001b[34m\u001b[1mwandb\u001b[0m: \tweight_decay: 0.01\n"
     ]
    },
    {
     "data": {
      "text/html": [
       "\n",
       "                Tracking run with wandb version 0.10.25<br/>\n",
       "                Syncing run <strong style=\"color:#cdcd00\">sleek-sweep-5</strong> to <a href=\"https://wandb.ai\" target=\"_blank\">Weights & Biases</a> <a href=\"https://docs.wandb.com/integrations/jupyter.html\" target=\"_blank\">(Documentation)</a>.<br/>\n",
       "                Project page: <a href=\"https://wandb.ai/dl_45_47/Convolution_Neural_Network_modules\" target=\"_blank\">https://wandb.ai/dl_45_47/Convolution_Neural_Network_modules</a><br/>\n",
       "                Sweep page: <a href=\"https://wandb.ai/dl_45_47/Convolution_Neural_Network_modules/sweeps/c0ebc10x\" target=\"_blank\">https://wandb.ai/dl_45_47/Convolution_Neural_Network_modules/sweeps/c0ebc10x</a><br/>\n",
       "Run page: <a href=\"https://wandb.ai/dl_45_47/Convolution_Neural_Network_modules/runs/yi9q18l2\" target=\"_blank\">https://wandb.ai/dl_45_47/Convolution_Neural_Network_modules/runs/yi9q18l2</a><br/>\n",
       "                Run data is saved locally in <code>/content/wandb/run-20210413_124241-yi9q18l2</code><br/><br/>\n",
       "            "
      ],
      "text/plain": [
       "<IPython.core.display.HTML object>"
      ]
     },
     "metadata": {
      "tags": []
     },
     "output_type": "display_data"
    },
    {
     "name": "stdout",
     "output_type": "stream",
     "text": [
      "Epoch 1/5\n",
      "94/94 [==============================] - 12s 114ms/step - loss: 3.3707 - accuracy: 0.1104 - val_loss: 2.7109 - val_accuracy: 0.0950\n",
      "Epoch 2/5\n",
      "94/94 [==============================] - 10s 107ms/step - loss: 2.9718 - accuracy: 0.1191 - val_loss: 2.6536 - val_accuracy: 0.1017\n",
      "Epoch 3/5\n",
      "94/94 [==============================] - 10s 107ms/step - loss: 2.8466 - accuracy: 0.1170 - val_loss: 2.6206 - val_accuracy: 0.0950\n",
      "Epoch 4/5\n",
      "94/94 [==============================] - 10s 107ms/step - loss: 2.7189 - accuracy: 0.1101 - val_loss: 2.5956 - val_accuracy: 0.0983\n",
      "Epoch 5/5\n",
      "94/94 [==============================] - 10s 107ms/step - loss: 2.6373 - accuracy: 0.1425 - val_loss: 2.5952 - val_accuracy: 0.0950\n"
     ]
    },
    {
     "data": {
      "text/html": [
       "<br/>Waiting for W&B process to finish, PID 2387<br/>Program ended successfully."
      ],
      "text/plain": [
       "<IPython.core.display.HTML object>"
      ]
     },
     "metadata": {
      "tags": []
     },
     "output_type": "display_data"
    },
    {
     "data": {
      "application/vnd.jupyter.widget-view+json": {
       "model_id": "2cda6918e273492e945ad26a218e1b65",
       "version_major": 2,
       "version_minor": 0
      },
      "text/plain": [
       "VBox(children=(Label(value=' 0.00MB of 0.00MB uploaded (0.00MB deduped)\\r'), FloatProgress(value=1.0, max=1.0)…"
      ]
     },
     "metadata": {
      "tags": []
     },
     "output_type": "display_data"
    },
    {
     "data": {
      "text/html": [
       "Find user logs for this run at: <code>/content/wandb/run-20210413_124241-yi9q18l2/logs/debug.log</code>"
      ],
      "text/plain": [
       "<IPython.core.display.HTML object>"
      ]
     },
     "metadata": {
      "tags": []
     },
     "output_type": "display_data"
    },
    {
     "data": {
      "text/html": [
       "Find internal logs for this run at: <code>/content/wandb/run-20210413_124241-yi9q18l2/logs/debug-internal.log</code>"
      ],
      "text/plain": [
       "<IPython.core.display.HTML object>"
      ]
     },
     "metadata": {
      "tags": []
     },
     "output_type": "display_data"
    },
    {
     "data": {
      "text/html": [
       "<h3>Run summary:</h3><br/><style>\n",
       "    table.wandb td:nth-child(1) { padding: 0 10px; text-align: right }\n",
       "    </style><table class=\"wandb\">\n",
       "<tr><td>val_loss</td><td>2.5952</td></tr><tr><td>val_accuracy</td><td>0.095</td></tr><tr><td>loss</td><td>2.62861</td></tr><tr><td>accuracy</td><td>0.13083</td></tr><tr><td>epoch</td><td>4</td></tr><tr><td>_runtime</td><td>55</td></tr><tr><td>_timestamp</td><td>1618317816</td></tr><tr><td>_step</td><td>4</td></tr></table>"
      ],
      "text/plain": [
       "<IPython.core.display.HTML object>"
      ]
     },
     "metadata": {
      "tags": []
     },
     "output_type": "display_data"
    },
    {
     "data": {
      "text/html": [
       "<h3>Run history:</h3><br/><style>\n",
       "    table.wandb td:nth-child(1) { padding: 0 10px; text-align: right }\n",
       "    </style><table class=\"wandb\">\n",
       "<tr><td>val_loss</td><td>█▅▃▁▁</td></tr><tr><td>val_accuracy</td><td>▁█▁▅▁</td></tr><tr><td>loss</td><td>█▅▃▂▁</td></tr><tr><td>accuracy</td><td>▁▂▃▂█</td></tr><tr><td>epoch</td><td>▁▃▅▆█</td></tr><tr><td>_runtime</td><td>▁▁▁▁▁</td></tr><tr><td>_timestamp</td><td>▁▁▁▁▁</td></tr><tr><td>_step</td><td>▁▃▅▆█</td></tr></table><br/>"
      ],
      "text/plain": [
       "<IPython.core.display.HTML object>"
      ]
     },
     "metadata": {
      "tags": []
     },
     "output_type": "display_data"
    },
    {
     "data": {
      "text/html": [
       "Synced 5 W&B file(s), 0 media file(s), 0 artifact file(s) and 0 other file(s)"
      ],
      "text/plain": [
       "<IPython.core.display.HTML object>"
      ]
     },
     "metadata": {
      "tags": []
     },
     "output_type": "display_data"
    },
    {
     "data": {
      "text/html": [
       "\n",
       "                    <br/>Synced <strong style=\"color:#cdcd00\">sleek-sweep-5</strong>: <a href=\"https://wandb.ai/dl_45_47/Convolution_Neural_Network_modules/runs/yi9q18l2\" target=\"_blank\">https://wandb.ai/dl_45_47/Convolution_Neural_Network_modules/runs/yi9q18l2</a><br/>\n",
       "                "
      ],
      "text/plain": [
       "<IPython.core.display.HTML object>"
      ]
     },
     "metadata": {
      "tags": []
     },
     "output_type": "display_data"
    },
    {
     "name": "stderr",
     "output_type": "stream",
     "text": [
      "\u001b[34m\u001b[1mwandb\u001b[0m: Agent Starting Run: 8yo97n79 with config:\n",
      "\u001b[34m\u001b[1mwandb\u001b[0m: \tBatch_normalization: False\n",
      "\u001b[34m\u001b[1mwandb\u001b[0m: \tbatch_size: 16\n",
      "\u001b[34m\u001b[1mwandb\u001b[0m: \tdata_augmentation: False\n",
      "\u001b[34m\u001b[1mwandb\u001b[0m: \tdropout: 0.3\n",
      "\u001b[34m\u001b[1mwandb\u001b[0m: \tepochs: 15\n",
      "\u001b[34m\u001b[1mwandb\u001b[0m: \tfilter_organisation: 1\n",
      "\u001b[34m\u001b[1mwandb\u001b[0m: \tkernel_size: 5\n",
      "\u001b[34m\u001b[1mwandb\u001b[0m: \tneurons_in_denseLyr: 128\n",
      "\u001b[34m\u001b[1mwandb\u001b[0m: \tno_of_layers: 7\n",
      "\u001b[34m\u001b[1mwandb\u001b[0m: \tnumber_of_filters: 64\n",
      "\u001b[34m\u001b[1mwandb\u001b[0m: \tweight_decay: 0.001\n"
     ]
    },
    {
     "data": {
      "text/html": [
       "\n",
       "                Tracking run with wandb version 0.10.25<br/>\n",
       "                Syncing run <strong style=\"color:#cdcd00\">smart-sweep-6</strong> to <a href=\"https://wandb.ai\" target=\"_blank\">Weights & Biases</a> <a href=\"https://docs.wandb.com/integrations/jupyter.html\" target=\"_blank\">(Documentation)</a>.<br/>\n",
       "                Project page: <a href=\"https://wandb.ai/dl_45_47/Convolution_Neural_Network_modules\" target=\"_blank\">https://wandb.ai/dl_45_47/Convolution_Neural_Network_modules</a><br/>\n",
       "                Sweep page: <a href=\"https://wandb.ai/dl_45_47/Convolution_Neural_Network_modules/sweeps/c0ebc10x\" target=\"_blank\">https://wandb.ai/dl_45_47/Convolution_Neural_Network_modules/sweeps/c0ebc10x</a><br/>\n",
       "Run page: <a href=\"https://wandb.ai/dl_45_47/Convolution_Neural_Network_modules/runs/8yo97n79\" target=\"_blank\">https://wandb.ai/dl_45_47/Convolution_Neural_Network_modules/runs/8yo97n79</a><br/>\n",
       "                Run data is saved locally in <code>/content/wandb/run-20210413_124344-8yo97n79</code><br/><br/>\n",
       "            "
      ],
      "text/plain": [
       "<IPython.core.display.HTML object>"
      ]
     },
     "metadata": {
      "tags": []
     },
     "output_type": "display_data"
    },
    {
     "data": {
      "text/html": [
       "<br/>Waiting for W&B process to finish, PID 2449<br/>Program failed with code 1.  Press ctrl-c to abort syncing."
      ],
      "text/plain": [
       "<IPython.core.display.HTML object>"
      ]
     },
     "metadata": {
      "tags": []
     },
     "output_type": "display_data"
    },
    {
     "data": {
      "application/vnd.jupyter.widget-view+json": {
       "model_id": "951ea8a14c3a470f825bf87ddc15e644",
       "version_major": 2,
       "version_minor": 0
      },
      "text/plain": [
       "VBox(children=(Label(value=' 0.00MB of 0.00MB uploaded (0.00MB deduped)\\r'), FloatProgress(value=1.0, max=1.0)…"
      ]
     },
     "metadata": {
      "tags": []
     },
     "output_type": "display_data"
    },
    {
     "data": {
      "text/html": [
       "Find user logs for this run at: <code>/content/wandb/run-20210413_124344-8yo97n79/logs/debug.log</code>"
      ],
      "text/plain": [
       "<IPython.core.display.HTML object>"
      ]
     },
     "metadata": {
      "tags": []
     },
     "output_type": "display_data"
    },
    {
     "data": {
      "text/html": [
       "Find internal logs for this run at: <code>/content/wandb/run-20210413_124344-8yo97n79/logs/debug-internal.log</code>"
      ],
      "text/plain": [
       "<IPython.core.display.HTML object>"
      ]
     },
     "metadata": {
      "tags": []
     },
     "output_type": "display_data"
    },
    {
     "data": {
      "text/html": [
       "Synced 4 W&B file(s), 0 media file(s), 0 artifact file(s) and 0 other file(s)"
      ],
      "text/plain": [
       "<IPython.core.display.HTML object>"
      ]
     },
     "metadata": {
      "tags": []
     },
     "output_type": "display_data"
    },
    {
     "data": {
      "text/html": [
       "\n",
       "                    <br/>Synced <strong style=\"color:#cdcd00\">smart-sweep-6</strong>: <a href=\"https://wandb.ai/dl_45_47/Convolution_Neural_Network_modules/runs/8yo97n79\" target=\"_blank\">https://wandb.ai/dl_45_47/Convolution_Neural_Network_modules/runs/8yo97n79</a><br/>\n",
       "                "
      ],
      "text/plain": [
       "<IPython.core.display.HTML object>"
      ]
     },
     "metadata": {
      "tags": []
     },
     "output_type": "display_data"
    },
    {
     "name": "stderr",
     "output_type": "stream",
     "text": [
      "\u001b[34m\u001b[1mwandb\u001b[0m: \u001b[32m\u001b[41mERROR\u001b[0m Run 8yo97n79 errored: ValueError('Negative dimension size caused by subtracting 5 from 2 for \\'{{node conv2d_6/Conv2D}} = Conv2D[T=DT_FLOAT, data_format=\"NHWC\", dilations=[1, 1, 1, 1], explicit_paddings=[], padding=\"VALID\", strides=[1, 1, 1, 1], use_cudnn_on_gpu=true](Placeholder, conv2d_6/Conv2D/ReadVariableOp)\\' with input shapes: [?,2,2,64], [5,5,64,64].')\n",
      "\u001b[34m\u001b[1mwandb\u001b[0m: Agent Starting Run: 522ithbh with config:\n",
      "\u001b[34m\u001b[1mwandb\u001b[0m: \tBatch_normalization: True\n",
      "\u001b[34m\u001b[1mwandb\u001b[0m: \tbatch_size: 32\n",
      "\u001b[34m\u001b[1mwandb\u001b[0m: \tdata_augmentation: True\n",
      "\u001b[34m\u001b[1mwandb\u001b[0m: \tdropout: 0.3\n",
      "\u001b[34m\u001b[1mwandb\u001b[0m: \tepochs: 15\n",
      "\u001b[34m\u001b[1mwandb\u001b[0m: \tfilter_organisation: 0.5\n",
      "\u001b[34m\u001b[1mwandb\u001b[0m: \tkernel_size: 5\n",
      "\u001b[34m\u001b[1mwandb\u001b[0m: \tneurons_in_denseLyr: 256\n",
      "\u001b[34m\u001b[1mwandb\u001b[0m: \tno_of_layers: 4\n",
      "\u001b[34m\u001b[1mwandb\u001b[0m: \tnumber_of_filters: 64\n",
      "\u001b[34m\u001b[1mwandb\u001b[0m: \tweight_decay: 0.001\n"
     ]
    },
    {
     "data": {
      "text/html": [
       "\n",
       "                Tracking run with wandb version 0.10.25<br/>\n",
       "                Syncing run <strong style=\"color:#cdcd00\">rural-sweep-7</strong> to <a href=\"https://wandb.ai\" target=\"_blank\">Weights & Biases</a> <a href=\"https://docs.wandb.com/integrations/jupyter.html\" target=\"_blank\">(Documentation)</a>.<br/>\n",
       "                Project page: <a href=\"https://wandb.ai/dl_45_47/Convolution_Neural_Network_modules\" target=\"_blank\">https://wandb.ai/dl_45_47/Convolution_Neural_Network_modules</a><br/>\n",
       "                Sweep page: <a href=\"https://wandb.ai/dl_45_47/Convolution_Neural_Network_modules/sweeps/c0ebc10x\" target=\"_blank\">https://wandb.ai/dl_45_47/Convolution_Neural_Network_modules/sweeps/c0ebc10x</a><br/>\n",
       "Run page: <a href=\"https://wandb.ai/dl_45_47/Convolution_Neural_Network_modules/runs/522ithbh\" target=\"_blank\">https://wandb.ai/dl_45_47/Convolution_Neural_Network_modules/runs/522ithbh</a><br/>\n",
       "                Run data is saved locally in <code>/content/wandb/run-20210413_124354-522ithbh</code><br/><br/>\n",
       "            "
      ],
      "text/plain": [
       "<IPython.core.display.HTML object>"
      ]
     },
     "metadata": {
      "tags": []
     },
     "output_type": "display_data"
    },
    {
     "name": "stdout",
     "output_type": "stream",
     "text": [
      "Epoch 1/15\n",
      "188/188 [==============================] - 30s 152ms/step - loss: 3.1615 - accuracy: 0.1459 - val_loss: 2.6394 - val_accuracy: 0.1783\n",
      "Epoch 2/15\n",
      "188/188 [==============================] - 28s 147ms/step - loss: 2.5376 - accuracy: 0.2222 - val_loss: 2.5740 - val_accuracy: 0.1800\n",
      "Epoch 3/15\n",
      "188/188 [==============================] - 28s 147ms/step - loss: 2.4031 - accuracy: 0.2552 - val_loss: 2.4993 - val_accuracy: 0.2000\n",
      "Epoch 4/15\n",
      "188/188 [==============================] - 28s 147ms/step - loss: 2.3048 - accuracy: 0.2886 - val_loss: 2.3957 - val_accuracy: 0.2567\n",
      "Epoch 5/15\n",
      "188/188 [==============================] - 28s 148ms/step - loss: 2.1715 - accuracy: 0.3194 - val_loss: 2.6772 - val_accuracy: 0.1783\n",
      "Epoch 6/15\n",
      "188/188 [==============================] - 28s 148ms/step - loss: 2.1169 - accuracy: 0.3547 - val_loss: 2.5560 - val_accuracy: 0.1650\n",
      "Epoch 7/15\n",
      "188/188 [==============================] - 28s 147ms/step - loss: 2.0451 - accuracy: 0.3862 - val_loss: 2.4205 - val_accuracy: 0.2200\n",
      "Epoch 8/15\n",
      "188/188 [==============================] - 27s 146ms/step - loss: 1.9581 - accuracy: 0.4173 - val_loss: 2.4293 - val_accuracy: 0.2500\n",
      "Epoch 9/15\n",
      "188/188 [==============================] - 27s 146ms/step - loss: 1.9217 - accuracy: 0.4380 - val_loss: 2.4396 - val_accuracy: 0.2450\n",
      "Epoch 10/15\n",
      "188/188 [==============================] - 27s 146ms/step - loss: 1.8107 - accuracy: 0.4895 - val_loss: 2.5253 - val_accuracy: 0.2233\n",
      "Epoch 11/15\n",
      "188/188 [==============================] - 27s 146ms/step - loss: 1.7843 - accuracy: 0.5019 - val_loss: 2.7208 - val_accuracy: 0.2250\n",
      "Epoch 12/15\n",
      "188/188 [==============================] - 27s 146ms/step - loss: 1.7540 - accuracy: 0.5246 - val_loss: 2.6567 - val_accuracy: 0.2450\n",
      "Epoch 13/15\n",
      "188/188 [==============================] - 27s 146ms/step - loss: 1.7331 - accuracy: 0.5481 - val_loss: 3.0187 - val_accuracy: 0.2167\n",
      "Epoch 14/15\n",
      "188/188 [==============================] - 28s 146ms/step - loss: 1.6672 - accuracy: 0.5939 - val_loss: 2.7200 - val_accuracy: 0.2217\n",
      "Epoch 15/15\n",
      "188/188 [==============================] - 27s 146ms/step - loss: 1.6452 - accuracy: 0.6033 - val_loss: 3.1208 - val_accuracy: 0.1867\n"
     ]
    },
    {
     "data": {
      "text/html": [
       "<br/>Waiting for W&B process to finish, PID 2480<br/>Program ended successfully."
      ],
      "text/plain": [
       "<IPython.core.display.HTML object>"
      ]
     },
     "metadata": {
      "tags": []
     },
     "output_type": "display_data"
    },
    {
     "data": {
      "application/vnd.jupyter.widget-view+json": {
       "model_id": "9267d30aa7514017abd6e59cf58d30ba",
       "version_major": 2,
       "version_minor": 0
      },
      "text/plain": [
       "VBox(children=(Label(value=' 0.00MB of 0.00MB uploaded (0.00MB deduped)\\r'), FloatProgress(value=1.0, max=1.0)…"
      ]
     },
     "metadata": {
      "tags": []
     },
     "output_type": "display_data"
    },
    {
     "data": {
      "text/html": [
       "Find user logs for this run at: <code>/content/wandb/run-20210413_124354-522ithbh/logs/debug.log</code>"
      ],
      "text/plain": [
       "<IPython.core.display.HTML object>"
      ]
     },
     "metadata": {
      "tags": []
     },
     "output_type": "display_data"
    },
    {
     "data": {
      "text/html": [
       "Find internal logs for this run at: <code>/content/wandb/run-20210413_124354-522ithbh/logs/debug-internal.log</code>"
      ],
      "text/plain": [
       "<IPython.core.display.HTML object>"
      ]
     },
     "metadata": {
      "tags": []
     },
     "output_type": "display_data"
    },
    {
     "data": {
      "text/html": [
       "<h3>Run summary:</h3><br/><style>\n",
       "    table.wandb td:nth-child(1) { padding: 0 10px; text-align: right }\n",
       "    </style><table class=\"wandb\">\n",
       "<tr><td>val_loss</td><td>3.12079</td></tr><tr><td>val_accuracy</td><td>0.18667</td></tr><tr><td>loss</td><td>1.69036</td></tr><tr><td>accuracy</td><td>0.586</td></tr><tr><td>epoch</td><td>14</td></tr><tr><td>_runtime</td><td>419</td></tr><tr><td>_timestamp</td><td>1618318253</td></tr><tr><td>_step</td><td>14</td></tr></table>"
      ],
      "text/plain": [
       "<IPython.core.display.HTML object>"
      ]
     },
     "metadata": {
      "tags": []
     },
     "output_type": "display_data"
    },
    {
     "data": {
      "text/html": [
       "<h3>Run history:</h3><br/><style>\n",
       "    table.wandb td:nth-child(1) { padding: 0 10px; text-align: right }\n",
       "    </style><table class=\"wandb\">\n",
       "<tr><td>val_loss</td><td>▃▃▂▁▄▃▁▁▁▂▄▄▇▄█</td></tr><tr><td>val_accuracy</td><td>▂▂▄█▂▁▅▇▇▅▆▇▅▅▃</td></tr><tr><td>loss</td><td>█▆▅▅▄▃▃▃▂▂▂▂▂▁▁</td></tr><tr><td>accuracy</td><td>▁▂▃▃▄▄▅▅▅▆▆▇▇██</td></tr><tr><td>epoch</td><td>▁▁▂▃▃▃▄▅▅▅▆▇▇▇█</td></tr><tr><td>_runtime</td><td>▁▁▁▁▁▁▁▁▁▁▁▁▁▁▁</td></tr><tr><td>_timestamp</td><td>▁▁▁▁▁▁▁▁▁▁▁▁▁▁▁</td></tr><tr><td>_step</td><td>▁▁▂▃▃▃▄▅▅▅▆▇▇▇█</td></tr></table><br/>"
      ],
      "text/plain": [
       "<IPython.core.display.HTML object>"
      ]
     },
     "metadata": {
      "tags": []
     },
     "output_type": "display_data"
    },
    {
     "data": {
      "text/html": [
       "Synced 5 W&B file(s), 0 media file(s), 0 artifact file(s) and 0 other file(s)"
      ],
      "text/plain": [
       "<IPython.core.display.HTML object>"
      ]
     },
     "metadata": {
      "tags": []
     },
     "output_type": "display_data"
    },
    {
     "data": {
      "text/html": [
       "\n",
       "                    <br/>Synced <strong style=\"color:#cdcd00\">rural-sweep-7</strong>: <a href=\"https://wandb.ai/dl_45_47/Convolution_Neural_Network_modules/runs/522ithbh\" target=\"_blank\">https://wandb.ai/dl_45_47/Convolution_Neural_Network_modules/runs/522ithbh</a><br/>\n",
       "                "
      ],
      "text/plain": [
       "<IPython.core.display.HTML object>"
      ]
     },
     "metadata": {
      "tags": []
     },
     "output_type": "display_data"
    },
    {
     "name": "stderr",
     "output_type": "stream",
     "text": [
      "\u001b[34m\u001b[1mwandb\u001b[0m: Agent Starting Run: edy8lpvf with config:\n",
      "\u001b[34m\u001b[1mwandb\u001b[0m: \tBatch_normalization: False\n",
      "\u001b[34m\u001b[1mwandb\u001b[0m: \tbatch_size: 32\n",
      "\u001b[34m\u001b[1mwandb\u001b[0m: \tdata_augmentation: True\n",
      "\u001b[34m\u001b[1mwandb\u001b[0m: \tdropout: 0.3\n",
      "\u001b[34m\u001b[1mwandb\u001b[0m: \tepochs: 10\n",
      "\u001b[34m\u001b[1mwandb\u001b[0m: \tfilter_organisation: 0.5\n",
      "\u001b[34m\u001b[1mwandb\u001b[0m: \tkernel_size: 7\n",
      "\u001b[34m\u001b[1mwandb\u001b[0m: \tneurons_in_denseLyr: 128\n",
      "\u001b[34m\u001b[1mwandb\u001b[0m: \tno_of_layers: 7\n",
      "\u001b[34m\u001b[1mwandb\u001b[0m: \tnumber_of_filters: 64\n",
      "\u001b[34m\u001b[1mwandb\u001b[0m: \tweight_decay: 0.1\n"
     ]
    },
    {
     "data": {
      "text/html": [
       "\n",
       "                Tracking run with wandb version 0.10.25<br/>\n",
       "                Syncing run <strong style=\"color:#cdcd00\">amber-sweep-8</strong> to <a href=\"https://wandb.ai\" target=\"_blank\">Weights & Biases</a> <a href=\"https://docs.wandb.com/integrations/jupyter.html\" target=\"_blank\">(Documentation)</a>.<br/>\n",
       "                Project page: <a href=\"https://wandb.ai/dl_45_47/Convolution_Neural_Network_modules\" target=\"_blank\">https://wandb.ai/dl_45_47/Convolution_Neural_Network_modules</a><br/>\n",
       "                Sweep page: <a href=\"https://wandb.ai/dl_45_47/Convolution_Neural_Network_modules/sweeps/c0ebc10x\" target=\"_blank\">https://wandb.ai/dl_45_47/Convolution_Neural_Network_modules/sweeps/c0ebc10x</a><br/>\n",
       "Run page: <a href=\"https://wandb.ai/dl_45_47/Convolution_Neural_Network_modules/runs/edy8lpvf\" target=\"_blank\">https://wandb.ai/dl_45_47/Convolution_Neural_Network_modules/runs/edy8lpvf</a><br/>\n",
       "                Run data is saved locally in <code>/content/wandb/run-20210413_125059-edy8lpvf</code><br/><br/>\n",
       "            "
      ],
      "text/plain": [
       "<IPython.core.display.HTML object>"
      ]
     },
     "metadata": {
      "tags": []
     },
     "output_type": "display_data"
    },
    {
     "data": {
      "text/html": [
       "<br/>Waiting for W&B process to finish, PID 2654<br/>Program failed with code 1.  Press ctrl-c to abort syncing."
      ],
      "text/plain": [
       "<IPython.core.display.HTML object>"
      ]
     },
     "metadata": {
      "tags": []
     },
     "output_type": "display_data"
    },
    {
     "data": {
      "application/vnd.jupyter.widget-view+json": {
       "model_id": "22f140e8adb74432901090104ff8bfc9",
       "version_major": 2,
       "version_minor": 0
      },
      "text/plain": [
       "VBox(children=(Label(value=' 0.00MB of 0.00MB uploaded (0.00MB deduped)\\r'), FloatProgress(value=1.0, max=1.0)…"
      ]
     },
     "metadata": {
      "tags": []
     },
     "output_type": "display_data"
    },
    {
     "data": {
      "text/html": [
       "Find user logs for this run at: <code>/content/wandb/run-20210413_125059-edy8lpvf/logs/debug.log</code>"
      ],
      "text/plain": [
       "<IPython.core.display.HTML object>"
      ]
     },
     "metadata": {
      "tags": []
     },
     "output_type": "display_data"
    },
    {
     "data": {
      "text/html": [
       "Find internal logs for this run at: <code>/content/wandb/run-20210413_125059-edy8lpvf/logs/debug-internal.log</code>"
      ],
      "text/plain": [
       "<IPython.core.display.HTML object>"
      ]
     },
     "metadata": {
      "tags": []
     },
     "output_type": "display_data"
    },
    {
     "data": {
      "text/html": [
       "Synced 4 W&B file(s), 0 media file(s), 0 artifact file(s) and 0 other file(s)"
      ],
      "text/plain": [
       "<IPython.core.display.HTML object>"
      ]
     },
     "metadata": {
      "tags": []
     },
     "output_type": "display_data"
    },
    {
     "data": {
      "text/html": [
       "\n",
       "                    <br/>Synced <strong style=\"color:#cdcd00\">amber-sweep-8</strong>: <a href=\"https://wandb.ai/dl_45_47/Convolution_Neural_Network_modules/runs/edy8lpvf\" target=\"_blank\">https://wandb.ai/dl_45_47/Convolution_Neural_Network_modules/runs/edy8lpvf</a><br/>\n",
       "                "
      ],
      "text/plain": [
       "<IPython.core.display.HTML object>"
      ]
     },
     "metadata": {
      "tags": []
     },
     "output_type": "display_data"
    },
    {
     "name": "stderr",
     "output_type": "stream",
     "text": [
      "\u001b[34m\u001b[1mwandb\u001b[0m: \u001b[32m\u001b[41mERROR\u001b[0m Run edy8lpvf errored: ValueError('Negative dimension size caused by subtracting 7 from 6 for \\'{{node conv2d_5/Conv2D}} = Conv2D[T=DT_FLOAT, data_format=\"NHWC\", dilations=[1, 1, 1, 1], explicit_paddings=[], padding=\"VALID\", strides=[1, 1, 1, 1], use_cudnn_on_gpu=true](Placeholder, conv2d_5/Conv2D/ReadVariableOp)\\' with input shapes: [?,6,6,64], [7,7,64,32].')\n",
      "\u001b[34m\u001b[1mwandb\u001b[0m: Agent Starting Run: sqlfupfq with config:\n",
      "\u001b[34m\u001b[1mwandb\u001b[0m: \tBatch_normalization: False\n",
      "\u001b[34m\u001b[1mwandb\u001b[0m: \tbatch_size: 32\n",
      "\u001b[34m\u001b[1mwandb\u001b[0m: \tdata_augmentation: False\n",
      "\u001b[34m\u001b[1mwandb\u001b[0m: \tdropout: 0.2\n",
      "\u001b[34m\u001b[1mwandb\u001b[0m: \tepochs: 10\n",
      "\u001b[34m\u001b[1mwandb\u001b[0m: \tfilter_organisation: 1\n",
      "\u001b[34m\u001b[1mwandb\u001b[0m: \tkernel_size: 7\n",
      "\u001b[34m\u001b[1mwandb\u001b[0m: \tneurons_in_denseLyr: 256\n",
      "\u001b[34m\u001b[1mwandb\u001b[0m: \tno_of_layers: 6\n",
      "\u001b[34m\u001b[1mwandb\u001b[0m: \tnumber_of_filters: 16\n",
      "\u001b[34m\u001b[1mwandb\u001b[0m: \tweight_decay: 0.01\n"
     ]
    },
    {
     "data": {
      "text/html": [
       "\n",
       "                Tracking run with wandb version 0.10.25<br/>\n",
       "                Syncing run <strong style=\"color:#cdcd00\">peachy-sweep-9</strong> to <a href=\"https://wandb.ai\" target=\"_blank\">Weights & Biases</a> <a href=\"https://docs.wandb.com/integrations/jupyter.html\" target=\"_blank\">(Documentation)</a>.<br/>\n",
       "                Project page: <a href=\"https://wandb.ai/dl_45_47/Convolution_Neural_Network_modules\" target=\"_blank\">https://wandb.ai/dl_45_47/Convolution_Neural_Network_modules</a><br/>\n",
       "                Sweep page: <a href=\"https://wandb.ai/dl_45_47/Convolution_Neural_Network_modules/sweeps/c0ebc10x\" target=\"_blank\">https://wandb.ai/dl_45_47/Convolution_Neural_Network_modules/sweeps/c0ebc10x</a><br/>\n",
       "Run page: <a href=\"https://wandb.ai/dl_45_47/Convolution_Neural_Network_modules/runs/sqlfupfq\" target=\"_blank\">https://wandb.ai/dl_45_47/Convolution_Neural_Network_modules/runs/sqlfupfq</a><br/>\n",
       "                Run data is saved locally in <code>/content/wandb/run-20210413_125111-sqlfupfq</code><br/><br/>\n",
       "            "
      ],
      "text/plain": [
       "<IPython.core.display.HTML object>"
      ]
     },
     "metadata": {
      "tags": []
     },
     "output_type": "display_data"
    },
    {
     "data": {
      "text/html": [
       "<br/>Waiting for W&B process to finish, PID 2687<br/>Program failed with code 1.  Press ctrl-c to abort syncing."
      ],
      "text/plain": [
       "<IPython.core.display.HTML object>"
      ]
     },
     "metadata": {
      "tags": []
     },
     "output_type": "display_data"
    },
    {
     "data": {
      "application/vnd.jupyter.widget-view+json": {
       "model_id": "18b913089220405c8d8d836d446aaa11",
       "version_major": 2,
       "version_minor": 0
      },
      "text/plain": [
       "VBox(children=(Label(value=' 0.00MB of 0.00MB uploaded (0.00MB deduped)\\r'), FloatProgress(value=1.0, max=1.0)…"
      ]
     },
     "metadata": {
      "tags": []
     },
     "output_type": "display_data"
    },
    {
     "data": {
      "text/html": [
       "Find user logs for this run at: <code>/content/wandb/run-20210413_125111-sqlfupfq/logs/debug.log</code>"
      ],
      "text/plain": [
       "<IPython.core.display.HTML object>"
      ]
     },
     "metadata": {
      "tags": []
     },
     "output_type": "display_data"
    },
    {
     "data": {
      "text/html": [
       "Find internal logs for this run at: <code>/content/wandb/run-20210413_125111-sqlfupfq/logs/debug-internal.log</code>"
      ],
      "text/plain": [
       "<IPython.core.display.HTML object>"
      ]
     },
     "metadata": {
      "tags": []
     },
     "output_type": "display_data"
    },
    {
     "data": {
      "text/html": [
       "Synced 4 W&B file(s), 0 media file(s), 0 artifact file(s) and 0 other file(s)"
      ],
      "text/plain": [
       "<IPython.core.display.HTML object>"
      ]
     },
     "metadata": {
      "tags": []
     },
     "output_type": "display_data"
    },
    {
     "data": {
      "text/html": [
       "\n",
       "                    <br/>Synced <strong style=\"color:#cdcd00\">peachy-sweep-9</strong>: <a href=\"https://wandb.ai/dl_45_47/Convolution_Neural_Network_modules/runs/sqlfupfq\" target=\"_blank\">https://wandb.ai/dl_45_47/Convolution_Neural_Network_modules/runs/sqlfupfq</a><br/>\n",
       "                "
      ],
      "text/plain": [
       "<IPython.core.display.HTML object>"
      ]
     },
     "metadata": {
      "tags": []
     },
     "output_type": "display_data"
    },
    {
     "name": "stderr",
     "output_type": "stream",
     "text": [
      "\u001b[34m\u001b[1mwandb\u001b[0m: \u001b[32m\u001b[41mERROR\u001b[0m Run sqlfupfq errored: ValueError('Negative dimension size caused by subtracting 7 from 6 for \\'{{node conv2d_5/Conv2D}} = Conv2D[T=DT_FLOAT, data_format=\"NHWC\", dilations=[1, 1, 1, 1], explicit_paddings=[], padding=\"VALID\", strides=[1, 1, 1, 1], use_cudnn_on_gpu=true](Placeholder, conv2d_5/Conv2D/ReadVariableOp)\\' with input shapes: [?,6,6,16], [7,7,16,16].')\n",
      "\u001b[34m\u001b[1mwandb\u001b[0m: Agent Starting Run: b8qrhnwd with config:\n",
      "\u001b[34m\u001b[1mwandb\u001b[0m: \tBatch_normalization: False\n",
      "\u001b[34m\u001b[1mwandb\u001b[0m: \tbatch_size: 16\n",
      "\u001b[34m\u001b[1mwandb\u001b[0m: \tdata_augmentation: False\n",
      "\u001b[34m\u001b[1mwandb\u001b[0m: \tdropout: 0.2\n",
      "\u001b[34m\u001b[1mwandb\u001b[0m: \tepochs: 20\n",
      "\u001b[34m\u001b[1mwandb\u001b[0m: \tfilter_organisation: 1\n",
      "\u001b[34m\u001b[1mwandb\u001b[0m: \tkernel_size: 3\n",
      "\u001b[34m\u001b[1mwandb\u001b[0m: \tneurons_in_denseLyr: 256\n",
      "\u001b[34m\u001b[1mwandb\u001b[0m: \tno_of_layers: 4\n",
      "\u001b[34m\u001b[1mwandb\u001b[0m: \tnumber_of_filters: 64\n",
      "\u001b[34m\u001b[1mwandb\u001b[0m: \tweight_decay: 0.01\n"
     ]
    },
    {
     "data": {
      "text/html": [
       "\n",
       "                Tracking run with wandb version 0.10.25<br/>\n",
       "                Syncing run <strong style=\"color:#cdcd00\">feasible-sweep-10</strong> to <a href=\"https://wandb.ai\" target=\"_blank\">Weights & Biases</a> <a href=\"https://docs.wandb.com/integrations/jupyter.html\" target=\"_blank\">(Documentation)</a>.<br/>\n",
       "                Project page: <a href=\"https://wandb.ai/dl_45_47/Convolution_Neural_Network_modules\" target=\"_blank\">https://wandb.ai/dl_45_47/Convolution_Neural_Network_modules</a><br/>\n",
       "                Sweep page: <a href=\"https://wandb.ai/dl_45_47/Convolution_Neural_Network_modules/sweeps/c0ebc10x\" target=\"_blank\">https://wandb.ai/dl_45_47/Convolution_Neural_Network_modules/sweeps/c0ebc10x</a><br/>\n",
       "Run page: <a href=\"https://wandb.ai/dl_45_47/Convolution_Neural_Network_modules/runs/b8qrhnwd\" target=\"_blank\">https://wandb.ai/dl_45_47/Convolution_Neural_Network_modules/runs/b8qrhnwd</a><br/>\n",
       "                Run data is saved locally in <code>/content/wandb/run-20210413_125123-b8qrhnwd</code><br/><br/>\n",
       "            "
      ],
      "text/plain": [
       "<IPython.core.display.HTML object>"
      ]
     },
     "metadata": {
      "tags": []
     },
     "output_type": "display_data"
    },
    {
     "name": "stdout",
     "output_type": "stream",
     "text": [
      "Epoch 1/20\n",
      "375/375 [==============================] - 25s 63ms/step - loss: 22.9802 - accuracy: 0.1017 - val_loss: 4.5266 - val_accuracy: 0.1033\n",
      "Epoch 2/20\n",
      "375/375 [==============================] - 23s 62ms/step - loss: 4.3247 - accuracy: 0.0900 - val_loss: 3.8274 - val_accuracy: 0.1017\n",
      "Epoch 3/20\n",
      "375/375 [==============================] - 23s 62ms/step - loss: 3.7103 - accuracy: 0.0939 - val_loss: 3.3807 - val_accuracy: 0.1033\n",
      "Epoch 4/20\n",
      "375/375 [==============================] - 23s 62ms/step - loss: 3.3374 - accuracy: 0.1183 - val_loss: 3.0917 - val_accuracy: 0.0900\n",
      "Epoch 5/20\n",
      "375/375 [==============================] - 23s 62ms/step - loss: 3.0381 - accuracy: 0.0990 - val_loss: 2.8514 - val_accuracy: 0.1000\n",
      "Epoch 6/20\n",
      "375/375 [==============================] - 23s 62ms/step - loss: 2.8237 - accuracy: 0.1044 - val_loss: 2.6961 - val_accuracy: 0.1000\n",
      "Epoch 7/20\n",
      "375/375 [==============================] - 23s 62ms/step - loss: 2.6643 - accuracy: 0.1017 - val_loss: 2.5911 - val_accuracy: 0.1000\n",
      "Epoch 8/20\n",
      "375/375 [==============================] - 23s 62ms/step - loss: 2.5643 - accuracy: 0.0964 - val_loss: 2.5114 - val_accuracy: 0.1000\n",
      "Epoch 9/20\n",
      "375/375 [==============================] - 23s 62ms/step - loss: 2.4969 - accuracy: 0.1090 - val_loss: 2.4551 - val_accuracy: 0.1000\n",
      "Epoch 10/20\n",
      "375/375 [==============================] - 23s 62ms/step - loss: 2.4407 - accuracy: 0.1030 - val_loss: 2.4213 - val_accuracy: 0.0983\n",
      "Epoch 11/20\n",
      "375/375 [==============================] - 23s 61ms/step - loss: 2.4535 - accuracy: 0.1197 - val_loss: 2.4273 - val_accuracy: 0.1117\n",
      "Epoch 12/20\n",
      "375/375 [==============================] - 23s 61ms/step - loss: 2.4429 - accuracy: 0.1421 - val_loss: 2.4288 - val_accuracy: 0.1150\n",
      "Epoch 13/20\n",
      "375/375 [==============================] - 23s 61ms/step - loss: 2.4142 - accuracy: 0.1436 - val_loss: 2.4317 - val_accuracy: 0.1017\n",
      "Epoch 14/20\n",
      "375/375 [==============================] - 23s 61ms/step - loss: 2.4707 - accuracy: 0.1424 - val_loss: 2.4573 - val_accuracy: 0.0950\n",
      "Epoch 15/20\n",
      "375/375 [==============================] - 23s 61ms/step - loss: 2.4547 - accuracy: 0.1311 - val_loss: 2.4472 - val_accuracy: 0.1100\n",
      "Epoch 16/20\n",
      "375/375 [==============================] - 23s 61ms/step - loss: 2.4105 - accuracy: 0.1579 - val_loss: 2.4805 - val_accuracy: 0.1017\n",
      "Epoch 17/20\n",
      "375/375 [==============================] - 23s 61ms/step - loss: 2.4247 - accuracy: 0.1721 - val_loss: 2.4916 - val_accuracy: 0.1333\n",
      "Epoch 18/20\n",
      "375/375 [==============================] - 23s 61ms/step - loss: 2.4227 - accuracy: 0.1763 - val_loss: 2.5427 - val_accuracy: 0.1217\n",
      "Epoch 19/20\n",
      "375/375 [==============================] - 23s 61ms/step - loss: 2.4396 - accuracy: 0.1853 - val_loss: 2.5865 - val_accuracy: 0.1167\n",
      "Epoch 20/20\n",
      "375/375 [==============================] - 23s 61ms/step - loss: 2.4731 - accuracy: 0.2037 - val_loss: 2.5914 - val_accuracy: 0.1300\n"
     ]
    },
    {
     "data": {
      "text/html": [
       "<br/>Waiting for W&B process to finish, PID 2718<br/>Program ended successfully."
      ],
      "text/plain": [
       "<IPython.core.display.HTML object>"
      ]
     },
     "metadata": {
      "tags": []
     },
     "output_type": "display_data"
    },
    {
     "data": {
      "application/vnd.jupyter.widget-view+json": {
       "model_id": "efe822ef9ce644bfbba0428c9bf4997c",
       "version_major": 2,
       "version_minor": 0
      },
      "text/plain": [
       "VBox(children=(Label(value=' 0.00MB of 0.00MB uploaded (0.00MB deduped)\\r'), FloatProgress(value=1.0, max=1.0)…"
      ]
     },
     "metadata": {
      "tags": []
     },
     "output_type": "display_data"
    },
    {
     "data": {
      "text/html": [
       "Find user logs for this run at: <code>/content/wandb/run-20210413_125123-b8qrhnwd/logs/debug.log</code>"
      ],
      "text/plain": [
       "<IPython.core.display.HTML object>"
      ]
     },
     "metadata": {
      "tags": []
     },
     "output_type": "display_data"
    },
    {
     "data": {
      "text/html": [
       "Find internal logs for this run at: <code>/content/wandb/run-20210413_125123-b8qrhnwd/logs/debug-internal.log</code>"
      ],
      "text/plain": [
       "<IPython.core.display.HTML object>"
      ]
     },
     "metadata": {
      "tags": []
     },
     "output_type": "display_data"
    },
    {
     "data": {
      "text/html": [
       "<h3>Run summary:</h3><br/><style>\n",
       "    table.wandb td:nth-child(1) { padding: 0 10px; text-align: right }\n",
       "    </style><table class=\"wandb\">\n",
       "<tr><td>val_loss</td><td>2.59137</td></tr><tr><td>val_accuracy</td><td>0.13</td></tr><tr><td>loss</td><td>2.51284</td></tr><tr><td>accuracy</td><td>0.18283</td></tr><tr><td>epoch</td><td>19</td></tr><tr><td>_runtime</td><td>464</td></tr><tr><td>_timestamp</td><td>1618318747</td></tr><tr><td>_step</td><td>19</td></tr></table>"
      ],
      "text/plain": [
       "<IPython.core.display.HTML object>"
      ]
     },
     "metadata": {
      "tags": []
     },
     "output_type": "display_data"
    },
    {
     "data": {
      "text/html": [
       "<h3>Run history:</h3><br/><style>\n",
       "    table.wandb td:nth-child(1) { padding: 0 10px; text-align: right }\n",
       "    </style><table class=\"wandb\">\n",
       "<tr><td>val_loss</td><td>█▆▄▃▂▂▂▁▁▁▁▁▁▁▁▁▁▁▂▂</td></tr><tr><td>val_accuracy</td><td>▃▃▃▁▃▃▃▃▃▂▄▅▃▂▄▃█▆▅▇</td></tr><tr><td>loss</td><td>█▃▂▂▂▁▁▁▁▁▁▁▁▁▁▁▁▁▁▁</td></tr><tr><td>accuracy</td><td>▂▁▂▃▂▂▂▁▂▂▃▄▄▄▄▆▆▇▇█</td></tr><tr><td>epoch</td><td>▁▁▂▂▂▃▃▄▄▄▅▅▅▆▆▇▇▇██</td></tr><tr><td>_runtime</td><td>▁▁▁▁▁▁▁▁▁▁▁▁▁▁▁▁▁▁▁▁</td></tr><tr><td>_timestamp</td><td>▁▁▁▁▁▁▁▁▁▁▁▁▁▁▁▁▁▁▁▁</td></tr><tr><td>_step</td><td>▁▁▂▂▂▃▃▄▄▄▅▅▅▆▆▇▇▇██</td></tr></table><br/>"
      ],
      "text/plain": [
       "<IPython.core.display.HTML object>"
      ]
     },
     "metadata": {
      "tags": []
     },
     "output_type": "display_data"
    },
    {
     "data": {
      "text/html": [
       "Synced 5 W&B file(s), 0 media file(s), 0 artifact file(s) and 0 other file(s)"
      ],
      "text/plain": [
       "<IPython.core.display.HTML object>"
      ]
     },
     "metadata": {
      "tags": []
     },
     "output_type": "display_data"
    },
    {
     "data": {
      "text/html": [
       "\n",
       "                    <br/>Synced <strong style=\"color:#cdcd00\">feasible-sweep-10</strong>: <a href=\"https://wandb.ai/dl_45_47/Convolution_Neural_Network_modules/runs/b8qrhnwd\" target=\"_blank\">https://wandb.ai/dl_45_47/Convolution_Neural_Network_modules/runs/b8qrhnwd</a><br/>\n",
       "                "
      ],
      "text/plain": [
       "<IPython.core.display.HTML object>"
      ]
     },
     "metadata": {
      "tags": []
     },
     "output_type": "display_data"
    },
    {
     "name": "stderr",
     "output_type": "stream",
     "text": [
      "\u001b[34m\u001b[1mwandb\u001b[0m: Agent Starting Run: sqv3c7m3 with config:\n",
      "\u001b[34m\u001b[1mwandb\u001b[0m: \tBatch_normalization: False\n",
      "\u001b[34m\u001b[1mwandb\u001b[0m: \tbatch_size: 16\n",
      "\u001b[34m\u001b[1mwandb\u001b[0m: \tdata_augmentation: True\n",
      "\u001b[34m\u001b[1mwandb\u001b[0m: \tdropout: 0.2\n",
      "\u001b[34m\u001b[1mwandb\u001b[0m: \tepochs: 5\n",
      "\u001b[34m\u001b[1mwandb\u001b[0m: \tfilter_organisation: 1\n",
      "\u001b[34m\u001b[1mwandb\u001b[0m: \tkernel_size: 5\n",
      "\u001b[34m\u001b[1mwandb\u001b[0m: \tneurons_in_denseLyr: 64\n",
      "\u001b[34m\u001b[1mwandb\u001b[0m: \tno_of_layers: 7\n",
      "\u001b[34m\u001b[1mwandb\u001b[0m: \tnumber_of_filters: 16\n",
      "\u001b[34m\u001b[1mwandb\u001b[0m: \tweight_decay: 0.1\n"
     ]
    },
    {
     "data": {
      "text/html": [
       "\n",
       "                Tracking run with wandb version 0.10.25<br/>\n",
       "                Syncing run <strong style=\"color:#cdcd00\">lunar-sweep-11</strong> to <a href=\"https://wandb.ai\" target=\"_blank\">Weights & Biases</a> <a href=\"https://docs.wandb.com/integrations/jupyter.html\" target=\"_blank\">(Documentation)</a>.<br/>\n",
       "                Project page: <a href=\"https://wandb.ai/dl_45_47/Convolution_Neural_Network_modules\" target=\"_blank\">https://wandb.ai/dl_45_47/Convolution_Neural_Network_modules</a><br/>\n",
       "                Sweep page: <a href=\"https://wandb.ai/dl_45_47/Convolution_Neural_Network_modules/sweeps/c0ebc10x\" target=\"_blank\">https://wandb.ai/dl_45_47/Convolution_Neural_Network_modules/sweeps/c0ebc10x</a><br/>\n",
       "Run page: <a href=\"https://wandb.ai/dl_45_47/Convolution_Neural_Network_modules/runs/sqv3c7m3\" target=\"_blank\">https://wandb.ai/dl_45_47/Convolution_Neural_Network_modules/runs/sqv3c7m3</a><br/>\n",
       "                Run data is saved locally in <code>/content/wandb/run-20210413_125913-sqv3c7m3</code><br/><br/>\n",
       "            "
      ],
      "text/plain": [
       "<IPython.core.display.HTML object>"
      ]
     },
     "metadata": {
      "tags": []
     },
     "output_type": "display_data"
    },
    {
     "data": {
      "text/html": [
       "<br/>Waiting for W&B process to finish, PID 2917<br/>Program failed with code 1.  Press ctrl-c to abort syncing."
      ],
      "text/plain": [
       "<IPython.core.display.HTML object>"
      ]
     },
     "metadata": {
      "tags": []
     },
     "output_type": "display_data"
    },
    {
     "data": {
      "application/vnd.jupyter.widget-view+json": {
       "model_id": "a42f3d4b4df44f5ca310f75deee5dd66",
       "version_major": 2,
       "version_minor": 0
      },
      "text/plain": [
       "VBox(children=(Label(value=' 0.00MB of 0.00MB uploaded (0.00MB deduped)\\r'), FloatProgress(value=1.0, max=1.0)…"
      ]
     },
     "metadata": {
      "tags": []
     },
     "output_type": "display_data"
    },
    {
     "data": {
      "text/html": [
       "Find user logs for this run at: <code>/content/wandb/run-20210413_125913-sqv3c7m3/logs/debug.log</code>"
      ],
      "text/plain": [
       "<IPython.core.display.HTML object>"
      ]
     },
     "metadata": {
      "tags": []
     },
     "output_type": "display_data"
    },
    {
     "data": {
      "text/html": [
       "Find internal logs for this run at: <code>/content/wandb/run-20210413_125913-sqv3c7m3/logs/debug-internal.log</code>"
      ],
      "text/plain": [
       "<IPython.core.display.HTML object>"
      ]
     },
     "metadata": {
      "tags": []
     },
     "output_type": "display_data"
    },
    {
     "data": {
      "text/html": [
       "Synced 4 W&B file(s), 0 media file(s), 0 artifact file(s) and 0 other file(s)"
      ],
      "text/plain": [
       "<IPython.core.display.HTML object>"
      ]
     },
     "metadata": {
      "tags": []
     },
     "output_type": "display_data"
    },
    {
     "data": {
      "text/html": [
       "\n",
       "                    <br/>Synced <strong style=\"color:#cdcd00\">lunar-sweep-11</strong>: <a href=\"https://wandb.ai/dl_45_47/Convolution_Neural_Network_modules/runs/sqv3c7m3\" target=\"_blank\">https://wandb.ai/dl_45_47/Convolution_Neural_Network_modules/runs/sqv3c7m3</a><br/>\n",
       "                "
      ],
      "text/plain": [
       "<IPython.core.display.HTML object>"
      ]
     },
     "metadata": {
      "tags": []
     },
     "output_type": "display_data"
    },
    {
     "name": "stderr",
     "output_type": "stream",
     "text": [
      "\u001b[34m\u001b[1mwandb\u001b[0m: \u001b[32m\u001b[41mERROR\u001b[0m Run sqv3c7m3 errored: ValueError('Negative dimension size caused by subtracting 5 from 2 for \\'{{node conv2d_6/Conv2D}} = Conv2D[T=DT_FLOAT, data_format=\"NHWC\", dilations=[1, 1, 1, 1], explicit_paddings=[], padding=\"VALID\", strides=[1, 1, 1, 1], use_cudnn_on_gpu=true](Placeholder, conv2d_6/Conv2D/ReadVariableOp)\\' with input shapes: [?,2,2,16], [5,5,16,16].')\n",
      "\u001b[34m\u001b[1mwandb\u001b[0m: Agent Starting Run: lgis7sml with config:\n",
      "\u001b[34m\u001b[1mwandb\u001b[0m: \tBatch_normalization: True\n",
      "\u001b[34m\u001b[1mwandb\u001b[0m: \tbatch_size: 32\n",
      "\u001b[34m\u001b[1mwandb\u001b[0m: \tdata_augmentation: False\n",
      "\u001b[34m\u001b[1mwandb\u001b[0m: \tdropout: 0.3\n",
      "\u001b[34m\u001b[1mwandb\u001b[0m: \tepochs: 5\n",
      "\u001b[34m\u001b[1mwandb\u001b[0m: \tfilter_organisation: 2\n",
      "\u001b[34m\u001b[1mwandb\u001b[0m: \tkernel_size: 3\n",
      "\u001b[34m\u001b[1mwandb\u001b[0m: \tneurons_in_denseLyr: 32\n",
      "\u001b[34m\u001b[1mwandb\u001b[0m: \tno_of_layers: 6\n",
      "\u001b[34m\u001b[1mwandb\u001b[0m: \tnumber_of_filters: 64\n",
      "\u001b[34m\u001b[1mwandb\u001b[0m: \tweight_decay: 0.001\n"
     ]
    },
    {
     "data": {
      "text/html": [
       "\n",
       "                Tracking run with wandb version 0.10.25<br/>\n",
       "                Syncing run <strong style=\"color:#cdcd00\">hardy-sweep-12</strong> to <a href=\"https://wandb.ai\" target=\"_blank\">Weights & Biases</a> <a href=\"https://docs.wandb.com/integrations/jupyter.html\" target=\"_blank\">(Documentation)</a>.<br/>\n",
       "                Project page: <a href=\"https://wandb.ai/dl_45_47/Convolution_Neural_Network_modules\" target=\"_blank\">https://wandb.ai/dl_45_47/Convolution_Neural_Network_modules</a><br/>\n",
       "                Sweep page: <a href=\"https://wandb.ai/dl_45_47/Convolution_Neural_Network_modules/sweeps/c0ebc10x\" target=\"_blank\">https://wandb.ai/dl_45_47/Convolution_Neural_Network_modules/sweeps/c0ebc10x</a><br/>\n",
       "Run page: <a href=\"https://wandb.ai/dl_45_47/Convolution_Neural_Network_modules/runs/lgis7sml\" target=\"_blank\">https://wandb.ai/dl_45_47/Convolution_Neural_Network_modules/runs/lgis7sml</a><br/>\n",
       "                Run data is saved locally in <code>/content/wandb/run-20210413_125923-lgis7sml</code><br/><br/>\n",
       "            "
      ],
      "text/plain": [
       "<IPython.core.display.HTML object>"
      ]
     },
     "metadata": {
      "tags": []
     },
     "output_type": "display_data"
    },
    {
     "name": "stdout",
     "output_type": "stream",
     "text": [
      "Epoch 1/5\n",
      "188/188 [==============================] - 44s 228ms/step - loss: 3.0347 - accuracy: 0.1473 - val_loss: 2.5992 - val_accuracy: 0.1950\n",
      "Epoch 2/5\n",
      "188/188 [==============================] - 43s 226ms/step - loss: 2.5658 - accuracy: 0.2228 - val_loss: 2.4624 - val_accuracy: 0.2050\n",
      "Epoch 3/5\n",
      "188/188 [==============================] - 43s 227ms/step - loss: 2.3968 - accuracy: 0.2612 - val_loss: 2.4107 - val_accuracy: 0.2217\n",
      "Epoch 4/5\n",
      "188/188 [==============================] - 43s 227ms/step - loss: 2.3113 - accuracy: 0.2775 - val_loss: 2.3830 - val_accuracy: 0.2633\n",
      "Epoch 5/5\n",
      "188/188 [==============================] - 43s 226ms/step - loss: 2.2339 - accuracy: 0.3137 - val_loss: 2.7203 - val_accuracy: 0.1700\n"
     ]
    },
    {
     "data": {
      "text/html": [
       "<br/>Waiting for W&B process to finish, PID 2950<br/>Program ended successfully."
      ],
      "text/plain": [
       "<IPython.core.display.HTML object>"
      ]
     },
     "metadata": {
      "tags": []
     },
     "output_type": "display_data"
    },
    {
     "data": {
      "application/vnd.jupyter.widget-view+json": {
       "model_id": "5b4d815d9a444f4c8db621b9d01ca61c",
       "version_major": 2,
       "version_minor": 0
      },
      "text/plain": [
       "VBox(children=(Label(value=' 0.00MB of 0.00MB uploaded (0.00MB deduped)\\r'), FloatProgress(value=1.0, max=1.0)…"
      ]
     },
     "metadata": {
      "tags": []
     },
     "output_type": "display_data"
    },
    {
     "data": {
      "text/html": [
       "Find user logs for this run at: <code>/content/wandb/run-20210413_125923-lgis7sml/logs/debug.log</code>"
      ],
      "text/plain": [
       "<IPython.core.display.HTML object>"
      ]
     },
     "metadata": {
      "tags": []
     },
     "output_type": "display_data"
    },
    {
     "data": {
      "text/html": [
       "Find internal logs for this run at: <code>/content/wandb/run-20210413_125923-lgis7sml/logs/debug-internal.log</code>"
      ],
      "text/plain": [
       "<IPython.core.display.HTML object>"
      ]
     },
     "metadata": {
      "tags": []
     },
     "output_type": "display_data"
    },
    {
     "data": {
      "text/html": [
       "<h3>Run summary:</h3><br/><style>\n",
       "    table.wandb td:nth-child(1) { padding: 0 10px; text-align: right }\n",
       "    </style><table class=\"wandb\">\n",
       "<tr><td>val_loss</td><td>2.72026</td></tr><tr><td>val_accuracy</td><td>0.17</td></tr><tr><td>loss</td><td>2.2318</td></tr><tr><td>accuracy</td><td>0.307</td></tr><tr><td>epoch</td><td>4</td></tr><tr><td>_runtime</td><td>217</td></tr><tr><td>_timestamp</td><td>1618318980</td></tr><tr><td>_step</td><td>4</td></tr></table>"
      ],
      "text/plain": [
       "<IPython.core.display.HTML object>"
      ]
     },
     "metadata": {
      "tags": []
     },
     "output_type": "display_data"
    },
    {
     "data": {
      "text/html": [
       "<h3>Run history:</h3><br/><style>\n",
       "    table.wandb td:nth-child(1) { padding: 0 10px; text-align: right }\n",
       "    </style><table class=\"wandb\">\n",
       "<tr><td>val_loss</td><td>▅▃▂▁█</td></tr><tr><td>val_accuracy</td><td>▃▄▅█▁</td></tr><tr><td>loss</td><td>█▅▃▂▁</td></tr><tr><td>accuracy</td><td>▁▄▆▇█</td></tr><tr><td>epoch</td><td>▁▃▅▆█</td></tr><tr><td>_runtime</td><td>▁▁▁▁▁</td></tr><tr><td>_timestamp</td><td>▁▁▁▁▁</td></tr><tr><td>_step</td><td>▁▃▅▆█</td></tr></table><br/>"
      ],
      "text/plain": [
       "<IPython.core.display.HTML object>"
      ]
     },
     "metadata": {
      "tags": []
     },
     "output_type": "display_data"
    },
    {
     "data": {
      "text/html": [
       "Synced 5 W&B file(s), 0 media file(s), 0 artifact file(s) and 0 other file(s)"
      ],
      "text/plain": [
       "<IPython.core.display.HTML object>"
      ]
     },
     "metadata": {
      "tags": []
     },
     "output_type": "display_data"
    },
    {
     "data": {
      "text/html": [
       "\n",
       "                    <br/>Synced <strong style=\"color:#cdcd00\">hardy-sweep-12</strong>: <a href=\"https://wandb.ai/dl_45_47/Convolution_Neural_Network_modules/runs/lgis7sml\" target=\"_blank\">https://wandb.ai/dl_45_47/Convolution_Neural_Network_modules/runs/lgis7sml</a><br/>\n",
       "                "
      ],
      "text/plain": [
       "<IPython.core.display.HTML object>"
      ]
     },
     "metadata": {
      "tags": []
     },
     "output_type": "display_data"
    },
    {
     "name": "stderr",
     "output_type": "stream",
     "text": [
      "\u001b[34m\u001b[1mwandb\u001b[0m: Agent Starting Run: t9we72bd with config:\n",
      "\u001b[34m\u001b[1mwandb\u001b[0m: \tBatch_normalization: True\n",
      "\u001b[34m\u001b[1mwandb\u001b[0m: \tbatch_size: 32\n",
      "\u001b[34m\u001b[1mwandb\u001b[0m: \tdata_augmentation: True\n",
      "\u001b[34m\u001b[1mwandb\u001b[0m: \tdropout: 0.3\n",
      "\u001b[34m\u001b[1mwandb\u001b[0m: \tepochs: 20\n",
      "\u001b[34m\u001b[1mwandb\u001b[0m: \tfilter_organisation: 0.5\n",
      "\u001b[34m\u001b[1mwandb\u001b[0m: \tkernel_size: 7\n",
      "\u001b[34m\u001b[1mwandb\u001b[0m: \tneurons_in_denseLyr: 32\n",
      "\u001b[34m\u001b[1mwandb\u001b[0m: \tno_of_layers: 4\n",
      "\u001b[34m\u001b[1mwandb\u001b[0m: \tnumber_of_filters: 16\n",
      "\u001b[34m\u001b[1mwandb\u001b[0m: \tweight_decay: 0.001\n"
     ]
    },
    {
     "data": {
      "text/html": [
       "\n",
       "                Tracking run with wandb version 0.10.25<br/>\n",
       "                Syncing run <strong style=\"color:#cdcd00\">sweepy-sweep-13</strong> to <a href=\"https://wandb.ai\" target=\"_blank\">Weights & Biases</a> <a href=\"https://docs.wandb.com/integrations/jupyter.html\" target=\"_blank\">(Documentation)</a>.<br/>\n",
       "                Project page: <a href=\"https://wandb.ai/dl_45_47/Convolution_Neural_Network_modules\" target=\"_blank\">https://wandb.ai/dl_45_47/Convolution_Neural_Network_modules</a><br/>\n",
       "                Sweep page: <a href=\"https://wandb.ai/dl_45_47/Convolution_Neural_Network_modules/sweeps/c0ebc10x\" target=\"_blank\">https://wandb.ai/dl_45_47/Convolution_Neural_Network_modules/sweeps/c0ebc10x</a><br/>\n",
       "Run page: <a href=\"https://wandb.ai/dl_45_47/Convolution_Neural_Network_modules/runs/t9we72bd\" target=\"_blank\">https://wandb.ai/dl_45_47/Convolution_Neural_Network_modules/runs/t9we72bd</a><br/>\n",
       "                Run data is saved locally in <code>/content/wandb/run-20210413_130308-t9we72bd</code><br/><br/>\n",
       "            "
      ],
      "text/plain": [
       "<IPython.core.display.HTML object>"
      ]
     },
     "metadata": {
      "tags": []
     },
     "output_type": "display_data"
    },
    {
     "name": "stdout",
     "output_type": "stream",
     "text": [
      "Epoch 1/20\n",
      "188/188 [==============================] - 17s 81ms/step - loss: 3.1003 - accuracy: 0.1276 - val_loss: 2.6525 - val_accuracy: 0.1500\n",
      "Epoch 2/20\n",
      "188/188 [==============================] - 15s 78ms/step - loss: 2.6029 - accuracy: 0.2014 - val_loss: 2.8690 - val_accuracy: 0.1117\n",
      "Epoch 3/20\n",
      "188/188 [==============================] - 15s 77ms/step - loss: 2.4623 - accuracy: 0.2248 - val_loss: 2.3334 - val_accuracy: 0.2383\n",
      "Epoch 4/20\n",
      "188/188 [==============================] - 14s 77ms/step - loss: 2.3432 - accuracy: 0.2549 - val_loss: 2.4372 - val_accuracy: 0.2050\n",
      "Epoch 5/20\n",
      "188/188 [==============================] - 15s 78ms/step - loss: 2.2521 - accuracy: 0.2740 - val_loss: 2.4807 - val_accuracy: 0.1933\n",
      "Epoch 6/20\n",
      "188/188 [==============================] - 15s 77ms/step - loss: 2.1791 - accuracy: 0.3013 - val_loss: 2.3894 - val_accuracy: 0.2400\n",
      "Epoch 7/20\n",
      "188/188 [==============================] - 15s 77ms/step - loss: 2.0782 - accuracy: 0.3442 - val_loss: 2.4588 - val_accuracy: 0.2100\n",
      "Epoch 8/20\n",
      "188/188 [==============================] - 15s 77ms/step - loss: 2.0280 - accuracy: 0.3725 - val_loss: 2.3292 - val_accuracy: 0.2417\n",
      "Epoch 9/20\n",
      "188/188 [==============================] - 15s 78ms/step - loss: 1.9587 - accuracy: 0.3985 - val_loss: 2.3512 - val_accuracy: 0.2667\n",
      "Epoch 10/20\n",
      "188/188 [==============================] - 15s 77ms/step - loss: 1.8907 - accuracy: 0.4283 - val_loss: 2.4448 - val_accuracy: 0.2450\n",
      "Epoch 11/20\n",
      "188/188 [==============================] - 15s 78ms/step - loss: 1.8585 - accuracy: 0.4554 - val_loss: 2.3807 - val_accuracy: 0.2683\n",
      "Epoch 12/20\n",
      "188/188 [==============================] - 15s 77ms/step - loss: 1.8198 - accuracy: 0.4768 - val_loss: 2.5051 - val_accuracy: 0.2367\n",
      "Epoch 13/20\n",
      "188/188 [==============================] - 15s 77ms/step - loss: 1.7696 - accuracy: 0.4923 - val_loss: 2.5768 - val_accuracy: 0.2600\n",
      "Epoch 14/20\n",
      "188/188 [==============================] - 15s 77ms/step - loss: 1.7283 - accuracy: 0.5318 - val_loss: 2.5608 - val_accuracy: 0.2650\n",
      "Epoch 15/20\n",
      "188/188 [==============================] - 15s 77ms/step - loss: 1.7352 - accuracy: 0.5332 - val_loss: 2.7690 - val_accuracy: 0.2300\n",
      "Epoch 16/20\n",
      "188/188 [==============================] - 15s 78ms/step - loss: 1.6666 - accuracy: 0.5781 - val_loss: 2.6592 - val_accuracy: 0.2467\n",
      "Epoch 17/20\n",
      "188/188 [==============================] - 15s 78ms/step - loss: 1.6859 - accuracy: 0.5783 - val_loss: 2.7492 - val_accuracy: 0.2600\n",
      "Epoch 18/20\n",
      "188/188 [==============================] - 14s 77ms/step - loss: 1.6513 - accuracy: 0.5946 - val_loss: 2.8589 - val_accuracy: 0.2550\n",
      "Epoch 19/20\n",
      "188/188 [==============================] - 15s 77ms/step - loss: 1.6177 - accuracy: 0.6206 - val_loss: 3.0862 - val_accuracy: 0.2250\n",
      "Epoch 20/20\n",
      "188/188 [==============================] - 15s 77ms/step - loss: 1.6122 - accuracy: 0.6328 - val_loss: 3.1825 - val_accuracy: 0.2133\n"
     ]
    },
    {
     "data": {
      "text/html": [
       "<br/>Waiting for W&B process to finish, PID 3048<br/>Program ended successfully."
      ],
      "text/plain": [
       "<IPython.core.display.HTML object>"
      ]
     },
     "metadata": {
      "tags": []
     },
     "output_type": "display_data"
    },
    {
     "data": {
      "application/vnd.jupyter.widget-view+json": {
       "model_id": "a6bfb0fb97fd40699b26c84c8d40c644",
       "version_major": 2,
       "version_minor": 0
      },
      "text/plain": [
       "VBox(children=(Label(value=' 0.00MB of 0.00MB uploaded (0.00MB deduped)\\r'), FloatProgress(value=1.0, max=1.0)…"
      ]
     },
     "metadata": {
      "tags": []
     },
     "output_type": "display_data"
    },
    {
     "data": {
      "text/html": [
       "Find user logs for this run at: <code>/content/wandb/run-20210413_130308-t9we72bd/logs/debug.log</code>"
      ],
      "text/plain": [
       "<IPython.core.display.HTML object>"
      ]
     },
     "metadata": {
      "tags": []
     },
     "output_type": "display_data"
    },
    {
     "data": {
      "text/html": [
       "Find internal logs for this run at: <code>/content/wandb/run-20210413_130308-t9we72bd/logs/debug-internal.log</code>"
      ],
      "text/plain": [
       "<IPython.core.display.HTML object>"
      ]
     },
     "metadata": {
      "tags": []
     },
     "output_type": "display_data"
    },
    {
     "data": {
      "text/html": [
       "<h3>Run summary:</h3><br/><style>\n",
       "    table.wandb td:nth-child(1) { padding: 0 10px; text-align: right }\n",
       "    </style><table class=\"wandb\">\n",
       "<tr><td>val_loss</td><td>3.18253</td></tr><tr><td>val_accuracy</td><td>0.21333</td></tr><tr><td>loss</td><td>1.67078</td></tr><tr><td>accuracy</td><td>0.61083</td></tr><tr><td>epoch</td><td>19</td></tr><tr><td>_runtime</td><td>297</td></tr><tr><td>_timestamp</td><td>1618319285</td></tr><tr><td>_step</td><td>19</td></tr></table>"
      ],
      "text/plain": [
       "<IPython.core.display.HTML object>"
      ]
     },
     "metadata": {
      "tags": []
     },
     "output_type": "display_data"
    },
    {
     "data": {
      "text/html": [
       "<h3>Run history:</h3><br/><style>\n",
       "    table.wandb td:nth-child(1) { padding: 0 10px; text-align: right }\n",
       "    </style><table class=\"wandb\">\n",
       "<tr><td>val_loss</td><td>▄▅▁▂▂▁▂▁▁▂▁▂▃▃▅▄▄▅▇█</td></tr><tr><td>val_accuracy</td><td>▃▁▇▅▅▇▅▇█▇█▇██▆▇█▇▆▆</td></tr><tr><td>loss</td><td>█▆▆▅▄▄▄▃▃▃▂▂▂▂▂▁▂▁▁▁</td></tr><tr><td>accuracy</td><td>▁▂▂▃▃▃▄▄▅▅▅▆▆▆▇▇▇▇██</td></tr><tr><td>epoch</td><td>▁▁▂▂▂▃▃▄▄▄▅▅▅▆▆▇▇▇██</td></tr><tr><td>_runtime</td><td>▁▁▁▁▁▁▁▁▁▁▁▁▁▁▁▁▁▁▁▁</td></tr><tr><td>_timestamp</td><td>▁▁▁▁▁▁▁▁▁▁▁▁▁▁▁▁▁▁▁▁</td></tr><tr><td>_step</td><td>▁▁▂▂▂▃▃▄▄▄▅▅▅▆▆▇▇▇██</td></tr></table><br/>"
      ],
      "text/plain": [
       "<IPython.core.display.HTML object>"
      ]
     },
     "metadata": {
      "tags": []
     },
     "output_type": "display_data"
    },
    {
     "data": {
      "text/html": [
       "Synced 5 W&B file(s), 0 media file(s), 0 artifact file(s) and 0 other file(s)"
      ],
      "text/plain": [
       "<IPython.core.display.HTML object>"
      ]
     },
     "metadata": {
      "tags": []
     },
     "output_type": "display_data"
    },
    {
     "data": {
      "text/html": [
       "\n",
       "                    <br/>Synced <strong style=\"color:#cdcd00\">sweepy-sweep-13</strong>: <a href=\"https://wandb.ai/dl_45_47/Convolution_Neural_Network_modules/runs/t9we72bd\" target=\"_blank\">https://wandb.ai/dl_45_47/Convolution_Neural_Network_modules/runs/t9we72bd</a><br/>\n",
       "                "
      ],
      "text/plain": [
       "<IPython.core.display.HTML object>"
      ]
     },
     "metadata": {
      "tags": []
     },
     "output_type": "display_data"
    },
    {
     "name": "stderr",
     "output_type": "stream",
     "text": [
      "\u001b[34m\u001b[1mwandb\u001b[0m: Agent Starting Run: otph1ugu with config:\n",
      "\u001b[34m\u001b[1mwandb\u001b[0m: \tBatch_normalization: True\n",
      "\u001b[34m\u001b[1mwandb\u001b[0m: \tbatch_size: 32\n",
      "\u001b[34m\u001b[1mwandb\u001b[0m: \tdata_augmentation: False\n",
      "\u001b[34m\u001b[1mwandb\u001b[0m: \tdropout: 0.2\n",
      "\u001b[34m\u001b[1mwandb\u001b[0m: \tepochs: 15\n",
      "\u001b[34m\u001b[1mwandb\u001b[0m: \tfilter_organisation: 2\n",
      "\u001b[34m\u001b[1mwandb\u001b[0m: \tkernel_size: 3\n",
      "\u001b[34m\u001b[1mwandb\u001b[0m: \tneurons_in_denseLyr: 256\n",
      "\u001b[34m\u001b[1mwandb\u001b[0m: \tno_of_layers: 7\n",
      "\u001b[34m\u001b[1mwandb\u001b[0m: \tnumber_of_filters: 64\n",
      "\u001b[34m\u001b[1mwandb\u001b[0m: \tweight_decay: 0.001\n"
     ]
    },
    {
     "data": {
      "text/html": [
       "\n",
       "                Tracking run with wandb version 0.10.25<br/>\n",
       "                Syncing run <strong style=\"color:#cdcd00\">rosy-sweep-14</strong> to <a href=\"https://wandb.ai\" target=\"_blank\">Weights & Biases</a> <a href=\"https://docs.wandb.com/integrations/jupyter.html\" target=\"_blank\">(Documentation)</a>.<br/>\n",
       "                Project page: <a href=\"https://wandb.ai/dl_45_47/Convolution_Neural_Network_modules\" target=\"_blank\">https://wandb.ai/dl_45_47/Convolution_Neural_Network_modules</a><br/>\n",
       "                Sweep page: <a href=\"https://wandb.ai/dl_45_47/Convolution_Neural_Network_modules/sweeps/c0ebc10x\" target=\"_blank\">https://wandb.ai/dl_45_47/Convolution_Neural_Network_modules/sweeps/c0ebc10x</a><br/>\n",
       "Run page: <a href=\"https://wandb.ai/dl_45_47/Convolution_Neural_Network_modules/runs/otph1ugu\" target=\"_blank\">https://wandb.ai/dl_45_47/Convolution_Neural_Network_modules/runs/otph1ugu</a><br/>\n",
       "                Run data is saved locally in <code>/content/wandb/run-20210413_130811-otph1ugu</code><br/><br/>\n",
       "            "
      ],
      "text/plain": [
       "<IPython.core.display.HTML object>"
      ]
     },
     "metadata": {
      "tags": []
     },
     "output_type": "display_data"
    },
    {
     "name": "stdout",
     "output_type": "stream",
     "text": [
      "Epoch 1/15\n",
      "188/188 [==============================] - 44s 228ms/step - loss: 2.7956 - accuracy: 0.1458 - val_loss: 2.3828 - val_accuracy: 0.2000\n",
      "Epoch 2/15\n",
      "188/188 [==============================] - 43s 227ms/step - loss: 2.3762 - accuracy: 0.2004 - val_loss: 2.2229 - val_accuracy: 0.2150\n",
      "Epoch 3/15\n",
      "188/188 [==============================] - 43s 227ms/step - loss: 2.2569 - accuracy: 0.2354 - val_loss: 2.2423 - val_accuracy: 0.2117\n",
      "Epoch 4/15\n",
      "188/188 [==============================] - 43s 227ms/step - loss: 2.1808 - accuracy: 0.2608 - val_loss: 2.1263 - val_accuracy: 0.2567\n",
      "Epoch 5/15\n",
      "188/188 [==============================] - 43s 227ms/step - loss: 2.1426 - accuracy: 0.2600 - val_loss: 2.1653 - val_accuracy: 0.2367\n",
      "Epoch 6/15\n",
      "188/188 [==============================] - 43s 228ms/step - loss: 2.0587 - accuracy: 0.3047 - val_loss: 2.0601 - val_accuracy: 0.2933\n",
      "Epoch 7/15\n",
      "188/188 [==============================] - 43s 228ms/step - loss: 2.0258 - accuracy: 0.3116 - val_loss: 2.1015 - val_accuracy: 0.3017\n",
      "Epoch 8/15\n",
      "188/188 [==============================] - 43s 227ms/step - loss: 1.9678 - accuracy: 0.3394 - val_loss: 2.1019 - val_accuracy: 0.2517\n",
      "Epoch 9/15\n",
      "188/188 [==============================] - 43s 227ms/step - loss: 1.8985 - accuracy: 0.3490 - val_loss: 1.9274 - val_accuracy: 0.3433\n",
      "Epoch 10/15\n",
      "188/188 [==============================] - 43s 227ms/step - loss: 1.8582 - accuracy: 0.3804 - val_loss: 2.3778 - val_accuracy: 0.2183\n",
      "Epoch 11/15\n",
      "188/188 [==============================] - 43s 227ms/step - loss: 1.8417 - accuracy: 0.3773 - val_loss: 2.0912 - val_accuracy: 0.2833\n",
      "Epoch 12/15\n",
      "188/188 [==============================] - 43s 227ms/step - loss: 1.7844 - accuracy: 0.3972 - val_loss: 2.0180 - val_accuracy: 0.2933\n",
      "Epoch 13/15\n",
      "188/188 [==============================] - 43s 228ms/step - loss: 1.7426 - accuracy: 0.4095 - val_loss: 2.0921 - val_accuracy: 0.2950\n",
      "Epoch 14/15\n",
      "188/188 [==============================] - 43s 227ms/step - loss: 1.7045 - accuracy: 0.4210 - val_loss: 1.9407 - val_accuracy: 0.3367\n",
      "Epoch 15/15\n",
      "188/188 [==============================] - 43s 228ms/step - loss: 1.6765 - accuracy: 0.4416 - val_loss: 2.1542 - val_accuracy: 0.2867\n"
     ]
    },
    {
     "data": {
      "text/html": [
       "<br/>Waiting for W&B process to finish, PID 3209<br/>Program ended successfully."
      ],
      "text/plain": [
       "<IPython.core.display.HTML object>"
      ]
     },
     "metadata": {
      "tags": []
     },
     "output_type": "display_data"
    },
    {
     "data": {
      "application/vnd.jupyter.widget-view+json": {
       "model_id": "f24e4f5034b940de923db2b047df8f74",
       "version_major": 2,
       "version_minor": 0
      },
      "text/plain": [
       "VBox(children=(Label(value=' 0.00MB of 0.00MB uploaded (0.00MB deduped)\\r'), FloatProgress(value=1.0, max=1.0)…"
      ]
     },
     "metadata": {
      "tags": []
     },
     "output_type": "display_data"
    },
    {
     "data": {
      "text/html": [
       "Find user logs for this run at: <code>/content/wandb/run-20210413_130811-otph1ugu/logs/debug.log</code>"
      ],
      "text/plain": [
       "<IPython.core.display.HTML object>"
      ]
     },
     "metadata": {
      "tags": []
     },
     "output_type": "display_data"
    },
    {
     "data": {
      "text/html": [
       "Find internal logs for this run at: <code>/content/wandb/run-20210413_130811-otph1ugu/logs/debug-internal.log</code>"
      ],
      "text/plain": [
       "<IPython.core.display.HTML object>"
      ]
     },
     "metadata": {
      "tags": []
     },
     "output_type": "display_data"
    },
    {
     "data": {
      "text/html": [
       "<h3>Run summary:</h3><br/><style>\n",
       "    table.wandb td:nth-child(1) { padding: 0 10px; text-align: right }\n",
       "    </style><table class=\"wandb\">\n",
       "<tr><td>val_loss</td><td>2.15417</td></tr><tr><td>val_accuracy</td><td>0.28667</td></tr><tr><td>loss</td><td>1.68373</td></tr><tr><td>accuracy</td><td>0.43367</td></tr><tr><td>epoch</td><td>14</td></tr><tr><td>_runtime</td><td>646</td></tr><tr><td>_timestamp</td><td>1618319937</td></tr><tr><td>_step</td><td>14</td></tr></table>"
      ],
      "text/plain": [
       "<IPython.core.display.HTML object>"
      ]
     },
     "metadata": {
      "tags": []
     },
     "output_type": "display_data"
    },
    {
     "data": {
      "text/html": [
       "<h3>Run history:</h3><br/><style>\n",
       "    table.wandb td:nth-child(1) { padding: 0 10px; text-align: right }\n",
       "    </style><table class=\"wandb\">\n",
       "<tr><td>val_loss</td><td>█▆▆▄▅▃▄▄▁█▄▂▄▁▄</td></tr><tr><td>val_accuracy</td><td>▁▂▂▄▃▆▆▄█▂▅▆▆█▅</td></tr><tr><td>loss</td><td>█▆▅▅▄▄▃▃▃▃▂▂▂▁▁</td></tr><tr><td>accuracy</td><td>▁▂▃▃▄▄▅▅▆▆▇▇▇██</td></tr><tr><td>epoch</td><td>▁▁▂▃▃▃▄▅▅▅▆▇▇▇█</td></tr><tr><td>_runtime</td><td>▁▁▁▁▁▁▁▁▁▁▁▁▁▁▁</td></tr><tr><td>_timestamp</td><td>▁▁▁▁▁▁▁▁▁▁▁▁▁▁▁</td></tr><tr><td>_step</td><td>▁▁▂▃▃▃▄▅▅▅▆▇▇▇█</td></tr></table><br/>"
      ],
      "text/plain": [
       "<IPython.core.display.HTML object>"
      ]
     },
     "metadata": {
      "tags": []
     },
     "output_type": "display_data"
    },
    {
     "data": {
      "text/html": [
       "Synced 5 W&B file(s), 0 media file(s), 0 artifact file(s) and 0 other file(s)"
      ],
      "text/plain": [
       "<IPython.core.display.HTML object>"
      ]
     },
     "metadata": {
      "tags": []
     },
     "output_type": "display_data"
    },
    {
     "data": {
      "text/html": [
       "\n",
       "                    <br/>Synced <strong style=\"color:#cdcd00\">rosy-sweep-14</strong>: <a href=\"https://wandb.ai/dl_45_47/Convolution_Neural_Network_modules/runs/otph1ugu\" target=\"_blank\">https://wandb.ai/dl_45_47/Convolution_Neural_Network_modules/runs/otph1ugu</a><br/>\n",
       "                "
      ],
      "text/plain": [
       "<IPython.core.display.HTML object>"
      ]
     },
     "metadata": {
      "tags": []
     },
     "output_type": "display_data"
    },
    {
     "name": "stderr",
     "output_type": "stream",
     "text": [
      "\u001b[34m\u001b[1mwandb\u001b[0m: Agent Starting Run: txk8l3do with config:\n",
      "\u001b[34m\u001b[1mwandb\u001b[0m: \tBatch_normalization: True\n",
      "\u001b[34m\u001b[1mwandb\u001b[0m: \tbatch_size: 64\n",
      "\u001b[34m\u001b[1mwandb\u001b[0m: \tdata_augmentation: True\n",
      "\u001b[34m\u001b[1mwandb\u001b[0m: \tdropout: 0.2\n",
      "\u001b[34m\u001b[1mwandb\u001b[0m: \tepochs: 5\n",
      "\u001b[34m\u001b[1mwandb\u001b[0m: \tfilter_organisation: 0.5\n",
      "\u001b[34m\u001b[1mwandb\u001b[0m: \tkernel_size: 5\n",
      "\u001b[34m\u001b[1mwandb\u001b[0m: \tneurons_in_denseLyr: 32\n",
      "\u001b[34m\u001b[1mwandb\u001b[0m: \tno_of_layers: 4\n",
      "\u001b[34m\u001b[1mwandb\u001b[0m: \tnumber_of_filters: 32\n",
      "\u001b[34m\u001b[1mwandb\u001b[0m: \tweight_decay: 0.1\n"
     ]
    },
    {
     "data": {
      "text/html": [
       "\n",
       "                Tracking run with wandb version 0.10.25<br/>\n",
       "                Syncing run <strong style=\"color:#cdcd00\">rare-sweep-15</strong> to <a href=\"https://wandb.ai\" target=\"_blank\">Weights & Biases</a> <a href=\"https://docs.wandb.com/integrations/jupyter.html\" target=\"_blank\">(Documentation)</a>.<br/>\n",
       "                Project page: <a href=\"https://wandb.ai/dl_45_47/Convolution_Neural_Network_modules\" target=\"_blank\">https://wandb.ai/dl_45_47/Convolution_Neural_Network_modules</a><br/>\n",
       "                Sweep page: <a href=\"https://wandb.ai/dl_45_47/Convolution_Neural_Network_modules/sweeps/c0ebc10x\" target=\"_blank\">https://wandb.ai/dl_45_47/Convolution_Neural_Network_modules/sweeps/c0ebc10x</a><br/>\n",
       "Run page: <a href=\"https://wandb.ai/dl_45_47/Convolution_Neural_Network_modules/runs/txk8l3do\" target=\"_blank\">https://wandb.ai/dl_45_47/Convolution_Neural_Network_modules/runs/txk8l3do</a><br/>\n",
       "                Run data is saved locally in <code>/content/wandb/run-20210413_131905-txk8l3do</code><br/><br/>\n",
       "            "
      ],
      "text/plain": [
       "<IPython.core.display.HTML object>"
      ]
     },
     "metadata": {
      "tags": []
     },
     "output_type": "display_data"
    },
    {
     "name": "stdout",
     "output_type": "stream",
     "text": [
      "Epoch 1/5\n",
      "94/94 [==============================] - 19s 181ms/step - loss: 17.5851 - accuracy: 0.1565 - val_loss: 4.3717 - val_accuracy: 0.1183\n",
      "Epoch 2/5\n",
      "94/94 [==============================] - 16s 166ms/step - loss: 3.9069 - accuracy: 0.2281 - val_loss: 3.5295 - val_accuracy: 0.1167\n",
      "Epoch 3/5\n",
      "94/94 [==============================] - 16s 166ms/step - loss: 3.1345 - accuracy: 0.2568 - val_loss: 3.0543 - val_accuracy: 0.1217\n",
      "Epoch 4/5\n",
      "94/94 [==============================] - 16s 165ms/step - loss: 2.7711 - accuracy: 0.2594 - val_loss: 2.6416 - val_accuracy: 0.2400\n",
      "Epoch 5/5\n",
      "94/94 [==============================] - 16s 166ms/step - loss: 2.5896 - accuracy: 0.2698 - val_loss: 2.6974 - val_accuracy: 0.1550\n"
     ]
    },
    {
     "data": {
      "text/html": [
       "<br/>Waiting for W&B process to finish, PID 3305<br/>Program ended successfully."
      ],
      "text/plain": [
       "<IPython.core.display.HTML object>"
      ]
     },
     "metadata": {
      "tags": []
     },
     "output_type": "display_data"
    },
    {
     "data": {
      "application/vnd.jupyter.widget-view+json": {
       "model_id": "ba68a9ea078a442aacac2f29a4c2a333",
       "version_major": 2,
       "version_minor": 0
      },
      "text/plain": [
       "VBox(children=(Label(value=' 0.00MB of 0.00MB uploaded (0.00MB deduped)\\r'), FloatProgress(value=1.0, max=1.0)…"
      ]
     },
     "metadata": {
      "tags": []
     },
     "output_type": "display_data"
    },
    {
     "data": {
      "text/html": [
       "Find user logs for this run at: <code>/content/wandb/run-20210413_131905-txk8l3do/logs/debug.log</code>"
      ],
      "text/plain": [
       "<IPython.core.display.HTML object>"
      ]
     },
     "metadata": {
      "tags": []
     },
     "output_type": "display_data"
    },
    {
     "data": {
      "text/html": [
       "Find internal logs for this run at: <code>/content/wandb/run-20210413_131905-txk8l3do/logs/debug-internal.log</code>"
      ],
      "text/plain": [
       "<IPython.core.display.HTML object>"
      ]
     },
     "metadata": {
      "tags": []
     },
     "output_type": "display_data"
    },
    {
     "data": {
      "text/html": [
       "<h3>Run summary:</h3><br/><style>\n",
       "    table.wandb td:nth-child(1) { padding: 0 10px; text-align: right }\n",
       "    </style><table class=\"wandb\">\n",
       "<tr><td>val_loss</td><td>2.69742</td></tr><tr><td>val_accuracy</td><td>0.155</td></tr><tr><td>loss</td><td>2.60015</td></tr><tr><td>accuracy</td><td>0.264</td></tr><tr><td>epoch</td><td>4</td></tr><tr><td>_runtime</td><td>84</td></tr><tr><td>_timestamp</td><td>1618320029</td></tr><tr><td>_step</td><td>4</td></tr></table>"
      ],
      "text/plain": [
       "<IPython.core.display.HTML object>"
      ]
     },
     "metadata": {
      "tags": []
     },
     "output_type": "display_data"
    },
    {
     "data": {
      "text/html": [
       "<h3>Run history:</h3><br/><style>\n",
       "    table.wandb td:nth-child(1) { padding: 0 10px; text-align: right }\n",
       "    </style><table class=\"wandb\">\n",
       "<tr><td>val_loss</td><td>█▅▃▁▁</td></tr><tr><td>val_accuracy</td><td>▁▁▁█▃</td></tr><tr><td>loss</td><td>█▂▁▁▁</td></tr><tr><td>accuracy</td><td>▁▅███</td></tr><tr><td>epoch</td><td>▁▃▅▆█</td></tr><tr><td>_runtime</td><td>▁▁▁▁▁</td></tr><tr><td>_timestamp</td><td>▁▁▁▁▁</td></tr><tr><td>_step</td><td>▁▃▅▆█</td></tr></table><br/>"
      ],
      "text/plain": [
       "<IPython.core.display.HTML object>"
      ]
     },
     "metadata": {
      "tags": []
     },
     "output_type": "display_data"
    },
    {
     "data": {
      "text/html": [
       "Synced 5 W&B file(s), 0 media file(s), 0 artifact file(s) and 0 other file(s)"
      ],
      "text/plain": [
       "<IPython.core.display.HTML object>"
      ]
     },
     "metadata": {
      "tags": []
     },
     "output_type": "display_data"
    },
    {
     "data": {
      "text/html": [
       "\n",
       "                    <br/>Synced <strong style=\"color:#cdcd00\">rare-sweep-15</strong>: <a href=\"https://wandb.ai/dl_45_47/Convolution_Neural_Network_modules/runs/txk8l3do\" target=\"_blank\">https://wandb.ai/dl_45_47/Convolution_Neural_Network_modules/runs/txk8l3do</a><br/>\n",
       "                "
      ],
      "text/plain": [
       "<IPython.core.display.HTML object>"
      ]
     },
     "metadata": {
      "tags": []
     },
     "output_type": "display_data"
    },
    {
     "name": "stderr",
     "output_type": "stream",
     "text": [
      "\u001b[34m\u001b[1mwandb\u001b[0m: Agent Starting Run: fay3eii6 with config:\n",
      "\u001b[34m\u001b[1mwandb\u001b[0m: \tBatch_normalization: False\n",
      "\u001b[34m\u001b[1mwandb\u001b[0m: \tbatch_size: 32\n",
      "\u001b[34m\u001b[1mwandb\u001b[0m: \tdata_augmentation: True\n",
      "\u001b[34m\u001b[1mwandb\u001b[0m: \tdropout: 0.3\n",
      "\u001b[34m\u001b[1mwandb\u001b[0m: \tepochs: 15\n",
      "\u001b[34m\u001b[1mwandb\u001b[0m: \tfilter_organisation: 2\n",
      "\u001b[34m\u001b[1mwandb\u001b[0m: \tkernel_size: 5\n",
      "\u001b[34m\u001b[1mwandb\u001b[0m: \tneurons_in_denseLyr: 64\n",
      "\u001b[34m\u001b[1mwandb\u001b[0m: \tno_of_layers: 4\n",
      "\u001b[34m\u001b[1mwandb\u001b[0m: \tnumber_of_filters: 64\n",
      "\u001b[34m\u001b[1mwandb\u001b[0m: \tweight_decay: 0.001\n"
     ]
    },
    {
     "data": {
      "text/html": [
       "\n",
       "                Tracking run with wandb version 0.10.25<br/>\n",
       "                Syncing run <strong style=\"color:#cdcd00\">rich-sweep-16</strong> to <a href=\"https://wandb.ai\" target=\"_blank\">Weights & Biases</a> <a href=\"https://docs.wandb.com/integrations/jupyter.html\" target=\"_blank\">(Documentation)</a>.<br/>\n",
       "                Project page: <a href=\"https://wandb.ai/dl_45_47/Convolution_Neural_Network_modules\" target=\"_blank\">https://wandb.ai/dl_45_47/Convolution_Neural_Network_modules</a><br/>\n",
       "                Sweep page: <a href=\"https://wandb.ai/dl_45_47/Convolution_Neural_Network_modules/sweeps/c0ebc10x\" target=\"_blank\">https://wandb.ai/dl_45_47/Convolution_Neural_Network_modules/sweeps/c0ebc10x</a><br/>\n",
       "Run page: <a href=\"https://wandb.ai/dl_45_47/Convolution_Neural_Network_modules/runs/fay3eii6\" target=\"_blank\">https://wandb.ai/dl_45_47/Convolution_Neural_Network_modules/runs/fay3eii6</a><br/>\n",
       "                Run data is saved locally in <code>/content/wandb/run-20210413_132040-fay3eii6</code><br/><br/>\n",
       "            "
      ],
      "text/plain": [
       "<IPython.core.display.HTML object>"
      ]
     },
     "metadata": {
      "tags": []
     },
     "output_type": "display_data"
    },
    {
     "name": "stdout",
     "output_type": "stream",
     "text": [
      "Epoch 1/15\n",
      "188/188 [==============================] - 45s 221ms/step - loss: 40.9155 - accuracy: 0.0999 - val_loss: 2.6326 - val_accuracy: 0.1000\n",
      "Epoch 2/15\n",
      "188/188 [==============================] - 38s 203ms/step - loss: 2.6284 - accuracy: 0.0882 - val_loss: 2.6154 - val_accuracy: 0.1017\n",
      "Epoch 3/15\n",
      "188/188 [==============================] - 38s 202ms/step - loss: 2.6131 - accuracy: 0.0973 - val_loss: 2.5989 - val_accuracy: 0.1000\n",
      "Epoch 4/15\n",
      "188/188 [==============================] - 38s 202ms/step - loss: 2.5946 - accuracy: 0.0955 - val_loss: 2.5828 - val_accuracy: 0.1000\n",
      "Epoch 5/15\n",
      "188/188 [==============================] - 38s 203ms/step - loss: 2.5778 - accuracy: 0.1009 - val_loss: 2.5667 - val_accuracy: 0.1000\n",
      "Epoch 6/15\n",
      "188/188 [==============================] - 38s 202ms/step - loss: 2.5629 - accuracy: 0.1041 - val_loss: 2.5535 - val_accuracy: 0.1000\n",
      "Epoch 7/15\n",
      "188/188 [==============================] - 38s 202ms/step - loss: 2.5499 - accuracy: 0.0975 - val_loss: 2.5399 - val_accuracy: 0.0983\n",
      "Epoch 8/15\n",
      "188/188 [==============================] - 38s 201ms/step - loss: 2.5397 - accuracy: 0.1088 - val_loss: 2.5275 - val_accuracy: 0.1000\n",
      "Epoch 9/15\n",
      "188/188 [==============================] - 38s 202ms/step - loss: 2.5233 - accuracy: 0.1059 - val_loss: 2.5153 - val_accuracy: 0.1000\n",
      "Epoch 10/15\n",
      "188/188 [==============================] - 38s 202ms/step - loss: 2.5104 - accuracy: 0.0991 - val_loss: 2.5077 - val_accuracy: 0.1000\n",
      "Epoch 11/15\n",
      "188/188 [==============================] - 38s 202ms/step - loss: 2.4924 - accuracy: 0.0992 - val_loss: 2.4955 - val_accuracy: 0.1000\n",
      "Epoch 12/15\n",
      "188/188 [==============================] - 38s 202ms/step - loss: 2.4854 - accuracy: 0.1068 - val_loss: 2.4899 - val_accuracy: 0.1017\n",
      "Epoch 13/15\n",
      "188/188 [==============================] - 38s 201ms/step - loss: 2.4746 - accuracy: 0.1011 - val_loss: 2.4918 - val_accuracy: 0.1017\n",
      "Epoch 14/15\n",
      "188/188 [==============================] - 38s 202ms/step - loss: 2.4631 - accuracy: 0.1024 - val_loss: 2.4732 - val_accuracy: 0.1017\n",
      "Epoch 15/15\n",
      "188/188 [==============================] - 38s 201ms/step - loss: 2.4471 - accuracy: 0.1024 - val_loss: 2.4789 - val_accuracy: 0.1050\n"
     ]
    },
    {
     "data": {
      "text/html": [
       "<br/>Waiting for W&B process to finish, PID 3355<br/>Program ended successfully."
      ],
      "text/plain": [
       "<IPython.core.display.HTML object>"
      ]
     },
     "metadata": {
      "tags": []
     },
     "output_type": "display_data"
    },
    {
     "data": {
      "application/vnd.jupyter.widget-view+json": {
       "model_id": "4f86a9c64a644944abc687ee31c5614d",
       "version_major": 2,
       "version_minor": 0
      },
      "text/plain": [
       "VBox(children=(Label(value=' 0.00MB of 0.00MB uploaded (0.00MB deduped)\\r'), FloatProgress(value=1.0, max=1.0)…"
      ]
     },
     "metadata": {
      "tags": []
     },
     "output_type": "display_data"
    },
    {
     "data": {
      "text/html": [
       "Find user logs for this run at: <code>/content/wandb/run-20210413_132040-fay3eii6/logs/debug.log</code>"
      ],
      "text/plain": [
       "<IPython.core.display.HTML object>"
      ]
     },
     "metadata": {
      "tags": []
     },
     "output_type": "display_data"
    },
    {
     "data": {
      "text/html": [
       "Find internal logs for this run at: <code>/content/wandb/run-20210413_132040-fay3eii6/logs/debug-internal.log</code>"
      ],
      "text/plain": [
       "<IPython.core.display.HTML object>"
      ]
     },
     "metadata": {
      "tags": []
     },
     "output_type": "display_data"
    },
    {
     "data": {
      "text/html": [
       "<h3>Run summary:</h3><br/><style>\n",
       "    table.wandb td:nth-child(1) { padding: 0 10px; text-align: right }\n",
       "    </style><table class=\"wandb\">\n",
       "<tr><td>val_loss</td><td>2.47889</td></tr><tr><td>val_accuracy</td><td>0.105</td></tr><tr><td>loss</td><td>2.44757</td></tr><tr><td>accuracy</td><td>0.10033</td></tr><tr><td>epoch</td><td>14</td></tr><tr><td>_runtime</td><td>579</td></tr><tr><td>_timestamp</td><td>1618320619</td></tr><tr><td>_step</td><td>14</td></tr></table>"
      ],
      "text/plain": [
       "<IPython.core.display.HTML object>"
      ]
     },
     "metadata": {
      "tags": []
     },
     "output_type": "display_data"
    },
    {
     "data": {
      "text/html": [
       "<h3>Run history:</h3><br/><style>\n",
       "    table.wandb td:nth-child(1) { padding: 0 10px; text-align: right }\n",
       "    </style><table class=\"wandb\">\n",
       "<tr><td>val_loss</td><td>█▇▇▆▅▅▄▃▃▃▂▂▂▁▁</td></tr><tr><td>val_accuracy</td><td>▃▅▃▃▃▃▁▃▃▃▃▅▅▅█</td></tr><tr><td>loss</td><td>█▁▁▁▁▁▁▁▁▁▁▁▁▁▁</td></tr><tr><td>accuracy</td><td>▅▁▂▄▄█▄█▇▄▄▇▆▇▆</td></tr><tr><td>epoch</td><td>▁▁▂▃▃▃▄▅▅▅▆▇▇▇█</td></tr><tr><td>_runtime</td><td>▁▁▁▁▁▁▁▁▁▁▁▁▁▁▁</td></tr><tr><td>_timestamp</td><td>▁▁▁▁▁▁▁▁▁▁▁▁▁▁▁</td></tr><tr><td>_step</td><td>▁▁▂▃▃▃▄▅▅▅▆▇▇▇█</td></tr></table><br/>"
      ],
      "text/plain": [
       "<IPython.core.display.HTML object>"
      ]
     },
     "metadata": {
      "tags": []
     },
     "output_type": "display_data"
    },
    {
     "data": {
      "text/html": [
       "Synced 5 W&B file(s), 0 media file(s), 0 artifact file(s) and 0 other file(s)"
      ],
      "text/plain": [
       "<IPython.core.display.HTML object>"
      ]
     },
     "metadata": {
      "tags": []
     },
     "output_type": "display_data"
    },
    {
     "data": {
      "text/html": [
       "\n",
       "                    <br/>Synced <strong style=\"color:#cdcd00\">rich-sweep-16</strong>: <a href=\"https://wandb.ai/dl_45_47/Convolution_Neural_Network_modules/runs/fay3eii6\" target=\"_blank\">https://wandb.ai/dl_45_47/Convolution_Neural_Network_modules/runs/fay3eii6</a><br/>\n",
       "                "
      ],
      "text/plain": [
       "<IPython.core.display.HTML object>"
      ]
     },
     "metadata": {
      "tags": []
     },
     "output_type": "display_data"
    },
    {
     "name": "stderr",
     "output_type": "stream",
     "text": [
      "\u001b[34m\u001b[1mwandb\u001b[0m: Agent Starting Run: qegd8dj9 with config:\n",
      "\u001b[34m\u001b[1mwandb\u001b[0m: \tBatch_normalization: True\n",
      "\u001b[34m\u001b[1mwandb\u001b[0m: \tbatch_size: 16\n",
      "\u001b[34m\u001b[1mwandb\u001b[0m: \tdata_augmentation: False\n",
      "\u001b[34m\u001b[1mwandb\u001b[0m: \tdropout: 0.2\n",
      "\u001b[34m\u001b[1mwandb\u001b[0m: \tepochs: 20\n",
      "\u001b[34m\u001b[1mwandb\u001b[0m: \tfilter_organisation: 2\n",
      "\u001b[34m\u001b[1mwandb\u001b[0m: \tkernel_size: 3\n",
      "\u001b[34m\u001b[1mwandb\u001b[0m: \tneurons_in_denseLyr: 64\n",
      "\u001b[34m\u001b[1mwandb\u001b[0m: \tno_of_layers: 7\n",
      "\u001b[34m\u001b[1mwandb\u001b[0m: \tnumber_of_filters: 64\n",
      "\u001b[34m\u001b[1mwandb\u001b[0m: \tweight_decay: 0.1\n"
     ]
    },
    {
     "data": {
      "text/html": [
       "\n",
       "                Tracking run with wandb version 0.10.25<br/>\n",
       "                Syncing run <strong style=\"color:#cdcd00\">pleasant-sweep-17</strong> to <a href=\"https://wandb.ai\" target=\"_blank\">Weights & Biases</a> <a href=\"https://docs.wandb.com/integrations/jupyter.html\" target=\"_blank\">(Documentation)</a>.<br/>\n",
       "                Project page: <a href=\"https://wandb.ai/dl_45_47/Convolution_Neural_Network_modules\" target=\"_blank\">https://wandb.ai/dl_45_47/Convolution_Neural_Network_modules</a><br/>\n",
       "                Sweep page: <a href=\"https://wandb.ai/dl_45_47/Convolution_Neural_Network_modules/sweeps/c0ebc10x\" target=\"_blank\">https://wandb.ai/dl_45_47/Convolution_Neural_Network_modules/sweeps/c0ebc10x</a><br/>\n",
       "Run page: <a href=\"https://wandb.ai/dl_45_47/Convolution_Neural_Network_modules/runs/qegd8dj9\" target=\"_blank\">https://wandb.ai/dl_45_47/Convolution_Neural_Network_modules/runs/qegd8dj9</a><br/>\n",
       "                Run data is saved locally in <code>/content/wandb/run-20210413_133028-qegd8dj9</code><br/><br/>\n",
       "            "
      ],
      "text/plain": [
       "<IPython.core.display.HTML object>"
      ]
     },
     "metadata": {
      "tags": []
     },
     "output_type": "display_data"
    },
    {
     "name": "stdout",
     "output_type": "stream",
     "text": [
      "Epoch 1/20\n",
      "375/375 [==============================] - 46s 118ms/step - loss: 8.9964 - accuracy: 0.1434 - val_loss: 3.1297 - val_accuracy: 0.1567\n",
      "Epoch 2/20\n",
      "375/375 [==============================] - 44s 117ms/step - loss: 2.6858 - accuracy: 0.2331 - val_loss: 2.2916 - val_accuracy: 0.2200\n",
      "Epoch 3/20\n",
      "375/375 [==============================] - 44s 117ms/step - loss: 2.1856 - accuracy: 0.2478 - val_loss: 2.1965 - val_accuracy: 0.2367\n",
      "Epoch 4/20\n",
      "375/375 [==============================] - 44s 117ms/step - loss: 2.1536 - accuracy: 0.2596 - val_loss: 2.1659 - val_accuracy: 0.2500\n",
      "Epoch 5/20\n",
      "375/375 [==============================] - 44s 116ms/step - loss: 2.1091 - accuracy: 0.2731 - val_loss: 2.1398 - val_accuracy: 0.2350\n",
      "Epoch 6/20\n",
      "375/375 [==============================] - 44s 116ms/step - loss: 2.0785 - accuracy: 0.2936 - val_loss: 2.1290 - val_accuracy: 0.2983\n",
      "Epoch 7/20\n",
      "375/375 [==============================] - 44s 117ms/step - loss: 2.0714 - accuracy: 0.3078 - val_loss: 2.2155 - val_accuracy: 0.2133\n",
      "Epoch 8/20\n",
      "375/375 [==============================] - 44s 117ms/step - loss: 2.0480 - accuracy: 0.3206 - val_loss: 2.0771 - val_accuracy: 0.2867\n",
      "Epoch 9/20\n",
      "375/375 [==============================] - 44s 116ms/step - loss: 2.0332 - accuracy: 0.3146 - val_loss: 2.1198 - val_accuracy: 0.2900\n",
      "Epoch 10/20\n",
      "375/375 [==============================] - 44s 116ms/step - loss: 2.0088 - accuracy: 0.3213 - val_loss: 2.1353 - val_accuracy: 0.2783\n",
      "Epoch 11/20\n",
      "375/375 [==============================] - 44s 116ms/step - loss: 1.9983 - accuracy: 0.3312 - val_loss: 2.0573 - val_accuracy: 0.2967\n",
      "Epoch 12/20\n",
      "375/375 [==============================] - 44s 117ms/step - loss: 1.9608 - accuracy: 0.3531 - val_loss: 2.1915 - val_accuracy: 0.2650\n",
      "Epoch 13/20\n",
      "375/375 [==============================] - 44s 117ms/step - loss: 1.9351 - accuracy: 0.3607 - val_loss: 2.0434 - val_accuracy: 0.3183\n",
      "Epoch 14/20\n",
      "375/375 [==============================] - 44s 117ms/step - loss: 1.9166 - accuracy: 0.3756 - val_loss: 2.0812 - val_accuracy: 0.3133\n",
      "Epoch 15/20\n",
      "375/375 [==============================] - 44s 117ms/step - loss: 1.8896 - accuracy: 0.3827 - val_loss: 1.9682 - val_accuracy: 0.3550\n",
      "Epoch 16/20\n",
      "375/375 [==============================] - 44s 117ms/step - loss: 1.8457 - accuracy: 0.4065 - val_loss: 2.0532 - val_accuracy: 0.3133\n",
      "Epoch 17/20\n",
      "375/375 [==============================] - 44s 117ms/step - loss: 1.8047 - accuracy: 0.4182 - val_loss: 2.0585 - val_accuracy: 0.3183\n",
      "Epoch 18/20\n",
      "375/375 [==============================] - 44s 117ms/step - loss: 1.7561 - accuracy: 0.4381 - val_loss: 2.1240 - val_accuracy: 0.3117\n",
      "Epoch 19/20\n",
      "375/375 [==============================] - 44s 117ms/step - loss: 1.7180 - accuracy: 0.4538 - val_loss: 2.3469 - val_accuracy: 0.2567\n",
      "Epoch 20/20\n",
      "375/375 [==============================] - 44s 117ms/step - loss: 1.6692 - accuracy: 0.4769 - val_loss: 1.9849 - val_accuracy: 0.3500\n"
     ]
    },
    {
     "data": {
      "text/html": [
       "<br/>Waiting for W&B process to finish, PID 3435<br/>Program ended successfully."
      ],
      "text/plain": [
       "<IPython.core.display.HTML object>"
      ]
     },
     "metadata": {
      "tags": []
     },
     "output_type": "display_data"
    },
    {
     "data": {
      "application/vnd.jupyter.widget-view+json": {
       "model_id": "1ab1ada715a84a41b5bf8449464092e9",
       "version_major": 2,
       "version_minor": 0
      },
      "text/plain": [
       "VBox(children=(Label(value=' 0.00MB of 0.00MB uploaded (0.00MB deduped)\\r'), FloatProgress(value=1.0, max=1.0)…"
      ]
     },
     "metadata": {
      "tags": []
     },
     "output_type": "display_data"
    },
    {
     "data": {
      "text/html": [
       "Find user logs for this run at: <code>/content/wandb/run-20210413_133028-qegd8dj9/logs/debug.log</code>"
      ],
      "text/plain": [
       "<IPython.core.display.HTML object>"
      ]
     },
     "metadata": {
      "tags": []
     },
     "output_type": "display_data"
    },
    {
     "data": {
      "text/html": [
       "Find internal logs for this run at: <code>/content/wandb/run-20210413_133028-qegd8dj9/logs/debug-internal.log</code>"
      ],
      "text/plain": [
       "<IPython.core.display.HTML object>"
      ]
     },
     "metadata": {
      "tags": []
     },
     "output_type": "display_data"
    },
    {
     "data": {
      "text/html": [
       "<h3>Run summary:</h3><br/><style>\n",
       "    table.wandb td:nth-child(1) { padding: 0 10px; text-align: right }\n",
       "    </style><table class=\"wandb\">\n",
       "<tr><td>val_loss</td><td>1.98487</td></tr><tr><td>val_accuracy</td><td>0.35</td></tr><tr><td>loss</td><td>1.69454</td></tr><tr><td>accuracy</td><td>0.46283</td></tr><tr><td>epoch</td><td>19</td></tr><tr><td>_runtime</td><td>879</td></tr><tr><td>_timestamp</td><td>1618321507</td></tr><tr><td>_step</td><td>19</td></tr></table>"
      ],
      "text/plain": [
       "<IPython.core.display.HTML object>"
      ]
     },
     "metadata": {
      "tags": []
     },
     "output_type": "display_data"
    },
    {
     "data": {
      "text/html": [
       "<h3>Run history:</h3><br/><style>\n",
       "    table.wandb td:nth-child(1) { padding: 0 10px; text-align: right }\n",
       "    </style><table class=\"wandb\">\n",
       "<tr><td>val_loss</td><td>█▃▂▂▂▂▂▂▂▂▂▂▁▂▁▂▂▂▃▁</td></tr><tr><td>val_accuracy</td><td>▁▃▄▄▄▆▃▆▆▅▆▅▇▇█▇▇▆▅█</td></tr><tr><td>loss</td><td>█▂▂▂▂▂▂▂▂▁▁▁▁▁▁▁▁▁▁▁</td></tr><tr><td>accuracy</td><td>▁▃▃▃▄▄▄▄▅▅▅▅▆▆▆▇▇▇██</td></tr><tr><td>epoch</td><td>▁▁▂▂▂▃▃▄▄▄▅▅▅▆▆▇▇▇██</td></tr><tr><td>_runtime</td><td>▁▁▁▁▁▁▁▁▁▁▁▁▁▁▁▁▁▁▁▁</td></tr><tr><td>_timestamp</td><td>▁▁▁▁▁▁▁▁▁▁▁▁▁▁▁▁▁▁▁▁</td></tr><tr><td>_step</td><td>▁▁▂▂▂▃▃▄▄▄▅▅▅▆▆▇▇▇██</td></tr></table><br/>"
      ],
      "text/plain": [
       "<IPython.core.display.HTML object>"
      ]
     },
     "metadata": {
      "tags": []
     },
     "output_type": "display_data"
    },
    {
     "data": {
      "text/html": [
       "Synced 5 W&B file(s), 0 media file(s), 0 artifact file(s) and 0 other file(s)"
      ],
      "text/plain": [
       "<IPython.core.display.HTML object>"
      ]
     },
     "metadata": {
      "tags": []
     },
     "output_type": "display_data"
    },
    {
     "data": {
      "text/html": [
       "\n",
       "                    <br/>Synced <strong style=\"color:#cdcd00\">pleasant-sweep-17</strong>: <a href=\"https://wandb.ai/dl_45_47/Convolution_Neural_Network_modules/runs/qegd8dj9\" target=\"_blank\">https://wandb.ai/dl_45_47/Convolution_Neural_Network_modules/runs/qegd8dj9</a><br/>\n",
       "                "
      ],
      "text/plain": [
       "<IPython.core.display.HTML object>"
      ]
     },
     "metadata": {
      "tags": []
     },
     "output_type": "display_data"
    },
    {
     "name": "stderr",
     "output_type": "stream",
     "text": [
      "\u001b[34m\u001b[1mwandb\u001b[0m: Agent Starting Run: i942yoxl with config:\n",
      "\u001b[34m\u001b[1mwandb\u001b[0m: \tBatch_normalization: True\n",
      "\u001b[34m\u001b[1mwandb\u001b[0m: \tbatch_size: 32\n",
      "\u001b[34m\u001b[1mwandb\u001b[0m: \tdata_augmentation: False\n",
      "\u001b[34m\u001b[1mwandb\u001b[0m: \tdropout: 0.3\n",
      "\u001b[34m\u001b[1mwandb\u001b[0m: \tepochs: 5\n",
      "\u001b[34m\u001b[1mwandb\u001b[0m: \tfilter_organisation: 1\n",
      "\u001b[34m\u001b[1mwandb\u001b[0m: \tkernel_size: 3\n",
      "\u001b[34m\u001b[1mwandb\u001b[0m: \tneurons_in_denseLyr: 256\n",
      "\u001b[34m\u001b[1mwandb\u001b[0m: \tno_of_layers: 6\n",
      "\u001b[34m\u001b[1mwandb\u001b[0m: \tnumber_of_filters: 64\n",
      "\u001b[34m\u001b[1mwandb\u001b[0m: \tweight_decay: 0.1\n"
     ]
    },
    {
     "data": {
      "text/html": [
       "\n",
       "                Tracking run with wandb version 0.10.25<br/>\n",
       "                Syncing run <strong style=\"color:#cdcd00\">treasured-sweep-18</strong> to <a href=\"https://wandb.ai\" target=\"_blank\">Weights & Biases</a> <a href=\"https://docs.wandb.com/integrations/jupyter.html\" target=\"_blank\">(Documentation)</a>.<br/>\n",
       "                Project page: <a href=\"https://wandb.ai/dl_45_47/Convolution_Neural_Network_modules\" target=\"_blank\">https://wandb.ai/dl_45_47/Convolution_Neural_Network_modules</a><br/>\n",
       "                Sweep page: <a href=\"https://wandb.ai/dl_45_47/Convolution_Neural_Network_modules/sweeps/c0ebc10x\" target=\"_blank\">https://wandb.ai/dl_45_47/Convolution_Neural_Network_modules/sweeps/c0ebc10x</a><br/>\n",
       "Run page: <a href=\"https://wandb.ai/dl_45_47/Convolution_Neural_Network_modules/runs/i942yoxl\" target=\"_blank\">https://wandb.ai/dl_45_47/Convolution_Neural_Network_modules/runs/i942yoxl</a><br/>\n",
       "                Run data is saved locally in <code>/content/wandb/run-20210413_134516-i942yoxl</code><br/><br/>\n",
       "            "
      ],
      "text/plain": [
       "<IPython.core.display.HTML object>"
      ]
     },
     "metadata": {
      "tags": []
     },
     "output_type": "display_data"
    },
    {
     "name": "stdout",
     "output_type": "stream",
     "text": [
      "Epoch 1/5\n",
      "188/188 [==============================] - 32s 157ms/step - loss: 16.9478 - accuracy: 0.1494 - val_loss: 4.0141 - val_accuracy: 0.1567\n",
      "Epoch 2/5\n",
      "188/188 [==============================] - 29s 156ms/step - loss: 3.3639 - accuracy: 0.2248 - val_loss: 2.6893 - val_accuracy: 0.1700\n",
      "Epoch 3/5\n",
      "188/188 [==============================] - 29s 155ms/step - loss: 2.4783 - accuracy: 0.2656 - val_loss: 2.6173 - val_accuracy: 0.1433\n",
      "Epoch 4/5\n",
      "188/188 [==============================] - 29s 155ms/step - loss: 2.3265 - accuracy: 0.2721 - val_loss: 2.3794 - val_accuracy: 0.2183\n",
      "Epoch 5/5\n",
      "188/188 [==============================] - 29s 156ms/step - loss: 2.2754 - accuracy: 0.2883 - val_loss: 2.3914 - val_accuracy: 0.2350\n"
     ]
    },
    {
     "data": {
      "text/html": [
       "<br/>Waiting for W&B process to finish, PID 3532<br/>Program ended successfully."
      ],
      "text/plain": [
       "<IPython.core.display.HTML object>"
      ]
     },
     "metadata": {
      "tags": []
     },
     "output_type": "display_data"
    },
    {
     "data": {
      "application/vnd.jupyter.widget-view+json": {
       "model_id": "0783c980f3c449db80fcf0bbf4981e87",
       "version_major": 2,
       "version_minor": 0
      },
      "text/plain": [
       "VBox(children=(Label(value=' 0.00MB of 0.00MB uploaded (0.00MB deduped)\\r'), FloatProgress(value=1.0, max=1.0)…"
      ]
     },
     "metadata": {
      "tags": []
     },
     "output_type": "display_data"
    },
    {
     "data": {
      "text/html": [
       "Find user logs for this run at: <code>/content/wandb/run-20210413_134516-i942yoxl/logs/debug.log</code>"
      ],
      "text/plain": [
       "<IPython.core.display.HTML object>"
      ]
     },
     "metadata": {
      "tags": []
     },
     "output_type": "display_data"
    },
    {
     "data": {
      "text/html": [
       "Find internal logs for this run at: <code>/content/wandb/run-20210413_134516-i942yoxl/logs/debug-internal.log</code>"
      ],
      "text/plain": [
       "<IPython.core.display.HTML object>"
      ]
     },
     "metadata": {
      "tags": []
     },
     "output_type": "display_data"
    },
    {
     "data": {
      "text/html": [
       "<h3>Run summary:</h3><br/><style>\n",
       "    table.wandb td:nth-child(1) { padding: 0 10px; text-align: right }\n",
       "    </style><table class=\"wandb\">\n",
       "<tr><td>val_loss</td><td>2.39141</td></tr><tr><td>val_accuracy</td><td>0.235</td></tr><tr><td>loss</td><td>2.27731</td></tr><tr><td>accuracy</td><td>0.28317</td></tr><tr><td>epoch</td><td>4</td></tr><tr><td>_runtime</td><td>151</td></tr><tr><td>_timestamp</td><td>1618321667</td></tr><tr><td>_step</td><td>4</td></tr></table>"
      ],
      "text/plain": [
       "<IPython.core.display.HTML object>"
      ]
     },
     "metadata": {
      "tags": []
     },
     "output_type": "display_data"
    },
    {
     "data": {
      "text/html": [
       "<h3>Run history:</h3><br/><style>\n",
       "    table.wandb td:nth-child(1) { padding: 0 10px; text-align: right }\n",
       "    </style><table class=\"wandb\">\n",
       "<tr><td>val_loss</td><td>█▂▂▁▁</td></tr><tr><td>val_accuracy</td><td>▂▃▁▇█</td></tr><tr><td>loss</td><td>█▂▁▁▁</td></tr><tr><td>accuracy</td><td>▁▅▇██</td></tr><tr><td>epoch</td><td>▁▃▅▆█</td></tr><tr><td>_runtime</td><td>▁▁▁▁▁</td></tr><tr><td>_timestamp</td><td>▁▁▁▁▁</td></tr><tr><td>_step</td><td>▁▃▅▆█</td></tr></table><br/>"
      ],
      "text/plain": [
       "<IPython.core.display.HTML object>"
      ]
     },
     "metadata": {
      "tags": []
     },
     "output_type": "display_data"
    },
    {
     "data": {
      "text/html": [
       "Synced 5 W&B file(s), 0 media file(s), 0 artifact file(s) and 0 other file(s)"
      ],
      "text/plain": [
       "<IPython.core.display.HTML object>"
      ]
     },
     "metadata": {
      "tags": []
     },
     "output_type": "display_data"
    },
    {
     "data": {
      "text/html": [
       "\n",
       "                    <br/>Synced <strong style=\"color:#cdcd00\">treasured-sweep-18</strong>: <a href=\"https://wandb.ai/dl_45_47/Convolution_Neural_Network_modules/runs/i942yoxl\" target=\"_blank\">https://wandb.ai/dl_45_47/Convolution_Neural_Network_modules/runs/i942yoxl</a><br/>\n",
       "                "
      ],
      "text/plain": [
       "<IPython.core.display.HTML object>"
      ]
     },
     "metadata": {
      "tags": []
     },
     "output_type": "display_data"
    },
    {
     "name": "stderr",
     "output_type": "stream",
     "text": [
      "\u001b[34m\u001b[1mwandb\u001b[0m: Agent Starting Run: l4a79fgt with config:\n",
      "\u001b[34m\u001b[1mwandb\u001b[0m: \tBatch_normalization: True\n",
      "\u001b[34m\u001b[1mwandb\u001b[0m: \tbatch_size: 16\n",
      "\u001b[34m\u001b[1mwandb\u001b[0m: \tdata_augmentation: True\n",
      "\u001b[34m\u001b[1mwandb\u001b[0m: \tdropout: 0.3\n",
      "\u001b[34m\u001b[1mwandb\u001b[0m: \tepochs: 5\n",
      "\u001b[34m\u001b[1mwandb\u001b[0m: \tfilter_organisation: 2\n",
      "\u001b[34m\u001b[1mwandb\u001b[0m: \tkernel_size: 5\n",
      "\u001b[34m\u001b[1mwandb\u001b[0m: \tneurons_in_denseLyr: 64\n",
      "\u001b[34m\u001b[1mwandb\u001b[0m: \tno_of_layers: 4\n",
      "\u001b[34m\u001b[1mwandb\u001b[0m: \tnumber_of_filters: 16\n",
      "\u001b[34m\u001b[1mwandb\u001b[0m: \tweight_decay: 0.001\n"
     ]
    },
    {
     "data": {
      "text/html": [
       "\n",
       "                Tracking run with wandb version 0.10.25<br/>\n",
       "                Syncing run <strong style=\"color:#cdcd00\">feasible-sweep-19</strong> to <a href=\"https://wandb.ai\" target=\"_blank\">Weights & Biases</a> <a href=\"https://docs.wandb.com/integrations/jupyter.html\" target=\"_blank\">(Documentation)</a>.<br/>\n",
       "                Project page: <a href=\"https://wandb.ai/dl_45_47/Convolution_Neural_Network_modules\" target=\"_blank\">https://wandb.ai/dl_45_47/Convolution_Neural_Network_modules</a><br/>\n",
       "                Sweep page: <a href=\"https://wandb.ai/dl_45_47/Convolution_Neural_Network_modules/sweeps/c0ebc10x\" target=\"_blank\">https://wandb.ai/dl_45_47/Convolution_Neural_Network_modules/sweeps/c0ebc10x</a><br/>\n",
       "Run page: <a href=\"https://wandb.ai/dl_45_47/Convolution_Neural_Network_modules/runs/l4a79fgt\" target=\"_blank\">https://wandb.ai/dl_45_47/Convolution_Neural_Network_modules/runs/l4a79fgt</a><br/>\n",
       "                Run data is saved locally in <code>/content/wandb/run-20210413_134756-l4a79fgt</code><br/><br/>\n",
       "            "
      ],
      "text/plain": [
       "<IPython.core.display.HTML object>"
      ]
     },
     "metadata": {
      "tags": []
     },
     "output_type": "display_data"
    },
    {
     "name": "stdout",
     "output_type": "stream",
     "text": [
      "Epoch 1/5\n",
      "375/375 [==============================] - 21s 54ms/step - loss: 3.3055 - accuracy: 0.1392 - val_loss: 3.0676 - val_accuracy: 0.1250\n",
      "Epoch 2/5\n",
      "375/375 [==============================] - 20s 53ms/step - loss: 2.8211 - accuracy: 0.2215 - val_loss: 2.7061 - val_accuracy: 0.2117\n",
      "Epoch 3/5\n",
      "375/375 [==============================] - 20s 53ms/step - loss: 2.6393 - accuracy: 0.2581 - val_loss: 2.6256 - val_accuracy: 0.2333\n",
      "Epoch 4/5\n",
      "375/375 [==============================] - 20s 53ms/step - loss: 2.5323 - accuracy: 0.2881 - val_loss: 2.7748 - val_accuracy: 0.2133\n",
      "Epoch 5/5\n",
      "375/375 [==============================] - 20s 53ms/step - loss: 2.5044 - accuracy: 0.3135 - val_loss: 2.6990 - val_accuracy: 0.2267\n"
     ]
    },
    {
     "data": {
      "text/html": [
       "<br/>Waiting for W&B process to finish, PID 3582<br/>Program ended successfully."
      ],
      "text/plain": [
       "<IPython.core.display.HTML object>"
      ]
     },
     "metadata": {
      "tags": []
     },
     "output_type": "display_data"
    },
    {
     "data": {
      "application/vnd.jupyter.widget-view+json": {
       "model_id": "6548fd2011ba45c78675689cb3c1869b",
       "version_major": 2,
       "version_minor": 0
      },
      "text/plain": [
       "VBox(children=(Label(value=' 0.00MB of 0.00MB uploaded (0.00MB deduped)\\r'), FloatProgress(value=1.0, max=1.0)…"
      ]
     },
     "metadata": {
      "tags": []
     },
     "output_type": "display_data"
    },
    {
     "data": {
      "text/html": [
       "Find user logs for this run at: <code>/content/wandb/run-20210413_134756-l4a79fgt/logs/debug.log</code>"
      ],
      "text/plain": [
       "<IPython.core.display.HTML object>"
      ]
     },
     "metadata": {
      "tags": []
     },
     "output_type": "display_data"
    },
    {
     "data": {
      "text/html": [
       "Find internal logs for this run at: <code>/content/wandb/run-20210413_134756-l4a79fgt/logs/debug-internal.log</code>"
      ],
      "text/plain": [
       "<IPython.core.display.HTML object>"
      ]
     },
     "metadata": {
      "tags": []
     },
     "output_type": "display_data"
    },
    {
     "data": {
      "text/html": [
       "<h3>Run summary:</h3><br/><style>\n",
       "    table.wandb td:nth-child(1) { padding: 0 10px; text-align: right }\n",
       "    </style><table class=\"wandb\">\n",
       "<tr><td>val_loss</td><td>2.69901</td></tr><tr><td>val_accuracy</td><td>0.22667</td></tr><tr><td>loss</td><td>2.55677</td></tr><tr><td>accuracy</td><td>0.30317</td></tr><tr><td>epoch</td><td>4</td></tr><tr><td>_runtime</td><td>103</td></tr><tr><td>_timestamp</td><td>1618321779</td></tr><tr><td>_step</td><td>4</td></tr></table>"
      ],
      "text/plain": [
       "<IPython.core.display.HTML object>"
      ]
     },
     "metadata": {
      "tags": []
     },
     "output_type": "display_data"
    },
    {
     "data": {
      "text/html": [
       "<h3>Run history:</h3><br/><style>\n",
       "    table.wandb td:nth-child(1) { padding: 0 10px; text-align: right }\n",
       "    </style><table class=\"wandb\">\n",
       "<tr><td>val_loss</td><td>█▂▁▃▂</td></tr><tr><td>val_accuracy</td><td>▁▇█▇█</td></tr><tr><td>loss</td><td>█▄▂▁▁</td></tr><tr><td>accuracy</td><td>▁▄▆▇█</td></tr><tr><td>epoch</td><td>▁▃▅▆█</td></tr><tr><td>_runtime</td><td>▁▁▁▁▁</td></tr><tr><td>_timestamp</td><td>▁▁▁▁▁</td></tr><tr><td>_step</td><td>▁▃▅▆█</td></tr></table><br/>"
      ],
      "text/plain": [
       "<IPython.core.display.HTML object>"
      ]
     },
     "metadata": {
      "tags": []
     },
     "output_type": "display_data"
    },
    {
     "data": {
      "text/html": [
       "Synced 5 W&B file(s), 0 media file(s), 0 artifact file(s) and 0 other file(s)"
      ],
      "text/plain": [
       "<IPython.core.display.HTML object>"
      ]
     },
     "metadata": {
      "tags": []
     },
     "output_type": "display_data"
    },
    {
     "data": {
      "text/html": [
       "\n",
       "                    <br/>Synced <strong style=\"color:#cdcd00\">feasible-sweep-19</strong>: <a href=\"https://wandb.ai/dl_45_47/Convolution_Neural_Network_modules/runs/l4a79fgt\" target=\"_blank\">https://wandb.ai/dl_45_47/Convolution_Neural_Network_modules/runs/l4a79fgt</a><br/>\n",
       "                "
      ],
      "text/plain": [
       "<IPython.core.display.HTML object>"
      ]
     },
     "metadata": {
      "tags": []
     },
     "output_type": "display_data"
    },
    {
     "name": "stderr",
     "output_type": "stream",
     "text": [
      "\u001b[34m\u001b[1mwandb\u001b[0m: Agent Starting Run: gxuve8ss with config:\n",
      "\u001b[34m\u001b[1mwandb\u001b[0m: \tBatch_normalization: True\n",
      "\u001b[34m\u001b[1mwandb\u001b[0m: \tbatch_size: 64\n",
      "\u001b[34m\u001b[1mwandb\u001b[0m: \tdata_augmentation: True\n",
      "\u001b[34m\u001b[1mwandb\u001b[0m: \tdropout: 0.3\n",
      "\u001b[34m\u001b[1mwandb\u001b[0m: \tepochs: 10\n",
      "\u001b[34m\u001b[1mwandb\u001b[0m: \tfilter_organisation: 0.5\n",
      "\u001b[34m\u001b[1mwandb\u001b[0m: \tkernel_size: 7\n",
      "\u001b[34m\u001b[1mwandb\u001b[0m: \tneurons_in_denseLyr: 64\n",
      "\u001b[34m\u001b[1mwandb\u001b[0m: \tno_of_layers: 7\n",
      "\u001b[34m\u001b[1mwandb\u001b[0m: \tnumber_of_filters: 32\n",
      "\u001b[34m\u001b[1mwandb\u001b[0m: \tweight_decay: 0.001\n"
     ]
    },
    {
     "data": {
      "text/html": [
       "\n",
       "                Tracking run with wandb version 0.10.25<br/>\n",
       "                Syncing run <strong style=\"color:#cdcd00\">glorious-sweep-20</strong> to <a href=\"https://wandb.ai\" target=\"_blank\">Weights & Biases</a> <a href=\"https://docs.wandb.com/integrations/jupyter.html\" target=\"_blank\">(Documentation)</a>.<br/>\n",
       "                Project page: <a href=\"https://wandb.ai/dl_45_47/Convolution_Neural_Network_modules\" target=\"_blank\">https://wandb.ai/dl_45_47/Convolution_Neural_Network_modules</a><br/>\n",
       "                Sweep page: <a href=\"https://wandb.ai/dl_45_47/Convolution_Neural_Network_modules/sweeps/c0ebc10x\" target=\"_blank\">https://wandb.ai/dl_45_47/Convolution_Neural_Network_modules/sweeps/c0ebc10x</a><br/>\n",
       "Run page: <a href=\"https://wandb.ai/dl_45_47/Convolution_Neural_Network_modules/runs/gxuve8ss\" target=\"_blank\">https://wandb.ai/dl_45_47/Convolution_Neural_Network_modules/runs/gxuve8ss</a><br/>\n",
       "                Run data is saved locally in <code>/content/wandb/run-20210413_134948-gxuve8ss</code><br/><br/>\n",
       "            "
      ],
      "text/plain": [
       "<IPython.core.display.HTML object>"
      ]
     },
     "metadata": {
      "tags": []
     },
     "output_type": "display_data"
    },
    {
     "data": {
      "text/html": [
       "<br/>Waiting for W&B process to finish, PID 3632<br/>Program failed with code 1.  Press ctrl-c to abort syncing."
      ],
      "text/plain": [
       "<IPython.core.display.HTML object>"
      ]
     },
     "metadata": {
      "tags": []
     },
     "output_type": "display_data"
    },
    {
     "data": {
      "application/vnd.jupyter.widget-view+json": {
       "model_id": "b62dc919052d4cee81f8325eec8ddab2",
       "version_major": 2,
       "version_minor": 0
      },
      "text/plain": [
       "VBox(children=(Label(value=' 0.00MB of 0.00MB uploaded (0.00MB deduped)\\r'), FloatProgress(value=1.0, max=1.0)…"
      ]
     },
     "metadata": {
      "tags": []
     },
     "output_type": "display_data"
    },
    {
     "data": {
      "text/html": [
       "Find user logs for this run at: <code>/content/wandb/run-20210413_134948-gxuve8ss/logs/debug.log</code>"
      ],
      "text/plain": [
       "<IPython.core.display.HTML object>"
      ]
     },
     "metadata": {
      "tags": []
     },
     "output_type": "display_data"
    },
    {
     "data": {
      "text/html": [
       "Find internal logs for this run at: <code>/content/wandb/run-20210413_134948-gxuve8ss/logs/debug-internal.log</code>"
      ],
      "text/plain": [
       "<IPython.core.display.HTML object>"
      ]
     },
     "metadata": {
      "tags": []
     },
     "output_type": "display_data"
    },
    {
     "data": {
      "text/html": [
       "Synced 4 W&B file(s), 0 media file(s), 0 artifact file(s) and 0 other file(s)"
      ],
      "text/plain": [
       "<IPython.core.display.HTML object>"
      ]
     },
     "metadata": {
      "tags": []
     },
     "output_type": "display_data"
    },
    {
     "data": {
      "text/html": [
       "\n",
       "                    <br/>Synced <strong style=\"color:#cdcd00\">glorious-sweep-20</strong>: <a href=\"https://wandb.ai/dl_45_47/Convolution_Neural_Network_modules/runs/gxuve8ss\" target=\"_blank\">https://wandb.ai/dl_45_47/Convolution_Neural_Network_modules/runs/gxuve8ss</a><br/>\n",
       "                "
      ],
      "text/plain": [
       "<IPython.core.display.HTML object>"
      ]
     },
     "metadata": {
      "tags": []
     },
     "output_type": "display_data"
    },
    {
     "name": "stderr",
     "output_type": "stream",
     "text": [
      "\u001b[34m\u001b[1mwandb\u001b[0m: \u001b[32m\u001b[41mERROR\u001b[0m Run gxuve8ss errored: ValueError('Negative dimension size caused by subtracting 7 from 6 for \\'{{node conv2d_5/Conv2D}} = Conv2D[T=DT_FLOAT, data_format=\"NHWC\", dilations=[1, 1, 1, 1], explicit_paddings=[], padding=\"VALID\", strides=[1, 1, 1, 1], use_cudnn_on_gpu=true](Placeholder, conv2d_5/Conv2D/ReadVariableOp)\\' with input shapes: [?,6,6,16], [7,7,16,8].')\n",
      "\u001b[34m\u001b[1mwandb\u001b[0m: Agent Starting Run: y17m7ldi with config:\n",
      "\u001b[34m\u001b[1mwandb\u001b[0m: \tBatch_normalization: False\n",
      "\u001b[34m\u001b[1mwandb\u001b[0m: \tbatch_size: 16\n",
      "\u001b[34m\u001b[1mwandb\u001b[0m: \tdata_augmentation: False\n",
      "\u001b[34m\u001b[1mwandb\u001b[0m: \tdropout: 0.2\n",
      "\u001b[34m\u001b[1mwandb\u001b[0m: \tepochs: 15\n",
      "\u001b[34m\u001b[1mwandb\u001b[0m: \tfilter_organisation: 1\n",
      "\u001b[34m\u001b[1mwandb\u001b[0m: \tkernel_size: 7\n",
      "\u001b[34m\u001b[1mwandb\u001b[0m: \tneurons_in_denseLyr: 32\n",
      "\u001b[34m\u001b[1mwandb\u001b[0m: \tno_of_layers: 7\n",
      "\u001b[34m\u001b[1mwandb\u001b[0m: \tnumber_of_filters: 64\n",
      "\u001b[34m\u001b[1mwandb\u001b[0m: \tweight_decay: 0.01\n"
     ]
    },
    {
     "data": {
      "text/html": [
       "\n",
       "                Tracking run with wandb version 0.10.25<br/>\n",
       "                Syncing run <strong style=\"color:#cdcd00\">zany-sweep-21</strong> to <a href=\"https://wandb.ai\" target=\"_blank\">Weights & Biases</a> <a href=\"https://docs.wandb.com/integrations/jupyter.html\" target=\"_blank\">(Documentation)</a>.<br/>\n",
       "                Project page: <a href=\"https://wandb.ai/dl_45_47/Convolution_Neural_Network_modules\" target=\"_blank\">https://wandb.ai/dl_45_47/Convolution_Neural_Network_modules</a><br/>\n",
       "                Sweep page: <a href=\"https://wandb.ai/dl_45_47/Convolution_Neural_Network_modules/sweeps/c0ebc10x\" target=\"_blank\">https://wandb.ai/dl_45_47/Convolution_Neural_Network_modules/sweeps/c0ebc10x</a><br/>\n",
       "Run page: <a href=\"https://wandb.ai/dl_45_47/Convolution_Neural_Network_modules/runs/y17m7ldi\" target=\"_blank\">https://wandb.ai/dl_45_47/Convolution_Neural_Network_modules/runs/y17m7ldi</a><br/>\n",
       "                Run data is saved locally in <code>/content/wandb/run-20210413_134959-y17m7ldi</code><br/><br/>\n",
       "            "
      ],
      "text/plain": [
       "<IPython.core.display.HTML object>"
      ]
     },
     "metadata": {
      "tags": []
     },
     "output_type": "display_data"
    },
    {
     "data": {
      "text/html": [
       "<br/>Waiting for W&B process to finish, PID 3661<br/>Program failed with code 1.  Press ctrl-c to abort syncing."
      ],
      "text/plain": [
       "<IPython.core.display.HTML object>"
      ]
     },
     "metadata": {
      "tags": []
     },
     "output_type": "display_data"
    },
    {
     "data": {
      "application/vnd.jupyter.widget-view+json": {
       "model_id": "1f251c9d031c4f258a6d3f0a90ebb55d",
       "version_major": 2,
       "version_minor": 0
      },
      "text/plain": [
       "VBox(children=(Label(value=' 0.00MB of 0.00MB uploaded (0.00MB deduped)\\r'), FloatProgress(value=1.0, max=1.0)…"
      ]
     },
     "metadata": {
      "tags": []
     },
     "output_type": "display_data"
    },
    {
     "data": {
      "text/html": [
       "Find user logs for this run at: <code>/content/wandb/run-20210413_134959-y17m7ldi/logs/debug.log</code>"
      ],
      "text/plain": [
       "<IPython.core.display.HTML object>"
      ]
     },
     "metadata": {
      "tags": []
     },
     "output_type": "display_data"
    },
    {
     "data": {
      "text/html": [
       "Find internal logs for this run at: <code>/content/wandb/run-20210413_134959-y17m7ldi/logs/debug-internal.log</code>"
      ],
      "text/plain": [
       "<IPython.core.display.HTML object>"
      ]
     },
     "metadata": {
      "tags": []
     },
     "output_type": "display_data"
    },
    {
     "data": {
      "text/html": [
       "Synced 4 W&B file(s), 0 media file(s), 0 artifact file(s) and 0 other file(s)"
      ],
      "text/plain": [
       "<IPython.core.display.HTML object>"
      ]
     },
     "metadata": {
      "tags": []
     },
     "output_type": "display_data"
    },
    {
     "data": {
      "text/html": [
       "\n",
       "                    <br/>Synced <strong style=\"color:#cdcd00\">zany-sweep-21</strong>: <a href=\"https://wandb.ai/dl_45_47/Convolution_Neural_Network_modules/runs/y17m7ldi\" target=\"_blank\">https://wandb.ai/dl_45_47/Convolution_Neural_Network_modules/runs/y17m7ldi</a><br/>\n",
       "                "
      ],
      "text/plain": [
       "<IPython.core.display.HTML object>"
      ]
     },
     "metadata": {
      "tags": []
     },
     "output_type": "display_data"
    },
    {
     "name": "stderr",
     "output_type": "stream",
     "text": [
      "\u001b[34m\u001b[1mwandb\u001b[0m: \u001b[32m\u001b[41mERROR\u001b[0m Run y17m7ldi errored: ValueError('Negative dimension size caused by subtracting 7 from 6 for \\'{{node conv2d_5/Conv2D}} = Conv2D[T=DT_FLOAT, data_format=\"NHWC\", dilations=[1, 1, 1, 1], explicit_paddings=[], padding=\"VALID\", strides=[1, 1, 1, 1], use_cudnn_on_gpu=true](Placeholder, conv2d_5/Conv2D/ReadVariableOp)\\' with input shapes: [?,6,6,64], [7,7,64,64].')\n",
      "\u001b[34m\u001b[1mwandb\u001b[0m: Sweep Agent: Waiting for job.\n",
      "\u001b[34m\u001b[1mwandb\u001b[0m: Job received.\n",
      "\u001b[34m\u001b[1mwandb\u001b[0m: Agent Starting Run: vyewsoo2 with config:\n",
      "\u001b[34m\u001b[1mwandb\u001b[0m: \tBatch_normalization: True\n",
      "\u001b[34m\u001b[1mwandb\u001b[0m: \tbatch_size: 16\n",
      "\u001b[34m\u001b[1mwandb\u001b[0m: \tdata_augmentation: False\n",
      "\u001b[34m\u001b[1mwandb\u001b[0m: \tdropout: 0.2\n",
      "\u001b[34m\u001b[1mwandb\u001b[0m: \tepochs: 15\n",
      "\u001b[34m\u001b[1mwandb\u001b[0m: \tfilter_organisation: 1\n",
      "\u001b[34m\u001b[1mwandb\u001b[0m: \tkernel_size: 5\n",
      "\u001b[34m\u001b[1mwandb\u001b[0m: \tneurons_in_denseLyr: 256\n",
      "\u001b[34m\u001b[1mwandb\u001b[0m: \tno_of_layers: 7\n",
      "\u001b[34m\u001b[1mwandb\u001b[0m: \tnumber_of_filters: 64\n",
      "\u001b[34m\u001b[1mwandb\u001b[0m: \tweight_decay: 0.01\n"
     ]
    },
    {
     "data": {
      "text/html": [
       "\n",
       "                Tracking run with wandb version 0.10.25<br/>\n",
       "                Syncing run <strong style=\"color:#cdcd00\">likely-sweep-22</strong> to <a href=\"https://wandb.ai\" target=\"_blank\">Weights & Biases</a> <a href=\"https://docs.wandb.com/integrations/jupyter.html\" target=\"_blank\">(Documentation)</a>.<br/>\n",
       "                Project page: <a href=\"https://wandb.ai/dl_45_47/Convolution_Neural_Network_modules\" target=\"_blank\">https://wandb.ai/dl_45_47/Convolution_Neural_Network_modules</a><br/>\n",
       "                Sweep page: <a href=\"https://wandb.ai/dl_45_47/Convolution_Neural_Network_modules/sweeps/c0ebc10x\" target=\"_blank\">https://wandb.ai/dl_45_47/Convolution_Neural_Network_modules/sweeps/c0ebc10x</a><br/>\n",
       "Run page: <a href=\"https://wandb.ai/dl_45_47/Convolution_Neural_Network_modules/runs/vyewsoo2\" target=\"_blank\">https://wandb.ai/dl_45_47/Convolution_Neural_Network_modules/runs/vyewsoo2</a><br/>\n",
       "                Run data is saved locally in <code>/content/wandb/run-20210413_135019-vyewsoo2</code><br/><br/>\n",
       "            "
      ],
      "text/plain": [
       "<IPython.core.display.HTML object>"
      ]
     },
     "metadata": {
      "tags": []
     },
     "output_type": "display_data"
    },
    {
     "data": {
      "text/html": [
       "<br/>Waiting for W&B process to finish, PID 3690<br/>Program failed with code 1.  Press ctrl-c to abort syncing."
      ],
      "text/plain": [
       "<IPython.core.display.HTML object>"
      ]
     },
     "metadata": {
      "tags": []
     },
     "output_type": "display_data"
    },
    {
     "data": {
      "application/vnd.jupyter.widget-view+json": {
       "model_id": "6eab36a960e649a381bc65184b8348a6",
       "version_major": 2,
       "version_minor": 0
      },
      "text/plain": [
       "VBox(children=(Label(value=' 0.00MB of 0.00MB uploaded (0.00MB deduped)\\r'), FloatProgress(value=1.0, max=1.0)…"
      ]
     },
     "metadata": {
      "tags": []
     },
     "output_type": "display_data"
    },
    {
     "data": {
      "text/html": [
       "Find user logs for this run at: <code>/content/wandb/run-20210413_135019-vyewsoo2/logs/debug.log</code>"
      ],
      "text/plain": [
       "<IPython.core.display.HTML object>"
      ]
     },
     "metadata": {
      "tags": []
     },
     "output_type": "display_data"
    },
    {
     "data": {
      "text/html": [
       "Find internal logs for this run at: <code>/content/wandb/run-20210413_135019-vyewsoo2/logs/debug-internal.log</code>"
      ],
      "text/plain": [
       "<IPython.core.display.HTML object>"
      ]
     },
     "metadata": {
      "tags": []
     },
     "output_type": "display_data"
    },
    {
     "data": {
      "text/html": [
       "Synced 4 W&B file(s), 0 media file(s), 0 artifact file(s) and 0 other file(s)"
      ],
      "text/plain": [
       "<IPython.core.display.HTML object>"
      ]
     },
     "metadata": {
      "tags": []
     },
     "output_type": "display_data"
    },
    {
     "data": {
      "text/html": [
       "\n",
       "                    <br/>Synced <strong style=\"color:#cdcd00\">likely-sweep-22</strong>: <a href=\"https://wandb.ai/dl_45_47/Convolution_Neural_Network_modules/runs/vyewsoo2\" target=\"_blank\">https://wandb.ai/dl_45_47/Convolution_Neural_Network_modules/runs/vyewsoo2</a><br/>\n",
       "                "
      ],
      "text/plain": [
       "<IPython.core.display.HTML object>"
      ]
     },
     "metadata": {
      "tags": []
     },
     "output_type": "display_data"
    },
    {
     "name": "stderr",
     "output_type": "stream",
     "text": [
      "\u001b[34m\u001b[1mwandb\u001b[0m: \u001b[32m\u001b[41mERROR\u001b[0m Run vyewsoo2 errored: ValueError('Negative dimension size caused by subtracting 5 from 2 for \\'{{node conv2d_6/Conv2D}} = Conv2D[T=DT_FLOAT, data_format=\"NHWC\", dilations=[1, 1, 1, 1], explicit_paddings=[], padding=\"VALID\", strides=[1, 1, 1, 1], use_cudnn_on_gpu=true](Placeholder, conv2d_6/Conv2D/ReadVariableOp)\\' with input shapes: [?,2,2,64], [5,5,64,64].')\n",
      "\u001b[34m\u001b[1mwandb\u001b[0m: Agent Starting Run: gil0c5rd with config:\n",
      "\u001b[34m\u001b[1mwandb\u001b[0m: \tBatch_normalization: True\n",
      "\u001b[34m\u001b[1mwandb\u001b[0m: \tbatch_size: 32\n",
      "\u001b[34m\u001b[1mwandb\u001b[0m: \tdata_augmentation: True\n",
      "\u001b[34m\u001b[1mwandb\u001b[0m: \tdropout: 0.3\n",
      "\u001b[34m\u001b[1mwandb\u001b[0m: \tepochs: 10\n",
      "\u001b[34m\u001b[1mwandb\u001b[0m: \tfilter_organisation: 1\n",
      "\u001b[34m\u001b[1mwandb\u001b[0m: \tkernel_size: 3\n",
      "\u001b[34m\u001b[1mwandb\u001b[0m: \tneurons_in_denseLyr: 256\n",
      "\u001b[34m\u001b[1mwandb\u001b[0m: \tno_of_layers: 5\n",
      "\u001b[34m\u001b[1mwandb\u001b[0m: \tnumber_of_filters: 64\n",
      "\u001b[34m\u001b[1mwandb\u001b[0m: \tweight_decay: 0.001\n"
     ]
    },
    {
     "data": {
      "text/html": [
       "\n",
       "                Tracking run with wandb version 0.10.25<br/>\n",
       "                Syncing run <strong style=\"color:#cdcd00\">feasible-sweep-23</strong> to <a href=\"https://wandb.ai\" target=\"_blank\">Weights & Biases</a> <a href=\"https://docs.wandb.com/integrations/jupyter.html\" target=\"_blank\">(Documentation)</a>.<br/>\n",
       "                Project page: <a href=\"https://wandb.ai/dl_45_47/Convolution_Neural_Network_modules\" target=\"_blank\">https://wandb.ai/dl_45_47/Convolution_Neural_Network_modules</a><br/>\n",
       "                Sweep page: <a href=\"https://wandb.ai/dl_45_47/Convolution_Neural_Network_modules/sweeps/c0ebc10x\" target=\"_blank\">https://wandb.ai/dl_45_47/Convolution_Neural_Network_modules/sweeps/c0ebc10x</a><br/>\n",
       "Run page: <a href=\"https://wandb.ai/dl_45_47/Convolution_Neural_Network_modules/runs/gil0c5rd\" target=\"_blank\">https://wandb.ai/dl_45_47/Convolution_Neural_Network_modules/runs/gil0c5rd</a><br/>\n",
       "                Run data is saved locally in <code>/content/wandb/run-20210413_135034-gil0c5rd</code><br/><br/>\n",
       "            "
      ],
      "text/plain": [
       "<IPython.core.display.HTML object>"
      ]
     },
     "metadata": {
      "tags": []
     },
     "output_type": "display_data"
    },
    {
     "name": "stdout",
     "output_type": "stream",
     "text": [
      "Epoch 1/10\n",
      "188/188 [==============================] - 31s 157ms/step - loss: 3.0359 - accuracy: 0.1539 - val_loss: 3.1045 - val_accuracy: 0.1283\n",
      "Epoch 2/10\n",
      "188/188 [==============================] - 29s 155ms/step - loss: 2.6206 - accuracy: 0.2194 - val_loss: 2.7021 - val_accuracy: 0.1733\n",
      "Epoch 3/10\n",
      "188/188 [==============================] - 29s 155ms/step - loss: 2.5045 - accuracy: 0.2421 - val_loss: 2.6839 - val_accuracy: 0.1833\n",
      "Epoch 4/10\n",
      "188/188 [==============================] - 29s 155ms/step - loss: 2.3225 - accuracy: 0.3092 - val_loss: 2.7167 - val_accuracy: 0.1800\n",
      "Epoch 5/10\n",
      "188/188 [==============================] - 29s 155ms/step - loss: 2.2000 - accuracy: 0.3301 - val_loss: 3.0290 - val_accuracy: 0.1483\n",
      "Epoch 6/10\n",
      "188/188 [==============================] - 29s 155ms/step - loss: 2.1307 - accuracy: 0.3535 - val_loss: 2.7080 - val_accuracy: 0.1850\n",
      "Epoch 7/10\n",
      "188/188 [==============================] - 29s 155ms/step - loss: 2.0902 - accuracy: 0.3802 - val_loss: 2.5812 - val_accuracy: 0.2133\n",
      "Epoch 8/10\n",
      "188/188 [==============================] - 29s 155ms/step - loss: 2.0216 - accuracy: 0.4021 - val_loss: 2.4011 - val_accuracy: 0.2817\n",
      "Epoch 9/10\n",
      "188/188 [==============================] - 29s 155ms/step - loss: 1.9297 - accuracy: 0.4401 - val_loss: 2.4131 - val_accuracy: 0.2850\n",
      "Epoch 10/10\n",
      "188/188 [==============================] - 29s 155ms/step - loss: 1.9104 - accuracy: 0.4672 - val_loss: 2.6470 - val_accuracy: 0.2133\n"
     ]
    },
    {
     "data": {
      "text/html": [
       "<br/>Waiting for W&B process to finish, PID 3719<br/>Program ended successfully."
      ],
      "text/plain": [
       "<IPython.core.display.HTML object>"
      ]
     },
     "metadata": {
      "tags": []
     },
     "output_type": "display_data"
    },
    {
     "data": {
      "application/vnd.jupyter.widget-view+json": {
       "model_id": "34d656262cc340f29ab95a1fba359e84",
       "version_major": 2,
       "version_minor": 0
      },
      "text/plain": [
       "VBox(children=(Label(value=' 0.00MB of 0.00MB uploaded (0.00MB deduped)\\r'), FloatProgress(value=1.0, max=1.0)…"
      ]
     },
     "metadata": {
      "tags": []
     },
     "output_type": "display_data"
    },
    {
     "data": {
      "text/html": [
       "Find user logs for this run at: <code>/content/wandb/run-20210413_135034-gil0c5rd/logs/debug.log</code>"
      ],
      "text/plain": [
       "<IPython.core.display.HTML object>"
      ]
     },
     "metadata": {
      "tags": []
     },
     "output_type": "display_data"
    },
    {
     "data": {
      "text/html": [
       "Find internal logs for this run at: <code>/content/wandb/run-20210413_135034-gil0c5rd/logs/debug-internal.log</code>"
      ],
      "text/plain": [
       "<IPython.core.display.HTML object>"
      ]
     },
     "metadata": {
      "tags": []
     },
     "output_type": "display_data"
    },
    {
     "data": {
      "text/html": [
       "<h3>Run summary:</h3><br/><style>\n",
       "    table.wandb td:nth-child(1) { padding: 0 10px; text-align: right }\n",
       "    </style><table class=\"wandb\">\n",
       "<tr><td>val_loss</td><td>2.64701</td></tr><tr><td>val_accuracy</td><td>0.21333</td></tr><tr><td>loss</td><td>1.95424</td></tr><tr><td>accuracy</td><td>0.44683</td></tr><tr><td>epoch</td><td>9</td></tr><tr><td>_runtime</td><td>295</td></tr><tr><td>_timestamp</td><td>1618322129</td></tr><tr><td>_step</td><td>9</td></tr></table>"
      ],
      "text/plain": [
       "<IPython.core.display.HTML object>"
      ]
     },
     "metadata": {
      "tags": []
     },
     "output_type": "display_data"
    },
    {
     "data": {
      "text/html": [
       "<h3>Run history:</h3><br/><style>\n",
       "    table.wandb td:nth-child(1) { padding: 0 10px; text-align: right }\n",
       "    </style><table class=\"wandb\">\n",
       "<tr><td>val_loss</td><td>█▄▄▄▇▄▃▁▁▃</td></tr><tr><td>val_accuracy</td><td>▁▃▃▃▂▄▅██▅</td></tr><tr><td>loss</td><td>█▆▅▄▃▂▂▂▁▁</td></tr><tr><td>accuracy</td><td>▁▂▃▄▅▆▆▇▇█</td></tr><tr><td>epoch</td><td>▁▂▃▃▄▅▆▆▇█</td></tr><tr><td>_runtime</td><td>▁▁▁▁▁▁▁▁▁▁</td></tr><tr><td>_timestamp</td><td>▁▁▁▁▁▁▁▁▁▁</td></tr><tr><td>_step</td><td>▁▂▃▃▄▅▆▆▇█</td></tr></table><br/>"
      ],
      "text/plain": [
       "<IPython.core.display.HTML object>"
      ]
     },
     "metadata": {
      "tags": []
     },
     "output_type": "display_data"
    },
    {
     "data": {
      "text/html": [
       "Synced 5 W&B file(s), 0 media file(s), 0 artifact file(s) and 0 other file(s)"
      ],
      "text/plain": [
       "<IPython.core.display.HTML object>"
      ]
     },
     "metadata": {
      "tags": []
     },
     "output_type": "display_data"
    },
    {
     "data": {
      "text/html": [
       "\n",
       "                    <br/>Synced <strong style=\"color:#cdcd00\">feasible-sweep-23</strong>: <a href=\"https://wandb.ai/dl_45_47/Convolution_Neural_Network_modules/runs/gil0c5rd\" target=\"_blank\">https://wandb.ai/dl_45_47/Convolution_Neural_Network_modules/runs/gil0c5rd</a><br/>\n",
       "                "
      ],
      "text/plain": [
       "<IPython.core.display.HTML object>"
      ]
     },
     "metadata": {
      "tags": []
     },
     "output_type": "display_data"
    },
    {
     "name": "stderr",
     "output_type": "stream",
     "text": [
      "\u001b[34m\u001b[1mwandb\u001b[0m: Agent Starting Run: neqqtcz4 with config:\n",
      "\u001b[34m\u001b[1mwandb\u001b[0m: \tBatch_normalization: False\n",
      "\u001b[34m\u001b[1mwandb\u001b[0m: \tbatch_size: 64\n",
      "\u001b[34m\u001b[1mwandb\u001b[0m: \tdata_augmentation: True\n",
      "\u001b[34m\u001b[1mwandb\u001b[0m: \tdropout: 0.2\n",
      "\u001b[34m\u001b[1mwandb\u001b[0m: \tepochs: 5\n",
      "\u001b[34m\u001b[1mwandb\u001b[0m: \tfilter_organisation: 0.5\n",
      "\u001b[34m\u001b[1mwandb\u001b[0m: \tkernel_size: 3\n",
      "\u001b[34m\u001b[1mwandb\u001b[0m: \tneurons_in_denseLyr: 128\n",
      "\u001b[34m\u001b[1mwandb\u001b[0m: \tno_of_layers: 7\n",
      "\u001b[34m\u001b[1mwandb\u001b[0m: \tnumber_of_filters: 32\n",
      "\u001b[34m\u001b[1mwandb\u001b[0m: \tweight_decay: 0.01\n"
     ]
    },
    {
     "data": {
      "text/html": [
       "\n",
       "                Tracking run with wandb version 0.10.25<br/>\n",
       "                Syncing run <strong style=\"color:#cdcd00\">zany-sweep-24</strong> to <a href=\"https://wandb.ai\" target=\"_blank\">Weights & Biases</a> <a href=\"https://docs.wandb.com/integrations/jupyter.html\" target=\"_blank\">(Documentation)</a>.<br/>\n",
       "                Project page: <a href=\"https://wandb.ai/dl_45_47/Convolution_Neural_Network_modules\" target=\"_blank\">https://wandb.ai/dl_45_47/Convolution_Neural_Network_modules</a><br/>\n",
       "                Sweep page: <a href=\"https://wandb.ai/dl_45_47/Convolution_Neural_Network_modules/sweeps/c0ebc10x\" target=\"_blank\">https://wandb.ai/dl_45_47/Convolution_Neural_Network_modules/sweeps/c0ebc10x</a><br/>\n",
       "Run page: <a href=\"https://wandb.ai/dl_45_47/Convolution_Neural_Network_modules/runs/neqqtcz4\" target=\"_blank\">https://wandb.ai/dl_45_47/Convolution_Neural_Network_modules/runs/neqqtcz4</a><br/>\n",
       "                Run data is saved locally in <code>/content/wandb/run-20210413_135538-neqqtcz4</code><br/><br/>\n",
       "            "
      ],
      "text/plain": [
       "<IPython.core.display.HTML object>"
      ]
     },
     "metadata": {
      "tags": []
     },
     "output_type": "display_data"
    },
    {
     "name": "stdout",
     "output_type": "stream",
     "text": [
      "Epoch 1/5\n",
      "94/94 [==============================] - 13s 119ms/step - loss: 5.6654 - accuracy: 0.1102 - val_loss: 2.9069 - val_accuracy: 0.1000\n",
      "Epoch 2/5\n",
      "94/94 [==============================] - 10s 109ms/step - loss: 2.8852 - accuracy: 0.0923 - val_loss: 2.8179 - val_accuracy: 0.1000\n",
      "Epoch 3/5\n",
      "94/94 [==============================] - 10s 107ms/step - loss: 2.7980 - accuracy: 0.1127 - val_loss: 2.7429 - val_accuracy: 0.1000\n",
      "Epoch 4/5\n",
      "94/94 [==============================] - 10s 107ms/step - loss: 2.7268 - accuracy: 0.1013 - val_loss: 2.6801 - val_accuracy: 0.1000\n",
      "Epoch 5/5\n",
      "94/94 [==============================] - 10s 107ms/step - loss: 2.6657 - accuracy: 0.1077 - val_loss: 2.6275 - val_accuracy: 0.1017\n"
     ]
    },
    {
     "data": {
      "text/html": [
       "<br/>Waiting for W&B process to finish, PID 3786<br/>Program ended successfully."
      ],
      "text/plain": [
       "<IPython.core.display.HTML object>"
      ]
     },
     "metadata": {
      "tags": []
     },
     "output_type": "display_data"
    },
    {
     "data": {
      "application/vnd.jupyter.widget-view+json": {
       "model_id": "008c05c3563e41598b9005b74cb9e6bd",
       "version_major": 2,
       "version_minor": 0
      },
      "text/plain": [
       "VBox(children=(Label(value=' 0.00MB of 0.00MB uploaded (0.00MB deduped)\\r'), FloatProgress(value=1.0, max=1.0)…"
      ]
     },
     "metadata": {
      "tags": []
     },
     "output_type": "display_data"
    },
    {
     "data": {
      "text/html": [
       "Find user logs for this run at: <code>/content/wandb/run-20210413_135538-neqqtcz4/logs/debug.log</code>"
      ],
      "text/plain": [
       "<IPython.core.display.HTML object>"
      ]
     },
     "metadata": {
      "tags": []
     },
     "output_type": "display_data"
    },
    {
     "data": {
      "text/html": [
       "Find internal logs for this run at: <code>/content/wandb/run-20210413_135538-neqqtcz4/logs/debug-internal.log</code>"
      ],
      "text/plain": [
       "<IPython.core.display.HTML object>"
      ]
     },
     "metadata": {
      "tags": []
     },
     "output_type": "display_data"
    },
    {
     "data": {
      "text/html": [
       "<h3>Run summary:</h3><br/><style>\n",
       "    table.wandb td:nth-child(1) { padding: 0 10px; text-align: right }\n",
       "    </style><table class=\"wandb\">\n",
       "<tr><td>val_loss</td><td>2.62746</td></tr><tr><td>val_accuracy</td><td>0.10167</td></tr><tr><td>loss</td><td>2.65312</td></tr><tr><td>accuracy</td><td>0.10417</td></tr><tr><td>epoch</td><td>4</td></tr><tr><td>_runtime</td><td>57</td></tr><tr><td>_timestamp</td><td>1618322195</td></tr><tr><td>_step</td><td>4</td></tr></table>"
      ],
      "text/plain": [
       "<IPython.core.display.HTML object>"
      ]
     },
     "metadata": {
      "tags": []
     },
     "output_type": "display_data"
    },
    {
     "data": {
      "text/html": [
       "<h3>Run history:</h3><br/><style>\n",
       "    table.wandb td:nth-child(1) { padding: 0 10px; text-align: right }\n",
       "    </style><table class=\"wandb\">\n",
       "<tr><td>val_loss</td><td>█▆▄▂▁</td></tr><tr><td>val_accuracy</td><td>▁▁▁▁█</td></tr><tr><td>loss</td><td>█▃▂▁▁</td></tr><tr><td>accuracy</td><td>█▁▅▅▇</td></tr><tr><td>epoch</td><td>▁▃▅▆█</td></tr><tr><td>_runtime</td><td>▁▁▁▁▁</td></tr><tr><td>_timestamp</td><td>▁▁▁▁▁</td></tr><tr><td>_step</td><td>▁▃▅▆█</td></tr></table><br/>"
      ],
      "text/plain": [
       "<IPython.core.display.HTML object>"
      ]
     },
     "metadata": {
      "tags": []
     },
     "output_type": "display_data"
    },
    {
     "data": {
      "text/html": [
       "Synced 5 W&B file(s), 0 media file(s), 0 artifact file(s) and 0 other file(s)"
      ],
      "text/plain": [
       "<IPython.core.display.HTML object>"
      ]
     },
     "metadata": {
      "tags": []
     },
     "output_type": "display_data"
    },
    {
     "data": {
      "text/html": [
       "\n",
       "                    <br/>Synced <strong style=\"color:#cdcd00\">zany-sweep-24</strong>: <a href=\"https://wandb.ai/dl_45_47/Convolution_Neural_Network_modules/runs/neqqtcz4\" target=\"_blank\">https://wandb.ai/dl_45_47/Convolution_Neural_Network_modules/runs/neqqtcz4</a><br/>\n",
       "                "
      ],
      "text/plain": [
       "<IPython.core.display.HTML object>"
      ]
     },
     "metadata": {
      "tags": []
     },
     "output_type": "display_data"
    },
    {
     "name": "stderr",
     "output_type": "stream",
     "text": [
      "\u001b[34m\u001b[1mwandb\u001b[0m: Agent Starting Run: c6ah0dts with config:\n",
      "\u001b[34m\u001b[1mwandb\u001b[0m: \tBatch_normalization: True\n",
      "\u001b[34m\u001b[1mwandb\u001b[0m: \tbatch_size: 64\n",
      "\u001b[34m\u001b[1mwandb\u001b[0m: \tdata_augmentation: False\n",
      "\u001b[34m\u001b[1mwandb\u001b[0m: \tdropout: 0.2\n",
      "\u001b[34m\u001b[1mwandb\u001b[0m: \tepochs: 10\n",
      "\u001b[34m\u001b[1mwandb\u001b[0m: \tfilter_organisation: 2\n",
      "\u001b[34m\u001b[1mwandb\u001b[0m: \tkernel_size: 3\n",
      "\u001b[34m\u001b[1mwandb\u001b[0m: \tneurons_in_denseLyr: 64\n",
      "\u001b[34m\u001b[1mwandb\u001b[0m: \tno_of_layers: 4\n",
      "\u001b[34m\u001b[1mwandb\u001b[0m: \tnumber_of_filters: 16\n",
      "\u001b[34m\u001b[1mwandb\u001b[0m: \tweight_decay: 0.1\n"
     ]
    },
    {
     "data": {
      "text/html": [
       "\n",
       "                Tracking run with wandb version 0.10.25<br/>\n",
       "                Syncing run <strong style=\"color:#cdcd00\">floral-sweep-25</strong> to <a href=\"https://wandb.ai\" target=\"_blank\">Weights & Biases</a> <a href=\"https://docs.wandb.com/integrations/jupyter.html\" target=\"_blank\">(Documentation)</a>.<br/>\n",
       "                Project page: <a href=\"https://wandb.ai/dl_45_47/Convolution_Neural_Network_modules\" target=\"_blank\">https://wandb.ai/dl_45_47/Convolution_Neural_Network_modules</a><br/>\n",
       "                Sweep page: <a href=\"https://wandb.ai/dl_45_47/Convolution_Neural_Network_modules/sweeps/c0ebc10x\" target=\"_blank\">https://wandb.ai/dl_45_47/Convolution_Neural_Network_modules/sweeps/c0ebc10x</a><br/>\n",
       "Run page: <a href=\"https://wandb.ai/dl_45_47/Convolution_Neural_Network_modules/runs/c6ah0dts\" target=\"_blank\">https://wandb.ai/dl_45_47/Convolution_Neural_Network_modules/runs/c6ah0dts</a><br/>\n",
       "                Run data is saved locally in <code>/content/wandb/run-20210413_135643-c6ah0dts</code><br/><br/>\n",
       "            "
      ],
      "text/plain": [
       "<IPython.core.display.HTML object>"
      ]
     },
     "metadata": {
      "tags": []
     },
     "output_type": "display_data"
    },
    {
     "name": "stdout",
     "output_type": "stream",
     "text": [
      "Epoch 1/10\n",
      "94/94 [==============================] - 14s 143ms/step - loss: 17.9490 - accuracy: 0.1869 - val_loss: 5.4710 - val_accuracy: 0.1850\n",
      "Epoch 2/10\n",
      "94/94 [==============================] - 13s 140ms/step - loss: 4.6524 - accuracy: 0.2482 - val_loss: 3.6843 - val_accuracy: 0.2250\n",
      "Epoch 3/10\n",
      "94/94 [==============================] - 13s 140ms/step - loss: 3.5205 - accuracy: 0.2655 - val_loss: 3.0719 - val_accuracy: 0.2450\n",
      "Epoch 4/10\n",
      "94/94 [==============================] - 13s 141ms/step - loss: 2.9635 - accuracy: 0.2805 - val_loss: 3.0591 - val_accuracy: 0.2100\n",
      "Epoch 5/10\n",
      "94/94 [==============================] - 13s 142ms/step - loss: 2.8562 - accuracy: 0.2686 - val_loss: 2.7830 - val_accuracy: 0.2733\n",
      "Epoch 6/10\n",
      "94/94 [==============================] - 13s 140ms/step - loss: 2.7396 - accuracy: 0.2817 - val_loss: 2.8192 - val_accuracy: 0.2283\n",
      "Epoch 7/10\n",
      "94/94 [==============================] - 13s 141ms/step - loss: 2.7389 - accuracy: 0.2770 - val_loss: 3.0671 - val_accuracy: 0.2433\n",
      "Epoch 8/10\n",
      "94/94 [==============================] - 13s 141ms/step - loss: 2.9062 - accuracy: 0.2710 - val_loss: 3.0019 - val_accuracy: 0.2383\n",
      "Epoch 9/10\n",
      "94/94 [==============================] - 13s 141ms/step - loss: 2.9235 - accuracy: 0.2876 - val_loss: 2.9831 - val_accuracy: 0.2450\n",
      "Epoch 10/10\n",
      "94/94 [==============================] - 13s 140ms/step - loss: 2.9685 - accuracy: 0.2935 - val_loss: 3.0952 - val_accuracy: 0.2400\n"
     ]
    },
    {
     "data": {
      "text/html": [
       "<br/>Waiting for W&B process to finish, PID 3836<br/>Program ended successfully."
      ],
      "text/plain": [
       "<IPython.core.display.HTML object>"
      ]
     },
     "metadata": {
      "tags": []
     },
     "output_type": "display_data"
    },
    {
     "data": {
      "application/vnd.jupyter.widget-view+json": {
       "model_id": "1412a98b1a3c4910a959fd629dd43ec5",
       "version_major": 2,
       "version_minor": 0
      },
      "text/plain": [
       "VBox(children=(Label(value=' 0.00MB of 0.00MB uploaded (0.00MB deduped)\\r'), FloatProgress(value=1.0, max=1.0)…"
      ]
     },
     "metadata": {
      "tags": []
     },
     "output_type": "display_data"
    },
    {
     "data": {
      "text/html": [
       "Find user logs for this run at: <code>/content/wandb/run-20210413_135643-c6ah0dts/logs/debug.log</code>"
      ],
      "text/plain": [
       "<IPython.core.display.HTML object>"
      ]
     },
     "metadata": {
      "tags": []
     },
     "output_type": "display_data"
    },
    {
     "data": {
      "text/html": [
       "Find internal logs for this run at: <code>/content/wandb/run-20210413_135643-c6ah0dts/logs/debug-internal.log</code>"
      ],
      "text/plain": [
       "<IPython.core.display.HTML object>"
      ]
     },
     "metadata": {
      "tags": []
     },
     "output_type": "display_data"
    },
    {
     "data": {
      "text/html": [
       "<h3>Run summary:</h3><br/><style>\n",
       "    table.wandb td:nth-child(1) { padding: 0 10px; text-align: right }\n",
       "    </style><table class=\"wandb\">\n",
       "<tr><td>val_loss</td><td>3.09524</td></tr><tr><td>val_accuracy</td><td>0.24</td></tr><tr><td>loss</td><td>3.03149</td></tr><tr><td>accuracy</td><td>0.289</td></tr><tr><td>epoch</td><td>9</td></tr><tr><td>_runtime</td><td>136</td></tr><tr><td>_timestamp</td><td>1618322339</td></tr><tr><td>_step</td><td>9</td></tr></table>"
      ],
      "text/plain": [
       "<IPython.core.display.HTML object>"
      ]
     },
     "metadata": {
      "tags": []
     },
     "output_type": "display_data"
    },
    {
     "data": {
      "text/html": [
       "<h3>Run history:</h3><br/><style>\n",
       "    table.wandb td:nth-child(1) { padding: 0 10px; text-align: right }\n",
       "    </style><table class=\"wandb\">\n",
       "<tr><td>val_loss</td><td>█▃▂▂▁▁▂▂▂▂</td></tr><tr><td>val_accuracy</td><td>▁▄▆▃█▄▆▅▆▅</td></tr><tr><td>loss</td><td>█▂▁▁▁▁▁▁▁▁</td></tr><tr><td>accuracy</td><td>▁▄▅▇▇▇█▇▇█</td></tr><tr><td>epoch</td><td>▁▂▃▃▄▅▆▆▇█</td></tr><tr><td>_runtime</td><td>▁▁▁▁▁▁▁▁▁▁</td></tr><tr><td>_timestamp</td><td>▁▁▁▁▁▁▁▁▁▁</td></tr><tr><td>_step</td><td>▁▂▃▃▄▅▆▆▇█</td></tr></table><br/>"
      ],
      "text/plain": [
       "<IPython.core.display.HTML object>"
      ]
     },
     "metadata": {
      "tags": []
     },
     "output_type": "display_data"
    },
    {
     "data": {
      "text/html": [
       "Synced 5 W&B file(s), 0 media file(s), 0 artifact file(s) and 0 other file(s)"
      ],
      "text/plain": [
       "<IPython.core.display.HTML object>"
      ]
     },
     "metadata": {
      "tags": []
     },
     "output_type": "display_data"
    },
    {
     "data": {
      "text/html": [
       "\n",
       "                    <br/>Synced <strong style=\"color:#cdcd00\">floral-sweep-25</strong>: <a href=\"https://wandb.ai/dl_45_47/Convolution_Neural_Network_modules/runs/c6ah0dts\" target=\"_blank\">https://wandb.ai/dl_45_47/Convolution_Neural_Network_modules/runs/c6ah0dts</a><br/>\n",
       "                "
      ],
      "text/plain": [
       "<IPython.core.display.HTML object>"
      ]
     },
     "metadata": {
      "tags": []
     },
     "output_type": "display_data"
    },
    {
     "name": "stderr",
     "output_type": "stream",
     "text": [
      "\u001b[34m\u001b[1mwandb\u001b[0m: Agent Starting Run: ecsqsgu4 with config:\n",
      "\u001b[34m\u001b[1mwandb\u001b[0m: \tBatch_normalization: True\n",
      "\u001b[34m\u001b[1mwandb\u001b[0m: \tbatch_size: 32\n",
      "\u001b[34m\u001b[1mwandb\u001b[0m: \tdata_augmentation: False\n",
      "\u001b[34m\u001b[1mwandb\u001b[0m: \tdropout: 0.3\n",
      "\u001b[34m\u001b[1mwandb\u001b[0m: \tepochs: 5\n",
      "\u001b[34m\u001b[1mwandb\u001b[0m: \tfilter_organisation: 2\n",
      "\u001b[34m\u001b[1mwandb\u001b[0m: \tkernel_size: 7\n",
      "\u001b[34m\u001b[1mwandb\u001b[0m: \tneurons_in_denseLyr: 256\n",
      "\u001b[34m\u001b[1mwandb\u001b[0m: \tno_of_layers: 4\n",
      "\u001b[34m\u001b[1mwandb\u001b[0m: \tnumber_of_filters: 64\n",
      "\u001b[34m\u001b[1mwandb\u001b[0m: \tweight_decay: 0.001\n"
     ]
    },
    {
     "data": {
      "text/html": [
       "\n",
       "                Tracking run with wandb version 0.10.25<br/>\n",
       "                Syncing run <strong style=\"color:#cdcd00\">decent-sweep-26</strong> to <a href=\"https://wandb.ai\" target=\"_blank\">Weights & Biases</a> <a href=\"https://docs.wandb.com/integrations/jupyter.html\" target=\"_blank\">(Documentation)</a>.<br/>\n",
       "                Project page: <a href=\"https://wandb.ai/dl_45_47/Convolution_Neural_Network_modules\" target=\"_blank\">https://wandb.ai/dl_45_47/Convolution_Neural_Network_modules</a><br/>\n",
       "                Sweep page: <a href=\"https://wandb.ai/dl_45_47/Convolution_Neural_Network_modules/sweeps/c0ebc10x\" target=\"_blank\">https://wandb.ai/dl_45_47/Convolution_Neural_Network_modules/sweeps/c0ebc10x</a><br/>\n",
       "Run page: <a href=\"https://wandb.ai/dl_45_47/Convolution_Neural_Network_modules/runs/ecsqsgu4\" target=\"_blank\">https://wandb.ai/dl_45_47/Convolution_Neural_Network_modules/runs/ecsqsgu4</a><br/>\n",
       "                Run data is saved locally in <code>/content/wandb/run-20210413_135911-ecsqsgu4</code><br/><br/>\n",
       "            "
      ],
      "text/plain": [
       "<IPython.core.display.HTML object>"
      ]
     },
     "metadata": {
      "tags": []
     },
     "output_type": "display_data"
    },
    {
     "name": "stdout",
     "output_type": "stream",
     "text": [
      "Epoch 1/5\n",
      "188/188 [==============================] - 92s 466ms/step - loss: 3.1306 - accuracy: 0.1299 - val_loss: 2.8379 - val_accuracy: 0.1883\n",
      "Epoch 2/5\n",
      "188/188 [==============================] - 84s 447ms/step - loss: 2.6803 - accuracy: 0.2049 - val_loss: 3.1913 - val_accuracy: 0.1300\n",
      "Epoch 3/5\n",
      "188/188 [==============================] - 84s 447ms/step - loss: 2.5090 - accuracy: 0.2514 - val_loss: 3.4893 - val_accuracy: 0.1600\n",
      "Epoch 4/5\n",
      "188/188 [==============================] - 84s 447ms/step - loss: 2.3477 - accuracy: 0.2899 - val_loss: 2.4475 - val_accuracy: 0.2600\n",
      "Epoch 5/5\n",
      "188/188 [==============================] - 84s 447ms/step - loss: 2.2612 - accuracy: 0.3217 - val_loss: 2.3285 - val_accuracy: 0.2617\n"
     ]
    },
    {
     "data": {
      "text/html": [
       "<br/>Waiting for W&B process to finish, PID 3901<br/>Program ended successfully."
      ],
      "text/plain": [
       "<IPython.core.display.HTML object>"
      ]
     },
     "metadata": {
      "tags": []
     },
     "output_type": "display_data"
    },
    {
     "data": {
      "application/vnd.jupyter.widget-view+json": {
       "model_id": "e992eaac14bd4662bb454cf1f5d68d34",
       "version_major": 2,
       "version_minor": 0
      },
      "text/plain": [
       "VBox(children=(Label(value=' 0.00MB of 0.00MB uploaded (0.00MB deduped)\\r'), FloatProgress(value=1.0, max=1.0)…"
      ]
     },
     "metadata": {
      "tags": []
     },
     "output_type": "display_data"
    },
    {
     "data": {
      "text/html": [
       "Find user logs for this run at: <code>/content/wandb/run-20210413_135911-ecsqsgu4/logs/debug.log</code>"
      ],
      "text/plain": [
       "<IPython.core.display.HTML object>"
      ]
     },
     "metadata": {
      "tags": []
     },
     "output_type": "display_data"
    },
    {
     "data": {
      "text/html": [
       "Find internal logs for this run at: <code>/content/wandb/run-20210413_135911-ecsqsgu4/logs/debug-internal.log</code>"
      ],
      "text/plain": [
       "<IPython.core.display.HTML object>"
      ]
     },
     "metadata": {
      "tags": []
     },
     "output_type": "display_data"
    },
    {
     "data": {
      "text/html": [
       "<h3>Run summary:</h3><br/><style>\n",
       "    table.wandb td:nth-child(1) { padding: 0 10px; text-align: right }\n",
       "    </style><table class=\"wandb\">\n",
       "<tr><td>val_loss</td><td>2.32845</td></tr><tr><td>val_accuracy</td><td>0.26167</td></tr><tr><td>loss</td><td>2.29868</td></tr><tr><td>accuracy</td><td>0.3055</td></tr><tr><td>epoch</td><td>4</td></tr><tr><td>_runtime</td><td>431</td></tr><tr><td>_timestamp</td><td>1618322782</td></tr><tr><td>_step</td><td>4</td></tr></table>"
      ],
      "text/plain": [
       "<IPython.core.display.HTML object>"
      ]
     },
     "metadata": {
      "tags": []
     },
     "output_type": "display_data"
    },
    {
     "data": {
      "text/html": [
       "<h3>Run history:</h3><br/><style>\n",
       "    table.wandb td:nth-child(1) { padding: 0 10px; text-align: right }\n",
       "    </style><table class=\"wandb\">\n",
       "<tr><td>val_loss</td><td>▄▆█▂▁</td></tr><tr><td>val_accuracy</td><td>▄▁▃██</td></tr><tr><td>loss</td><td>█▅▃▂▁</td></tr><tr><td>accuracy</td><td>▁▄▆▇█</td></tr><tr><td>epoch</td><td>▁▃▅▆█</td></tr><tr><td>_runtime</td><td>▁▁▁▁▁</td></tr><tr><td>_timestamp</td><td>▁▁▁▁▁</td></tr><tr><td>_step</td><td>▁▃▅▆█</td></tr></table><br/>"
      ],
      "text/plain": [
       "<IPython.core.display.HTML object>"
      ]
     },
     "metadata": {
      "tags": []
     },
     "output_type": "display_data"
    },
    {
     "data": {
      "text/html": [
       "Synced 5 W&B file(s), 0 media file(s), 0 artifact file(s) and 0 other file(s)"
      ],
      "text/plain": [
       "<IPython.core.display.HTML object>"
      ]
     },
     "metadata": {
      "tags": []
     },
     "output_type": "display_data"
    },
    {
     "data": {
      "text/html": [
       "\n",
       "                    <br/>Synced <strong style=\"color:#cdcd00\">decent-sweep-26</strong>: <a href=\"https://wandb.ai/dl_45_47/Convolution_Neural_Network_modules/runs/ecsqsgu4\" target=\"_blank\">https://wandb.ai/dl_45_47/Convolution_Neural_Network_modules/runs/ecsqsgu4</a><br/>\n",
       "                "
      ],
      "text/plain": [
       "<IPython.core.display.HTML object>"
      ]
     },
     "metadata": {
      "tags": []
     },
     "output_type": "display_data"
    },
    {
     "name": "stderr",
     "output_type": "stream",
     "text": [
      "\u001b[34m\u001b[1mwandb\u001b[0m: Agent Starting Run: rj9y4lcy with config:\n",
      "\u001b[34m\u001b[1mwandb\u001b[0m: \tBatch_normalization: False\n",
      "\u001b[34m\u001b[1mwandb\u001b[0m: \tbatch_size: 64\n",
      "\u001b[34m\u001b[1mwandb\u001b[0m: \tdata_augmentation: True\n",
      "\u001b[34m\u001b[1mwandb\u001b[0m: \tdropout: 0.2\n",
      "\u001b[34m\u001b[1mwandb\u001b[0m: \tepochs: 20\n",
      "\u001b[34m\u001b[1mwandb\u001b[0m: \tfilter_organisation: 1\n",
      "\u001b[34m\u001b[1mwandb\u001b[0m: \tkernel_size: 5\n",
      "\u001b[34m\u001b[1mwandb\u001b[0m: \tneurons_in_denseLyr: 64\n",
      "\u001b[34m\u001b[1mwandb\u001b[0m: \tno_of_layers: 6\n",
      "\u001b[34m\u001b[1mwandb\u001b[0m: \tnumber_of_filters: 64\n",
      "\u001b[34m\u001b[1mwandb\u001b[0m: \tweight_decay: 0.01\n"
     ]
    },
    {
     "data": {
      "text/html": [
       "\n",
       "                Tracking run with wandb version 0.10.25<br/>\n",
       "                Syncing run <strong style=\"color:#cdcd00\">worthy-sweep-27</strong> to <a href=\"https://wandb.ai\" target=\"_blank\">Weights & Biases</a> <a href=\"https://docs.wandb.com/integrations/jupyter.html\" target=\"_blank\">(Documentation)</a>.<br/>\n",
       "                Project page: <a href=\"https://wandb.ai/dl_45_47/Convolution_Neural_Network_modules\" target=\"_blank\">https://wandb.ai/dl_45_47/Convolution_Neural_Network_modules</a><br/>\n",
       "                Sweep page: <a href=\"https://wandb.ai/dl_45_47/Convolution_Neural_Network_modules/sweeps/c0ebc10x\" target=\"_blank\">https://wandb.ai/dl_45_47/Convolution_Neural_Network_modules/sweeps/c0ebc10x</a><br/>\n",
       "Run page: <a href=\"https://wandb.ai/dl_45_47/Convolution_Neural_Network_modules/runs/rj9y4lcy\" target=\"_blank\">https://wandb.ai/dl_45_47/Convolution_Neural_Network_modules/runs/rj9y4lcy</a><br/>\n",
       "                Run data is saved locally in <code>/content/wandb/run-20210413_140631-rj9y4lcy</code><br/><br/>\n",
       "            "
      ],
      "text/plain": [
       "<IPython.core.display.HTML object>"
      ]
     },
     "metadata": {
      "tags": []
     },
     "output_type": "display_data"
    },
    {
     "name": "stdout",
     "output_type": "stream",
     "text": [
      "Epoch 1/20\n",
      "94/94 [==============================] - 26s 270ms/step - loss: 13.0211 - accuracy: 0.0998 - val_loss: 3.9338 - val_accuracy: 0.1000\n",
      "Epoch 2/20\n",
      "94/94 [==============================] - 25s 267ms/step - loss: 3.8843 - accuracy: 0.1007 - val_loss: 3.7500 - val_accuracy: 0.0983\n",
      "Epoch 3/20\n",
      "94/94 [==============================] - 25s 267ms/step - loss: 3.7122 - accuracy: 0.0990 - val_loss: 3.6031 - val_accuracy: 0.1083\n",
      "Epoch 4/20\n",
      "94/94 [==============================] - 25s 267ms/step - loss: 3.5650 - accuracy: 0.1051 - val_loss: 3.4788 - val_accuracy: 0.1050\n",
      "Epoch 5/20\n",
      "94/94 [==============================] - 25s 267ms/step - loss: 3.4512 - accuracy: 0.1192 - val_loss: 3.3517 - val_accuracy: 0.1200\n",
      "Epoch 6/20\n",
      "94/94 [==============================] - 25s 268ms/step - loss: 3.3187 - accuracy: 0.1381 - val_loss: 3.2716 - val_accuracy: 0.1000\n",
      "Epoch 7/20\n",
      "94/94 [==============================] - 25s 267ms/step - loss: 3.2485 - accuracy: 0.0998 - val_loss: 3.1817 - val_accuracy: 0.1017\n",
      "Epoch 8/20\n",
      "94/94 [==============================] - 25s 267ms/step - loss: 3.1626 - accuracy: 0.1060 - val_loss: 3.1034 - val_accuracy: 0.0867\n",
      "Epoch 9/20\n",
      "94/94 [==============================] - 25s 267ms/step - loss: 3.0859 - accuracy: 0.0884 - val_loss: 3.0289 - val_accuracy: 0.1217\n",
      "Epoch 10/20\n",
      "94/94 [==============================] - 25s 267ms/step - loss: 3.0114 - accuracy: 0.1195 - val_loss: 2.9614 - val_accuracy: 0.1233\n",
      "Epoch 11/20\n",
      "94/94 [==============================] - 25s 266ms/step - loss: 2.9404 - accuracy: 0.1306 - val_loss: 2.8864 - val_accuracy: 0.1533\n",
      "Epoch 12/20\n",
      "94/94 [==============================] - 25s 267ms/step - loss: 2.8683 - accuracy: 0.1284 - val_loss: 2.8010 - val_accuracy: 0.1717\n",
      "Epoch 13/20\n",
      "94/94 [==============================] - 25s 267ms/step - loss: 2.7771 - accuracy: 0.1650 - val_loss: 2.7385 - val_accuracy: 0.1717\n",
      "Epoch 14/20\n",
      "94/94 [==============================] - 25s 267ms/step - loss: 2.7194 - accuracy: 0.1660 - val_loss: 2.6460 - val_accuracy: 0.1950\n",
      "Epoch 15/20\n",
      "94/94 [==============================] - 25s 267ms/step - loss: 2.6506 - accuracy: 0.1846 - val_loss: 2.6411 - val_accuracy: 0.1700\n",
      "Epoch 16/20\n",
      "94/94 [==============================] - 25s 266ms/step - loss: 2.6023 - accuracy: 0.1812 - val_loss: 2.5589 - val_accuracy: 0.2167\n",
      "Epoch 17/20\n",
      "94/94 [==============================] - 25s 267ms/step - loss: 2.5479 - accuracy: 0.1904 - val_loss: 2.5255 - val_accuracy: 0.2017\n",
      "Epoch 18/20\n",
      "94/94 [==============================] - 25s 266ms/step - loss: 2.5061 - accuracy: 0.1841 - val_loss: 2.5108 - val_accuracy: 0.1967\n",
      "Epoch 19/20\n",
      "94/94 [==============================] - 25s 267ms/step - loss: 2.4707 - accuracy: 0.2043 - val_loss: 2.4382 - val_accuracy: 0.2100\n",
      "Epoch 20/20\n",
      "94/94 [==============================] - 25s 267ms/step - loss: 2.4175 - accuracy: 0.2232 - val_loss: 2.4266 - val_accuracy: 0.2200\n"
     ]
    },
    {
     "data": {
      "text/html": [
       "<br/>Waiting for W&B process to finish, PID 3951<br/>Program ended successfully."
      ],
      "text/plain": [
       "<IPython.core.display.HTML object>"
      ]
     },
     "metadata": {
      "tags": []
     },
     "output_type": "display_data"
    },
    {
     "data": {
      "application/vnd.jupyter.widget-view+json": {
       "model_id": "01bcb255b3cc4873a9c4d003597fbe50",
       "version_major": 2,
       "version_minor": 0
      },
      "text/plain": [
       "VBox(children=(Label(value=' 0.00MB of 0.00MB uploaded (0.00MB deduped)\\r'), FloatProgress(value=1.0, max=1.0)…"
      ]
     },
     "metadata": {
      "tags": []
     },
     "output_type": "display_data"
    },
    {
     "data": {
      "text/html": [
       "Find user logs for this run at: <code>/content/wandb/run-20210413_140631-rj9y4lcy/logs/debug.log</code>"
      ],
      "text/plain": [
       "<IPython.core.display.HTML object>"
      ]
     },
     "metadata": {
      "tags": []
     },
     "output_type": "display_data"
    },
    {
     "data": {
      "text/html": [
       "Find internal logs for this run at: <code>/content/wandb/run-20210413_140631-rj9y4lcy/logs/debug-internal.log</code>"
      ],
      "text/plain": [
       "<IPython.core.display.HTML object>"
      ]
     },
     "metadata": {
      "tags": []
     },
     "output_type": "display_data"
    },
    {
     "data": {
      "text/html": [
       "<h3>Run summary:</h3><br/><style>\n",
       "    table.wandb td:nth-child(1) { padding: 0 10px; text-align: right }\n",
       "    </style><table class=\"wandb\">\n",
       "<tr><td>val_loss</td><td>2.42657</td></tr><tr><td>val_accuracy</td><td>0.22</td></tr><tr><td>loss</td><td>2.41993</td></tr><tr><td>accuracy</td><td>0.21517</td></tr><tr><td>epoch</td><td>19</td></tr><tr><td>_runtime</td><td>505</td></tr><tr><td>_timestamp</td><td>1618323296</td></tr><tr><td>_step</td><td>19</td></tr></table>"
      ],
      "text/plain": [
       "<IPython.core.display.HTML object>"
      ]
     },
     "metadata": {
      "tags": []
     },
     "output_type": "display_data"
    },
    {
     "data": {
      "text/html": [
       "<h3>Run history:</h3><br/><style>\n",
       "    table.wandb td:nth-child(1) { padding: 0 10px; text-align: right }\n",
       "    </style><table class=\"wandb\">\n",
       "<tr><td>val_loss</td><td>█▇▆▆▅▅▅▄▄▃▃▃▂▂▂▂▁▁▁▁</td></tr><tr><td>val_accuracy</td><td>▂▂▂▂▃▂▂▁▃▃▅▅▅▇▅█▇▇▇█</td></tr><tr><td>loss</td><td>█▄▃▃▃▃▃▂▂▂▂▂▂▂▁▁▁▁▁▁</td></tr><tr><td>accuracy</td><td>▁▂▁▂▂▃▂▂▁▂▃▃▅▆▆▆▇▇▇█</td></tr><tr><td>epoch</td><td>▁▁▂▂▂▃▃▄▄▄▅▅▅▆▆▇▇▇██</td></tr><tr><td>_runtime</td><td>▁▁▁▁▁▁▁▁▁▁▁▁▁▁▁▁▁▁▁▁</td></tr><tr><td>_timestamp</td><td>▁▁▁▁▁▁▁▁▁▁▁▁▁▁▁▁▁▁▁▁</td></tr><tr><td>_step</td><td>▁▁▂▂▂▃▃▄▄▄▅▅▅▆▆▇▇▇██</td></tr></table><br/>"
      ],
      "text/plain": [
       "<IPython.core.display.HTML object>"
      ]
     },
     "metadata": {
      "tags": []
     },
     "output_type": "display_data"
    },
    {
     "data": {
      "text/html": [
       "Synced 5 W&B file(s), 0 media file(s), 0 artifact file(s) and 0 other file(s)"
      ],
      "text/plain": [
       "<IPython.core.display.HTML object>"
      ]
     },
     "metadata": {
      "tags": []
     },
     "output_type": "display_data"
    },
    {
     "data": {
      "text/html": [
       "\n",
       "                    <br/>Synced <strong style=\"color:#cdcd00\">worthy-sweep-27</strong>: <a href=\"https://wandb.ai/dl_45_47/Convolution_Neural_Network_modules/runs/rj9y4lcy\" target=\"_blank\">https://wandb.ai/dl_45_47/Convolution_Neural_Network_modules/runs/rj9y4lcy</a><br/>\n",
       "                "
      ],
      "text/plain": [
       "<IPython.core.display.HTML object>"
      ]
     },
     "metadata": {
      "tags": []
     },
     "output_type": "display_data"
    },
    {
     "name": "stderr",
     "output_type": "stream",
     "text": [
      "\u001b[34m\u001b[1mwandb\u001b[0m: Agent Starting Run: s48fechm with config:\n",
      "\u001b[34m\u001b[1mwandb\u001b[0m: \tBatch_normalization: False\n",
      "\u001b[34m\u001b[1mwandb\u001b[0m: \tbatch_size: 16\n",
      "\u001b[34m\u001b[1mwandb\u001b[0m: \tdata_augmentation: False\n",
      "\u001b[34m\u001b[1mwandb\u001b[0m: \tdropout: 0.3\n",
      "\u001b[34m\u001b[1mwandb\u001b[0m: \tepochs: 10\n",
      "\u001b[34m\u001b[1mwandb\u001b[0m: \tfilter_organisation: 2\n",
      "\u001b[34m\u001b[1mwandb\u001b[0m: \tkernel_size: 3\n",
      "\u001b[34m\u001b[1mwandb\u001b[0m: \tneurons_in_denseLyr: 256\n",
      "\u001b[34m\u001b[1mwandb\u001b[0m: \tno_of_layers: 5\n",
      "\u001b[34m\u001b[1mwandb\u001b[0m: \tnumber_of_filters: 32\n",
      "\u001b[34m\u001b[1mwandb\u001b[0m: \tweight_decay: 0.01\n"
     ]
    },
    {
     "data": {
      "text/html": [
       "\n",
       "                Tracking run with wandb version 0.10.25<br/>\n",
       "                Syncing run <strong style=\"color:#cdcd00\">logical-sweep-28</strong> to <a href=\"https://wandb.ai\" target=\"_blank\">Weights & Biases</a> <a href=\"https://docs.wandb.com/integrations/jupyter.html\" target=\"_blank\">(Documentation)</a>.<br/>\n",
       "                Project page: <a href=\"https://wandb.ai/dl_45_47/Convolution_Neural_Network_modules\" target=\"_blank\">https://wandb.ai/dl_45_47/Convolution_Neural_Network_modules</a><br/>\n",
       "                Sweep page: <a href=\"https://wandb.ai/dl_45_47/Convolution_Neural_Network_modules/sweeps/c0ebc10x\" target=\"_blank\">https://wandb.ai/dl_45_47/Convolution_Neural_Network_modules/sweeps/c0ebc10x</a><br/>\n",
       "Run page: <a href=\"https://wandb.ai/dl_45_47/Convolution_Neural_Network_modules/runs/s48fechm\" target=\"_blank\">https://wandb.ai/dl_45_47/Convolution_Neural_Network_modules/runs/s48fechm</a><br/>\n",
       "                Run data is saved locally in <code>/content/wandb/run-20210413_141506-s48fechm</code><br/><br/>\n",
       "            "
      ],
      "text/plain": [
       "<IPython.core.display.HTML object>"
      ]
     },
     "metadata": {
      "tags": []
     },
     "output_type": "display_data"
    },
    {
     "name": "stdout",
     "output_type": "stream",
     "text": [
      "Epoch 1/10\n",
      "375/375 [==============================] - 21s 52ms/step - loss: 15.1334 - accuracy: 0.0890 - val_loss: 4.3261 - val_accuracy: 0.1000\n",
      "Epoch 2/10\n",
      "375/375 [==============================] - 19s 50ms/step - loss: 4.2242 - accuracy: 0.0918 - val_loss: 3.9390 - val_accuracy: 0.1000\n",
      "Epoch 3/10\n",
      "375/375 [==============================] - 19s 51ms/step - loss: 3.8557 - accuracy: 0.0981 - val_loss: 3.6225 - val_accuracy: 0.1000\n",
      "Epoch 4/10\n",
      "375/375 [==============================] - 19s 50ms/step - loss: 3.5541 - accuracy: 0.0959 - val_loss: 3.3611 - val_accuracy: 0.1000\n",
      "Epoch 5/10\n",
      "375/375 [==============================] - 19s 51ms/step - loss: 3.3047 - accuracy: 0.0988 - val_loss: 3.1455 - val_accuracy: 0.1000\n",
      "Epoch 6/10\n",
      "375/375 [==============================] - 19s 50ms/step - loss: 3.0988 - accuracy: 0.1029 - val_loss: 2.9676 - val_accuracy: 0.1000\n",
      "Epoch 7/10\n",
      "375/375 [==============================] - 19s 50ms/step - loss: 2.9293 - accuracy: 0.1038 - val_loss: 2.8221 - val_accuracy: 0.1000\n",
      "Epoch 8/10\n",
      "375/375 [==============================] - 19s 51ms/step - loss: 2.7910 - accuracy: 0.0924 - val_loss: 2.7033 - val_accuracy: 0.1000\n",
      "Epoch 9/10\n",
      "375/375 [==============================] - 19s 50ms/step - loss: 2.6783 - accuracy: 0.1026 - val_loss: 2.6079 - val_accuracy: 0.1000\n",
      "Epoch 10/10\n",
      "375/375 [==============================] - 19s 50ms/step - loss: 2.5893 - accuracy: 0.0941 - val_loss: 2.5422 - val_accuracy: 0.1000\n"
     ]
    },
    {
     "data": {
      "text/html": [
       "<br/>Waiting for W&B process to finish, PID 4050<br/>Program ended successfully."
      ],
      "text/plain": [
       "<IPython.core.display.HTML object>"
      ]
     },
     "metadata": {
      "tags": []
     },
     "output_type": "display_data"
    },
    {
     "data": {
      "application/vnd.jupyter.widget-view+json": {
       "model_id": "44d7571237674b2d8e0a5e0810be551e",
       "version_major": 2,
       "version_minor": 0
      },
      "text/plain": [
       "VBox(children=(Label(value=' 0.00MB of 0.00MB uploaded (0.00MB deduped)\\r'), FloatProgress(value=1.0, max=1.0)…"
      ]
     },
     "metadata": {
      "tags": []
     },
     "output_type": "display_data"
    },
    {
     "data": {
      "text/html": [
       "Find user logs for this run at: <code>/content/wandb/run-20210413_141506-s48fechm/logs/debug.log</code>"
      ],
      "text/plain": [
       "<IPython.core.display.HTML object>"
      ]
     },
     "metadata": {
      "tags": []
     },
     "output_type": "display_data"
    },
    {
     "data": {
      "text/html": [
       "Find internal logs for this run at: <code>/content/wandb/run-20210413_141506-s48fechm/logs/debug-internal.log</code>"
      ],
      "text/plain": [
       "<IPython.core.display.HTML object>"
      ]
     },
     "metadata": {
      "tags": []
     },
     "output_type": "display_data"
    },
    {
     "data": {
      "text/html": [
       "<h3>Run summary:</h3><br/><style>\n",
       "    table.wandb td:nth-child(1) { padding: 0 10px; text-align: right }\n",
       "    </style><table class=\"wandb\">\n",
       "<tr><td>val_loss</td><td>2.54224</td></tr><tr><td>val_accuracy</td><td>0.1</td></tr><tr><td>loss</td><td>2.57431</td></tr><tr><td>accuracy</td><td>0.0935</td></tr><tr><td>epoch</td><td>9</td></tr><tr><td>_runtime</td><td>193</td></tr><tr><td>_timestamp</td><td>1618323499</td></tr><tr><td>_step</td><td>9</td></tr></table>"
      ],
      "text/plain": [
       "<IPython.core.display.HTML object>"
      ]
     },
     "metadata": {
      "tags": []
     },
     "output_type": "display_data"
    },
    {
     "data": {
      "text/html": [
       "<h3>Run history:</h3><br/><style>\n",
       "    table.wandb td:nth-child(1) { padding: 0 10px; text-align: right }\n",
       "    </style><table class=\"wandb\">\n",
       "<tr><td>val_loss</td><td>█▆▅▄▃▃▂▂▁▁</td></tr><tr><td>val_accuracy</td><td>▁▁▁▁▁▁▁▁▁▁</td></tr><tr><td>loss</td><td>█▄▃▃▂▂▂▁▁▁</td></tr><tr><td>accuracy</td><td>▁▄▄▃▂█▅▃▇▄</td></tr><tr><td>epoch</td><td>▁▂▃▃▄▅▆▆▇█</td></tr><tr><td>_runtime</td><td>▁▁▁▁▁▁▁▁▁▁</td></tr><tr><td>_timestamp</td><td>▁▁▁▁▁▁▁▁▁▁</td></tr><tr><td>_step</td><td>▁▂▃▃▄▅▆▆▇█</td></tr></table><br/>"
      ],
      "text/plain": [
       "<IPython.core.display.HTML object>"
      ]
     },
     "metadata": {
      "tags": []
     },
     "output_type": "display_data"
    },
    {
     "data": {
      "text/html": [
       "Synced 5 W&B file(s), 0 media file(s), 0 artifact file(s) and 0 other file(s)"
      ],
      "text/plain": [
       "<IPython.core.display.HTML object>"
      ]
     },
     "metadata": {
      "tags": []
     },
     "output_type": "display_data"
    },
    {
     "data": {
      "text/html": [
       "\n",
       "                    <br/>Synced <strong style=\"color:#cdcd00\">logical-sweep-28</strong>: <a href=\"https://wandb.ai/dl_45_47/Convolution_Neural_Network_modules/runs/s48fechm\" target=\"_blank\">https://wandb.ai/dl_45_47/Convolution_Neural_Network_modules/runs/s48fechm</a><br/>\n",
       "                "
      ],
      "text/plain": [
       "<IPython.core.display.HTML object>"
      ]
     },
     "metadata": {
      "tags": []
     },
     "output_type": "display_data"
    },
    {
     "name": "stderr",
     "output_type": "stream",
     "text": [
      "\u001b[34m\u001b[1mwandb\u001b[0m: Agent Starting Run: 3jsfd3ap with config:\n",
      "\u001b[34m\u001b[1mwandb\u001b[0m: \tBatch_normalization: True\n",
      "\u001b[34m\u001b[1mwandb\u001b[0m: \tbatch_size: 16\n",
      "\u001b[34m\u001b[1mwandb\u001b[0m: \tdata_augmentation: True\n",
      "\u001b[34m\u001b[1mwandb\u001b[0m: \tdropout: 0.3\n",
      "\u001b[34m\u001b[1mwandb\u001b[0m: \tepochs: 10\n",
      "\u001b[34m\u001b[1mwandb\u001b[0m: \tfilter_organisation: 1\n",
      "\u001b[34m\u001b[1mwandb\u001b[0m: \tkernel_size: 3\n",
      "\u001b[34m\u001b[1mwandb\u001b[0m: \tneurons_in_denseLyr: 128\n",
      "\u001b[34m\u001b[1mwandb\u001b[0m: \tno_of_layers: 5\n",
      "\u001b[34m\u001b[1mwandb\u001b[0m: \tnumber_of_filters: 64\n",
      "\u001b[34m\u001b[1mwandb\u001b[0m: \tweight_decay: 0.001\n"
     ]
    },
    {
     "data": {
      "text/html": [
       "\n",
       "                Tracking run with wandb version 0.10.25<br/>\n",
       "                Syncing run <strong style=\"color:#cdcd00\">easy-sweep-29</strong> to <a href=\"https://wandb.ai\" target=\"_blank\">Weights & Biases</a> <a href=\"https://docs.wandb.com/integrations/jupyter.html\" target=\"_blank\">(Documentation)</a>.<br/>\n",
       "                Project page: <a href=\"https://wandb.ai/dl_45_47/Convolution_Neural_Network_modules\" target=\"_blank\">https://wandb.ai/dl_45_47/Convolution_Neural_Network_modules</a><br/>\n",
       "                Sweep page: <a href=\"https://wandb.ai/dl_45_47/Convolution_Neural_Network_modules/sweeps/c0ebc10x\" target=\"_blank\">https://wandb.ai/dl_45_47/Convolution_Neural_Network_modules/sweeps/c0ebc10x</a><br/>\n",
       "Run page: <a href=\"https://wandb.ai/dl_45_47/Convolution_Neural_Network_modules/runs/3jsfd3ap\" target=\"_blank\">https://wandb.ai/dl_45_47/Convolution_Neural_Network_modules/runs/3jsfd3ap</a><br/>\n",
       "                Run data is saved locally in <code>/content/wandb/run-20210413_141833-3jsfd3ap</code><br/><br/>\n",
       "            "
      ],
      "text/plain": [
       "<IPython.core.display.HTML object>"
      ]
     },
     "metadata": {
      "tags": []
     },
     "output_type": "display_data"
    },
    {
     "name": "stdout",
     "output_type": "stream",
     "text": [
      "Epoch 1/10\n",
      "375/375 [==============================] - 32s 82ms/step - loss: 3.0431 - accuracy: 0.1361 - val_loss: 2.7229 - val_accuracy: 0.1433\n",
      "Epoch 2/10\n",
      "375/375 [==============================] - 31s 82ms/step - loss: 2.5563 - accuracy: 0.2238 - val_loss: 2.5026 - val_accuracy: 0.2050\n",
      "Epoch 3/10\n",
      "375/375 [==============================] - 31s 82ms/step - loss: 2.4436 - accuracy: 0.2575 - val_loss: 2.8627 - val_accuracy: 0.1883\n",
      "Epoch 4/10\n",
      "375/375 [==============================] - 31s 82ms/step - loss: 2.3465 - accuracy: 0.2703 - val_loss: 2.5529 - val_accuracy: 0.2167\n",
      "Epoch 5/10\n",
      "375/375 [==============================] - 31s 82ms/step - loss: 2.2302 - accuracy: 0.3203 - val_loss: 2.2909 - val_accuracy: 0.2517\n",
      "Epoch 6/10\n",
      "375/375 [==============================] - 31s 82ms/step - loss: 2.1858 - accuracy: 0.3306 - val_loss: 2.4335 - val_accuracy: 0.2150\n",
      "Epoch 7/10\n",
      "375/375 [==============================] - 31s 82ms/step - loss: 2.1263 - accuracy: 0.3582 - val_loss: 2.4321 - val_accuracy: 0.2700\n",
      "Epoch 8/10\n",
      "375/375 [==============================] - 31s 82ms/step - loss: 2.1138 - accuracy: 0.3730 - val_loss: 2.3785 - val_accuracy: 0.2683\n",
      "Epoch 9/10\n",
      "375/375 [==============================] - 31s 82ms/step - loss: 2.1181 - accuracy: 0.3983 - val_loss: 2.3436 - val_accuracy: 0.3267\n",
      "Epoch 10/10\n",
      "375/375 [==============================] - 31s 82ms/step - loss: 2.1360 - accuracy: 0.3981 - val_loss: 2.3823 - val_accuracy: 0.3083\n"
     ]
    },
    {
     "data": {
      "text/html": [
       "<br/>Waiting for W&B process to finish, PID 4115<br/>Program ended successfully."
      ],
      "text/plain": [
       "<IPython.core.display.HTML object>"
      ]
     },
     "metadata": {
      "tags": []
     },
     "output_type": "display_data"
    },
    {
     "data": {
      "application/vnd.jupyter.widget-view+json": {
       "model_id": "d94665387fc34eb7a5d63a94f0c27819",
       "version_major": 2,
       "version_minor": 0
      },
      "text/plain": [
       "VBox(children=(Label(value=' 0.00MB of 0.00MB uploaded (0.00MB deduped)\\r'), FloatProgress(value=1.0, max=1.0)…"
      ]
     },
     "metadata": {
      "tags": []
     },
     "output_type": "display_data"
    },
    {
     "data": {
      "text/html": [
       "Find user logs for this run at: <code>/content/wandb/run-20210413_141833-3jsfd3ap/logs/debug.log</code>"
      ],
      "text/plain": [
       "<IPython.core.display.HTML object>"
      ]
     },
     "metadata": {
      "tags": []
     },
     "output_type": "display_data"
    },
    {
     "data": {
      "text/html": [
       "Find internal logs for this run at: <code>/content/wandb/run-20210413_141833-3jsfd3ap/logs/debug-internal.log</code>"
      ],
      "text/plain": [
       "<IPython.core.display.HTML object>"
      ]
     },
     "metadata": {
      "tags": []
     },
     "output_type": "display_data"
    },
    {
     "data": {
      "text/html": [
       "<h3>Run summary:</h3><br/><style>\n",
       "    table.wandb td:nth-child(1) { padding: 0 10px; text-align: right }\n",
       "    </style><table class=\"wandb\">\n",
       "<tr><td>val_loss</td><td>2.38231</td></tr><tr><td>val_accuracy</td><td>0.30833</td></tr><tr><td>loss</td><td>2.17265</td></tr><tr><td>accuracy</td><td>0.39467</td></tr><tr><td>epoch</td><td>9</td></tr><tr><td>_runtime</td><td>311</td></tr><tr><td>_timestamp</td><td>1618323824</td></tr><tr><td>_step</td><td>9</td></tr></table>"
      ],
      "text/plain": [
       "<IPython.core.display.HTML object>"
      ]
     },
     "metadata": {
      "tags": []
     },
     "output_type": "display_data"
    },
    {
     "data": {
      "text/html": [
       "<h3>Run history:</h3><br/><style>\n",
       "    table.wandb td:nth-child(1) { padding: 0 10px; text-align: right }\n",
       "    </style><table class=\"wandb\">\n",
       "<tr><td>val_loss</td><td>▆▄█▄▁▃▃▂▂▂</td></tr><tr><td>val_accuracy</td><td>▁▃▃▄▅▄▆▆█▇</td></tr><tr><td>loss</td><td>█▅▄▃▂▂▁▁▁▁</td></tr><tr><td>accuracy</td><td>▁▃▄▄▅▆▇▇██</td></tr><tr><td>epoch</td><td>▁▂▃▃▄▅▆▆▇█</td></tr><tr><td>_runtime</td><td>▁▁▁▁▁▁▁▁▁▁</td></tr><tr><td>_timestamp</td><td>▁▁▁▁▁▁▁▁▁▁</td></tr><tr><td>_step</td><td>▁▂▃▃▄▅▆▆▇█</td></tr></table><br/>"
      ],
      "text/plain": [
       "<IPython.core.display.HTML object>"
      ]
     },
     "metadata": {
      "tags": []
     },
     "output_type": "display_data"
    },
    {
     "data": {
      "text/html": [
       "Synced 5 W&B file(s), 0 media file(s), 0 artifact file(s) and 0 other file(s)"
      ],
      "text/plain": [
       "<IPython.core.display.HTML object>"
      ]
     },
     "metadata": {
      "tags": []
     },
     "output_type": "display_data"
    },
    {
     "data": {
      "text/html": [
       "\n",
       "                    <br/>Synced <strong style=\"color:#cdcd00\">easy-sweep-29</strong>: <a href=\"https://wandb.ai/dl_45_47/Convolution_Neural_Network_modules/runs/3jsfd3ap\" target=\"_blank\">https://wandb.ai/dl_45_47/Convolution_Neural_Network_modules/runs/3jsfd3ap</a><br/>\n",
       "                "
      ],
      "text/plain": [
       "<IPython.core.display.HTML object>"
      ]
     },
     "metadata": {
      "tags": []
     },
     "output_type": "display_data"
    },
    {
     "name": "stderr",
     "output_type": "stream",
     "text": [
      "\u001b[34m\u001b[1mwandb\u001b[0m: Agent Starting Run: m33qf7hu with config:\n",
      "\u001b[34m\u001b[1mwandb\u001b[0m: \tBatch_normalization: True\n",
      "\u001b[34m\u001b[1mwandb\u001b[0m: \tbatch_size: 16\n",
      "\u001b[34m\u001b[1mwandb\u001b[0m: \tdata_augmentation: True\n",
      "\u001b[34m\u001b[1mwandb\u001b[0m: \tdropout: 0.3\n",
      "\u001b[34m\u001b[1mwandb\u001b[0m: \tepochs: 5\n",
      "\u001b[34m\u001b[1mwandb\u001b[0m: \tfilter_organisation: 1\n",
      "\u001b[34m\u001b[1mwandb\u001b[0m: \tkernel_size: 5\n",
      "\u001b[34m\u001b[1mwandb\u001b[0m: \tneurons_in_denseLyr: 64\n",
      "\u001b[34m\u001b[1mwandb\u001b[0m: \tno_of_layers: 7\n",
      "\u001b[34m\u001b[1mwandb\u001b[0m: \tnumber_of_filters: 64\n",
      "\u001b[34m\u001b[1mwandb\u001b[0m: \tweight_decay: 0.01\n"
     ]
    },
    {
     "data": {
      "text/html": [
       "\n",
       "                Tracking run with wandb version 0.10.25<br/>\n",
       "                Syncing run <strong style=\"color:#cdcd00\">fearless-sweep-30</strong> to <a href=\"https://wandb.ai\" target=\"_blank\">Weights & Biases</a> <a href=\"https://docs.wandb.com/integrations/jupyter.html\" target=\"_blank\">(Documentation)</a>.<br/>\n",
       "                Project page: <a href=\"https://wandb.ai/dl_45_47/Convolution_Neural_Network_modules\" target=\"_blank\">https://wandb.ai/dl_45_47/Convolution_Neural_Network_modules</a><br/>\n",
       "                Sweep page: <a href=\"https://wandb.ai/dl_45_47/Convolution_Neural_Network_modules/sweeps/c0ebc10x\" target=\"_blank\">https://wandb.ai/dl_45_47/Convolution_Neural_Network_modules/sweeps/c0ebc10x</a><br/>\n",
       "Run page: <a href=\"https://wandb.ai/dl_45_47/Convolution_Neural_Network_modules/runs/m33qf7hu\" target=\"_blank\">https://wandb.ai/dl_45_47/Convolution_Neural_Network_modules/runs/m33qf7hu</a><br/>\n",
       "                Run data is saved locally in <code>/content/wandb/run-20210413_142355-m33qf7hu</code><br/><br/>\n",
       "            "
      ],
      "text/plain": [
       "<IPython.core.display.HTML object>"
      ]
     },
     "metadata": {
      "tags": []
     },
     "output_type": "display_data"
    },
    {
     "data": {
      "text/html": [
       "<br/>Waiting for W&B process to finish, PID 4180<br/>Program failed with code 1.  Press ctrl-c to abort syncing."
      ],
      "text/plain": [
       "<IPython.core.display.HTML object>"
      ]
     },
     "metadata": {
      "tags": []
     },
     "output_type": "display_data"
    },
    {
     "data": {
      "application/vnd.jupyter.widget-view+json": {
       "model_id": "dee8379b378d4f0aba219a447afa606d",
       "version_major": 2,
       "version_minor": 0
      },
      "text/plain": [
       "VBox(children=(Label(value=' 0.00MB of 0.00MB uploaded (0.00MB deduped)\\r'), FloatProgress(value=1.0, max=1.0)…"
      ]
     },
     "metadata": {
      "tags": []
     },
     "output_type": "display_data"
    },
    {
     "data": {
      "text/html": [
       "Find user logs for this run at: <code>/content/wandb/run-20210413_142355-m33qf7hu/logs/debug.log</code>"
      ],
      "text/plain": [
       "<IPython.core.display.HTML object>"
      ]
     },
     "metadata": {
      "tags": []
     },
     "output_type": "display_data"
    },
    {
     "data": {
      "text/html": [
       "Find internal logs for this run at: <code>/content/wandb/run-20210413_142355-m33qf7hu/logs/debug-internal.log</code>"
      ],
      "text/plain": [
       "<IPython.core.display.HTML object>"
      ]
     },
     "metadata": {
      "tags": []
     },
     "output_type": "display_data"
    },
    {
     "data": {
      "text/html": [
       "Synced 4 W&B file(s), 0 media file(s), 0 artifact file(s) and 0 other file(s)"
      ],
      "text/plain": [
       "<IPython.core.display.HTML object>"
      ]
     },
     "metadata": {
      "tags": []
     },
     "output_type": "display_data"
    },
    {
     "data": {
      "text/html": [
       "\n",
       "                    <br/>Synced <strong style=\"color:#cdcd00\">fearless-sweep-30</strong>: <a href=\"https://wandb.ai/dl_45_47/Convolution_Neural_Network_modules/runs/m33qf7hu\" target=\"_blank\">https://wandb.ai/dl_45_47/Convolution_Neural_Network_modules/runs/m33qf7hu</a><br/>\n",
       "                "
      ],
      "text/plain": [
       "<IPython.core.display.HTML object>"
      ]
     },
     "metadata": {
      "tags": []
     },
     "output_type": "display_data"
    },
    {
     "name": "stderr",
     "output_type": "stream",
     "text": [
      "\u001b[34m\u001b[1mwandb\u001b[0m: \u001b[32m\u001b[41mERROR\u001b[0m Run m33qf7hu errored: ValueError('Negative dimension size caused by subtracting 5 from 2 for \\'{{node conv2d_6/Conv2D}} = Conv2D[T=DT_FLOAT, data_format=\"NHWC\", dilations=[1, 1, 1, 1], explicit_paddings=[], padding=\"VALID\", strides=[1, 1, 1, 1], use_cudnn_on_gpu=true](Placeholder, conv2d_6/Conv2D/ReadVariableOp)\\' with input shapes: [?,2,2,64], [5,5,64,64].')\n",
      "\u001b[34m\u001b[1mwandb\u001b[0m: Agent Starting Run: 9sk2g4qz with config:\n",
      "\u001b[34m\u001b[1mwandb\u001b[0m: \tBatch_normalization: True\n",
      "\u001b[34m\u001b[1mwandb\u001b[0m: \tbatch_size: 64\n",
      "\u001b[34m\u001b[1mwandb\u001b[0m: \tdata_augmentation: False\n",
      "\u001b[34m\u001b[1mwandb\u001b[0m: \tdropout: 0.2\n",
      "\u001b[34m\u001b[1mwandb\u001b[0m: \tepochs: 10\n",
      "\u001b[34m\u001b[1mwandb\u001b[0m: \tfilter_organisation: 1\n",
      "\u001b[34m\u001b[1mwandb\u001b[0m: \tkernel_size: 3\n",
      "\u001b[34m\u001b[1mwandb\u001b[0m: \tneurons_in_denseLyr: 32\n",
      "\u001b[34m\u001b[1mwandb\u001b[0m: \tno_of_layers: 4\n",
      "\u001b[34m\u001b[1mwandb\u001b[0m: \tnumber_of_filters: 16\n",
      "\u001b[34m\u001b[1mwandb\u001b[0m: \tweight_decay: 0.01\n"
     ]
    },
    {
     "data": {
      "text/html": [
       "\n",
       "                Tracking run with wandb version 0.10.25<br/>\n",
       "                Syncing run <strong style=\"color:#cdcd00\">robust-sweep-31</strong> to <a href=\"https://wandb.ai\" target=\"_blank\">Weights & Biases</a> <a href=\"https://docs.wandb.com/integrations/jupyter.html\" target=\"_blank\">(Documentation)</a>.<br/>\n",
       "                Project page: <a href=\"https://wandb.ai/dl_45_47/Convolution_Neural_Network_modules\" target=\"_blank\">https://wandb.ai/dl_45_47/Convolution_Neural_Network_modules</a><br/>\n",
       "                Sweep page: <a href=\"https://wandb.ai/dl_45_47/Convolution_Neural_Network_modules/sweeps/c0ebc10x\" target=\"_blank\">https://wandb.ai/dl_45_47/Convolution_Neural_Network_modules/sweeps/c0ebc10x</a><br/>\n",
       "Run page: <a href=\"https://wandb.ai/dl_45_47/Convolution_Neural_Network_modules/runs/9sk2g4qz\" target=\"_blank\">https://wandb.ai/dl_45_47/Convolution_Neural_Network_modules/runs/9sk2g4qz</a><br/>\n",
       "                Run data is saved locally in <code>/content/wandb/run-20210413_142406-9sk2g4qz</code><br/><br/>\n",
       "            "
      ],
      "text/plain": [
       "<IPython.core.display.HTML object>"
      ]
     },
     "metadata": {
      "tags": []
     },
     "output_type": "display_data"
    },
    {
     "name": "stdout",
     "output_type": "stream",
     "text": [
      "Epoch 1/10\n",
      "94/94 [==============================] - 13s 120ms/step - loss: 5.2429 - accuracy: 0.1621 - val_loss: 3.9493 - val_accuracy: 0.2283\n",
      "Epoch 2/10\n",
      "94/94 [==============================] - 11s 113ms/step - loss: 3.5497 - accuracy: 0.2836 - val_loss: 3.1905 - val_accuracy: 0.2417\n",
      "Epoch 3/10\n",
      "94/94 [==============================] - 11s 113ms/step - loss: 2.8522 - accuracy: 0.3462 - val_loss: 3.0109 - val_accuracy: 0.2167\n",
      "Epoch 4/10\n",
      "94/94 [==============================] - 11s 114ms/step - loss: 2.6165 - accuracy: 0.3530 - val_loss: 2.9066 - val_accuracy: 0.2083\n",
      "Epoch 5/10\n",
      "94/94 [==============================] - 11s 113ms/step - loss: 2.5468 - accuracy: 0.3703 - val_loss: 3.4067 - val_accuracy: 0.2083\n",
      "Epoch 6/10\n",
      "94/94 [==============================] - 11s 113ms/step - loss: 2.5309 - accuracy: 0.4061 - val_loss: 2.8730 - val_accuracy: 0.2750\n",
      "Epoch 7/10\n",
      "94/94 [==============================] - 11s 114ms/step - loss: 2.5102 - accuracy: 0.4308 - val_loss: 3.0200 - val_accuracy: 0.2417\n",
      "Epoch 8/10\n",
      "94/94 [==============================] - 11s 113ms/step - loss: 2.4480 - accuracy: 0.4576 - val_loss: 3.0741 - val_accuracy: 0.2533\n",
      "Epoch 9/10\n",
      "94/94 [==============================] - 11s 113ms/step - loss: 2.4858 - accuracy: 0.4896 - val_loss: 3.3759 - val_accuracy: 0.2217\n",
      "Epoch 10/10\n",
      "94/94 [==============================] - 11s 113ms/step - loss: 2.4835 - accuracy: 0.5159 - val_loss: 3.3077 - val_accuracy: 0.2733\n"
     ]
    },
    {
     "data": {
      "text/html": [
       "<br/>Waiting for W&B process to finish, PID 4209<br/>Program ended successfully."
      ],
      "text/plain": [
       "<IPython.core.display.HTML object>"
      ]
     },
     "metadata": {
      "tags": []
     },
     "output_type": "display_data"
    },
    {
     "data": {
      "application/vnd.jupyter.widget-view+json": {
       "model_id": "8dcee2bc586349f7becbfbf7651e9116",
       "version_major": 2,
       "version_minor": 0
      },
      "text/plain": [
       "VBox(children=(Label(value=' 0.00MB of 0.00MB uploaded (0.00MB deduped)\\r'), FloatProgress(value=1.0, max=1.0)…"
      ]
     },
     "metadata": {
      "tags": []
     },
     "output_type": "display_data"
    },
    {
     "data": {
      "text/html": [
       "Find user logs for this run at: <code>/content/wandb/run-20210413_142406-9sk2g4qz/logs/debug.log</code>"
      ],
      "text/plain": [
       "<IPython.core.display.HTML object>"
      ]
     },
     "metadata": {
      "tags": []
     },
     "output_type": "display_data"
    },
    {
     "data": {
      "text/html": [
       "Find internal logs for this run at: <code>/content/wandb/run-20210413_142406-9sk2g4qz/logs/debug-internal.log</code>"
      ],
      "text/plain": [
       "<IPython.core.display.HTML object>"
      ]
     },
     "metadata": {
      "tags": []
     },
     "output_type": "display_data"
    },
    {
     "data": {
      "text/html": [
       "<h3>Run summary:</h3><br/><style>\n",
       "    table.wandb td:nth-child(1) { padding: 0 10px; text-align: right }\n",
       "    </style><table class=\"wandb\">\n",
       "<tr><td>val_loss</td><td>3.30768</td></tr><tr><td>val_accuracy</td><td>0.27333</td></tr><tr><td>loss</td><td>2.61409</td></tr><tr><td>accuracy</td><td>0.47883</td></tr><tr><td>epoch</td><td>9</td></tr><tr><td>_runtime</td><td>112</td></tr><tr><td>_timestamp</td><td>1618323958</td></tr><tr><td>_step</td><td>9</td></tr></table>"
      ],
      "text/plain": [
       "<IPython.core.display.HTML object>"
      ]
     },
     "metadata": {
      "tags": []
     },
     "output_type": "display_data"
    },
    {
     "data": {
      "text/html": [
       "<h3>Run history:</h3><br/><style>\n",
       "    table.wandb td:nth-child(1) { padding: 0 10px; text-align: right }\n",
       "    </style><table class=\"wandb\">\n",
       "<tr><td>val_loss</td><td>█▃▂▁▄▁▂▂▄▄</td></tr><tr><td>val_accuracy</td><td>▃▄▂▁▁█▄▆▂█</td></tr><tr><td>loss</td><td>█▄▂▁▁▁▁▁▁▁</td></tr><tr><td>accuracy</td><td>▁▃▄▄▅▆▆▇██</td></tr><tr><td>epoch</td><td>▁▂▃▃▄▅▆▆▇█</td></tr><tr><td>_runtime</td><td>▁▁▁▁▁▁▁▁▁▁</td></tr><tr><td>_timestamp</td><td>▁▁▁▁▁▁▁▁▁▁</td></tr><tr><td>_step</td><td>▁▂▃▃▄▅▆▆▇█</td></tr></table><br/>"
      ],
      "text/plain": [
       "<IPython.core.display.HTML object>"
      ]
     },
     "metadata": {
      "tags": []
     },
     "output_type": "display_data"
    },
    {
     "data": {
      "text/html": [
       "Synced 5 W&B file(s), 0 media file(s), 0 artifact file(s) and 0 other file(s)"
      ],
      "text/plain": [
       "<IPython.core.display.HTML object>"
      ]
     },
     "metadata": {
      "tags": []
     },
     "output_type": "display_data"
    },
    {
     "data": {
      "text/html": [
       "\n",
       "                    <br/>Synced <strong style=\"color:#cdcd00\">robust-sweep-31</strong>: <a href=\"https://wandb.ai/dl_45_47/Convolution_Neural_Network_modules/runs/9sk2g4qz\" target=\"_blank\">https://wandb.ai/dl_45_47/Convolution_Neural_Network_modules/runs/9sk2g4qz</a><br/>\n",
       "                "
      ],
      "text/plain": [
       "<IPython.core.display.HTML object>"
      ]
     },
     "metadata": {
      "tags": []
     },
     "output_type": "display_data"
    },
    {
     "name": "stderr",
     "output_type": "stream",
     "text": [
      "\u001b[34m\u001b[1mwandb\u001b[0m: Agent Starting Run: 9ivvuy7x with config:\n",
      "\u001b[34m\u001b[1mwandb\u001b[0m: \tBatch_normalization: False\n",
      "\u001b[34m\u001b[1mwandb\u001b[0m: \tbatch_size: 16\n",
      "\u001b[34m\u001b[1mwandb\u001b[0m: \tdata_augmentation: False\n",
      "\u001b[34m\u001b[1mwandb\u001b[0m: \tdropout: 0.2\n",
      "\u001b[34m\u001b[1mwandb\u001b[0m: \tepochs: 15\n",
      "\u001b[34m\u001b[1mwandb\u001b[0m: \tfilter_organisation: 1\n",
      "\u001b[34m\u001b[1mwandb\u001b[0m: \tkernel_size: 5\n",
      "\u001b[34m\u001b[1mwandb\u001b[0m: \tneurons_in_denseLyr: 32\n",
      "\u001b[34m\u001b[1mwandb\u001b[0m: \tno_of_layers: 4\n",
      "\u001b[34m\u001b[1mwandb\u001b[0m: \tnumber_of_filters: 16\n",
      "\u001b[34m\u001b[1mwandb\u001b[0m: \tweight_decay: 0.1\n"
     ]
    },
    {
     "data": {
      "text/html": [
       "\n",
       "                Tracking run with wandb version 0.10.25<br/>\n",
       "                Syncing run <strong style=\"color:#cdcd00\">toasty-sweep-32</strong> to <a href=\"https://wandb.ai\" target=\"_blank\">Weights & Biases</a> <a href=\"https://docs.wandb.com/integrations/jupyter.html\" target=\"_blank\">(Documentation)</a>.<br/>\n",
       "                Project page: <a href=\"https://wandb.ai/dl_45_47/Convolution_Neural_Network_modules\" target=\"_blank\">https://wandb.ai/dl_45_47/Convolution_Neural_Network_modules</a><br/>\n",
       "                Sweep page: <a href=\"https://wandb.ai/dl_45_47/Convolution_Neural_Network_modules/sweeps/c0ebc10x\" target=\"_blank\">https://wandb.ai/dl_45_47/Convolution_Neural_Network_modules/sweeps/c0ebc10x</a><br/>\n",
       "Run page: <a href=\"https://wandb.ai/dl_45_47/Convolution_Neural_Network_modules/runs/9ivvuy7x\" target=\"_blank\">https://wandb.ai/dl_45_47/Convolution_Neural_Network_modules/runs/9ivvuy7x</a><br/>\n",
       "                Run data is saved locally in <code>/content/wandb/run-20210413_142606-9ivvuy7x</code><br/><br/>\n",
       "            "
      ],
      "text/plain": [
       "<IPython.core.display.HTML object>"
      ]
     },
     "metadata": {
      "tags": []
     },
     "output_type": "display_data"
    },
    {
     "name": "stdout",
     "output_type": "stream",
     "text": [
      "Epoch 1/15\n",
      "375/375 [==============================] - 13s 33ms/step - loss: 26.8840 - accuracy: 0.0929 - val_loss: 7.6943 - val_accuracy: 0.0917\n",
      "Epoch 2/15\n",
      "375/375 [==============================] - 12s 32ms/step - loss: 6.3831 - accuracy: 0.1178 - val_loss: 3.9598 - val_accuracy: 0.0967\n",
      "Epoch 3/15\n",
      "375/375 [==============================] - 12s 32ms/step - loss: 3.5989 - accuracy: 0.1234 - val_loss: 2.9333 - val_accuracy: 0.1550\n",
      "Epoch 4/15\n",
      "375/375 [==============================] - 12s 32ms/step - loss: 2.8256 - accuracy: 0.1405 - val_loss: 2.6242 - val_accuracy: 0.1250\n",
      "Epoch 5/15\n",
      "375/375 [==============================] - 12s 32ms/step - loss: 2.5741 - accuracy: 0.1467 - val_loss: 2.4808 - val_accuracy: 0.1900\n",
      "Epoch 6/15\n",
      "375/375 [==============================] - 12s 32ms/step - loss: 2.4751 - accuracy: 0.1602 - val_loss: 2.4289 - val_accuracy: 0.1483\n",
      "Epoch 7/15\n",
      "375/375 [==============================] - 12s 32ms/step - loss: 2.4292 - accuracy: 0.1509 - val_loss: 2.4303 - val_accuracy: 0.1567\n",
      "Epoch 8/15\n",
      "375/375 [==============================] - 12s 32ms/step - loss: 2.3833 - accuracy: 0.1686 - val_loss: 2.3727 - val_accuracy: 0.1750\n",
      "Epoch 9/15\n",
      "375/375 [==============================] - 12s 32ms/step - loss: 2.3393 - accuracy: 0.1711 - val_loss: 2.3239 - val_accuracy: 0.1817\n",
      "Epoch 10/15\n",
      "375/375 [==============================] - 12s 32ms/step - loss: 2.3322 - accuracy: 0.1853 - val_loss: 2.3458 - val_accuracy: 0.2033\n",
      "Epoch 11/15\n",
      "375/375 [==============================] - 12s 32ms/step - loss: 2.3439 - accuracy: 0.1740 - val_loss: 2.3596 - val_accuracy: 0.1833\n",
      "Epoch 12/15\n",
      "375/375 [==============================] - 12s 32ms/step - loss: 2.3254 - accuracy: 0.1799 - val_loss: 2.3770 - val_accuracy: 0.1633\n",
      "Epoch 13/15\n",
      "375/375 [==============================] - 12s 32ms/step - loss: 2.3350 - accuracy: 0.1832 - val_loss: 2.3551 - val_accuracy: 0.1767\n",
      "Epoch 14/15\n",
      "375/375 [==============================] - 12s 32ms/step - loss: 2.3246 - accuracy: 0.1870 - val_loss: 2.3047 - val_accuracy: 0.1700\n",
      "Epoch 15/15\n",
      "375/375 [==============================] - 12s 32ms/step - loss: 2.3182 - accuracy: 0.1798 - val_loss: 2.3433 - val_accuracy: 0.1833\n"
     ]
    },
    {
     "data": {
      "text/html": [
       "<br/>Waiting for W&B process to finish, PID 4274<br/>Program ended successfully."
      ],
      "text/plain": [
       "<IPython.core.display.HTML object>"
      ]
     },
     "metadata": {
      "tags": []
     },
     "output_type": "display_data"
    },
    {
     "data": {
      "application/vnd.jupyter.widget-view+json": {
       "model_id": "429577eee87a446eb5868d16cfcf893d",
       "version_major": 2,
       "version_minor": 0
      },
      "text/plain": [
       "VBox(children=(Label(value=' 0.00MB of 0.00MB uploaded (0.00MB deduped)\\r'), FloatProgress(value=1.0, max=1.0)…"
      ]
     },
     "metadata": {
      "tags": []
     },
     "output_type": "display_data"
    },
    {
     "data": {
      "text/html": [
       "Find user logs for this run at: <code>/content/wandb/run-20210413_142606-9ivvuy7x/logs/debug.log</code>"
      ],
      "text/plain": [
       "<IPython.core.display.HTML object>"
      ]
     },
     "metadata": {
      "tags": []
     },
     "output_type": "display_data"
    },
    {
     "data": {
      "text/html": [
       "Find internal logs for this run at: <code>/content/wandb/run-20210413_142606-9ivvuy7x/logs/debug-internal.log</code>"
      ],
      "text/plain": [
       "<IPython.core.display.HTML object>"
      ]
     },
     "metadata": {
      "tags": []
     },
     "output_type": "display_data"
    },
    {
     "data": {
      "text/html": [
       "<h3>Run summary:</h3><br/><style>\n",
       "    table.wandb td:nth-child(1) { padding: 0 10px; text-align: right }\n",
       "    </style><table class=\"wandb\">\n",
       "<tr><td>val_loss</td><td>2.34329</td></tr><tr><td>val_accuracy</td><td>0.18333</td></tr><tr><td>loss</td><td>2.32226</td></tr><tr><td>accuracy</td><td>0.185</td></tr><tr><td>epoch</td><td>14</td></tr><tr><td>_runtime</td><td>183</td></tr><tr><td>_timestamp</td><td>1618324149</td></tr><tr><td>_step</td><td>14</td></tr></table>"
      ],
      "text/plain": [
       "<IPython.core.display.HTML object>"
      ]
     },
     "metadata": {
      "tags": []
     },
     "output_type": "display_data"
    },
    {
     "data": {
      "text/html": [
       "<h3>Run history:</h3><br/><style>\n",
       "    table.wandb td:nth-child(1) { padding: 0 10px; text-align: right }\n",
       "    </style><table class=\"wandb\">\n",
       "<tr><td>val_loss</td><td>█▃▂▁▁▁▁▁▁▁▁▁▁▁▁</td></tr><tr><td>val_accuracy</td><td>▁▁▅▃▇▅▅▆▇█▇▅▆▆▇</td></tr><tr><td>loss</td><td>█▃▂▁▁▁▁▁▁▁▁▁▁▁▁</td></tr><tr><td>accuracy</td><td>▁▃▄▄▅▅▆▆▆█▇▇███</td></tr><tr><td>epoch</td><td>▁▁▂▃▃▃▄▅▅▅▆▇▇▇█</td></tr><tr><td>_runtime</td><td>▁▁▁▁▁▁▁▁▁▁▁▁▁▁▁</td></tr><tr><td>_timestamp</td><td>▁▁▁▁▁▁▁▁▁▁▁▁▁▁▁</td></tr><tr><td>_step</td><td>▁▁▂▃▃▃▄▅▅▅▆▇▇▇█</td></tr></table><br/>"
      ],
      "text/plain": [
       "<IPython.core.display.HTML object>"
      ]
     },
     "metadata": {
      "tags": []
     },
     "output_type": "display_data"
    },
    {
     "data": {
      "text/html": [
       "Synced 5 W&B file(s), 0 media file(s), 0 artifact file(s) and 0 other file(s)"
      ],
      "text/plain": [
       "<IPython.core.display.HTML object>"
      ]
     },
     "metadata": {
      "tags": []
     },
     "output_type": "display_data"
    },
    {
     "data": {
      "text/html": [
       "\n",
       "                    <br/>Synced <strong style=\"color:#cdcd00\">toasty-sweep-32</strong>: <a href=\"https://wandb.ai/dl_45_47/Convolution_Neural_Network_modules/runs/9ivvuy7x\" target=\"_blank\">https://wandb.ai/dl_45_47/Convolution_Neural_Network_modules/runs/9ivvuy7x</a><br/>\n",
       "                "
      ],
      "text/plain": [
       "<IPython.core.display.HTML object>"
      ]
     },
     "metadata": {
      "tags": []
     },
     "output_type": "display_data"
    },
    {
     "name": "stderr",
     "output_type": "stream",
     "text": [
      "\u001b[34m\u001b[1mwandb\u001b[0m: Agent Starting Run: nybapnhq with config:\n",
      "\u001b[34m\u001b[1mwandb\u001b[0m: \tBatch_normalization: True\n",
      "\u001b[34m\u001b[1mwandb\u001b[0m: \tbatch_size: 32\n",
      "\u001b[34m\u001b[1mwandb\u001b[0m: \tdata_augmentation: True\n",
      "\u001b[34m\u001b[1mwandb\u001b[0m: \tdropout: 0.2\n",
      "\u001b[34m\u001b[1mwandb\u001b[0m: \tepochs: 5\n",
      "\u001b[34m\u001b[1mwandb\u001b[0m: \tfilter_organisation: 0.5\n",
      "\u001b[34m\u001b[1mwandb\u001b[0m: \tkernel_size: 5\n",
      "\u001b[34m\u001b[1mwandb\u001b[0m: \tneurons_in_denseLyr: 64\n",
      "\u001b[34m\u001b[1mwandb\u001b[0m: \tno_of_layers: 7\n",
      "\u001b[34m\u001b[1mwandb\u001b[0m: \tnumber_of_filters: 64\n",
      "\u001b[34m\u001b[1mwandb\u001b[0m: \tweight_decay: 0.001\n"
     ]
    },
    {
     "data": {
      "text/html": [
       "\n",
       "                Tracking run with wandb version 0.10.25<br/>\n",
       "                Syncing run <strong style=\"color:#cdcd00\">rare-sweep-33</strong> to <a href=\"https://wandb.ai\" target=\"_blank\">Weights & Biases</a> <a href=\"https://docs.wandb.com/integrations/jupyter.html\" target=\"_blank\">(Documentation)</a>.<br/>\n",
       "                Project page: <a href=\"https://wandb.ai/dl_45_47/Convolution_Neural_Network_modules\" target=\"_blank\">https://wandb.ai/dl_45_47/Convolution_Neural_Network_modules</a><br/>\n",
       "                Sweep page: <a href=\"https://wandb.ai/dl_45_47/Convolution_Neural_Network_modules/sweeps/c0ebc10x\" target=\"_blank\">https://wandb.ai/dl_45_47/Convolution_Neural_Network_modules/sweeps/c0ebc10x</a><br/>\n",
       "Run page: <a href=\"https://wandb.ai/dl_45_47/Convolution_Neural_Network_modules/runs/nybapnhq\" target=\"_blank\">https://wandb.ai/dl_45_47/Convolution_Neural_Network_modules/runs/nybapnhq</a><br/>\n",
       "                Run data is saved locally in <code>/content/wandb/run-20210413_142922-nybapnhq</code><br/><br/>\n",
       "            "
      ],
      "text/plain": [
       "<IPython.core.display.HTML object>"
      ]
     },
     "metadata": {
      "tags": []
     },
     "output_type": "display_data"
    },
    {
     "data": {
      "text/html": [
       "<br/>Waiting for W&B process to finish, PID 4354<br/>Program failed with code 1.  Press ctrl-c to abort syncing."
      ],
      "text/plain": [
       "<IPython.core.display.HTML object>"
      ]
     },
     "metadata": {
      "tags": []
     },
     "output_type": "display_data"
    },
    {
     "data": {
      "application/vnd.jupyter.widget-view+json": {
       "model_id": "3fd60b48528643609376cc1fca3ae790",
       "version_major": 2,
       "version_minor": 0
      },
      "text/plain": [
       "VBox(children=(Label(value=' 0.00MB of 0.00MB uploaded (0.00MB deduped)\\r'), FloatProgress(value=1.0, max=1.0)…"
      ]
     },
     "metadata": {
      "tags": []
     },
     "output_type": "display_data"
    },
    {
     "data": {
      "text/html": [
       "Find user logs for this run at: <code>/content/wandb/run-20210413_142922-nybapnhq/logs/debug.log</code>"
      ],
      "text/plain": [
       "<IPython.core.display.HTML object>"
      ]
     },
     "metadata": {
      "tags": []
     },
     "output_type": "display_data"
    },
    {
     "data": {
      "text/html": [
       "Find internal logs for this run at: <code>/content/wandb/run-20210413_142922-nybapnhq/logs/debug-internal.log</code>"
      ],
      "text/plain": [
       "<IPython.core.display.HTML object>"
      ]
     },
     "metadata": {
      "tags": []
     },
     "output_type": "display_data"
    },
    {
     "data": {
      "text/html": [
       "Synced 4 W&B file(s), 0 media file(s), 0 artifact file(s) and 0 other file(s)"
      ],
      "text/plain": [
       "<IPython.core.display.HTML object>"
      ]
     },
     "metadata": {
      "tags": []
     },
     "output_type": "display_data"
    },
    {
     "data": {
      "text/html": [
       "\n",
       "                    <br/>Synced <strong style=\"color:#cdcd00\">rare-sweep-33</strong>: <a href=\"https://wandb.ai/dl_45_47/Convolution_Neural_Network_modules/runs/nybapnhq\" target=\"_blank\">https://wandb.ai/dl_45_47/Convolution_Neural_Network_modules/runs/nybapnhq</a><br/>\n",
       "                "
      ],
      "text/plain": [
       "<IPython.core.display.HTML object>"
      ]
     },
     "metadata": {
      "tags": []
     },
     "output_type": "display_data"
    },
    {
     "name": "stderr",
     "output_type": "stream",
     "text": [
      "\u001b[34m\u001b[1mwandb\u001b[0m: \u001b[32m\u001b[41mERROR\u001b[0m Run nybapnhq errored: ValueError('Negative dimension size caused by subtracting 5 from 2 for \\'{{node conv2d_6/Conv2D}} = Conv2D[T=DT_FLOAT, data_format=\"NHWC\", dilations=[1, 1, 1, 1], explicit_paddings=[], padding=\"VALID\", strides=[1, 1, 1, 1], use_cudnn_on_gpu=true](Placeholder, conv2d_6/Conv2D/ReadVariableOp)\\' with input shapes: [?,2,2,32], [5,5,32,16].')\n",
      "\u001b[34m\u001b[1mwandb\u001b[0m: Agent Starting Run: badxyu32 with config:\n",
      "\u001b[34m\u001b[1mwandb\u001b[0m: \tBatch_normalization: True\n",
      "\u001b[34m\u001b[1mwandb\u001b[0m: \tbatch_size: 16\n",
      "\u001b[34m\u001b[1mwandb\u001b[0m: \tdata_augmentation: True\n",
      "\u001b[34m\u001b[1mwandb\u001b[0m: \tdropout: 0.3\n",
      "\u001b[34m\u001b[1mwandb\u001b[0m: \tepochs: 15\n",
      "\u001b[34m\u001b[1mwandb\u001b[0m: \tfilter_organisation: 2\n",
      "\u001b[34m\u001b[1mwandb\u001b[0m: \tkernel_size: 5\n",
      "\u001b[34m\u001b[1mwandb\u001b[0m: \tneurons_in_denseLyr: 128\n",
      "\u001b[34m\u001b[1mwandb\u001b[0m: \tno_of_layers: 7\n",
      "\u001b[34m\u001b[1mwandb\u001b[0m: \tnumber_of_filters: 32\n",
      "\u001b[34m\u001b[1mwandb\u001b[0m: \tweight_decay: 0.1\n"
     ]
    },
    {
     "data": {
      "text/html": [
       "\n",
       "                Tracking run with wandb version 0.10.25<br/>\n",
       "                Syncing run <strong style=\"color:#cdcd00\">youthful-sweep-34</strong> to <a href=\"https://wandb.ai\" target=\"_blank\">Weights & Biases</a> <a href=\"https://docs.wandb.com/integrations/jupyter.html\" target=\"_blank\">(Documentation)</a>.<br/>\n",
       "                Project page: <a href=\"https://wandb.ai/dl_45_47/Convolution_Neural_Network_modules\" target=\"_blank\">https://wandb.ai/dl_45_47/Convolution_Neural_Network_modules</a><br/>\n",
       "                Sweep page: <a href=\"https://wandb.ai/dl_45_47/Convolution_Neural_Network_modules/sweeps/c0ebc10x\" target=\"_blank\">https://wandb.ai/dl_45_47/Convolution_Neural_Network_modules/sweeps/c0ebc10x</a><br/>\n",
       "Run page: <a href=\"https://wandb.ai/dl_45_47/Convolution_Neural_Network_modules/runs/badxyu32\" target=\"_blank\">https://wandb.ai/dl_45_47/Convolution_Neural_Network_modules/runs/badxyu32</a><br/>\n",
       "                Run data is saved locally in <code>/content/wandb/run-20210413_142934-badxyu32</code><br/><br/>\n",
       "            "
      ],
      "text/plain": [
       "<IPython.core.display.HTML object>"
      ]
     },
     "metadata": {
      "tags": []
     },
     "output_type": "display_data"
    },
    {
     "data": {
      "text/html": [
       "<br/>Waiting for W&B process to finish, PID 4383<br/>Program failed with code 1.  Press ctrl-c to abort syncing."
      ],
      "text/plain": [
       "<IPython.core.display.HTML object>"
      ]
     },
     "metadata": {
      "tags": []
     },
     "output_type": "display_data"
    },
    {
     "data": {
      "application/vnd.jupyter.widget-view+json": {
       "model_id": "cbd77aed37b341aaaac864d781a89879",
       "version_major": 2,
       "version_minor": 0
      },
      "text/plain": [
       "VBox(children=(Label(value=' 0.00MB of 0.00MB uploaded (0.00MB deduped)\\r'), FloatProgress(value=1.0, max=1.0)…"
      ]
     },
     "metadata": {
      "tags": []
     },
     "output_type": "display_data"
    },
    {
     "data": {
      "text/html": [
       "Find user logs for this run at: <code>/content/wandb/run-20210413_142934-badxyu32/logs/debug.log</code>"
      ],
      "text/plain": [
       "<IPython.core.display.HTML object>"
      ]
     },
     "metadata": {
      "tags": []
     },
     "output_type": "display_data"
    },
    {
     "data": {
      "text/html": [
       "Find internal logs for this run at: <code>/content/wandb/run-20210413_142934-badxyu32/logs/debug-internal.log</code>"
      ],
      "text/plain": [
       "<IPython.core.display.HTML object>"
      ]
     },
     "metadata": {
      "tags": []
     },
     "output_type": "display_data"
    },
    {
     "data": {
      "text/html": [
       "Synced 4 W&B file(s), 0 media file(s), 0 artifact file(s) and 0 other file(s)"
      ],
      "text/plain": [
       "<IPython.core.display.HTML object>"
      ]
     },
     "metadata": {
      "tags": []
     },
     "output_type": "display_data"
    },
    {
     "data": {
      "text/html": [
       "\n",
       "                    <br/>Synced <strong style=\"color:#cdcd00\">youthful-sweep-34</strong>: <a href=\"https://wandb.ai/dl_45_47/Convolution_Neural_Network_modules/runs/badxyu32\" target=\"_blank\">https://wandb.ai/dl_45_47/Convolution_Neural_Network_modules/runs/badxyu32</a><br/>\n",
       "                "
      ],
      "text/plain": [
       "<IPython.core.display.HTML object>"
      ]
     },
     "metadata": {
      "tags": []
     },
     "output_type": "display_data"
    },
    {
     "name": "stderr",
     "output_type": "stream",
     "text": [
      "\u001b[34m\u001b[1mwandb\u001b[0m: \u001b[32m\u001b[41mERROR\u001b[0m Run badxyu32 errored: ValueError('Negative dimension size caused by subtracting 5 from 2 for \\'{{node conv2d_6/Conv2D}} = Conv2D[T=DT_FLOAT, data_format=\"NHWC\", dilations=[1, 1, 1, 1], explicit_paddings=[], padding=\"VALID\", strides=[1, 1, 1, 1], use_cudnn_on_gpu=true](Placeholder, conv2d_6/Conv2D/ReadVariableOp)\\' with input shapes: [?,2,2,64], [5,5,64,128].')\n",
      "\u001b[34m\u001b[1mwandb\u001b[0m: Agent Starting Run: gzcd3u8a with config:\n",
      "\u001b[34m\u001b[1mwandb\u001b[0m: \tBatch_normalization: True\n",
      "\u001b[34m\u001b[1mwandb\u001b[0m: \tbatch_size: 64\n",
      "\u001b[34m\u001b[1mwandb\u001b[0m: \tdata_augmentation: True\n",
      "\u001b[34m\u001b[1mwandb\u001b[0m: \tdropout: 0.2\n",
      "\u001b[34m\u001b[1mwandb\u001b[0m: \tepochs: 5\n",
      "\u001b[34m\u001b[1mwandb\u001b[0m: \tfilter_organisation: 0.5\n",
      "\u001b[34m\u001b[1mwandb\u001b[0m: \tkernel_size: 7\n",
      "\u001b[34m\u001b[1mwandb\u001b[0m: \tneurons_in_denseLyr: 256\n",
      "\u001b[34m\u001b[1mwandb\u001b[0m: \tno_of_layers: 7\n",
      "\u001b[34m\u001b[1mwandb\u001b[0m: \tnumber_of_filters: 64\n",
      "\u001b[34m\u001b[1mwandb\u001b[0m: \tweight_decay: 0.01\n"
     ]
    },
    {
     "data": {
      "text/html": [
       "\n",
       "                Tracking run with wandb version 0.10.25<br/>\n",
       "                Syncing run <strong style=\"color:#cdcd00\">volcanic-sweep-35</strong> to <a href=\"https://wandb.ai\" target=\"_blank\">Weights & Biases</a> <a href=\"https://docs.wandb.com/integrations/jupyter.html\" target=\"_blank\">(Documentation)</a>.<br/>\n",
       "                Project page: <a href=\"https://wandb.ai/dl_45_47/Convolution_Neural_Network_modules\" target=\"_blank\">https://wandb.ai/dl_45_47/Convolution_Neural_Network_modules</a><br/>\n",
       "                Sweep page: <a href=\"https://wandb.ai/dl_45_47/Convolution_Neural_Network_modules/sweeps/c0ebc10x\" target=\"_blank\">https://wandb.ai/dl_45_47/Convolution_Neural_Network_modules/sweeps/c0ebc10x</a><br/>\n",
       "Run page: <a href=\"https://wandb.ai/dl_45_47/Convolution_Neural_Network_modules/runs/gzcd3u8a\" target=\"_blank\">https://wandb.ai/dl_45_47/Convolution_Neural_Network_modules/runs/gzcd3u8a</a><br/>\n",
       "                Run data is saved locally in <code>/content/wandb/run-20210413_142945-gzcd3u8a</code><br/><br/>\n",
       "            "
      ],
      "text/plain": [
       "<IPython.core.display.HTML object>"
      ]
     },
     "metadata": {
      "tags": []
     },
     "output_type": "display_data"
    },
    {
     "data": {
      "text/html": [
       "<br/>Waiting for W&B process to finish, PID 4412<br/>Program failed with code 1.  Press ctrl-c to abort syncing."
      ],
      "text/plain": [
       "<IPython.core.display.HTML object>"
      ]
     },
     "metadata": {
      "tags": []
     },
     "output_type": "display_data"
    },
    {
     "data": {
      "application/vnd.jupyter.widget-view+json": {
       "model_id": "d03ce24577364e468c67249e43dc6b8c",
       "version_major": 2,
       "version_minor": 0
      },
      "text/plain": [
       "VBox(children=(Label(value=' 0.00MB of 0.00MB uploaded (0.00MB deduped)\\r'), FloatProgress(value=1.0, max=1.0)…"
      ]
     },
     "metadata": {
      "tags": []
     },
     "output_type": "display_data"
    },
    {
     "data": {
      "text/html": [
       "Find user logs for this run at: <code>/content/wandb/run-20210413_142945-gzcd3u8a/logs/debug.log</code>"
      ],
      "text/plain": [
       "<IPython.core.display.HTML object>"
      ]
     },
     "metadata": {
      "tags": []
     },
     "output_type": "display_data"
    },
    {
     "data": {
      "text/html": [
       "Find internal logs for this run at: <code>/content/wandb/run-20210413_142945-gzcd3u8a/logs/debug-internal.log</code>"
      ],
      "text/plain": [
       "<IPython.core.display.HTML object>"
      ]
     },
     "metadata": {
      "tags": []
     },
     "output_type": "display_data"
    },
    {
     "data": {
      "text/html": [
       "Synced 4 W&B file(s), 0 media file(s), 0 artifact file(s) and 0 other file(s)"
      ],
      "text/plain": [
       "<IPython.core.display.HTML object>"
      ]
     },
     "metadata": {
      "tags": []
     },
     "output_type": "display_data"
    },
    {
     "data": {
      "text/html": [
       "\n",
       "                    <br/>Synced <strong style=\"color:#cdcd00\">volcanic-sweep-35</strong>: <a href=\"https://wandb.ai/dl_45_47/Convolution_Neural_Network_modules/runs/gzcd3u8a\" target=\"_blank\">https://wandb.ai/dl_45_47/Convolution_Neural_Network_modules/runs/gzcd3u8a</a><br/>\n",
       "                "
      ],
      "text/plain": [
       "<IPython.core.display.HTML object>"
      ]
     },
     "metadata": {
      "tags": []
     },
     "output_type": "display_data"
    },
    {
     "name": "stderr",
     "output_type": "stream",
     "text": [
      "\u001b[34m\u001b[1mwandb\u001b[0m: \u001b[32m\u001b[41mERROR\u001b[0m Run gzcd3u8a errored: ValueError('Negative dimension size caused by subtracting 7 from 6 for \\'{{node conv2d_5/Conv2D}} = Conv2D[T=DT_FLOAT, data_format=\"NHWC\", dilations=[1, 1, 1, 1], explicit_paddings=[], padding=\"VALID\", strides=[1, 1, 1, 1], use_cudnn_on_gpu=true](Placeholder, conv2d_5/Conv2D/ReadVariableOp)\\' with input shapes: [?,6,6,64], [7,7,64,32].')\n",
      "\u001b[34m\u001b[1mwandb\u001b[0m: Agent Starting Run: yuey6htc with config:\n",
      "\u001b[34m\u001b[1mwandb\u001b[0m: \tBatch_normalization: True\n",
      "\u001b[34m\u001b[1mwandb\u001b[0m: \tbatch_size: 16\n",
      "\u001b[34m\u001b[1mwandb\u001b[0m: \tdata_augmentation: True\n",
      "\u001b[34m\u001b[1mwandb\u001b[0m: \tdropout: 0.2\n",
      "\u001b[34m\u001b[1mwandb\u001b[0m: \tepochs: 20\n",
      "\u001b[34m\u001b[1mwandb\u001b[0m: \tfilter_organisation: 2\n",
      "\u001b[34m\u001b[1mwandb\u001b[0m: \tkernel_size: 7\n",
      "\u001b[34m\u001b[1mwandb\u001b[0m: \tneurons_in_denseLyr: 32\n",
      "\u001b[34m\u001b[1mwandb\u001b[0m: \tno_of_layers: 5\n",
      "\u001b[34m\u001b[1mwandb\u001b[0m: \tnumber_of_filters: 64\n",
      "\u001b[34m\u001b[1mwandb\u001b[0m: \tweight_decay: 0.01\n"
     ]
    },
    {
     "data": {
      "text/html": [
       "\n",
       "                Tracking run with wandb version 0.10.25<br/>\n",
       "                Syncing run <strong style=\"color:#cdcd00\">zany-sweep-36</strong> to <a href=\"https://wandb.ai\" target=\"_blank\">Weights & Biases</a> <a href=\"https://docs.wandb.com/integrations/jupyter.html\" target=\"_blank\">(Documentation)</a>.<br/>\n",
       "                Project page: <a href=\"https://wandb.ai/dl_45_47/Convolution_Neural_Network_modules\" target=\"_blank\">https://wandb.ai/dl_45_47/Convolution_Neural_Network_modules</a><br/>\n",
       "                Sweep page: <a href=\"https://wandb.ai/dl_45_47/Convolution_Neural_Network_modules/sweeps/c0ebc10x\" target=\"_blank\">https://wandb.ai/dl_45_47/Convolution_Neural_Network_modules/sweeps/c0ebc10x</a><br/>\n",
       "Run page: <a href=\"https://wandb.ai/dl_45_47/Convolution_Neural_Network_modules/runs/yuey6htc\" target=\"_blank\">https://wandb.ai/dl_45_47/Convolution_Neural_Network_modules/runs/yuey6htc</a><br/>\n",
       "                Run data is saved locally in <code>/content/wandb/run-20210413_142957-yuey6htc</code><br/><br/>\n",
       "            "
      ],
      "text/plain": [
       "<IPython.core.display.HTML object>"
      ]
     },
     "metadata": {
      "tags": []
     },
     "output_type": "display_data"
    },
    {
     "name": "stdout",
     "output_type": "stream",
     "text": [
      "Epoch 1/20\n",
      "375/375 [==============================] - 96s 254ms/step - loss: 4.7891 - accuracy: 0.1393 - val_loss: 3.1128 - val_accuracy: 0.1533\n",
      "Epoch 2/20\n",
      "166/375 [============>.................] - ETA: 50s - loss: 2.8970 - accuracy: 0.1746"
     ]
    }
   ],
   "source": [
    "wandb.agent(sweep_id, train)\n",
    "# Notice how Keras is complaining that our volume is too small. You will encounter similar errors for other pre-trained networks as well. When you see this type of error, you know you need to increase \n",
    "# your input image dimensions."
   ]
  },
  {
   "cell_type": "code",
   "execution_count": null,
   "metadata": {
    "id": "hyDxuxmtMMcx"
   },
   "outputs": [],
   "source": []
  }
 ],
 "metadata": {
  "accelerator": "GPU",
  "colab": {
   "collapsed_sections": [],
   "name": "A2PartAGit.ipynb",
   "provenance": []
  },
  "kernelspec": {
   "display_name": "Python 3",
   "language": "python",
   "name": "python3"
  },
  "language_info": {
   "codemirror_mode": {
    "name": "ipython",
    "version": 3
   },
   "file_extension": ".py",
   "mimetype": "text/x-python",
   "name": "python",
   "nbconvert_exporter": "python",
   "pygments_lexer": "ipython3",
   "version": "3.6.9"
  },
  "widgets": {
   "application/vnd.jupyter.widget-state+json": {
    "008c05c3563e41598b9005b74cb9e6bd": {
     "model_module": "@jupyter-widgets/controls",
     "model_name": "VBoxModel",
     "state": {
      "_dom_classes": [],
      "_model_module": "@jupyter-widgets/controls",
      "_model_module_version": "1.5.0",
      "_model_name": "VBoxModel",
      "_view_count": null,
      "_view_module": "@jupyter-widgets/controls",
      "_view_module_version": "1.5.0",
      "_view_name": "VBoxView",
      "box_style": "",
      "children": [
       "IPY_MODEL_79706bbf8e4e4a45802cda9bb5a5eed9",
       "IPY_MODEL_00ae761e3190420490b596fb8217749c"
      ],
      "layout": "IPY_MODEL_6d7b85761e234b6ba7beb907184f05ec"
     }
    },
    "00ab8cdf86f040dc9841b8bad6fca70e": {
     "model_module": "@jupyter-widgets/controls",
     "model_name": "LabelModel",
     "state": {
      "_dom_classes": [],
      "_model_module": "@jupyter-widgets/controls",
      "_model_module_version": "1.5.0",
      "_model_name": "LabelModel",
      "_view_count": null,
      "_view_module": "@jupyter-widgets/controls",
      "_view_module_version": "1.5.0",
      "_view_name": "LabelView",
      "description": "",
      "description_tooltip": null,
      "layout": "IPY_MODEL_bcb515f59f4d4779b96233f55338d343",
      "placeholder": "​",
      "style": "IPY_MODEL_3273353ee18a4c4bb2794bfc50b7d835",
      "value": " 0.01MB of 0.01MB uploaded (0.00MB deduped)\r"
     }
    },
    "00ae761e3190420490b596fb8217749c": {
     "model_module": "@jupyter-widgets/controls",
     "model_name": "FloatProgressModel",
     "state": {
      "_dom_classes": [],
      "_model_module": "@jupyter-widgets/controls",
      "_model_module_version": "1.5.0",
      "_model_name": "FloatProgressModel",
      "_view_count": null,
      "_view_module": "@jupyter-widgets/controls",
      "_view_module_version": "1.5.0",
      "_view_name": "ProgressView",
      "bar_style": "",
      "description": "",
      "description_tooltip": null,
      "layout": "IPY_MODEL_b00e3eb44a95458b84b8c71cc9eb3f2b",
      "max": 1,
      "min": 0,
      "orientation": "horizontal",
      "style": "IPY_MODEL_0ad06406a97345c8ad90a4f2e7639977",
      "value": 1
     }
    },
    "01bcb255b3cc4873a9c4d003597fbe50": {
     "model_module": "@jupyter-widgets/controls",
     "model_name": "VBoxModel",
     "state": {
      "_dom_classes": [],
      "_model_module": "@jupyter-widgets/controls",
      "_model_module_version": "1.5.0",
      "_model_name": "VBoxModel",
      "_view_count": null,
      "_view_module": "@jupyter-widgets/controls",
      "_view_module_version": "1.5.0",
      "_view_name": "VBoxView",
      "box_style": "",
      "children": [
       "IPY_MODEL_34da19f380af430aa8eda61919eb5bc5",
       "IPY_MODEL_bf6f0d6de03742b183cc9f0cee187e0e"
      ],
      "layout": "IPY_MODEL_47e123c62223429facedd44468d009a8"
     }
    },
    "0319e58ca85e4b1db08cdf3937c5648f": {
     "model_module": "@jupyter-widgets/base",
     "model_name": "LayoutModel",
     "state": {
      "_model_module": "@jupyter-widgets/base",
      "_model_module_version": "1.2.0",
      "_model_name": "LayoutModel",
      "_view_count": null,
      "_view_module": "@jupyter-widgets/base",
      "_view_module_version": "1.2.0",
      "_view_name": "LayoutView",
      "align_content": null,
      "align_items": null,
      "align_self": null,
      "border": null,
      "bottom": null,
      "display": null,
      "flex": null,
      "flex_flow": null,
      "grid_area": null,
      "grid_auto_columns": null,
      "grid_auto_flow": null,
      "grid_auto_rows": null,
      "grid_column": null,
      "grid_gap": null,
      "grid_row": null,
      "grid_template_areas": null,
      "grid_template_columns": null,
      "grid_template_rows": null,
      "height": null,
      "justify_content": null,
      "justify_items": null,
      "left": null,
      "margin": null,
      "max_height": null,
      "max_width": null,
      "min_height": null,
      "min_width": null,
      "object_fit": null,
      "object_position": null,
      "order": null,
      "overflow": null,
      "overflow_x": null,
      "overflow_y": null,
      "padding": null,
      "right": null,
      "top": null,
      "visibility": null,
      "width": null
     }
    },
    "0400692fe3c7409ba1c6871d1adbd4fe": {
     "model_module": "@jupyter-widgets/controls",
     "model_name": "LabelModel",
     "state": {
      "_dom_classes": [],
      "_model_module": "@jupyter-widgets/controls",
      "_model_module_version": "1.5.0",
      "_model_name": "LabelModel",
      "_view_count": null,
      "_view_module": "@jupyter-widgets/controls",
      "_view_module_version": "1.5.0",
      "_view_name": "LabelView",
      "description": "",
      "description_tooltip": null,
      "layout": "IPY_MODEL_e26a2ebc36774e22b3c4be72294e1c8e",
      "placeholder": "​",
      "style": "IPY_MODEL_5f4446c7bea847ed983ca0004a81d4c1",
      "value": " 0.01MB of 0.01MB uploaded (0.00MB deduped)\r"
     }
    },
    "06535aa6df894e668242dc066d763acc": {
     "model_module": "@jupyter-widgets/base",
     "model_name": "LayoutModel",
     "state": {
      "_model_module": "@jupyter-widgets/base",
      "_model_module_version": "1.2.0",
      "_model_name": "LayoutModel",
      "_view_count": null,
      "_view_module": "@jupyter-widgets/base",
      "_view_module_version": "1.2.0",
      "_view_name": "LayoutView",
      "align_content": null,
      "align_items": null,
      "align_self": null,
      "border": null,
      "bottom": null,
      "display": null,
      "flex": null,
      "flex_flow": null,
      "grid_area": null,
      "grid_auto_columns": null,
      "grid_auto_flow": null,
      "grid_auto_rows": null,
      "grid_column": null,
      "grid_gap": null,
      "grid_row": null,
      "grid_template_areas": null,
      "grid_template_columns": null,
      "grid_template_rows": null,
      "height": null,
      "justify_content": null,
      "justify_items": null,
      "left": null,
      "margin": null,
      "max_height": null,
      "max_width": null,
      "min_height": null,
      "min_width": null,
      "object_fit": null,
      "object_position": null,
      "order": null,
      "overflow": null,
      "overflow_x": null,
      "overflow_y": null,
      "padding": null,
      "right": null,
      "top": null,
      "visibility": null,
      "width": null
     }
    },
    "06606efd04f44818886c050a50c1fcbe": {
     "model_module": "@jupyter-widgets/controls",
     "model_name": "LabelModel",
     "state": {
      "_dom_classes": [],
      "_model_module": "@jupyter-widgets/controls",
      "_model_module_version": "1.5.0",
      "_model_name": "LabelModel",
      "_view_count": null,
      "_view_module": "@jupyter-widgets/controls",
      "_view_module_version": "1.5.0",
      "_view_name": "LabelView",
      "description": "",
      "description_tooltip": null,
      "layout": "IPY_MODEL_7fdef29813c24b858a1c6682856bec90",
      "placeholder": "​",
      "style": "IPY_MODEL_6a18a33746674428878c9fc23a85d914",
      "value": " 0.01MB of 0.01MB uploaded (0.00MB deduped)\r"
     }
    },
    "0743f037acdd486ca6e5d63b54c1b5a9": {
     "model_module": "@jupyter-widgets/base",
     "model_name": "LayoutModel",
     "state": {
      "_model_module": "@jupyter-widgets/base",
      "_model_module_version": "1.2.0",
      "_model_name": "LayoutModel",
      "_view_count": null,
      "_view_module": "@jupyter-widgets/base",
      "_view_module_version": "1.2.0",
      "_view_name": "LayoutView",
      "align_content": null,
      "align_items": null,
      "align_self": null,
      "border": null,
      "bottom": null,
      "display": null,
      "flex": null,
      "flex_flow": null,
      "grid_area": null,
      "grid_auto_columns": null,
      "grid_auto_flow": null,
      "grid_auto_rows": null,
      "grid_column": null,
      "grid_gap": null,
      "grid_row": null,
      "grid_template_areas": null,
      "grid_template_columns": null,
      "grid_template_rows": null,
      "height": null,
      "justify_content": null,
      "justify_items": null,
      "left": null,
      "margin": null,
      "max_height": null,
      "max_width": null,
      "min_height": null,
      "min_width": null,
      "object_fit": null,
      "object_position": null,
      "order": null,
      "overflow": null,
      "overflow_x": null,
      "overflow_y": null,
      "padding": null,
      "right": null,
      "top": null,
      "visibility": null,
      "width": null
     }
    },
    "0783c980f3c449db80fcf0bbf4981e87": {
     "model_module": "@jupyter-widgets/controls",
     "model_name": "VBoxModel",
     "state": {
      "_dom_classes": [],
      "_model_module": "@jupyter-widgets/controls",
      "_model_module_version": "1.5.0",
      "_model_name": "VBoxModel",
      "_view_count": null,
      "_view_module": "@jupyter-widgets/controls",
      "_view_module_version": "1.5.0",
      "_view_name": "VBoxView",
      "box_style": "",
      "children": [
       "IPY_MODEL_8547b5110837457f9a5ce121b9a374db",
       "IPY_MODEL_6b703966b449493492f4ead03ce0af73"
      ],
      "layout": "IPY_MODEL_1c3fdabc080f4d509cb5c76a24e6fc58"
     }
    },
    "0ad06406a97345c8ad90a4f2e7639977": {
     "model_module": "@jupyter-widgets/controls",
     "model_name": "ProgressStyleModel",
     "state": {
      "_model_module": "@jupyter-widgets/controls",
      "_model_module_version": "1.5.0",
      "_model_name": "ProgressStyleModel",
      "_view_count": null,
      "_view_module": "@jupyter-widgets/base",
      "_view_module_version": "1.2.0",
      "_view_name": "StyleView",
      "bar_color": null,
      "description_width": ""
     }
    },
    "0c0d16b4aadc4051beb302a657e04caa": {
     "model_module": "@jupyter-widgets/base",
     "model_name": "LayoutModel",
     "state": {
      "_model_module": "@jupyter-widgets/base",
      "_model_module_version": "1.2.0",
      "_model_name": "LayoutModel",
      "_view_count": null,
      "_view_module": "@jupyter-widgets/base",
      "_view_module_version": "1.2.0",
      "_view_name": "LayoutView",
      "align_content": null,
      "align_items": null,
      "align_self": null,
      "border": null,
      "bottom": null,
      "display": null,
      "flex": null,
      "flex_flow": null,
      "grid_area": null,
      "grid_auto_columns": null,
      "grid_auto_flow": null,
      "grid_auto_rows": null,
      "grid_column": null,
      "grid_gap": null,
      "grid_row": null,
      "grid_template_areas": null,
      "grid_template_columns": null,
      "grid_template_rows": null,
      "height": null,
      "justify_content": null,
      "justify_items": null,
      "left": null,
      "margin": null,
      "max_height": null,
      "max_width": null,
      "min_height": null,
      "min_width": null,
      "object_fit": null,
      "object_position": null,
      "order": null,
      "overflow": null,
      "overflow_x": null,
      "overflow_y": null,
      "padding": null,
      "right": null,
      "top": null,
      "visibility": null,
      "width": null
     }
    },
    "0edce017faed4edc973e8b3d5a5ec5db": {
     "model_module": "@jupyter-widgets/controls",
     "model_name": "DescriptionStyleModel",
     "state": {
      "_model_module": "@jupyter-widgets/controls",
      "_model_module_version": "1.5.0",
      "_model_name": "DescriptionStyleModel",
      "_view_count": null,
      "_view_module": "@jupyter-widgets/base",
      "_view_module_version": "1.2.0",
      "_view_name": "StyleView",
      "description_width": ""
     }
    },
    "0ee33908131144e19832fb925fa98dbe": {
     "model_module": "@jupyter-widgets/controls",
     "model_name": "ProgressStyleModel",
     "state": {
      "_model_module": "@jupyter-widgets/controls",
      "_model_module_version": "1.5.0",
      "_model_name": "ProgressStyleModel",
      "_view_count": null,
      "_view_module": "@jupyter-widgets/base",
      "_view_module_version": "1.2.0",
      "_view_name": "StyleView",
      "bar_color": null,
      "description_width": ""
     }
    },
    "1146e066a44a49338a0aaf64aef0b415": {
     "model_module": "@jupyter-widgets/controls",
     "model_name": "FloatProgressModel",
     "state": {
      "_dom_classes": [],
      "_model_module": "@jupyter-widgets/controls",
      "_model_module_version": "1.5.0",
      "_model_name": "FloatProgressModel",
      "_view_count": null,
      "_view_module": "@jupyter-widgets/controls",
      "_view_module_version": "1.5.0",
      "_view_name": "ProgressView",
      "bar_style": "",
      "description": "",
      "description_tooltip": null,
      "layout": "IPY_MODEL_79cddc4b9ccf49859c0a64fbf0377807",
      "max": 1,
      "min": 0,
      "orientation": "horizontal",
      "style": "IPY_MODEL_9698435e3cd34cfe87f70d5f1aa956c5",
      "value": 1
     }
    },
    "12f2f3c4c52c4c8185c467647612bc5d": {
     "model_module": "@jupyter-widgets/base",
     "model_name": "LayoutModel",
     "state": {
      "_model_module": "@jupyter-widgets/base",
      "_model_module_version": "1.2.0",
      "_model_name": "LayoutModel",
      "_view_count": null,
      "_view_module": "@jupyter-widgets/base",
      "_view_module_version": "1.2.0",
      "_view_name": "LayoutView",
      "align_content": null,
      "align_items": null,
      "align_self": null,
      "border": null,
      "bottom": null,
      "display": null,
      "flex": null,
      "flex_flow": null,
      "grid_area": null,
      "grid_auto_columns": null,
      "grid_auto_flow": null,
      "grid_auto_rows": null,
      "grid_column": null,
      "grid_gap": null,
      "grid_row": null,
      "grid_template_areas": null,
      "grid_template_columns": null,
      "grid_template_rows": null,
      "height": null,
      "justify_content": null,
      "justify_items": null,
      "left": null,
      "margin": null,
      "max_height": null,
      "max_width": null,
      "min_height": null,
      "min_width": null,
      "object_fit": null,
      "object_position": null,
      "order": null,
      "overflow": null,
      "overflow_x": null,
      "overflow_y": null,
      "padding": null,
      "right": null,
      "top": null,
      "visibility": null,
      "width": null
     }
    },
    "1412a98b1a3c4910a959fd629dd43ec5": {
     "model_module": "@jupyter-widgets/controls",
     "model_name": "VBoxModel",
     "state": {
      "_dom_classes": [],
      "_model_module": "@jupyter-widgets/controls",
      "_model_module_version": "1.5.0",
      "_model_name": "VBoxModel",
      "_view_count": null,
      "_view_module": "@jupyter-widgets/controls",
      "_view_module_version": "1.5.0",
      "_view_name": "VBoxView",
      "box_style": "",
      "children": [
       "IPY_MODEL_fe54aa7f3f414c4dbd155d6cbd1f3a1c",
       "IPY_MODEL_aa90297304704a758d4a5eb9ae27a42b"
      ],
      "layout": "IPY_MODEL_c9b31a19b2c14c8ba2fd3f27cedbfcf4"
     }
    },
    "15b92a489ed54490b84fe02714be7f61": {
     "model_module": "@jupyter-widgets/base",
     "model_name": "LayoutModel",
     "state": {
      "_model_module": "@jupyter-widgets/base",
      "_model_module_version": "1.2.0",
      "_model_name": "LayoutModel",
      "_view_count": null,
      "_view_module": "@jupyter-widgets/base",
      "_view_module_version": "1.2.0",
      "_view_name": "LayoutView",
      "align_content": null,
      "align_items": null,
      "align_self": null,
      "border": null,
      "bottom": null,
      "display": null,
      "flex": null,
      "flex_flow": null,
      "grid_area": null,
      "grid_auto_columns": null,
      "grid_auto_flow": null,
      "grid_auto_rows": null,
      "grid_column": null,
      "grid_gap": null,
      "grid_row": null,
      "grid_template_areas": null,
      "grid_template_columns": null,
      "grid_template_rows": null,
      "height": null,
      "justify_content": null,
      "justify_items": null,
      "left": null,
      "margin": null,
      "max_height": null,
      "max_width": null,
      "min_height": null,
      "min_width": null,
      "object_fit": null,
      "object_position": null,
      "order": null,
      "overflow": null,
      "overflow_x": null,
      "overflow_y": null,
      "padding": null,
      "right": null,
      "top": null,
      "visibility": null,
      "width": null
     }
    },
    "15f765ebc1a64a29b9c1c71ca5288f0b": {
     "model_module": "@jupyter-widgets/base",
     "model_name": "LayoutModel",
     "state": {
      "_model_module": "@jupyter-widgets/base",
      "_model_module_version": "1.2.0",
      "_model_name": "LayoutModel",
      "_view_count": null,
      "_view_module": "@jupyter-widgets/base",
      "_view_module_version": "1.2.0",
      "_view_name": "LayoutView",
      "align_content": null,
      "align_items": null,
      "align_self": null,
      "border": null,
      "bottom": null,
      "display": null,
      "flex": null,
      "flex_flow": null,
      "grid_area": null,
      "grid_auto_columns": null,
      "grid_auto_flow": null,
      "grid_auto_rows": null,
      "grid_column": null,
      "grid_gap": null,
      "grid_row": null,
      "grid_template_areas": null,
      "grid_template_columns": null,
      "grid_template_rows": null,
      "height": null,
      "justify_content": null,
      "justify_items": null,
      "left": null,
      "margin": null,
      "max_height": null,
      "max_width": null,
      "min_height": null,
      "min_width": null,
      "object_fit": null,
      "object_position": null,
      "order": null,
      "overflow": null,
      "overflow_x": null,
      "overflow_y": null,
      "padding": null,
      "right": null,
      "top": null,
      "visibility": null,
      "width": null
     }
    },
    "167dc7a567994e8cae027c6d52bccad2": {
     "model_module": "@jupyter-widgets/controls",
     "model_name": "LabelModel",
     "state": {
      "_dom_classes": [],
      "_model_module": "@jupyter-widgets/controls",
      "_model_module_version": "1.5.0",
      "_model_name": "LabelModel",
      "_view_count": null,
      "_view_module": "@jupyter-widgets/controls",
      "_view_module_version": "1.5.0",
      "_view_name": "LabelView",
      "description": "",
      "description_tooltip": null,
      "layout": "IPY_MODEL_aa2241ce19d74138be6a6edf11fd0dd9",
      "placeholder": "​",
      "style": "IPY_MODEL_469da8d86a3d4dc7a8b7f939c6ccf541",
      "value": " 0.01MB of 0.01MB uploaded (0.00MB deduped)\r"
     }
    },
    "1ab1ada715a84a41b5bf8449464092e9": {
     "model_module": "@jupyter-widgets/controls",
     "model_name": "VBoxModel",
     "state": {
      "_dom_classes": [],
      "_model_module": "@jupyter-widgets/controls",
      "_model_module_version": "1.5.0",
      "_model_name": "VBoxModel",
      "_view_count": null,
      "_view_module": "@jupyter-widgets/controls",
      "_view_module_version": "1.5.0",
      "_view_name": "VBoxView",
      "box_style": "",
      "children": [
       "IPY_MODEL_f716205589cd4db3915e7d0ad1423732",
       "IPY_MODEL_93c1fd0525ac49e0ad85d7bf8accc04b"
      ],
      "layout": "IPY_MODEL_b30842432b214d6e94e00863830a5342"
     }
    },
    "1b00672d027943049ab399041b01552d": {
     "model_module": "@jupyter-widgets/controls",
     "model_name": "ProgressStyleModel",
     "state": {
      "_model_module": "@jupyter-widgets/controls",
      "_model_module_version": "1.5.0",
      "_model_name": "ProgressStyleModel",
      "_view_count": null,
      "_view_module": "@jupyter-widgets/base",
      "_view_module_version": "1.2.0",
      "_view_name": "StyleView",
      "bar_color": null,
      "description_width": ""
     }
    },
    "1c3fdabc080f4d509cb5c76a24e6fc58": {
     "model_module": "@jupyter-widgets/base",
     "model_name": "LayoutModel",
     "state": {
      "_model_module": "@jupyter-widgets/base",
      "_model_module_version": "1.2.0",
      "_model_name": "LayoutModel",
      "_view_count": null,
      "_view_module": "@jupyter-widgets/base",
      "_view_module_version": "1.2.0",
      "_view_name": "LayoutView",
      "align_content": null,
      "align_items": null,
      "align_self": null,
      "border": null,
      "bottom": null,
      "display": null,
      "flex": null,
      "flex_flow": null,
      "grid_area": null,
      "grid_auto_columns": null,
      "grid_auto_flow": null,
      "grid_auto_rows": null,
      "grid_column": null,
      "grid_gap": null,
      "grid_row": null,
      "grid_template_areas": null,
      "grid_template_columns": null,
      "grid_template_rows": null,
      "height": null,
      "justify_content": null,
      "justify_items": null,
      "left": null,
      "margin": null,
      "max_height": null,
      "max_width": null,
      "min_height": null,
      "min_width": null,
      "object_fit": null,
      "object_position": null,
      "order": null,
      "overflow": null,
      "overflow_x": null,
      "overflow_y": null,
      "padding": null,
      "right": null,
      "top": null,
      "visibility": null,
      "width": null
     }
    },
    "1f251c9d031c4f258a6d3f0a90ebb55d": {
     "model_module": "@jupyter-widgets/controls",
     "model_name": "VBoxModel",
     "state": {
      "_dom_classes": [],
      "_model_module": "@jupyter-widgets/controls",
      "_model_module_version": "1.5.0",
      "_model_name": "VBoxModel",
      "_view_count": null,
      "_view_module": "@jupyter-widgets/controls",
      "_view_module_version": "1.5.0",
      "_view_name": "VBoxView",
      "box_style": "",
      "children": [
       "IPY_MODEL_a6eb0b532fcd4599aafa20a52d1e59fb",
       "IPY_MODEL_4c53ebb4523c4f07a2456f83bc7b7969"
      ],
      "layout": "IPY_MODEL_06535aa6df894e668242dc066d763acc"
     }
    },
    "21afdeb9bf034f8db10955965c42834b": {
     "model_module": "@jupyter-widgets/base",
     "model_name": "LayoutModel",
     "state": {
      "_model_module": "@jupyter-widgets/base",
      "_model_module_version": "1.2.0",
      "_model_name": "LayoutModel",
      "_view_count": null,
      "_view_module": "@jupyter-widgets/base",
      "_view_module_version": "1.2.0",
      "_view_name": "LayoutView",
      "align_content": null,
      "align_items": null,
      "align_self": null,
      "border": null,
      "bottom": null,
      "display": null,
      "flex": null,
      "flex_flow": null,
      "grid_area": null,
      "grid_auto_columns": null,
      "grid_auto_flow": null,
      "grid_auto_rows": null,
      "grid_column": null,
      "grid_gap": null,
      "grid_row": null,
      "grid_template_areas": null,
      "grid_template_columns": null,
      "grid_template_rows": null,
      "height": null,
      "justify_content": null,
      "justify_items": null,
      "left": null,
      "margin": null,
      "max_height": null,
      "max_width": null,
      "min_height": null,
      "min_width": null,
      "object_fit": null,
      "object_position": null,
      "order": null,
      "overflow": null,
      "overflow_x": null,
      "overflow_y": null,
      "padding": null,
      "right": null,
      "top": null,
      "visibility": null,
      "width": null
     }
    },
    "27b1c1d58632474eb80b3de4c11d50e2": {
     "model_module": "@jupyter-widgets/controls",
     "model_name": "DescriptionStyleModel",
     "state": {
      "_model_module": "@jupyter-widgets/controls",
      "_model_module_version": "1.5.0",
      "_model_name": "DescriptionStyleModel",
      "_view_count": null,
      "_view_module": "@jupyter-widgets/base",
      "_view_module_version": "1.2.0",
      "_view_name": "StyleView",
      "description_width": ""
     }
    },
    "2917870a36dd40ab94fe3229f1ce067f": {
     "model_module": "@jupyter-widgets/controls",
     "model_name": "ProgressStyleModel",
     "state": {
      "_model_module": "@jupyter-widgets/controls",
      "_model_module_version": "1.5.0",
      "_model_name": "ProgressStyleModel",
      "_view_count": null,
      "_view_module": "@jupyter-widgets/base",
      "_view_module_version": "1.2.0",
      "_view_name": "StyleView",
      "bar_color": null,
      "description_width": ""
     }
    },
    "2968e90a8191406398487cf27286def7": {
     "model_module": "@jupyter-widgets/base",
     "model_name": "LayoutModel",
     "state": {
      "_model_module": "@jupyter-widgets/base",
      "_model_module_version": "1.2.0",
      "_model_name": "LayoutModel",
      "_view_count": null,
      "_view_module": "@jupyter-widgets/base",
      "_view_module_version": "1.2.0",
      "_view_name": "LayoutView",
      "align_content": null,
      "align_items": null,
      "align_self": null,
      "border": null,
      "bottom": null,
      "display": null,
      "flex": null,
      "flex_flow": null,
      "grid_area": null,
      "grid_auto_columns": null,
      "grid_auto_flow": null,
      "grid_auto_rows": null,
      "grid_column": null,
      "grid_gap": null,
      "grid_row": null,
      "grid_template_areas": null,
      "grid_template_columns": null,
      "grid_template_rows": null,
      "height": null,
      "justify_content": null,
      "justify_items": null,
      "left": null,
      "margin": null,
      "max_height": null,
      "max_width": null,
      "min_height": null,
      "min_width": null,
      "object_fit": null,
      "object_position": null,
      "order": null,
      "overflow": null,
      "overflow_x": null,
      "overflow_y": null,
      "padding": null,
      "right": null,
      "top": null,
      "visibility": null,
      "width": null
     }
    },
    "2d043ba24125422c94ec7a4c60b112f1": {
     "model_module": "@jupyter-widgets/base",
     "model_name": "LayoutModel",
     "state": {
      "_model_module": "@jupyter-widgets/base",
      "_model_module_version": "1.2.0",
      "_model_name": "LayoutModel",
      "_view_count": null,
      "_view_module": "@jupyter-widgets/base",
      "_view_module_version": "1.2.0",
      "_view_name": "LayoutView",
      "align_content": null,
      "align_items": null,
      "align_self": null,
      "border": null,
      "bottom": null,
      "display": null,
      "flex": null,
      "flex_flow": null,
      "grid_area": null,
      "grid_auto_columns": null,
      "grid_auto_flow": null,
      "grid_auto_rows": null,
      "grid_column": null,
      "grid_gap": null,
      "grid_row": null,
      "grid_template_areas": null,
      "grid_template_columns": null,
      "grid_template_rows": null,
      "height": null,
      "justify_content": null,
      "justify_items": null,
      "left": null,
      "margin": null,
      "max_height": null,
      "max_width": null,
      "min_height": null,
      "min_width": null,
      "object_fit": null,
      "object_position": null,
      "order": null,
      "overflow": null,
      "overflow_x": null,
      "overflow_y": null,
      "padding": null,
      "right": null,
      "top": null,
      "visibility": null,
      "width": null
     }
    },
    "3229c024f4d54afda4c430bea3846bf7": {
     "model_module": "@jupyter-widgets/base",
     "model_name": "LayoutModel",
     "state": {
      "_model_module": "@jupyter-widgets/base",
      "_model_module_version": "1.2.0",
      "_model_name": "LayoutModel",
      "_view_count": null,
      "_view_module": "@jupyter-widgets/base",
      "_view_module_version": "1.2.0",
      "_view_name": "LayoutView",
      "align_content": null,
      "align_items": null,
      "align_self": null,
      "border": null,
      "bottom": null,
      "display": null,
      "flex": null,
      "flex_flow": null,
      "grid_area": null,
      "grid_auto_columns": null,
      "grid_auto_flow": null,
      "grid_auto_rows": null,
      "grid_column": null,
      "grid_gap": null,
      "grid_row": null,
      "grid_template_areas": null,
      "grid_template_columns": null,
      "grid_template_rows": null,
      "height": null,
      "justify_content": null,
      "justify_items": null,
      "left": null,
      "margin": null,
      "max_height": null,
      "max_width": null,
      "min_height": null,
      "min_width": null,
      "object_fit": null,
      "object_position": null,
      "order": null,
      "overflow": null,
      "overflow_x": null,
      "overflow_y": null,
      "padding": null,
      "right": null,
      "top": null,
      "visibility": null,
      "width": null
     }
    },
    "3273353ee18a4c4bb2794bfc50b7d835": {
     "model_module": "@jupyter-widgets/controls",
     "model_name": "DescriptionStyleModel",
     "state": {
      "_model_module": "@jupyter-widgets/controls",
      "_model_module_version": "1.5.0",
      "_model_name": "DescriptionStyleModel",
      "_view_count": null,
      "_view_module": "@jupyter-widgets/base",
      "_view_module_version": "1.2.0",
      "_view_name": "StyleView",
      "description_width": ""
     }
    },
    "34d656262cc340f29ab95a1fba359e84": {
     "model_module": "@jupyter-widgets/controls",
     "model_name": "VBoxModel",
     "state": {
      "_dom_classes": [],
      "_model_module": "@jupyter-widgets/controls",
      "_model_module_version": "1.5.0",
      "_model_name": "VBoxModel",
      "_view_count": null,
      "_view_module": "@jupyter-widgets/controls",
      "_view_module_version": "1.5.0",
      "_view_name": "VBoxView",
      "box_style": "",
      "children": [
       "IPY_MODEL_c6375d2df3a549a997fa04f3856a8f23",
       "IPY_MODEL_65c19ea4afb4407db9ff03ef966545f4"
      ],
      "layout": "IPY_MODEL_41be5e59d08042b39964947de0334b62"
     }
    },
    "34da19f380af430aa8eda61919eb5bc5": {
     "model_module": "@jupyter-widgets/controls",
     "model_name": "LabelModel",
     "state": {
      "_dom_classes": [],
      "_model_module": "@jupyter-widgets/controls",
      "_model_module_version": "1.5.0",
      "_model_name": "LabelModel",
      "_view_count": null,
      "_view_module": "@jupyter-widgets/controls",
      "_view_module_version": "1.5.0",
      "_view_name": "LabelView",
      "description": "",
      "description_tooltip": null,
      "layout": "IPY_MODEL_4339301f279148feb19f828e182c0ad8",
      "placeholder": "​",
      "style": "IPY_MODEL_4fc279109aa14aa8bef15c3f546eff5f",
      "value": " 0.01MB of 0.01MB uploaded (0.00MB deduped)\r"
     }
    },
    "35e8aa8161044f9ab3c79ae983337a28": {
     "model_module": "@jupyter-widgets/controls",
     "model_name": "DescriptionStyleModel",
     "state": {
      "_model_module": "@jupyter-widgets/controls",
      "_model_module_version": "1.5.0",
      "_model_name": "DescriptionStyleModel",
      "_view_count": null,
      "_view_module": "@jupyter-widgets/base",
      "_view_module_version": "1.2.0",
      "_view_name": "StyleView",
      "description_width": ""
     }
    },
    "367c9a94ae534d65ba632d85365beab1": {
     "model_module": "@jupyter-widgets/base",
     "model_name": "LayoutModel",
     "state": {
      "_model_module": "@jupyter-widgets/base",
      "_model_module_version": "1.2.0",
      "_model_name": "LayoutModel",
      "_view_count": null,
      "_view_module": "@jupyter-widgets/base",
      "_view_module_version": "1.2.0",
      "_view_name": "LayoutView",
      "align_content": null,
      "align_items": null,
      "align_self": null,
      "border": null,
      "bottom": null,
      "display": null,
      "flex": null,
      "flex_flow": null,
      "grid_area": null,
      "grid_auto_columns": null,
      "grid_auto_flow": null,
      "grid_auto_rows": null,
      "grid_column": null,
      "grid_gap": null,
      "grid_row": null,
      "grid_template_areas": null,
      "grid_template_columns": null,
      "grid_template_rows": null,
      "height": null,
      "justify_content": null,
      "justify_items": null,
      "left": null,
      "margin": null,
      "max_height": null,
      "max_width": null,
      "min_height": null,
      "min_width": null,
      "object_fit": null,
      "object_position": null,
      "order": null,
      "overflow": null,
      "overflow_x": null,
      "overflow_y": null,
      "padding": null,
      "right": null,
      "top": null,
      "visibility": null,
      "width": null
     }
    },
    "3b75382df9cd49998211f09ac0486f82": {
     "model_module": "@jupyter-widgets/base",
     "model_name": "LayoutModel",
     "state": {
      "_model_module": "@jupyter-widgets/base",
      "_model_module_version": "1.2.0",
      "_model_name": "LayoutModel",
      "_view_count": null,
      "_view_module": "@jupyter-widgets/base",
      "_view_module_version": "1.2.0",
      "_view_name": "LayoutView",
      "align_content": null,
      "align_items": null,
      "align_self": null,
      "border": null,
      "bottom": null,
      "display": null,
      "flex": null,
      "flex_flow": null,
      "grid_area": null,
      "grid_auto_columns": null,
      "grid_auto_flow": null,
      "grid_auto_rows": null,
      "grid_column": null,
      "grid_gap": null,
      "grid_row": null,
      "grid_template_areas": null,
      "grid_template_columns": null,
      "grid_template_rows": null,
      "height": null,
      "justify_content": null,
      "justify_items": null,
      "left": null,
      "margin": null,
      "max_height": null,
      "max_width": null,
      "min_height": null,
      "min_width": null,
      "object_fit": null,
      "object_position": null,
      "order": null,
      "overflow": null,
      "overflow_x": null,
      "overflow_y": null,
      "padding": null,
      "right": null,
      "top": null,
      "visibility": null,
      "width": null
     }
    },
    "3fd60b48528643609376cc1fca3ae790": {
     "model_module": "@jupyter-widgets/controls",
     "model_name": "VBoxModel",
     "state": {
      "_dom_classes": [],
      "_model_module": "@jupyter-widgets/controls",
      "_model_module_version": "1.5.0",
      "_model_name": "VBoxModel",
      "_view_count": null,
      "_view_module": "@jupyter-widgets/controls",
      "_view_module_version": "1.5.0",
      "_view_name": "VBoxView",
      "box_style": "",
      "children": [
       "IPY_MODEL_b30f2b64f50d434f81daebc465edd5c4",
       "IPY_MODEL_4b865152ed0f41b0b43d731a3c79e5c6"
      ],
      "layout": "IPY_MODEL_ed1ea875f67448978c8caafedfcacf53"
     }
    },
    "409f0a752a1141f3aa51a798f117297c": {
     "model_module": "@jupyter-widgets/controls",
     "model_name": "LabelModel",
     "state": {
      "_dom_classes": [],
      "_model_module": "@jupyter-widgets/controls",
      "_model_module_version": "1.5.0",
      "_model_name": "LabelModel",
      "_view_count": null,
      "_view_module": "@jupyter-widgets/controls",
      "_view_module_version": "1.5.0",
      "_view_name": "LabelView",
      "description": "",
      "description_tooltip": null,
      "layout": "IPY_MODEL_5d1ba27f12ce4afcb8b0be71448e1301",
      "placeholder": "​",
      "style": "IPY_MODEL_27b1c1d58632474eb80b3de4c11d50e2",
      "value": " 0.01MB of 0.01MB uploaded (0.00MB deduped)\r"
     }
    },
    "40ce0fe91b8846d5bab9a65ff8ba8d1b": {
     "model_module": "@jupyter-widgets/controls",
     "model_name": "ProgressStyleModel",
     "state": {
      "_model_module": "@jupyter-widgets/controls",
      "_model_module_version": "1.5.0",
      "_model_name": "ProgressStyleModel",
      "_view_count": null,
      "_view_module": "@jupyter-widgets/base",
      "_view_module_version": "1.2.0",
      "_view_name": "StyleView",
      "bar_color": null,
      "description_width": ""
     }
    },
    "41be5e59d08042b39964947de0334b62": {
     "model_module": "@jupyter-widgets/base",
     "model_name": "LayoutModel",
     "state": {
      "_model_module": "@jupyter-widgets/base",
      "_model_module_version": "1.2.0",
      "_model_name": "LayoutModel",
      "_view_count": null,
      "_view_module": "@jupyter-widgets/base",
      "_view_module_version": "1.2.0",
      "_view_name": "LayoutView",
      "align_content": null,
      "align_items": null,
      "align_self": null,
      "border": null,
      "bottom": null,
      "display": null,
      "flex": null,
      "flex_flow": null,
      "grid_area": null,
      "grid_auto_columns": null,
      "grid_auto_flow": null,
      "grid_auto_rows": null,
      "grid_column": null,
      "grid_gap": null,
      "grid_row": null,
      "grid_template_areas": null,
      "grid_template_columns": null,
      "grid_template_rows": null,
      "height": null,
      "justify_content": null,
      "justify_items": null,
      "left": null,
      "margin": null,
      "max_height": null,
      "max_width": null,
      "min_height": null,
      "min_width": null,
      "object_fit": null,
      "object_position": null,
      "order": null,
      "overflow": null,
      "overflow_x": null,
      "overflow_y": null,
      "padding": null,
      "right": null,
      "top": null,
      "visibility": null,
      "width": null
     }
    },
    "429577eee87a446eb5868d16cfcf893d": {
     "model_module": "@jupyter-widgets/controls",
     "model_name": "VBoxModel",
     "state": {
      "_dom_classes": [],
      "_model_module": "@jupyter-widgets/controls",
      "_model_module_version": "1.5.0",
      "_model_name": "VBoxModel",
      "_view_count": null,
      "_view_module": "@jupyter-widgets/controls",
      "_view_module_version": "1.5.0",
      "_view_name": "VBoxView",
      "box_style": "",
      "children": [
       "IPY_MODEL_409f0a752a1141f3aa51a798f117297c",
       "IPY_MODEL_5ebc99cda9704c79a8da28229824e286"
      ],
      "layout": "IPY_MODEL_8a419797598a49beb7ad969b30516048"
     }
    },
    "4339301f279148feb19f828e182c0ad8": {
     "model_module": "@jupyter-widgets/base",
     "model_name": "LayoutModel",
     "state": {
      "_model_module": "@jupyter-widgets/base",
      "_model_module_version": "1.2.0",
      "_model_name": "LayoutModel",
      "_view_count": null,
      "_view_module": "@jupyter-widgets/base",
      "_view_module_version": "1.2.0",
      "_view_name": "LayoutView",
      "align_content": null,
      "align_items": null,
      "align_self": null,
      "border": null,
      "bottom": null,
      "display": null,
      "flex": null,
      "flex_flow": null,
      "grid_area": null,
      "grid_auto_columns": null,
      "grid_auto_flow": null,
      "grid_auto_rows": null,
      "grid_column": null,
      "grid_gap": null,
      "grid_row": null,
      "grid_template_areas": null,
      "grid_template_columns": null,
      "grid_template_rows": null,
      "height": null,
      "justify_content": null,
      "justify_items": null,
      "left": null,
      "margin": null,
      "max_height": null,
      "max_width": null,
      "min_height": null,
      "min_width": null,
      "object_fit": null,
      "object_position": null,
      "order": null,
      "overflow": null,
      "overflow_x": null,
      "overflow_y": null,
      "padding": null,
      "right": null,
      "top": null,
      "visibility": null,
      "width": null
     }
    },
    "44d7571237674b2d8e0a5e0810be551e": {
     "model_module": "@jupyter-widgets/controls",
     "model_name": "VBoxModel",
     "state": {
      "_dom_classes": [],
      "_model_module": "@jupyter-widgets/controls",
      "_model_module_version": "1.5.0",
      "_model_name": "VBoxModel",
      "_view_count": null,
      "_view_module": "@jupyter-widgets/controls",
      "_view_module_version": "1.5.0",
      "_view_name": "VBoxView",
      "box_style": "",
      "children": [
       "IPY_MODEL_06606efd04f44818886c050a50c1fcbe",
       "IPY_MODEL_825a1c65689647f687fede2da05a4c5f"
      ],
      "layout": "IPY_MODEL_a69f849baa014ecaa06bc27c5b52110f"
     }
    },
    "45786e0debfb408bb8952be09ab54361": {
     "model_module": "@jupyter-widgets/base",
     "model_name": "LayoutModel",
     "state": {
      "_model_module": "@jupyter-widgets/base",
      "_model_module_version": "1.2.0",
      "_model_name": "LayoutModel",
      "_view_count": null,
      "_view_module": "@jupyter-widgets/base",
      "_view_module_version": "1.2.0",
      "_view_name": "LayoutView",
      "align_content": null,
      "align_items": null,
      "align_self": null,
      "border": null,
      "bottom": null,
      "display": null,
      "flex": null,
      "flex_flow": null,
      "grid_area": null,
      "grid_auto_columns": null,
      "grid_auto_flow": null,
      "grid_auto_rows": null,
      "grid_column": null,
      "grid_gap": null,
      "grid_row": null,
      "grid_template_areas": null,
      "grid_template_columns": null,
      "grid_template_rows": null,
      "height": null,
      "justify_content": null,
      "justify_items": null,
      "left": null,
      "margin": null,
      "max_height": null,
      "max_width": null,
      "min_height": null,
      "min_width": null,
      "object_fit": null,
      "object_position": null,
      "order": null,
      "overflow": null,
      "overflow_x": null,
      "overflow_y": null,
      "padding": null,
      "right": null,
      "top": null,
      "visibility": null,
      "width": null
     }
    },
    "468a26186fb141549167f41dbb809626": {
     "model_module": "@jupyter-widgets/controls",
     "model_name": "DescriptionStyleModel",
     "state": {
      "_model_module": "@jupyter-widgets/controls",
      "_model_module_version": "1.5.0",
      "_model_name": "DescriptionStyleModel",
      "_view_count": null,
      "_view_module": "@jupyter-widgets/base",
      "_view_module_version": "1.2.0",
      "_view_name": "StyleView",
      "description_width": ""
     }
    },
    "469da8d86a3d4dc7a8b7f939c6ccf541": {
     "model_module": "@jupyter-widgets/controls",
     "model_name": "DescriptionStyleModel",
     "state": {
      "_model_module": "@jupyter-widgets/controls",
      "_model_module_version": "1.5.0",
      "_model_name": "DescriptionStyleModel",
      "_view_count": null,
      "_view_module": "@jupyter-widgets/base",
      "_view_module_version": "1.2.0",
      "_view_name": "StyleView",
      "description_width": ""
     }
    },
    "46b30e8dae7e490789b6971dd0a81023": {
     "model_module": "@jupyter-widgets/controls",
     "model_name": "LabelModel",
     "state": {
      "_dom_classes": [],
      "_model_module": "@jupyter-widgets/controls",
      "_model_module_version": "1.5.0",
      "_model_name": "LabelModel",
      "_view_count": null,
      "_view_module": "@jupyter-widgets/controls",
      "_view_module_version": "1.5.0",
      "_view_name": "LabelView",
      "description": "",
      "description_tooltip": null,
      "layout": "IPY_MODEL_45786e0debfb408bb8952be09ab54361",
      "placeholder": "​",
      "style": "IPY_MODEL_468a26186fb141549167f41dbb809626",
      "value": " 0.01MB of 0.01MB uploaded (0.00MB deduped)\r"
     }
    },
    "47d7b9f742c04dde8b79064dc740acf2": {
     "model_module": "@jupyter-widgets/controls",
     "model_name": "LabelModel",
     "state": {
      "_dom_classes": [],
      "_model_module": "@jupyter-widgets/controls",
      "_model_module_version": "1.5.0",
      "_model_name": "LabelModel",
      "_view_count": null,
      "_view_module": "@jupyter-widgets/controls",
      "_view_module_version": "1.5.0",
      "_view_name": "LabelView",
      "description": "",
      "description_tooltip": null,
      "layout": "IPY_MODEL_9b8ab111d5c54848b73e49760256693a",
      "placeholder": "​",
      "style": "IPY_MODEL_b0d476613a2148bc84046ca4a175ca46",
      "value": " 0.01MB of 0.01MB uploaded (0.00MB deduped)\r"
     }
    },
    "47e123c62223429facedd44468d009a8": {
     "model_module": "@jupyter-widgets/base",
     "model_name": "LayoutModel",
     "state": {
      "_model_module": "@jupyter-widgets/base",
      "_model_module_version": "1.2.0",
      "_model_name": "LayoutModel",
      "_view_count": null,
      "_view_module": "@jupyter-widgets/base",
      "_view_module_version": "1.2.0",
      "_view_name": "LayoutView",
      "align_content": null,
      "align_items": null,
      "align_self": null,
      "border": null,
      "bottom": null,
      "display": null,
      "flex": null,
      "flex_flow": null,
      "grid_area": null,
      "grid_auto_columns": null,
      "grid_auto_flow": null,
      "grid_auto_rows": null,
      "grid_column": null,
      "grid_gap": null,
      "grid_row": null,
      "grid_template_areas": null,
      "grid_template_columns": null,
      "grid_template_rows": null,
      "height": null,
      "justify_content": null,
      "justify_items": null,
      "left": null,
      "margin": null,
      "max_height": null,
      "max_width": null,
      "min_height": null,
      "min_width": null,
      "object_fit": null,
      "object_position": null,
      "order": null,
      "overflow": null,
      "overflow_x": null,
      "overflow_y": null,
      "padding": null,
      "right": null,
      "top": null,
      "visibility": null,
      "width": null
     }
    },
    "48099fc0e83a4083b856ab2b89031977": {
     "model_module": "@jupyter-widgets/controls",
     "model_name": "ProgressStyleModel",
     "state": {
      "_model_module": "@jupyter-widgets/controls",
      "_model_module_version": "1.5.0",
      "_model_name": "ProgressStyleModel",
      "_view_count": null,
      "_view_module": "@jupyter-widgets/base",
      "_view_module_version": "1.2.0",
      "_view_name": "StyleView",
      "bar_color": null,
      "description_width": ""
     }
    },
    "480a8a171e404a959db2d0a4e5ea22c9": {
     "model_module": "@jupyter-widgets/base",
     "model_name": "LayoutModel",
     "state": {
      "_model_module": "@jupyter-widgets/base",
      "_model_module_version": "1.2.0",
      "_model_name": "LayoutModel",
      "_view_count": null,
      "_view_module": "@jupyter-widgets/base",
      "_view_module_version": "1.2.0",
      "_view_name": "LayoutView",
      "align_content": null,
      "align_items": null,
      "align_self": null,
      "border": null,
      "bottom": null,
      "display": null,
      "flex": null,
      "flex_flow": null,
      "grid_area": null,
      "grid_auto_columns": null,
      "grid_auto_flow": null,
      "grid_auto_rows": null,
      "grid_column": null,
      "grid_gap": null,
      "grid_row": null,
      "grid_template_areas": null,
      "grid_template_columns": null,
      "grid_template_rows": null,
      "height": null,
      "justify_content": null,
      "justify_items": null,
      "left": null,
      "margin": null,
      "max_height": null,
      "max_width": null,
      "min_height": null,
      "min_width": null,
      "object_fit": null,
      "object_position": null,
      "order": null,
      "overflow": null,
      "overflow_x": null,
      "overflow_y": null,
      "padding": null,
      "right": null,
      "top": null,
      "visibility": null,
      "width": null
     }
    },
    "49b8db8a3f63426399c7a20377268449": {
     "model_module": "@jupyter-widgets/controls",
     "model_name": "ProgressStyleModel",
     "state": {
      "_model_module": "@jupyter-widgets/controls",
      "_model_module_version": "1.5.0",
      "_model_name": "ProgressStyleModel",
      "_view_count": null,
      "_view_module": "@jupyter-widgets/base",
      "_view_module_version": "1.2.0",
      "_view_name": "StyleView",
      "bar_color": null,
      "description_width": ""
     }
    },
    "4b865152ed0f41b0b43d731a3c79e5c6": {
     "model_module": "@jupyter-widgets/controls",
     "model_name": "FloatProgressModel",
     "state": {
      "_dom_classes": [],
      "_model_module": "@jupyter-widgets/controls",
      "_model_module_version": "1.5.0",
      "_model_name": "FloatProgressModel",
      "_view_count": null,
      "_view_module": "@jupyter-widgets/controls",
      "_view_module_version": "1.5.0",
      "_view_name": "ProgressView",
      "bar_style": "",
      "description": "",
      "description_tooltip": null,
      "layout": "IPY_MODEL_480a8a171e404a959db2d0a4e5ea22c9",
      "max": 1,
      "min": 0,
      "orientation": "horizontal",
      "style": "IPY_MODEL_49b8db8a3f63426399c7a20377268449",
      "value": 1
     }
    },
    "4c53ebb4523c4f07a2456f83bc7b7969": {
     "model_module": "@jupyter-widgets/controls",
     "model_name": "FloatProgressModel",
     "state": {
      "_dom_classes": [],
      "_model_module": "@jupyter-widgets/controls",
      "_model_module_version": "1.5.0",
      "_model_name": "FloatProgressModel",
      "_view_count": null,
      "_view_module": "@jupyter-widgets/controls",
      "_view_module_version": "1.5.0",
      "_view_name": "ProgressView",
      "bar_style": "",
      "description": "",
      "description_tooltip": null,
      "layout": "IPY_MODEL_be5c219418864b2cb5d5fd49f31d65ae",
      "max": 1,
      "min": 0,
      "orientation": "horizontal",
      "style": "IPY_MODEL_ee4bacaeb1964876ae65e002b2211406",
      "value": 1
     }
    },
    "4c71dd197bf147d78da845f76e8ab447": {
     "model_module": "@jupyter-widgets/base",
     "model_name": "LayoutModel",
     "state": {
      "_model_module": "@jupyter-widgets/base",
      "_model_module_version": "1.2.0",
      "_model_name": "LayoutModel",
      "_view_count": null,
      "_view_module": "@jupyter-widgets/base",
      "_view_module_version": "1.2.0",
      "_view_name": "LayoutView",
      "align_content": null,
      "align_items": null,
      "align_self": null,
      "border": null,
      "bottom": null,
      "display": null,
      "flex": null,
      "flex_flow": null,
      "grid_area": null,
      "grid_auto_columns": null,
      "grid_auto_flow": null,
      "grid_auto_rows": null,
      "grid_column": null,
      "grid_gap": null,
      "grid_row": null,
      "grid_template_areas": null,
      "grid_template_columns": null,
      "grid_template_rows": null,
      "height": null,
      "justify_content": null,
      "justify_items": null,
      "left": null,
      "margin": null,
      "max_height": null,
      "max_width": null,
      "min_height": null,
      "min_width": null,
      "object_fit": null,
      "object_position": null,
      "order": null,
      "overflow": null,
      "overflow_x": null,
      "overflow_y": null,
      "padding": null,
      "right": null,
      "top": null,
      "visibility": null,
      "width": null
     }
    },
    "4d11b845ee4b4a16872975144b089890": {
     "model_module": "@jupyter-widgets/base",
     "model_name": "LayoutModel",
     "state": {
      "_model_module": "@jupyter-widgets/base",
      "_model_module_version": "1.2.0",
      "_model_name": "LayoutModel",
      "_view_count": null,
      "_view_module": "@jupyter-widgets/base",
      "_view_module_version": "1.2.0",
      "_view_name": "LayoutView",
      "align_content": null,
      "align_items": null,
      "align_self": null,
      "border": null,
      "bottom": null,
      "display": null,
      "flex": null,
      "flex_flow": null,
      "grid_area": null,
      "grid_auto_columns": null,
      "grid_auto_flow": null,
      "grid_auto_rows": null,
      "grid_column": null,
      "grid_gap": null,
      "grid_row": null,
      "grid_template_areas": null,
      "grid_template_columns": null,
      "grid_template_rows": null,
      "height": null,
      "justify_content": null,
      "justify_items": null,
      "left": null,
      "margin": null,
      "max_height": null,
      "max_width": null,
      "min_height": null,
      "min_width": null,
      "object_fit": null,
      "object_position": null,
      "order": null,
      "overflow": null,
      "overflow_x": null,
      "overflow_y": null,
      "padding": null,
      "right": null,
      "top": null,
      "visibility": null,
      "width": null
     }
    },
    "4d860f81bf624067916b13871a9f4809": {
     "model_module": "@jupyter-widgets/base",
     "model_name": "LayoutModel",
     "state": {
      "_model_module": "@jupyter-widgets/base",
      "_model_module_version": "1.2.0",
      "_model_name": "LayoutModel",
      "_view_count": null,
      "_view_module": "@jupyter-widgets/base",
      "_view_module_version": "1.2.0",
      "_view_name": "LayoutView",
      "align_content": null,
      "align_items": null,
      "align_self": null,
      "border": null,
      "bottom": null,
      "display": null,
      "flex": null,
      "flex_flow": null,
      "grid_area": null,
      "grid_auto_columns": null,
      "grid_auto_flow": null,
      "grid_auto_rows": null,
      "grid_column": null,
      "grid_gap": null,
      "grid_row": null,
      "grid_template_areas": null,
      "grid_template_columns": null,
      "grid_template_rows": null,
      "height": null,
      "justify_content": null,
      "justify_items": null,
      "left": null,
      "margin": null,
      "max_height": null,
      "max_width": null,
      "min_height": null,
      "min_width": null,
      "object_fit": null,
      "object_position": null,
      "order": null,
      "overflow": null,
      "overflow_x": null,
      "overflow_y": null,
      "padding": null,
      "right": null,
      "top": null,
      "visibility": null,
      "width": null
     }
    },
    "4f86a9c64a644944abc687ee31c5614d": {
     "model_module": "@jupyter-widgets/controls",
     "model_name": "VBoxModel",
     "state": {
      "_dom_classes": [],
      "_model_module": "@jupyter-widgets/controls",
      "_model_module_version": "1.5.0",
      "_model_name": "VBoxModel",
      "_view_count": null,
      "_view_module": "@jupyter-widgets/controls",
      "_view_module_version": "1.5.0",
      "_view_name": "VBoxView",
      "box_style": "",
      "children": [
       "IPY_MODEL_00ab8cdf86f040dc9841b8bad6fca70e",
       "IPY_MODEL_cf36e0890afc426388acb9f3790c6329"
      ],
      "layout": "IPY_MODEL_15b92a489ed54490b84fe02714be7f61"
     }
    },
    "4fc279109aa14aa8bef15c3f546eff5f": {
     "model_module": "@jupyter-widgets/controls",
     "model_name": "DescriptionStyleModel",
     "state": {
      "_model_module": "@jupyter-widgets/controls",
      "_model_module_version": "1.5.0",
      "_model_name": "DescriptionStyleModel",
      "_view_count": null,
      "_view_module": "@jupyter-widgets/base",
      "_view_module_version": "1.2.0",
      "_view_name": "StyleView",
      "description_width": ""
     }
    },
    "50b096ef0f5a4c61810f438c1714808c": {
     "model_module": "@jupyter-widgets/controls",
     "model_name": "DescriptionStyleModel",
     "state": {
      "_model_module": "@jupyter-widgets/controls",
      "_model_module_version": "1.5.0",
      "_model_name": "DescriptionStyleModel",
      "_view_count": null,
      "_view_module": "@jupyter-widgets/base",
      "_view_module_version": "1.2.0",
      "_view_name": "StyleView",
      "description_width": ""
     }
    },
    "5223ae5aeeeb4373ad995a9a26292bdd": {
     "model_module": "@jupyter-widgets/base",
     "model_name": "LayoutModel",
     "state": {
      "_model_module": "@jupyter-widgets/base",
      "_model_module_version": "1.2.0",
      "_model_name": "LayoutModel",
      "_view_count": null,
      "_view_module": "@jupyter-widgets/base",
      "_view_module_version": "1.2.0",
      "_view_name": "LayoutView",
      "align_content": null,
      "align_items": null,
      "align_self": null,
      "border": null,
      "bottom": null,
      "display": null,
      "flex": null,
      "flex_flow": null,
      "grid_area": null,
      "grid_auto_columns": null,
      "grid_auto_flow": null,
      "grid_auto_rows": null,
      "grid_column": null,
      "grid_gap": null,
      "grid_row": null,
      "grid_template_areas": null,
      "grid_template_columns": null,
      "grid_template_rows": null,
      "height": null,
      "justify_content": null,
      "justify_items": null,
      "left": null,
      "margin": null,
      "max_height": null,
      "max_width": null,
      "min_height": null,
      "min_width": null,
      "object_fit": null,
      "object_position": null,
      "order": null,
      "overflow": null,
      "overflow_x": null,
      "overflow_y": null,
      "padding": null,
      "right": null,
      "top": null,
      "visibility": null,
      "width": null
     }
    },
    "540f4b8ffc7e44928f8bdb03ae2ea352": {
     "model_module": "@jupyter-widgets/controls",
     "model_name": "DescriptionStyleModel",
     "state": {
      "_model_module": "@jupyter-widgets/controls",
      "_model_module_version": "1.5.0",
      "_model_name": "DescriptionStyleModel",
      "_view_count": null,
      "_view_module": "@jupyter-widgets/base",
      "_view_module_version": "1.2.0",
      "_view_name": "StyleView",
      "description_width": ""
     }
    },
    "5462dc8b7df64747875702e562486a9e": {
     "model_module": "@jupyter-widgets/base",
     "model_name": "LayoutModel",
     "state": {
      "_model_module": "@jupyter-widgets/base",
      "_model_module_version": "1.2.0",
      "_model_name": "LayoutModel",
      "_view_count": null,
      "_view_module": "@jupyter-widgets/base",
      "_view_module_version": "1.2.0",
      "_view_name": "LayoutView",
      "align_content": null,
      "align_items": null,
      "align_self": null,
      "border": null,
      "bottom": null,
      "display": null,
      "flex": null,
      "flex_flow": null,
      "grid_area": null,
      "grid_auto_columns": null,
      "grid_auto_flow": null,
      "grid_auto_rows": null,
      "grid_column": null,
      "grid_gap": null,
      "grid_row": null,
      "grid_template_areas": null,
      "grid_template_columns": null,
      "grid_template_rows": null,
      "height": null,
      "justify_content": null,
      "justify_items": null,
      "left": null,
      "margin": null,
      "max_height": null,
      "max_width": null,
      "min_height": null,
      "min_width": null,
      "object_fit": null,
      "object_position": null,
      "order": null,
      "overflow": null,
      "overflow_x": null,
      "overflow_y": null,
      "padding": null,
      "right": null,
      "top": null,
      "visibility": null,
      "width": null
     }
    },
    "54ab6cd4427446ffb6a39649888bf6f2": {
     "model_module": "@jupyter-widgets/base",
     "model_name": "LayoutModel",
     "state": {
      "_model_module": "@jupyter-widgets/base",
      "_model_module_version": "1.2.0",
      "_model_name": "LayoutModel",
      "_view_count": null,
      "_view_module": "@jupyter-widgets/base",
      "_view_module_version": "1.2.0",
      "_view_name": "LayoutView",
      "align_content": null,
      "align_items": null,
      "align_self": null,
      "border": null,
      "bottom": null,
      "display": null,
      "flex": null,
      "flex_flow": null,
      "grid_area": null,
      "grid_auto_columns": null,
      "grid_auto_flow": null,
      "grid_auto_rows": null,
      "grid_column": null,
      "grid_gap": null,
      "grid_row": null,
      "grid_template_areas": null,
      "grid_template_columns": null,
      "grid_template_rows": null,
      "height": null,
      "justify_content": null,
      "justify_items": null,
      "left": null,
      "margin": null,
      "max_height": null,
      "max_width": null,
      "min_height": null,
      "min_width": null,
      "object_fit": null,
      "object_position": null,
      "order": null,
      "overflow": null,
      "overflow_x": null,
      "overflow_y": null,
      "padding": null,
      "right": null,
      "top": null,
      "visibility": null,
      "width": null
     }
    },
    "581df011ede641ccac7f6f670efa64fd": {
     "model_module": "@jupyter-widgets/base",
     "model_name": "LayoutModel",
     "state": {
      "_model_module": "@jupyter-widgets/base",
      "_model_module_version": "1.2.0",
      "_model_name": "LayoutModel",
      "_view_count": null,
      "_view_module": "@jupyter-widgets/base",
      "_view_module_version": "1.2.0",
      "_view_name": "LayoutView",
      "align_content": null,
      "align_items": null,
      "align_self": null,
      "border": null,
      "bottom": null,
      "display": null,
      "flex": null,
      "flex_flow": null,
      "grid_area": null,
      "grid_auto_columns": null,
      "grid_auto_flow": null,
      "grid_auto_rows": null,
      "grid_column": null,
      "grid_gap": null,
      "grid_row": null,
      "grid_template_areas": null,
      "grid_template_columns": null,
      "grid_template_rows": null,
      "height": null,
      "justify_content": null,
      "justify_items": null,
      "left": null,
      "margin": null,
      "max_height": null,
      "max_width": null,
      "min_height": null,
      "min_width": null,
      "object_fit": null,
      "object_position": null,
      "order": null,
      "overflow": null,
      "overflow_x": null,
      "overflow_y": null,
      "padding": null,
      "right": null,
      "top": null,
      "visibility": null,
      "width": null
     }
    },
    "5895e3582d234e51905434339e4d85f8": {
     "model_module": "@jupyter-widgets/base",
     "model_name": "LayoutModel",
     "state": {
      "_model_module": "@jupyter-widgets/base",
      "_model_module_version": "1.2.0",
      "_model_name": "LayoutModel",
      "_view_count": null,
      "_view_module": "@jupyter-widgets/base",
      "_view_module_version": "1.2.0",
      "_view_name": "LayoutView",
      "align_content": null,
      "align_items": null,
      "align_self": null,
      "border": null,
      "bottom": null,
      "display": null,
      "flex": null,
      "flex_flow": null,
      "grid_area": null,
      "grid_auto_columns": null,
      "grid_auto_flow": null,
      "grid_auto_rows": null,
      "grid_column": null,
      "grid_gap": null,
      "grid_row": null,
      "grid_template_areas": null,
      "grid_template_columns": null,
      "grid_template_rows": null,
      "height": null,
      "justify_content": null,
      "justify_items": null,
      "left": null,
      "margin": null,
      "max_height": null,
      "max_width": null,
      "min_height": null,
      "min_width": null,
      "object_fit": null,
      "object_position": null,
      "order": null,
      "overflow": null,
      "overflow_x": null,
      "overflow_y": null,
      "padding": null,
      "right": null,
      "top": null,
      "visibility": null,
      "width": null
     }
    },
    "5d1ba27f12ce4afcb8b0be71448e1301": {
     "model_module": "@jupyter-widgets/base",
     "model_name": "LayoutModel",
     "state": {
      "_model_module": "@jupyter-widgets/base",
      "_model_module_version": "1.2.0",
      "_model_name": "LayoutModel",
      "_view_count": null,
      "_view_module": "@jupyter-widgets/base",
      "_view_module_version": "1.2.0",
      "_view_name": "LayoutView",
      "align_content": null,
      "align_items": null,
      "align_self": null,
      "border": null,
      "bottom": null,
      "display": null,
      "flex": null,
      "flex_flow": null,
      "grid_area": null,
      "grid_auto_columns": null,
      "grid_auto_flow": null,
      "grid_auto_rows": null,
      "grid_column": null,
      "grid_gap": null,
      "grid_row": null,
      "grid_template_areas": null,
      "grid_template_columns": null,
      "grid_template_rows": null,
      "height": null,
      "justify_content": null,
      "justify_items": null,
      "left": null,
      "margin": null,
      "max_height": null,
      "max_width": null,
      "min_height": null,
      "min_width": null,
      "object_fit": null,
      "object_position": null,
      "order": null,
      "overflow": null,
      "overflow_x": null,
      "overflow_y": null,
      "padding": null,
      "right": null,
      "top": null,
      "visibility": null,
      "width": null
     }
    },
    "5df8549e5e0642d38bdddff9edc88736": {
     "model_module": "@jupyter-widgets/controls",
     "model_name": "LabelModel",
     "state": {
      "_dom_classes": [],
      "_model_module": "@jupyter-widgets/controls",
      "_model_module_version": "1.5.0",
      "_model_name": "LabelModel",
      "_view_count": null,
      "_view_module": "@jupyter-widgets/controls",
      "_view_module_version": "1.5.0",
      "_view_name": "LabelView",
      "description": "",
      "description_tooltip": null,
      "layout": "IPY_MODEL_5ea417f198704048a7131501a90fe2f3",
      "placeholder": "​",
      "style": "IPY_MODEL_ca2eb3115e104eed8094df7c9a1949ac",
      "value": " 0.01MB of 0.01MB uploaded (0.00MB deduped)\r"
     }
    },
    "5ea417f198704048a7131501a90fe2f3": {
     "model_module": "@jupyter-widgets/base",
     "model_name": "LayoutModel",
     "state": {
      "_model_module": "@jupyter-widgets/base",
      "_model_module_version": "1.2.0",
      "_model_name": "LayoutModel",
      "_view_count": null,
      "_view_module": "@jupyter-widgets/base",
      "_view_module_version": "1.2.0",
      "_view_name": "LayoutView",
      "align_content": null,
      "align_items": null,
      "align_self": null,
      "border": null,
      "bottom": null,
      "display": null,
      "flex": null,
      "flex_flow": null,
      "grid_area": null,
      "grid_auto_columns": null,
      "grid_auto_flow": null,
      "grid_auto_rows": null,
      "grid_column": null,
      "grid_gap": null,
      "grid_row": null,
      "grid_template_areas": null,
      "grid_template_columns": null,
      "grid_template_rows": null,
      "height": null,
      "justify_content": null,
      "justify_items": null,
      "left": null,
      "margin": null,
      "max_height": null,
      "max_width": null,
      "min_height": null,
      "min_width": null,
      "object_fit": null,
      "object_position": null,
      "order": null,
      "overflow": null,
      "overflow_x": null,
      "overflow_y": null,
      "padding": null,
      "right": null,
      "top": null,
      "visibility": null,
      "width": null
     }
    },
    "5ebc99cda9704c79a8da28229824e286": {
     "model_module": "@jupyter-widgets/controls",
     "model_name": "FloatProgressModel",
     "state": {
      "_dom_classes": [],
      "_model_module": "@jupyter-widgets/controls",
      "_model_module_version": "1.5.0",
      "_model_name": "FloatProgressModel",
      "_view_count": null,
      "_view_module": "@jupyter-widgets/controls",
      "_view_module_version": "1.5.0",
      "_view_name": "ProgressView",
      "bar_style": "",
      "description": "",
      "description_tooltip": null,
      "layout": "IPY_MODEL_367c9a94ae534d65ba632d85365beab1",
      "max": 1,
      "min": 0,
      "orientation": "horizontal",
      "style": "IPY_MODEL_7cb464f0c8ce4d2eb8180102516df464",
      "value": 1
     }
    },
    "5f4446c7bea847ed983ca0004a81d4c1": {
     "model_module": "@jupyter-widgets/controls",
     "model_name": "DescriptionStyleModel",
     "state": {
      "_model_module": "@jupyter-widgets/controls",
      "_model_module_version": "1.5.0",
      "_model_name": "DescriptionStyleModel",
      "_view_count": null,
      "_view_module": "@jupyter-widgets/base",
      "_view_module_version": "1.2.0",
      "_view_name": "StyleView",
      "description_width": ""
     }
    },
    "612dbdf1086a4135a4447ba2901bf99d": {
     "model_module": "@jupyter-widgets/controls",
     "model_name": "FloatProgressModel",
     "state": {
      "_dom_classes": [],
      "_model_module": "@jupyter-widgets/controls",
      "_model_module_version": "1.5.0",
      "_model_name": "FloatProgressModel",
      "_view_count": null,
      "_view_module": "@jupyter-widgets/controls",
      "_view_module_version": "1.5.0",
      "_view_name": "ProgressView",
      "bar_style": "",
      "description": "",
      "description_tooltip": null,
      "layout": "IPY_MODEL_15f765ebc1a64a29b9c1c71ca5288f0b",
      "max": 1,
      "min": 0,
      "orientation": "horizontal",
      "style": "IPY_MODEL_9f70d76a98534441874a42a9605c52d1",
      "value": 1
     }
    },
    "6548fd2011ba45c78675689cb3c1869b": {
     "model_module": "@jupyter-widgets/controls",
     "model_name": "VBoxModel",
     "state": {
      "_dom_classes": [],
      "_model_module": "@jupyter-widgets/controls",
      "_model_module_version": "1.5.0",
      "_model_name": "VBoxModel",
      "_view_count": null,
      "_view_module": "@jupyter-widgets/controls",
      "_view_module_version": "1.5.0",
      "_view_name": "VBoxView",
      "box_style": "",
      "children": [
       "IPY_MODEL_167dc7a567994e8cae027c6d52bccad2",
       "IPY_MODEL_7cc76b039f5c485f9f69b146a8076cc6"
      ],
      "layout": "IPY_MODEL_e7d562e2b2a54436b6e4fa53033a00d7"
     }
    },
    "65c19ea4afb4407db9ff03ef966545f4": {
     "model_module": "@jupyter-widgets/controls",
     "model_name": "FloatProgressModel",
     "state": {
      "_dom_classes": [],
      "_model_module": "@jupyter-widgets/controls",
      "_model_module_version": "1.5.0",
      "_model_name": "FloatProgressModel",
      "_view_count": null,
      "_view_module": "@jupyter-widgets/controls",
      "_view_module_version": "1.5.0",
      "_view_name": "ProgressView",
      "bar_style": "",
      "description": "",
      "description_tooltip": null,
      "layout": "IPY_MODEL_a8fe76057eb444c1a2775bd89861add5",
      "max": 1,
      "min": 0,
      "orientation": "horizontal",
      "style": "IPY_MODEL_d52f8ab548a14dbbb7e7178dce1f2338",
      "value": 1
     }
    },
    "66ce997acc0a49df92852577bca474ac": {
     "model_module": "@jupyter-widgets/controls",
     "model_name": "DescriptionStyleModel",
     "state": {
      "_model_module": "@jupyter-widgets/controls",
      "_model_module_version": "1.5.0",
      "_model_name": "DescriptionStyleModel",
      "_view_count": null,
      "_view_module": "@jupyter-widgets/base",
      "_view_module_version": "1.2.0",
      "_view_name": "StyleView",
      "description_width": ""
     }
    },
    "66d17fdf60be4de9ba48547dd430500e": {
     "model_module": "@jupyter-widgets/base",
     "model_name": "LayoutModel",
     "state": {
      "_model_module": "@jupyter-widgets/base",
      "_model_module_version": "1.2.0",
      "_model_name": "LayoutModel",
      "_view_count": null,
      "_view_module": "@jupyter-widgets/base",
      "_view_module_version": "1.2.0",
      "_view_name": "LayoutView",
      "align_content": null,
      "align_items": null,
      "align_self": null,
      "border": null,
      "bottom": null,
      "display": null,
      "flex": null,
      "flex_flow": null,
      "grid_area": null,
      "grid_auto_columns": null,
      "grid_auto_flow": null,
      "grid_auto_rows": null,
      "grid_column": null,
      "grid_gap": null,
      "grid_row": null,
      "grid_template_areas": null,
      "grid_template_columns": null,
      "grid_template_rows": null,
      "height": null,
      "justify_content": null,
      "justify_items": null,
      "left": null,
      "margin": null,
      "max_height": null,
      "max_width": null,
      "min_height": null,
      "min_width": null,
      "object_fit": null,
      "object_position": null,
      "order": null,
      "overflow": null,
      "overflow_x": null,
      "overflow_y": null,
      "padding": null,
      "right": null,
      "top": null,
      "visibility": null,
      "width": null
     }
    },
    "6739b71c97924853813dfc98a355815d": {
     "model_module": "@jupyter-widgets/base",
     "model_name": "LayoutModel",
     "state": {
      "_model_module": "@jupyter-widgets/base",
      "_model_module_version": "1.2.0",
      "_model_name": "LayoutModel",
      "_view_count": null,
      "_view_module": "@jupyter-widgets/base",
      "_view_module_version": "1.2.0",
      "_view_name": "LayoutView",
      "align_content": null,
      "align_items": null,
      "align_self": null,
      "border": null,
      "bottom": null,
      "display": null,
      "flex": null,
      "flex_flow": null,
      "grid_area": null,
      "grid_auto_columns": null,
      "grid_auto_flow": null,
      "grid_auto_rows": null,
      "grid_column": null,
      "grid_gap": null,
      "grid_row": null,
      "grid_template_areas": null,
      "grid_template_columns": null,
      "grid_template_rows": null,
      "height": null,
      "justify_content": null,
      "justify_items": null,
      "left": null,
      "margin": null,
      "max_height": null,
      "max_width": null,
      "min_height": null,
      "min_width": null,
      "object_fit": null,
      "object_position": null,
      "order": null,
      "overflow": null,
      "overflow_x": null,
      "overflow_y": null,
      "padding": null,
      "right": null,
      "top": null,
      "visibility": null,
      "width": null
     }
    },
    "697f4596e4d742668f0a64db7021fdca": {
     "model_module": "@jupyter-widgets/base",
     "model_name": "LayoutModel",
     "state": {
      "_model_module": "@jupyter-widgets/base",
      "_model_module_version": "1.2.0",
      "_model_name": "LayoutModel",
      "_view_count": null,
      "_view_module": "@jupyter-widgets/base",
      "_view_module_version": "1.2.0",
      "_view_name": "LayoutView",
      "align_content": null,
      "align_items": null,
      "align_self": null,
      "border": null,
      "bottom": null,
      "display": null,
      "flex": null,
      "flex_flow": null,
      "grid_area": null,
      "grid_auto_columns": null,
      "grid_auto_flow": null,
      "grid_auto_rows": null,
      "grid_column": null,
      "grid_gap": null,
      "grid_row": null,
      "grid_template_areas": null,
      "grid_template_columns": null,
      "grid_template_rows": null,
      "height": null,
      "justify_content": null,
      "justify_items": null,
      "left": null,
      "margin": null,
      "max_height": null,
      "max_width": null,
      "min_height": null,
      "min_width": null,
      "object_fit": null,
      "object_position": null,
      "order": null,
      "overflow": null,
      "overflow_x": null,
      "overflow_y": null,
      "padding": null,
      "right": null,
      "top": null,
      "visibility": null,
      "width": null
     }
    },
    "6a18a33746674428878c9fc23a85d914": {
     "model_module": "@jupyter-widgets/controls",
     "model_name": "DescriptionStyleModel",
     "state": {
      "_model_module": "@jupyter-widgets/controls",
      "_model_module_version": "1.5.0",
      "_model_name": "DescriptionStyleModel",
      "_view_count": null,
      "_view_module": "@jupyter-widgets/base",
      "_view_module_version": "1.2.0",
      "_view_name": "StyleView",
      "description_width": ""
     }
    },
    "6b703966b449493492f4ead03ce0af73": {
     "model_module": "@jupyter-widgets/controls",
     "model_name": "FloatProgressModel",
     "state": {
      "_dom_classes": [],
      "_model_module": "@jupyter-widgets/controls",
      "_model_module_version": "1.5.0",
      "_model_name": "FloatProgressModel",
      "_view_count": null,
      "_view_module": "@jupyter-widgets/controls",
      "_view_module_version": "1.5.0",
      "_view_name": "ProgressView",
      "bar_style": "",
      "description": "",
      "description_tooltip": null,
      "layout": "IPY_MODEL_8666dca1331b44afb8a87a2bdd8ee233",
      "max": 1,
      "min": 0,
      "orientation": "horizontal",
      "style": "IPY_MODEL_40ce0fe91b8846d5bab9a65ff8ba8d1b",
      "value": 1
     }
    },
    "6d7b85761e234b6ba7beb907184f05ec": {
     "model_module": "@jupyter-widgets/base",
     "model_name": "LayoutModel",
     "state": {
      "_model_module": "@jupyter-widgets/base",
      "_model_module_version": "1.2.0",
      "_model_name": "LayoutModel",
      "_view_count": null,
      "_view_module": "@jupyter-widgets/base",
      "_view_module_version": "1.2.0",
      "_view_name": "LayoutView",
      "align_content": null,
      "align_items": null,
      "align_self": null,
      "border": null,
      "bottom": null,
      "display": null,
      "flex": null,
      "flex_flow": null,
      "grid_area": null,
      "grid_auto_columns": null,
      "grid_auto_flow": null,
      "grid_auto_rows": null,
      "grid_column": null,
      "grid_gap": null,
      "grid_row": null,
      "grid_template_areas": null,
      "grid_template_columns": null,
      "grid_template_rows": null,
      "height": null,
      "justify_content": null,
      "justify_items": null,
      "left": null,
      "margin": null,
      "max_height": null,
      "max_width": null,
      "min_height": null,
      "min_width": null,
      "object_fit": null,
      "object_position": null,
      "order": null,
      "overflow": null,
      "overflow_x": null,
      "overflow_y": null,
      "padding": null,
      "right": null,
      "top": null,
      "visibility": null,
      "width": null
     }
    },
    "6eab36a960e649a381bc65184b8348a6": {
     "model_module": "@jupyter-widgets/controls",
     "model_name": "VBoxModel",
     "state": {
      "_dom_classes": [],
      "_model_module": "@jupyter-widgets/controls",
      "_model_module_version": "1.5.0",
      "_model_name": "VBoxModel",
      "_view_count": null,
      "_view_module": "@jupyter-widgets/controls",
      "_view_module_version": "1.5.0",
      "_view_name": "VBoxView",
      "box_style": "",
      "children": [
       "IPY_MODEL_b0c6092c387d4a1ea10ca9247109ee18",
       "IPY_MODEL_aa41c2e1a1544faea3970565a55faa17"
      ],
      "layout": "IPY_MODEL_82bdccdd09ed4730b9f3b60682e92122"
     }
    },
    "78c28754c63546f8b0823df33995543a": {
     "model_module": "@jupyter-widgets/base",
     "model_name": "LayoutModel",
     "state": {
      "_model_module": "@jupyter-widgets/base",
      "_model_module_version": "1.2.0",
      "_model_name": "LayoutModel",
      "_view_count": null,
      "_view_module": "@jupyter-widgets/base",
      "_view_module_version": "1.2.0",
      "_view_name": "LayoutView",
      "align_content": null,
      "align_items": null,
      "align_self": null,
      "border": null,
      "bottom": null,
      "display": null,
      "flex": null,
      "flex_flow": null,
      "grid_area": null,
      "grid_auto_columns": null,
      "grid_auto_flow": null,
      "grid_auto_rows": null,
      "grid_column": null,
      "grid_gap": null,
      "grid_row": null,
      "grid_template_areas": null,
      "grid_template_columns": null,
      "grid_template_rows": null,
      "height": null,
      "justify_content": null,
      "justify_items": null,
      "left": null,
      "margin": null,
      "max_height": null,
      "max_width": null,
      "min_height": null,
      "min_width": null,
      "object_fit": null,
      "object_position": null,
      "order": null,
      "overflow": null,
      "overflow_x": null,
      "overflow_y": null,
      "padding": null,
      "right": null,
      "top": null,
      "visibility": null,
      "width": null
     }
    },
    "791a342d42e54085ba0b72c1a44c77bd": {
     "model_module": "@jupyter-widgets/base",
     "model_name": "LayoutModel",
     "state": {
      "_model_module": "@jupyter-widgets/base",
      "_model_module_version": "1.2.0",
      "_model_name": "LayoutModel",
      "_view_count": null,
      "_view_module": "@jupyter-widgets/base",
      "_view_module_version": "1.2.0",
      "_view_name": "LayoutView",
      "align_content": null,
      "align_items": null,
      "align_self": null,
      "border": null,
      "bottom": null,
      "display": null,
      "flex": null,
      "flex_flow": null,
      "grid_area": null,
      "grid_auto_columns": null,
      "grid_auto_flow": null,
      "grid_auto_rows": null,
      "grid_column": null,
      "grid_gap": null,
      "grid_row": null,
      "grid_template_areas": null,
      "grid_template_columns": null,
      "grid_template_rows": null,
      "height": null,
      "justify_content": null,
      "justify_items": null,
      "left": null,
      "margin": null,
      "max_height": null,
      "max_width": null,
      "min_height": null,
      "min_width": null,
      "object_fit": null,
      "object_position": null,
      "order": null,
      "overflow": null,
      "overflow_x": null,
      "overflow_y": null,
      "padding": null,
      "right": null,
      "top": null,
      "visibility": null,
      "width": null
     }
    },
    "79706bbf8e4e4a45802cda9bb5a5eed9": {
     "model_module": "@jupyter-widgets/controls",
     "model_name": "LabelModel",
     "state": {
      "_dom_classes": [],
      "_model_module": "@jupyter-widgets/controls",
      "_model_module_version": "1.5.0",
      "_model_name": "LabelModel",
      "_view_count": null,
      "_view_module": "@jupyter-widgets/controls",
      "_view_module_version": "1.5.0",
      "_view_name": "LabelView",
      "description": "",
      "description_tooltip": null,
      "layout": "IPY_MODEL_2968e90a8191406398487cf27286def7",
      "placeholder": "​",
      "style": "IPY_MODEL_540f4b8ffc7e44928f8bdb03ae2ea352",
      "value": " 0.01MB of 0.01MB uploaded (0.00MB deduped)\r"
     }
    },
    "79cddc4b9ccf49859c0a64fbf0377807": {
     "model_module": "@jupyter-widgets/base",
     "model_name": "LayoutModel",
     "state": {
      "_model_module": "@jupyter-widgets/base",
      "_model_module_version": "1.2.0",
      "_model_name": "LayoutModel",
      "_view_count": null,
      "_view_module": "@jupyter-widgets/base",
      "_view_module_version": "1.2.0",
      "_view_name": "LayoutView",
      "align_content": null,
      "align_items": null,
      "align_self": null,
      "border": null,
      "bottom": null,
      "display": null,
      "flex": null,
      "flex_flow": null,
      "grid_area": null,
      "grid_auto_columns": null,
      "grid_auto_flow": null,
      "grid_auto_rows": null,
      "grid_column": null,
      "grid_gap": null,
      "grid_row": null,
      "grid_template_areas": null,
      "grid_template_columns": null,
      "grid_template_rows": null,
      "height": null,
      "justify_content": null,
      "justify_items": null,
      "left": null,
      "margin": null,
      "max_height": null,
      "max_width": null,
      "min_height": null,
      "min_width": null,
      "object_fit": null,
      "object_position": null,
      "order": null,
      "overflow": null,
      "overflow_x": null,
      "overflow_y": null,
      "padding": null,
      "right": null,
      "top": null,
      "visibility": null,
      "width": null
     }
    },
    "7cb464f0c8ce4d2eb8180102516df464": {
     "model_module": "@jupyter-widgets/controls",
     "model_name": "ProgressStyleModel",
     "state": {
      "_model_module": "@jupyter-widgets/controls",
      "_model_module_version": "1.5.0",
      "_model_name": "ProgressStyleModel",
      "_view_count": null,
      "_view_module": "@jupyter-widgets/base",
      "_view_module_version": "1.2.0",
      "_view_name": "StyleView",
      "bar_color": null,
      "description_width": ""
     }
    },
    "7cc76b039f5c485f9f69b146a8076cc6": {
     "model_module": "@jupyter-widgets/controls",
     "model_name": "FloatProgressModel",
     "state": {
      "_dom_classes": [],
      "_model_module": "@jupyter-widgets/controls",
      "_model_module_version": "1.5.0",
      "_model_name": "FloatProgressModel",
      "_view_count": null,
      "_view_module": "@jupyter-widgets/controls",
      "_view_module_version": "1.5.0",
      "_view_name": "ProgressView",
      "bar_style": "",
      "description": "",
      "description_tooltip": null,
      "layout": "IPY_MODEL_5223ae5aeeeb4373ad995a9a26292bdd",
      "max": 1,
      "min": 0,
      "orientation": "horizontal",
      "style": "IPY_MODEL_dfd7b8f212e24e57a3d5777290badbba",
      "value": 1
     }
    },
    "7fdef29813c24b858a1c6682856bec90": {
     "model_module": "@jupyter-widgets/base",
     "model_name": "LayoutModel",
     "state": {
      "_model_module": "@jupyter-widgets/base",
      "_model_module_version": "1.2.0",
      "_model_name": "LayoutModel",
      "_view_count": null,
      "_view_module": "@jupyter-widgets/base",
      "_view_module_version": "1.2.0",
      "_view_name": "LayoutView",
      "align_content": null,
      "align_items": null,
      "align_self": null,
      "border": null,
      "bottom": null,
      "display": null,
      "flex": null,
      "flex_flow": null,
      "grid_area": null,
      "grid_auto_columns": null,
      "grid_auto_flow": null,
      "grid_auto_rows": null,
      "grid_column": null,
      "grid_gap": null,
      "grid_row": null,
      "grid_template_areas": null,
      "grid_template_columns": null,
      "grid_template_rows": null,
      "height": null,
      "justify_content": null,
      "justify_items": null,
      "left": null,
      "margin": null,
      "max_height": null,
      "max_width": null,
      "min_height": null,
      "min_width": null,
      "object_fit": null,
      "object_position": null,
      "order": null,
      "overflow": null,
      "overflow_x": null,
      "overflow_y": null,
      "padding": null,
      "right": null,
      "top": null,
      "visibility": null,
      "width": null
     }
    },
    "820ece69890e407aabbf24457637dc3c": {
     "model_module": "@jupyter-widgets/controls",
     "model_name": "ProgressStyleModel",
     "state": {
      "_model_module": "@jupyter-widgets/controls",
      "_model_module_version": "1.5.0",
      "_model_name": "ProgressStyleModel",
      "_view_count": null,
      "_view_module": "@jupyter-widgets/base",
      "_view_module_version": "1.2.0",
      "_view_name": "StyleView",
      "bar_color": null,
      "description_width": ""
     }
    },
    "825a1c65689647f687fede2da05a4c5f": {
     "model_module": "@jupyter-widgets/controls",
     "model_name": "FloatProgressModel",
     "state": {
      "_dom_classes": [],
      "_model_module": "@jupyter-widgets/controls",
      "_model_module_version": "1.5.0",
      "_model_name": "FloatProgressModel",
      "_view_count": null,
      "_view_module": "@jupyter-widgets/controls",
      "_view_module_version": "1.5.0",
      "_view_name": "ProgressView",
      "bar_style": "",
      "description": "",
      "description_tooltip": null,
      "layout": "IPY_MODEL_3229c024f4d54afda4c430bea3846bf7",
      "max": 1,
      "min": 0,
      "orientation": "horizontal",
      "style": "IPY_MODEL_a47eb84d542c4e46bfe3cdd8ec6e4ec5",
      "value": 1
     }
    },
    "82bdccdd09ed4730b9f3b60682e92122": {
     "model_module": "@jupyter-widgets/base",
     "model_name": "LayoutModel",
     "state": {
      "_model_module": "@jupyter-widgets/base",
      "_model_module_version": "1.2.0",
      "_model_name": "LayoutModel",
      "_view_count": null,
      "_view_module": "@jupyter-widgets/base",
      "_view_module_version": "1.2.0",
      "_view_name": "LayoutView",
      "align_content": null,
      "align_items": null,
      "align_self": null,
      "border": null,
      "bottom": null,
      "display": null,
      "flex": null,
      "flex_flow": null,
      "grid_area": null,
      "grid_auto_columns": null,
      "grid_auto_flow": null,
      "grid_auto_rows": null,
      "grid_column": null,
      "grid_gap": null,
      "grid_row": null,
      "grid_template_areas": null,
      "grid_template_columns": null,
      "grid_template_rows": null,
      "height": null,
      "justify_content": null,
      "justify_items": null,
      "left": null,
      "margin": null,
      "max_height": null,
      "max_width": null,
      "min_height": null,
      "min_width": null,
      "object_fit": null,
      "object_position": null,
      "order": null,
      "overflow": null,
      "overflow_x": null,
      "overflow_y": null,
      "padding": null,
      "right": null,
      "top": null,
      "visibility": null,
      "width": null
     }
    },
    "8547b5110837457f9a5ce121b9a374db": {
     "model_module": "@jupyter-widgets/controls",
     "model_name": "LabelModel",
     "state": {
      "_dom_classes": [],
      "_model_module": "@jupyter-widgets/controls",
      "_model_module_version": "1.5.0",
      "_model_name": "LabelModel",
      "_view_count": null,
      "_view_module": "@jupyter-widgets/controls",
      "_view_module_version": "1.5.0",
      "_view_name": "LabelView",
      "description": "",
      "description_tooltip": null,
      "layout": "IPY_MODEL_4d11b845ee4b4a16872975144b089890",
      "placeholder": "​",
      "style": "IPY_MODEL_d212b24c3f8a4b03a653007182f46919",
      "value": " 0.01MB of 0.01MB uploaded (0.00MB deduped)\r"
     }
    },
    "8666dca1331b44afb8a87a2bdd8ee233": {
     "model_module": "@jupyter-widgets/base",
     "model_name": "LayoutModel",
     "state": {
      "_model_module": "@jupyter-widgets/base",
      "_model_module_version": "1.2.0",
      "_model_name": "LayoutModel",
      "_view_count": null,
      "_view_module": "@jupyter-widgets/base",
      "_view_module_version": "1.2.0",
      "_view_name": "LayoutView",
      "align_content": null,
      "align_items": null,
      "align_self": null,
      "border": null,
      "bottom": null,
      "display": null,
      "flex": null,
      "flex_flow": null,
      "grid_area": null,
      "grid_auto_columns": null,
      "grid_auto_flow": null,
      "grid_auto_rows": null,
      "grid_column": null,
      "grid_gap": null,
      "grid_row": null,
      "grid_template_areas": null,
      "grid_template_columns": null,
      "grid_template_rows": null,
      "height": null,
      "justify_content": null,
      "justify_items": null,
      "left": null,
      "margin": null,
      "max_height": null,
      "max_width": null,
      "min_height": null,
      "min_width": null,
      "object_fit": null,
      "object_position": null,
      "order": null,
      "overflow": null,
      "overflow_x": null,
      "overflow_y": null,
      "padding": null,
      "right": null,
      "top": null,
      "visibility": null,
      "width": null
     }
    },
    "88ffbd83340e44a98d181ae0c364c3bf": {
     "model_module": "@jupyter-widgets/base",
     "model_name": "LayoutModel",
     "state": {
      "_model_module": "@jupyter-widgets/base",
      "_model_module_version": "1.2.0",
      "_model_name": "LayoutModel",
      "_view_count": null,
      "_view_module": "@jupyter-widgets/base",
      "_view_module_version": "1.2.0",
      "_view_name": "LayoutView",
      "align_content": null,
      "align_items": null,
      "align_self": null,
      "border": null,
      "bottom": null,
      "display": null,
      "flex": null,
      "flex_flow": null,
      "grid_area": null,
      "grid_auto_columns": null,
      "grid_auto_flow": null,
      "grid_auto_rows": null,
      "grid_column": null,
      "grid_gap": null,
      "grid_row": null,
      "grid_template_areas": null,
      "grid_template_columns": null,
      "grid_template_rows": null,
      "height": null,
      "justify_content": null,
      "justify_items": null,
      "left": null,
      "margin": null,
      "max_height": null,
      "max_width": null,
      "min_height": null,
      "min_width": null,
      "object_fit": null,
      "object_position": null,
      "order": null,
      "overflow": null,
      "overflow_x": null,
      "overflow_y": null,
      "padding": null,
      "right": null,
      "top": null,
      "visibility": null,
      "width": null
     }
    },
    "8a419797598a49beb7ad969b30516048": {
     "model_module": "@jupyter-widgets/base",
     "model_name": "LayoutModel",
     "state": {
      "_model_module": "@jupyter-widgets/base",
      "_model_module_version": "1.2.0",
      "_model_name": "LayoutModel",
      "_view_count": null,
      "_view_module": "@jupyter-widgets/base",
      "_view_module_version": "1.2.0",
      "_view_name": "LayoutView",
      "align_content": null,
      "align_items": null,
      "align_self": null,
      "border": null,
      "bottom": null,
      "display": null,
      "flex": null,
      "flex_flow": null,
      "grid_area": null,
      "grid_auto_columns": null,
      "grid_auto_flow": null,
      "grid_auto_rows": null,
      "grid_column": null,
      "grid_gap": null,
      "grid_row": null,
      "grid_template_areas": null,
      "grid_template_columns": null,
      "grid_template_rows": null,
      "height": null,
      "justify_content": null,
      "justify_items": null,
      "left": null,
      "margin": null,
      "max_height": null,
      "max_width": null,
      "min_height": null,
      "min_width": null,
      "object_fit": null,
      "object_position": null,
      "order": null,
      "overflow": null,
      "overflow_x": null,
      "overflow_y": null,
      "padding": null,
      "right": null,
      "top": null,
      "visibility": null,
      "width": null
     }
    },
    "8dcee2bc586349f7becbfbf7651e9116": {
     "model_module": "@jupyter-widgets/controls",
     "model_name": "VBoxModel",
     "state": {
      "_dom_classes": [],
      "_model_module": "@jupyter-widgets/controls",
      "_model_module_version": "1.5.0",
      "_model_name": "VBoxModel",
      "_view_count": null,
      "_view_module": "@jupyter-widgets/controls",
      "_view_module_version": "1.5.0",
      "_view_name": "VBoxView",
      "box_style": "",
      "children": [
       "IPY_MODEL_f6b2f3f6647e4a38a75ea59cc2b4e4a2",
       "IPY_MODEL_b224ddd2bd4842f6bd8f213fdb72dec5"
      ],
      "layout": "IPY_MODEL_4d860f81bf624067916b13871a9f4809"
     }
    },
    "9064b936901f428aa0bdde56add8615a": {
     "model_module": "@jupyter-widgets/base",
     "model_name": "LayoutModel",
     "state": {
      "_model_module": "@jupyter-widgets/base",
      "_model_module_version": "1.2.0",
      "_model_name": "LayoutModel",
      "_view_count": null,
      "_view_module": "@jupyter-widgets/base",
      "_view_module_version": "1.2.0",
      "_view_name": "LayoutView",
      "align_content": null,
      "align_items": null,
      "align_self": null,
      "border": null,
      "bottom": null,
      "display": null,
      "flex": null,
      "flex_flow": null,
      "grid_area": null,
      "grid_auto_columns": null,
      "grid_auto_flow": null,
      "grid_auto_rows": null,
      "grid_column": null,
      "grid_gap": null,
      "grid_row": null,
      "grid_template_areas": null,
      "grid_template_columns": null,
      "grid_template_rows": null,
      "height": null,
      "justify_content": null,
      "justify_items": null,
      "left": null,
      "margin": null,
      "max_height": null,
      "max_width": null,
      "min_height": null,
      "min_width": null,
      "object_fit": null,
      "object_position": null,
      "order": null,
      "overflow": null,
      "overflow_x": null,
      "overflow_y": null,
      "padding": null,
      "right": null,
      "top": null,
      "visibility": null,
      "width": null
     }
    },
    "92f01d8078f0497bbf0938190aea9937": {
     "model_module": "@jupyter-widgets/controls",
     "model_name": "DescriptionStyleModel",
     "state": {
      "_model_module": "@jupyter-widgets/controls",
      "_model_module_version": "1.5.0",
      "_model_name": "DescriptionStyleModel",
      "_view_count": null,
      "_view_module": "@jupyter-widgets/base",
      "_view_module_version": "1.2.0",
      "_view_name": "StyleView",
      "description_width": ""
     }
    },
    "93c1fd0525ac49e0ad85d7bf8accc04b": {
     "model_module": "@jupyter-widgets/controls",
     "model_name": "FloatProgressModel",
     "state": {
      "_dom_classes": [],
      "_model_module": "@jupyter-widgets/controls",
      "_model_module_version": "1.5.0",
      "_model_name": "FloatProgressModel",
      "_view_count": null,
      "_view_module": "@jupyter-widgets/controls",
      "_view_module_version": "1.5.0",
      "_view_name": "ProgressView",
      "bar_style": "",
      "description": "",
      "description_tooltip": null,
      "layout": "IPY_MODEL_0319e58ca85e4b1db08cdf3937c5648f",
      "max": 1,
      "min": 0,
      "orientation": "horizontal",
      "style": "IPY_MODEL_de4bb303204c4070b4ddd4853f986df5",
      "value": 1
     }
    },
    "95af67eb25c842e8b30b762c08b1e4f2": {
     "model_module": "@jupyter-widgets/controls",
     "model_name": "DescriptionStyleModel",
     "state": {
      "_model_module": "@jupyter-widgets/controls",
      "_model_module_version": "1.5.0",
      "_model_name": "DescriptionStyleModel",
      "_view_count": null,
      "_view_module": "@jupyter-widgets/base",
      "_view_module_version": "1.2.0",
      "_view_name": "StyleView",
      "description_width": ""
     }
    },
    "9698435e3cd34cfe87f70d5f1aa956c5": {
     "model_module": "@jupyter-widgets/controls",
     "model_name": "ProgressStyleModel",
     "state": {
      "_model_module": "@jupyter-widgets/controls",
      "_model_module_version": "1.5.0",
      "_model_name": "ProgressStyleModel",
      "_view_count": null,
      "_view_module": "@jupyter-widgets/base",
      "_view_module_version": "1.2.0",
      "_view_name": "StyleView",
      "bar_color": null,
      "description_width": ""
     }
    },
    "9931e3eb33614edf9ad34ef241c24b32": {
     "model_module": "@jupyter-widgets/controls",
     "model_name": "FloatProgressModel",
     "state": {
      "_dom_classes": [],
      "_model_module": "@jupyter-widgets/controls",
      "_model_module_version": "1.5.0",
      "_model_name": "FloatProgressModel",
      "_view_count": null,
      "_view_module": "@jupyter-widgets/controls",
      "_view_module_version": "1.5.0",
      "_view_name": "ProgressView",
      "bar_style": "",
      "description": "",
      "description_tooltip": null,
      "layout": "IPY_MODEL_b7fbc03fbcda4fd88efba08489384e4b",
      "max": 1,
      "min": 0,
      "orientation": "horizontal",
      "style": "IPY_MODEL_0ee33908131144e19832fb925fa98dbe",
      "value": 1
     }
    },
    "9b8ab111d5c54848b73e49760256693a": {
     "model_module": "@jupyter-widgets/base",
     "model_name": "LayoutModel",
     "state": {
      "_model_module": "@jupyter-widgets/base",
      "_model_module_version": "1.2.0",
      "_model_name": "LayoutModel",
      "_view_count": null,
      "_view_module": "@jupyter-widgets/base",
      "_view_module_version": "1.2.0",
      "_view_name": "LayoutView",
      "align_content": null,
      "align_items": null,
      "align_self": null,
      "border": null,
      "bottom": null,
      "display": null,
      "flex": null,
      "flex_flow": null,
      "grid_area": null,
      "grid_auto_columns": null,
      "grid_auto_flow": null,
      "grid_auto_rows": null,
      "grid_column": null,
      "grid_gap": null,
      "grid_row": null,
      "grid_template_areas": null,
      "grid_template_columns": null,
      "grid_template_rows": null,
      "height": null,
      "justify_content": null,
      "justify_items": null,
      "left": null,
      "margin": null,
      "max_height": null,
      "max_width": null,
      "min_height": null,
      "min_width": null,
      "object_fit": null,
      "object_position": null,
      "order": null,
      "overflow": null,
      "overflow_x": null,
      "overflow_y": null,
      "padding": null,
      "right": null,
      "top": null,
      "visibility": null,
      "width": null
     }
    },
    "9c35052c3c50407da1020141887164f2": {
     "model_module": "@jupyter-widgets/controls",
     "model_name": "LabelModel",
     "state": {
      "_dom_classes": [],
      "_model_module": "@jupyter-widgets/controls",
      "_model_module_version": "1.5.0",
      "_model_name": "LabelModel",
      "_view_count": null,
      "_view_module": "@jupyter-widgets/controls",
      "_view_module_version": "1.5.0",
      "_view_name": "LabelView",
      "description": "",
      "description_tooltip": null,
      "layout": "IPY_MODEL_0c0d16b4aadc4051beb302a657e04caa",
      "placeholder": "​",
      "style": "IPY_MODEL_bcb304d31f33494696c57fe037662520",
      "value": " 0.01MB of 0.01MB uploaded (0.00MB deduped)\r"
     }
    },
    "9e68c74a96bb4ed6a0f7e957059f3787": {
     "model_module": "@jupyter-widgets/base",
     "model_name": "LayoutModel",
     "state": {
      "_model_module": "@jupyter-widgets/base",
      "_model_module_version": "1.2.0",
      "_model_name": "LayoutModel",
      "_view_count": null,
      "_view_module": "@jupyter-widgets/base",
      "_view_module_version": "1.2.0",
      "_view_name": "LayoutView",
      "align_content": null,
      "align_items": null,
      "align_self": null,
      "border": null,
      "bottom": null,
      "display": null,
      "flex": null,
      "flex_flow": null,
      "grid_area": null,
      "grid_auto_columns": null,
      "grid_auto_flow": null,
      "grid_auto_rows": null,
      "grid_column": null,
      "grid_gap": null,
      "grid_row": null,
      "grid_template_areas": null,
      "grid_template_columns": null,
      "grid_template_rows": null,
      "height": null,
      "justify_content": null,
      "justify_items": null,
      "left": null,
      "margin": null,
      "max_height": null,
      "max_width": null,
      "min_height": null,
      "min_width": null,
      "object_fit": null,
      "object_position": null,
      "order": null,
      "overflow": null,
      "overflow_x": null,
      "overflow_y": null,
      "padding": null,
      "right": null,
      "top": null,
      "visibility": null,
      "width": null
     }
    },
    "9f70d76a98534441874a42a9605c52d1": {
     "model_module": "@jupyter-widgets/controls",
     "model_name": "ProgressStyleModel",
     "state": {
      "_model_module": "@jupyter-widgets/controls",
      "_model_module_version": "1.5.0",
      "_model_name": "ProgressStyleModel",
      "_view_count": null,
      "_view_module": "@jupyter-widgets/base",
      "_view_module_version": "1.2.0",
      "_view_name": "StyleView",
      "bar_color": null,
      "description_width": ""
     }
    },
    "a47eb84d542c4e46bfe3cdd8ec6e4ec5": {
     "model_module": "@jupyter-widgets/controls",
     "model_name": "ProgressStyleModel",
     "state": {
      "_model_module": "@jupyter-widgets/controls",
      "_model_module_version": "1.5.0",
      "_model_name": "ProgressStyleModel",
      "_view_count": null,
      "_view_module": "@jupyter-widgets/base",
      "_view_module_version": "1.2.0",
      "_view_name": "StyleView",
      "bar_color": null,
      "description_width": ""
     }
    },
    "a69f849baa014ecaa06bc27c5b52110f": {
     "model_module": "@jupyter-widgets/base",
     "model_name": "LayoutModel",
     "state": {
      "_model_module": "@jupyter-widgets/base",
      "_model_module_version": "1.2.0",
      "_model_name": "LayoutModel",
      "_view_count": null,
      "_view_module": "@jupyter-widgets/base",
      "_view_module_version": "1.2.0",
      "_view_name": "LayoutView",
      "align_content": null,
      "align_items": null,
      "align_self": null,
      "border": null,
      "bottom": null,
      "display": null,
      "flex": null,
      "flex_flow": null,
      "grid_area": null,
      "grid_auto_columns": null,
      "grid_auto_flow": null,
      "grid_auto_rows": null,
      "grid_column": null,
      "grid_gap": null,
      "grid_row": null,
      "grid_template_areas": null,
      "grid_template_columns": null,
      "grid_template_rows": null,
      "height": null,
      "justify_content": null,
      "justify_items": null,
      "left": null,
      "margin": null,
      "max_height": null,
      "max_width": null,
      "min_height": null,
      "min_width": null,
      "object_fit": null,
      "object_position": null,
      "order": null,
      "overflow": null,
      "overflow_x": null,
      "overflow_y": null,
      "padding": null,
      "right": null,
      "top": null,
      "visibility": null,
      "width": null
     }
    },
    "a6eb0b532fcd4599aafa20a52d1e59fb": {
     "model_module": "@jupyter-widgets/controls",
     "model_name": "LabelModel",
     "state": {
      "_dom_classes": [],
      "_model_module": "@jupyter-widgets/controls",
      "_model_module_version": "1.5.0",
      "_model_name": "LabelModel",
      "_view_count": null,
      "_view_module": "@jupyter-widgets/controls",
      "_view_module_version": "1.5.0",
      "_view_name": "LabelView",
      "description": "",
      "description_tooltip": null,
      "layout": "IPY_MODEL_df695ba6eedb42618575eb77374bbd37",
      "placeholder": "​",
      "style": "IPY_MODEL_cbb056b7369e4e019b77ee1062d84932",
      "value": " 0.01MB of 0.01MB uploaded (0.00MB deduped)\r"
     }
    },
    "a8fe76057eb444c1a2775bd89861add5": {
     "model_module": "@jupyter-widgets/base",
     "model_name": "LayoutModel",
     "state": {
      "_model_module": "@jupyter-widgets/base",
      "_model_module_version": "1.2.0",
      "_model_name": "LayoutModel",
      "_view_count": null,
      "_view_module": "@jupyter-widgets/base",
      "_view_module_version": "1.2.0",
      "_view_name": "LayoutView",
      "align_content": null,
      "align_items": null,
      "align_self": null,
      "border": null,
      "bottom": null,
      "display": null,
      "flex": null,
      "flex_flow": null,
      "grid_area": null,
      "grid_auto_columns": null,
      "grid_auto_flow": null,
      "grid_auto_rows": null,
      "grid_column": null,
      "grid_gap": null,
      "grid_row": null,
      "grid_template_areas": null,
      "grid_template_columns": null,
      "grid_template_rows": null,
      "height": null,
      "justify_content": null,
      "justify_items": null,
      "left": null,
      "margin": null,
      "max_height": null,
      "max_width": null,
      "min_height": null,
      "min_width": null,
      "object_fit": null,
      "object_position": null,
      "order": null,
      "overflow": null,
      "overflow_x": null,
      "overflow_y": null,
      "padding": null,
      "right": null,
      "top": null,
      "visibility": null,
      "width": null
     }
    },
    "aa2241ce19d74138be6a6edf11fd0dd9": {
     "model_module": "@jupyter-widgets/base",
     "model_name": "LayoutModel",
     "state": {
      "_model_module": "@jupyter-widgets/base",
      "_model_module_version": "1.2.0",
      "_model_name": "LayoutModel",
      "_view_count": null,
      "_view_module": "@jupyter-widgets/base",
      "_view_module_version": "1.2.0",
      "_view_name": "LayoutView",
      "align_content": null,
      "align_items": null,
      "align_self": null,
      "border": null,
      "bottom": null,
      "display": null,
      "flex": null,
      "flex_flow": null,
      "grid_area": null,
      "grid_auto_columns": null,
      "grid_auto_flow": null,
      "grid_auto_rows": null,
      "grid_column": null,
      "grid_gap": null,
      "grid_row": null,
      "grid_template_areas": null,
      "grid_template_columns": null,
      "grid_template_rows": null,
      "height": null,
      "justify_content": null,
      "justify_items": null,
      "left": null,
      "margin": null,
      "max_height": null,
      "max_width": null,
      "min_height": null,
      "min_width": null,
      "object_fit": null,
      "object_position": null,
      "order": null,
      "overflow": null,
      "overflow_x": null,
      "overflow_y": null,
      "padding": null,
      "right": null,
      "top": null,
      "visibility": null,
      "width": null
     }
    },
    "aa41c2e1a1544faea3970565a55faa17": {
     "model_module": "@jupyter-widgets/controls",
     "model_name": "FloatProgressModel",
     "state": {
      "_dom_classes": [],
      "_model_module": "@jupyter-widgets/controls",
      "_model_module_version": "1.5.0",
      "_model_name": "FloatProgressModel",
      "_view_count": null,
      "_view_module": "@jupyter-widgets/controls",
      "_view_module_version": "1.5.0",
      "_view_name": "ProgressView",
      "bar_style": "",
      "description": "",
      "description_tooltip": null,
      "layout": "IPY_MODEL_e8e13b52873c40b5adfd974801198986",
      "max": 1,
      "min": 0,
      "orientation": "horizontal",
      "style": "IPY_MODEL_48099fc0e83a4083b856ab2b89031977",
      "value": 1
     }
    },
    "aa7ee85b3879401b990dba567c1ea0ec": {
     "model_module": "@jupyter-widgets/controls",
     "model_name": "ProgressStyleModel",
     "state": {
      "_model_module": "@jupyter-widgets/controls",
      "_model_module_version": "1.5.0",
      "_model_name": "ProgressStyleModel",
      "_view_count": null,
      "_view_module": "@jupyter-widgets/base",
      "_view_module_version": "1.2.0",
      "_view_name": "StyleView",
      "bar_color": null,
      "description_width": ""
     }
    },
    "aa90297304704a758d4a5eb9ae27a42b": {
     "model_module": "@jupyter-widgets/controls",
     "model_name": "FloatProgressModel",
     "state": {
      "_dom_classes": [],
      "_model_module": "@jupyter-widgets/controls",
      "_model_module_version": "1.5.0",
      "_model_name": "FloatProgressModel",
      "_view_count": null,
      "_view_module": "@jupyter-widgets/controls",
      "_view_module_version": "1.5.0",
      "_view_name": "ProgressView",
      "bar_style": "",
      "description": "",
      "description_tooltip": null,
      "layout": "IPY_MODEL_9e68c74a96bb4ed6a0f7e957059f3787",
      "max": 1,
      "min": 0,
      "orientation": "horizontal",
      "style": "IPY_MODEL_be171380db2349c490c7214006eaf9d5",
      "value": 1
     }
    },
    "ad7f63224fc0472c9304995fce47a89c": {
     "model_module": "@jupyter-widgets/controls",
     "model_name": "ProgressStyleModel",
     "state": {
      "_model_module": "@jupyter-widgets/controls",
      "_model_module_version": "1.5.0",
      "_model_name": "ProgressStyleModel",
      "_view_count": null,
      "_view_module": "@jupyter-widgets/base",
      "_view_module_version": "1.2.0",
      "_view_name": "StyleView",
      "bar_color": null,
      "description_width": ""
     }
    },
    "ad851da36aa04e0a8595aa641e006aba": {
     "model_module": "@jupyter-widgets/controls",
     "model_name": "FloatProgressModel",
     "state": {
      "_dom_classes": [],
      "_model_module": "@jupyter-widgets/controls",
      "_model_module_version": "1.5.0",
      "_model_name": "FloatProgressModel",
      "_view_count": null,
      "_view_module": "@jupyter-widgets/controls",
      "_view_module_version": "1.5.0",
      "_view_name": "ProgressView",
      "bar_style": "",
      "description": "",
      "description_tooltip": null,
      "layout": "IPY_MODEL_b2461e1ff3f64931936feab882120a52",
      "max": 1,
      "min": 0,
      "orientation": "horizontal",
      "style": "IPY_MODEL_d086bb0d78c0423fa5894425e559c5e6",
      "value": 1
     }
    },
    "b00e3eb44a95458b84b8c71cc9eb3f2b": {
     "model_module": "@jupyter-widgets/base",
     "model_name": "LayoutModel",
     "state": {
      "_model_module": "@jupyter-widgets/base",
      "_model_module_version": "1.2.0",
      "_model_name": "LayoutModel",
      "_view_count": null,
      "_view_module": "@jupyter-widgets/base",
      "_view_module_version": "1.2.0",
      "_view_name": "LayoutView",
      "align_content": null,
      "align_items": null,
      "align_self": null,
      "border": null,
      "bottom": null,
      "display": null,
      "flex": null,
      "flex_flow": null,
      "grid_area": null,
      "grid_auto_columns": null,
      "grid_auto_flow": null,
      "grid_auto_rows": null,
      "grid_column": null,
      "grid_gap": null,
      "grid_row": null,
      "grid_template_areas": null,
      "grid_template_columns": null,
      "grid_template_rows": null,
      "height": null,
      "justify_content": null,
      "justify_items": null,
      "left": null,
      "margin": null,
      "max_height": null,
      "max_width": null,
      "min_height": null,
      "min_width": null,
      "object_fit": null,
      "object_position": null,
      "order": null,
      "overflow": null,
      "overflow_x": null,
      "overflow_y": null,
      "padding": null,
      "right": null,
      "top": null,
      "visibility": null,
      "width": null
     }
    },
    "b0c6092c387d4a1ea10ca9247109ee18": {
     "model_module": "@jupyter-widgets/controls",
     "model_name": "LabelModel",
     "state": {
      "_dom_classes": [],
      "_model_module": "@jupyter-widgets/controls",
      "_model_module_version": "1.5.0",
      "_model_name": "LabelModel",
      "_view_count": null,
      "_view_module": "@jupyter-widgets/controls",
      "_view_module_version": "1.5.0",
      "_view_name": "LabelView",
      "description": "",
      "description_tooltip": null,
      "layout": "IPY_MODEL_5895e3582d234e51905434339e4d85f8",
      "placeholder": "​",
      "style": "IPY_MODEL_0edce017faed4edc973e8b3d5a5ec5db",
      "value": " 0.01MB of 0.01MB uploaded (0.00MB deduped)\r"
     }
    },
    "b0d476613a2148bc84046ca4a175ca46": {
     "model_module": "@jupyter-widgets/controls",
     "model_name": "DescriptionStyleModel",
     "state": {
      "_model_module": "@jupyter-widgets/controls",
      "_model_module_version": "1.5.0",
      "_model_name": "DescriptionStyleModel",
      "_view_count": null,
      "_view_module": "@jupyter-widgets/base",
      "_view_module_version": "1.2.0",
      "_view_name": "StyleView",
      "description_width": ""
     }
    },
    "b224ddd2bd4842f6bd8f213fdb72dec5": {
     "model_module": "@jupyter-widgets/controls",
     "model_name": "FloatProgressModel",
     "state": {
      "_dom_classes": [],
      "_model_module": "@jupyter-widgets/controls",
      "_model_module_version": "1.5.0",
      "_model_name": "FloatProgressModel",
      "_view_count": null,
      "_view_module": "@jupyter-widgets/controls",
      "_view_module_version": "1.5.0",
      "_view_name": "ProgressView",
      "bar_style": "",
      "description": "",
      "description_tooltip": null,
      "layout": "IPY_MODEL_54ab6cd4427446ffb6a39649888bf6f2",
      "max": 1,
      "min": 0,
      "orientation": "horizontal",
      "style": "IPY_MODEL_ad7f63224fc0472c9304995fce47a89c",
      "value": 1
     }
    },
    "b2461e1ff3f64931936feab882120a52": {
     "model_module": "@jupyter-widgets/base",
     "model_name": "LayoutModel",
     "state": {
      "_model_module": "@jupyter-widgets/base",
      "_model_module_version": "1.2.0",
      "_model_name": "LayoutModel",
      "_view_count": null,
      "_view_module": "@jupyter-widgets/base",
      "_view_module_version": "1.2.0",
      "_view_name": "LayoutView",
      "align_content": null,
      "align_items": null,
      "align_self": null,
      "border": null,
      "bottom": null,
      "display": null,
      "flex": null,
      "flex_flow": null,
      "grid_area": null,
      "grid_auto_columns": null,
      "grid_auto_flow": null,
      "grid_auto_rows": null,
      "grid_column": null,
      "grid_gap": null,
      "grid_row": null,
      "grid_template_areas": null,
      "grid_template_columns": null,
      "grid_template_rows": null,
      "height": null,
      "justify_content": null,
      "justify_items": null,
      "left": null,
      "margin": null,
      "max_height": null,
      "max_width": null,
      "min_height": null,
      "min_width": null,
      "object_fit": null,
      "object_position": null,
      "order": null,
      "overflow": null,
      "overflow_x": null,
      "overflow_y": null,
      "padding": null,
      "right": null,
      "top": null,
      "visibility": null,
      "width": null
     }
    },
    "b30842432b214d6e94e00863830a5342": {
     "model_module": "@jupyter-widgets/base",
     "model_name": "LayoutModel",
     "state": {
      "_model_module": "@jupyter-widgets/base",
      "_model_module_version": "1.2.0",
      "_model_name": "LayoutModel",
      "_view_count": null,
      "_view_module": "@jupyter-widgets/base",
      "_view_module_version": "1.2.0",
      "_view_name": "LayoutView",
      "align_content": null,
      "align_items": null,
      "align_self": null,
      "border": null,
      "bottom": null,
      "display": null,
      "flex": null,
      "flex_flow": null,
      "grid_area": null,
      "grid_auto_columns": null,
      "grid_auto_flow": null,
      "grid_auto_rows": null,
      "grid_column": null,
      "grid_gap": null,
      "grid_row": null,
      "grid_template_areas": null,
      "grid_template_columns": null,
      "grid_template_rows": null,
      "height": null,
      "justify_content": null,
      "justify_items": null,
      "left": null,
      "margin": null,
      "max_height": null,
      "max_width": null,
      "min_height": null,
      "min_width": null,
      "object_fit": null,
      "object_position": null,
      "order": null,
      "overflow": null,
      "overflow_x": null,
      "overflow_y": null,
      "padding": null,
      "right": null,
      "top": null,
      "visibility": null,
      "width": null
     }
    },
    "b30f2b64f50d434f81daebc465edd5c4": {
     "model_module": "@jupyter-widgets/controls",
     "model_name": "LabelModel",
     "state": {
      "_dom_classes": [],
      "_model_module": "@jupyter-widgets/controls",
      "_model_module_version": "1.5.0",
      "_model_name": "LabelModel",
      "_view_count": null,
      "_view_module": "@jupyter-widgets/controls",
      "_view_module_version": "1.5.0",
      "_view_name": "LabelView",
      "description": "",
      "description_tooltip": null,
      "layout": "IPY_MODEL_f521ed1dd10843fba20af4d50adb75e4",
      "placeholder": "​",
      "style": "IPY_MODEL_92f01d8078f0497bbf0938190aea9937",
      "value": " 0.01MB of 0.01MB uploaded (0.00MB deduped)\r"
     }
    },
    "b62dc919052d4cee81f8325eec8ddab2": {
     "model_module": "@jupyter-widgets/controls",
     "model_name": "VBoxModel",
     "state": {
      "_dom_classes": [],
      "_model_module": "@jupyter-widgets/controls",
      "_model_module_version": "1.5.0",
      "_model_name": "VBoxModel",
      "_view_count": null,
      "_view_module": "@jupyter-widgets/controls",
      "_view_module_version": "1.5.0",
      "_view_name": "VBoxView",
      "box_style": "",
      "children": [
       "IPY_MODEL_9c35052c3c50407da1020141887164f2",
       "IPY_MODEL_612dbdf1086a4135a4447ba2901bf99d"
      ],
      "layout": "IPY_MODEL_e7a7843af7534532a9410b217dccb308"
     }
    },
    "b7fbc03fbcda4fd88efba08489384e4b": {
     "model_module": "@jupyter-widgets/base",
     "model_name": "LayoutModel",
     "state": {
      "_model_module": "@jupyter-widgets/base",
      "_model_module_version": "1.2.0",
      "_model_name": "LayoutModel",
      "_view_count": null,
      "_view_module": "@jupyter-widgets/base",
      "_view_module_version": "1.2.0",
      "_view_name": "LayoutView",
      "align_content": null,
      "align_items": null,
      "align_self": null,
      "border": null,
      "bottom": null,
      "display": null,
      "flex": null,
      "flex_flow": null,
      "grid_area": null,
      "grid_auto_columns": null,
      "grid_auto_flow": null,
      "grid_auto_rows": null,
      "grid_column": null,
      "grid_gap": null,
      "grid_row": null,
      "grid_template_areas": null,
      "grid_template_columns": null,
      "grid_template_rows": null,
      "height": null,
      "justify_content": null,
      "justify_items": null,
      "left": null,
      "margin": null,
      "max_height": null,
      "max_width": null,
      "min_height": null,
      "min_width": null,
      "object_fit": null,
      "object_position": null,
      "order": null,
      "overflow": null,
      "overflow_x": null,
      "overflow_y": null,
      "padding": null,
      "right": null,
      "top": null,
      "visibility": null,
      "width": null
     }
    },
    "ba38a47f9db244e78339b396a1d64aeb": {
     "model_module": "@jupyter-widgets/controls",
     "model_name": "FloatProgressModel",
     "state": {
      "_dom_classes": [],
      "_model_module": "@jupyter-widgets/controls",
      "_model_module_version": "1.5.0",
      "_model_name": "FloatProgressModel",
      "_view_count": null,
      "_view_module": "@jupyter-widgets/controls",
      "_view_module_version": "1.5.0",
      "_view_name": "ProgressView",
      "bar_style": "",
      "description": "",
      "description_tooltip": null,
      "layout": "IPY_MODEL_697f4596e4d742668f0a64db7021fdca",
      "max": 1,
      "min": 0,
      "orientation": "horizontal",
      "style": "IPY_MODEL_820ece69890e407aabbf24457637dc3c",
      "value": 1
     }
    },
    "ba68a9ea078a442aacac2f29a4c2a333": {
     "model_module": "@jupyter-widgets/controls",
     "model_name": "VBoxModel",
     "state": {
      "_dom_classes": [],
      "_model_module": "@jupyter-widgets/controls",
      "_model_module_version": "1.5.0",
      "_model_name": "VBoxModel",
      "_view_count": null,
      "_view_module": "@jupyter-widgets/controls",
      "_view_module_version": "1.5.0",
      "_view_name": "VBoxView",
      "box_style": "",
      "children": [
       "IPY_MODEL_0400692fe3c7409ba1c6871d1adbd4fe",
       "IPY_MODEL_c9ee7a88ff224a239d99d8ca5efb6890"
      ],
      "layout": "IPY_MODEL_88ffbd83340e44a98d181ae0c364c3bf"
     }
    },
    "bcb304d31f33494696c57fe037662520": {
     "model_module": "@jupyter-widgets/controls",
     "model_name": "DescriptionStyleModel",
     "state": {
      "_model_module": "@jupyter-widgets/controls",
      "_model_module_version": "1.5.0",
      "_model_name": "DescriptionStyleModel",
      "_view_count": null,
      "_view_module": "@jupyter-widgets/base",
      "_view_module_version": "1.2.0",
      "_view_name": "StyleView",
      "description_width": ""
     }
    },
    "bcb515f59f4d4779b96233f55338d343": {
     "model_module": "@jupyter-widgets/base",
     "model_name": "LayoutModel",
     "state": {
      "_model_module": "@jupyter-widgets/base",
      "_model_module_version": "1.2.0",
      "_model_name": "LayoutModel",
      "_view_count": null,
      "_view_module": "@jupyter-widgets/base",
      "_view_module_version": "1.2.0",
      "_view_name": "LayoutView",
      "align_content": null,
      "align_items": null,
      "align_self": null,
      "border": null,
      "bottom": null,
      "display": null,
      "flex": null,
      "flex_flow": null,
      "grid_area": null,
      "grid_auto_columns": null,
      "grid_auto_flow": null,
      "grid_auto_rows": null,
      "grid_column": null,
      "grid_gap": null,
      "grid_row": null,
      "grid_template_areas": null,
      "grid_template_columns": null,
      "grid_template_rows": null,
      "height": null,
      "justify_content": null,
      "justify_items": null,
      "left": null,
      "margin": null,
      "max_height": null,
      "max_width": null,
      "min_height": null,
      "min_width": null,
      "object_fit": null,
      "object_position": null,
      "order": null,
      "overflow": null,
      "overflow_x": null,
      "overflow_y": null,
      "padding": null,
      "right": null,
      "top": null,
      "visibility": null,
      "width": null
     }
    },
    "bd3f9810869145669b8164242d640ceb": {
     "model_module": "@jupyter-widgets/controls",
     "model_name": "DescriptionStyleModel",
     "state": {
      "_model_module": "@jupyter-widgets/controls",
      "_model_module_version": "1.5.0",
      "_model_name": "DescriptionStyleModel",
      "_view_count": null,
      "_view_module": "@jupyter-widgets/base",
      "_view_module_version": "1.2.0",
      "_view_name": "StyleView",
      "description_width": ""
     }
    },
    "be171380db2349c490c7214006eaf9d5": {
     "model_module": "@jupyter-widgets/controls",
     "model_name": "ProgressStyleModel",
     "state": {
      "_model_module": "@jupyter-widgets/controls",
      "_model_module_version": "1.5.0",
      "_model_name": "ProgressStyleModel",
      "_view_count": null,
      "_view_module": "@jupyter-widgets/base",
      "_view_module_version": "1.2.0",
      "_view_name": "StyleView",
      "bar_color": null,
      "description_width": ""
     }
    },
    "be5c219418864b2cb5d5fd49f31d65ae": {
     "model_module": "@jupyter-widgets/base",
     "model_name": "LayoutModel",
     "state": {
      "_model_module": "@jupyter-widgets/base",
      "_model_module_version": "1.2.0",
      "_model_name": "LayoutModel",
      "_view_count": null,
      "_view_module": "@jupyter-widgets/base",
      "_view_module_version": "1.2.0",
      "_view_name": "LayoutView",
      "align_content": null,
      "align_items": null,
      "align_self": null,
      "border": null,
      "bottom": null,
      "display": null,
      "flex": null,
      "flex_flow": null,
      "grid_area": null,
      "grid_auto_columns": null,
      "grid_auto_flow": null,
      "grid_auto_rows": null,
      "grid_column": null,
      "grid_gap": null,
      "grid_row": null,
      "grid_template_areas": null,
      "grid_template_columns": null,
      "grid_template_rows": null,
      "height": null,
      "justify_content": null,
      "justify_items": null,
      "left": null,
      "margin": null,
      "max_height": null,
      "max_width": null,
      "min_height": null,
      "min_width": null,
      "object_fit": null,
      "object_position": null,
      "order": null,
      "overflow": null,
      "overflow_x": null,
      "overflow_y": null,
      "padding": null,
      "right": null,
      "top": null,
      "visibility": null,
      "width": null
     }
    },
    "bf6f0d6de03742b183cc9f0cee187e0e": {
     "model_module": "@jupyter-widgets/controls",
     "model_name": "FloatProgressModel",
     "state": {
      "_dom_classes": [],
      "_model_module": "@jupyter-widgets/controls",
      "_model_module_version": "1.5.0",
      "_model_name": "FloatProgressModel",
      "_view_count": null,
      "_view_module": "@jupyter-widgets/controls",
      "_view_module_version": "1.5.0",
      "_view_name": "ProgressView",
      "bar_style": "",
      "description": "",
      "description_tooltip": null,
      "layout": "IPY_MODEL_66d17fdf60be4de9ba48547dd430500e",
      "max": 1,
      "min": 0,
      "orientation": "horizontal",
      "style": "IPY_MODEL_e3d7bc7a6756493abe03405296f54f7e",
      "value": 1
     }
    },
    "c6375d2df3a549a997fa04f3856a8f23": {
     "model_module": "@jupyter-widgets/controls",
     "model_name": "LabelModel",
     "state": {
      "_dom_classes": [],
      "_model_module": "@jupyter-widgets/controls",
      "_model_module_version": "1.5.0",
      "_model_name": "LabelModel",
      "_view_count": null,
      "_view_module": "@jupyter-widgets/controls",
      "_view_module_version": "1.5.0",
      "_view_name": "LabelView",
      "description": "",
      "description_tooltip": null,
      "layout": "IPY_MODEL_78c28754c63546f8b0823df33995543a",
      "placeholder": "​",
      "style": "IPY_MODEL_50b096ef0f5a4c61810f438c1714808c",
      "value": " 0.01MB of 0.01MB uploaded (0.00MB deduped)\r"
     }
    },
    "c9b31a19b2c14c8ba2fd3f27cedbfcf4": {
     "model_module": "@jupyter-widgets/base",
     "model_name": "LayoutModel",
     "state": {
      "_model_module": "@jupyter-widgets/base",
      "_model_module_version": "1.2.0",
      "_model_name": "LayoutModel",
      "_view_count": null,
      "_view_module": "@jupyter-widgets/base",
      "_view_module_version": "1.2.0",
      "_view_name": "LayoutView",
      "align_content": null,
      "align_items": null,
      "align_self": null,
      "border": null,
      "bottom": null,
      "display": null,
      "flex": null,
      "flex_flow": null,
      "grid_area": null,
      "grid_auto_columns": null,
      "grid_auto_flow": null,
      "grid_auto_rows": null,
      "grid_column": null,
      "grid_gap": null,
      "grid_row": null,
      "grid_template_areas": null,
      "grid_template_columns": null,
      "grid_template_rows": null,
      "height": null,
      "justify_content": null,
      "justify_items": null,
      "left": null,
      "margin": null,
      "max_height": null,
      "max_width": null,
      "min_height": null,
      "min_width": null,
      "object_fit": null,
      "object_position": null,
      "order": null,
      "overflow": null,
      "overflow_x": null,
      "overflow_y": null,
      "padding": null,
      "right": null,
      "top": null,
      "visibility": null,
      "width": null
     }
    },
    "c9ee7a88ff224a239d99d8ca5efb6890": {
     "model_module": "@jupyter-widgets/controls",
     "model_name": "FloatProgressModel",
     "state": {
      "_dom_classes": [],
      "_model_module": "@jupyter-widgets/controls",
      "_model_module_version": "1.5.0",
      "_model_name": "FloatProgressModel",
      "_view_count": null,
      "_view_module": "@jupyter-widgets/controls",
      "_view_module_version": "1.5.0",
      "_view_name": "ProgressView",
      "bar_style": "",
      "description": "",
      "description_tooltip": null,
      "layout": "IPY_MODEL_9064b936901f428aa0bdde56add8615a",
      "max": 1,
      "min": 0,
      "orientation": "horizontal",
      "style": "IPY_MODEL_aa7ee85b3879401b990dba567c1ea0ec",
      "value": 1
     }
    },
    "ca2eb3115e104eed8094df7c9a1949ac": {
     "model_module": "@jupyter-widgets/controls",
     "model_name": "DescriptionStyleModel",
     "state": {
      "_model_module": "@jupyter-widgets/controls",
      "_model_module_version": "1.5.0",
      "_model_name": "DescriptionStyleModel",
      "_view_count": null,
      "_view_module": "@jupyter-widgets/base",
      "_view_module_version": "1.2.0",
      "_view_name": "StyleView",
      "description_width": ""
     }
    },
    "cbb056b7369e4e019b77ee1062d84932": {
     "model_module": "@jupyter-widgets/controls",
     "model_name": "DescriptionStyleModel",
     "state": {
      "_model_module": "@jupyter-widgets/controls",
      "_model_module_version": "1.5.0",
      "_model_name": "DescriptionStyleModel",
      "_view_count": null,
      "_view_module": "@jupyter-widgets/base",
      "_view_module_version": "1.2.0",
      "_view_name": "StyleView",
      "description_width": ""
     }
    },
    "cbd77aed37b341aaaac864d781a89879": {
     "model_module": "@jupyter-widgets/controls",
     "model_name": "VBoxModel",
     "state": {
      "_dom_classes": [],
      "_model_module": "@jupyter-widgets/controls",
      "_model_module_version": "1.5.0",
      "_model_name": "VBoxModel",
      "_view_count": null,
      "_view_module": "@jupyter-widgets/controls",
      "_view_module_version": "1.5.0",
      "_view_name": "VBoxView",
      "box_style": "",
      "children": [
       "IPY_MODEL_47d7b9f742c04dde8b79064dc740acf2",
       "IPY_MODEL_1146e066a44a49338a0aaf64aef0b415"
      ],
      "layout": "IPY_MODEL_3b75382df9cd49998211f09ac0486f82"
     }
    },
    "cf36e0890afc426388acb9f3790c6329": {
     "model_module": "@jupyter-widgets/controls",
     "model_name": "FloatProgressModel",
     "state": {
      "_dom_classes": [],
      "_model_module": "@jupyter-widgets/controls",
      "_model_module_version": "1.5.0",
      "_model_name": "FloatProgressModel",
      "_view_count": null,
      "_view_module": "@jupyter-widgets/controls",
      "_view_module_version": "1.5.0",
      "_view_name": "ProgressView",
      "bar_style": "",
      "description": "",
      "description_tooltip": null,
      "layout": "IPY_MODEL_791a342d42e54085ba0b72c1a44c77bd",
      "max": 1,
      "min": 0,
      "orientation": "horizontal",
      "style": "IPY_MODEL_2917870a36dd40ab94fe3229f1ce067f",
      "value": 1
     }
    },
    "d03ce24577364e468c67249e43dc6b8c": {
     "model_module": "@jupyter-widgets/controls",
     "model_name": "VBoxModel",
     "state": {
      "_dom_classes": [],
      "_model_module": "@jupyter-widgets/controls",
      "_model_module_version": "1.5.0",
      "_model_name": "VBoxModel",
      "_view_count": null,
      "_view_module": "@jupyter-widgets/controls",
      "_view_module_version": "1.5.0",
      "_view_name": "VBoxView",
      "box_style": "",
      "children": [
       "IPY_MODEL_5df8549e5e0642d38bdddff9edc88736",
       "IPY_MODEL_fbd45d28521d42bfa812b946418efe0b"
      ],
      "layout": "IPY_MODEL_0743f037acdd486ca6e5d63b54c1b5a9"
     }
    },
    "d086bb0d78c0423fa5894425e559c5e6": {
     "model_module": "@jupyter-widgets/controls",
     "model_name": "ProgressStyleModel",
     "state": {
      "_model_module": "@jupyter-widgets/controls",
      "_model_module_version": "1.5.0",
      "_model_name": "ProgressStyleModel",
      "_view_count": null,
      "_view_module": "@jupyter-widgets/base",
      "_view_module_version": "1.2.0",
      "_view_name": "StyleView",
      "bar_color": null,
      "description_width": ""
     }
    },
    "d212b24c3f8a4b03a653007182f46919": {
     "model_module": "@jupyter-widgets/controls",
     "model_name": "DescriptionStyleModel",
     "state": {
      "_model_module": "@jupyter-widgets/controls",
      "_model_module_version": "1.5.0",
      "_model_name": "DescriptionStyleModel",
      "_view_count": null,
      "_view_module": "@jupyter-widgets/base",
      "_view_module_version": "1.2.0",
      "_view_name": "StyleView",
      "description_width": ""
     }
    },
    "d3fbedd44e254bb3a8e2d9b331ca938b": {
     "model_module": "@jupyter-widgets/base",
     "model_name": "LayoutModel",
     "state": {
      "_model_module": "@jupyter-widgets/base",
      "_model_module_version": "1.2.0",
      "_model_name": "LayoutModel",
      "_view_count": null,
      "_view_module": "@jupyter-widgets/base",
      "_view_module_version": "1.2.0",
      "_view_name": "LayoutView",
      "align_content": null,
      "align_items": null,
      "align_self": null,
      "border": null,
      "bottom": null,
      "display": null,
      "flex": null,
      "flex_flow": null,
      "grid_area": null,
      "grid_auto_columns": null,
      "grid_auto_flow": null,
      "grid_auto_rows": null,
      "grid_column": null,
      "grid_gap": null,
      "grid_row": null,
      "grid_template_areas": null,
      "grid_template_columns": null,
      "grid_template_rows": null,
      "height": null,
      "justify_content": null,
      "justify_items": null,
      "left": null,
      "margin": null,
      "max_height": null,
      "max_width": null,
      "min_height": null,
      "min_width": null,
      "object_fit": null,
      "object_position": null,
      "order": null,
      "overflow": null,
      "overflow_x": null,
      "overflow_y": null,
      "padding": null,
      "right": null,
      "top": null,
      "visibility": null,
      "width": null
     }
    },
    "d52f8ab548a14dbbb7e7178dce1f2338": {
     "model_module": "@jupyter-widgets/controls",
     "model_name": "ProgressStyleModel",
     "state": {
      "_model_module": "@jupyter-widgets/controls",
      "_model_module_version": "1.5.0",
      "_model_name": "ProgressStyleModel",
      "_view_count": null,
      "_view_module": "@jupyter-widgets/base",
      "_view_module_version": "1.2.0",
      "_view_name": "StyleView",
      "bar_color": null,
      "description_width": ""
     }
    },
    "d94665387fc34eb7a5d63a94f0c27819": {
     "model_module": "@jupyter-widgets/controls",
     "model_name": "VBoxModel",
     "state": {
      "_dom_classes": [],
      "_model_module": "@jupyter-widgets/controls",
      "_model_module_version": "1.5.0",
      "_model_name": "VBoxModel",
      "_view_count": null,
      "_view_module": "@jupyter-widgets/controls",
      "_view_module_version": "1.5.0",
      "_view_name": "VBoxView",
      "box_style": "",
      "children": [
       "IPY_MODEL_deec99ec53414edfbc622b9c1053af87",
       "IPY_MODEL_ba38a47f9db244e78339b396a1d64aeb"
      ],
      "layout": "IPY_MODEL_12f2f3c4c52c4c8185c467647612bc5d"
     }
    },
    "de4bb303204c4070b4ddd4853f986df5": {
     "model_module": "@jupyter-widgets/controls",
     "model_name": "ProgressStyleModel",
     "state": {
      "_model_module": "@jupyter-widgets/controls",
      "_model_module_version": "1.5.0",
      "_model_name": "ProgressStyleModel",
      "_view_count": null,
      "_view_module": "@jupyter-widgets/base",
      "_view_module_version": "1.2.0",
      "_view_name": "StyleView",
      "bar_color": null,
      "description_width": ""
     }
    },
    "dee8379b378d4f0aba219a447afa606d": {
     "model_module": "@jupyter-widgets/controls",
     "model_name": "VBoxModel",
     "state": {
      "_dom_classes": [],
      "_model_module": "@jupyter-widgets/controls",
      "_model_module_version": "1.5.0",
      "_model_name": "VBoxModel",
      "_view_count": null,
      "_view_module": "@jupyter-widgets/controls",
      "_view_module_version": "1.5.0",
      "_view_name": "VBoxView",
      "box_style": "",
      "children": [
       "IPY_MODEL_46b30e8dae7e490789b6971dd0a81023",
       "IPY_MODEL_9931e3eb33614edf9ad34ef241c24b32"
      ],
      "layout": "IPY_MODEL_e30e989d73d04f87bbad07d024a607ed"
     }
    },
    "deec99ec53414edfbc622b9c1053af87": {
     "model_module": "@jupyter-widgets/controls",
     "model_name": "LabelModel",
     "state": {
      "_dom_classes": [],
      "_model_module": "@jupyter-widgets/controls",
      "_model_module_version": "1.5.0",
      "_model_name": "LabelModel",
      "_view_count": null,
      "_view_module": "@jupyter-widgets/controls",
      "_view_module_version": "1.5.0",
      "_view_name": "LabelView",
      "description": "",
      "description_tooltip": null,
      "layout": "IPY_MODEL_d3fbedd44e254bb3a8e2d9b331ca938b",
      "placeholder": "​",
      "style": "IPY_MODEL_bd3f9810869145669b8164242d640ceb",
      "value": " 0.01MB of 0.01MB uploaded (0.00MB deduped)\r"
     }
    },
    "df695ba6eedb42618575eb77374bbd37": {
     "model_module": "@jupyter-widgets/base",
     "model_name": "LayoutModel",
     "state": {
      "_model_module": "@jupyter-widgets/base",
      "_model_module_version": "1.2.0",
      "_model_name": "LayoutModel",
      "_view_count": null,
      "_view_module": "@jupyter-widgets/base",
      "_view_module_version": "1.2.0",
      "_view_name": "LayoutView",
      "align_content": null,
      "align_items": null,
      "align_self": null,
      "border": null,
      "bottom": null,
      "display": null,
      "flex": null,
      "flex_flow": null,
      "grid_area": null,
      "grid_auto_columns": null,
      "grid_auto_flow": null,
      "grid_auto_rows": null,
      "grid_column": null,
      "grid_gap": null,
      "grid_row": null,
      "grid_template_areas": null,
      "grid_template_columns": null,
      "grid_template_rows": null,
      "height": null,
      "justify_content": null,
      "justify_items": null,
      "left": null,
      "margin": null,
      "max_height": null,
      "max_width": null,
      "min_height": null,
      "min_width": null,
      "object_fit": null,
      "object_position": null,
      "order": null,
      "overflow": null,
      "overflow_x": null,
      "overflow_y": null,
      "padding": null,
      "right": null,
      "top": null,
      "visibility": null,
      "width": null
     }
    },
    "dfd7b8f212e24e57a3d5777290badbba": {
     "model_module": "@jupyter-widgets/controls",
     "model_name": "ProgressStyleModel",
     "state": {
      "_model_module": "@jupyter-widgets/controls",
      "_model_module_version": "1.5.0",
      "_model_name": "ProgressStyleModel",
      "_view_count": null,
      "_view_module": "@jupyter-widgets/base",
      "_view_module_version": "1.2.0",
      "_view_name": "StyleView",
      "bar_color": null,
      "description_width": ""
     }
    },
    "e26a2ebc36774e22b3c4be72294e1c8e": {
     "model_module": "@jupyter-widgets/base",
     "model_name": "LayoutModel",
     "state": {
      "_model_module": "@jupyter-widgets/base",
      "_model_module_version": "1.2.0",
      "_model_name": "LayoutModel",
      "_view_count": null,
      "_view_module": "@jupyter-widgets/base",
      "_view_module_version": "1.2.0",
      "_view_name": "LayoutView",
      "align_content": null,
      "align_items": null,
      "align_self": null,
      "border": null,
      "bottom": null,
      "display": null,
      "flex": null,
      "flex_flow": null,
      "grid_area": null,
      "grid_auto_columns": null,
      "grid_auto_flow": null,
      "grid_auto_rows": null,
      "grid_column": null,
      "grid_gap": null,
      "grid_row": null,
      "grid_template_areas": null,
      "grid_template_columns": null,
      "grid_template_rows": null,
      "height": null,
      "justify_content": null,
      "justify_items": null,
      "left": null,
      "margin": null,
      "max_height": null,
      "max_width": null,
      "min_height": null,
      "min_width": null,
      "object_fit": null,
      "object_position": null,
      "order": null,
      "overflow": null,
      "overflow_x": null,
      "overflow_y": null,
      "padding": null,
      "right": null,
      "top": null,
      "visibility": null,
      "width": null
     }
    },
    "e30e989d73d04f87bbad07d024a607ed": {
     "model_module": "@jupyter-widgets/base",
     "model_name": "LayoutModel",
     "state": {
      "_model_module": "@jupyter-widgets/base",
      "_model_module_version": "1.2.0",
      "_model_name": "LayoutModel",
      "_view_count": null,
      "_view_module": "@jupyter-widgets/base",
      "_view_module_version": "1.2.0",
      "_view_name": "LayoutView",
      "align_content": null,
      "align_items": null,
      "align_self": null,
      "border": null,
      "bottom": null,
      "display": null,
      "flex": null,
      "flex_flow": null,
      "grid_area": null,
      "grid_auto_columns": null,
      "grid_auto_flow": null,
      "grid_auto_rows": null,
      "grid_column": null,
      "grid_gap": null,
      "grid_row": null,
      "grid_template_areas": null,
      "grid_template_columns": null,
      "grid_template_rows": null,
      "height": null,
      "justify_content": null,
      "justify_items": null,
      "left": null,
      "margin": null,
      "max_height": null,
      "max_width": null,
      "min_height": null,
      "min_width": null,
      "object_fit": null,
      "object_position": null,
      "order": null,
      "overflow": null,
      "overflow_x": null,
      "overflow_y": null,
      "padding": null,
      "right": null,
      "top": null,
      "visibility": null,
      "width": null
     }
    },
    "e3d7bc7a6756493abe03405296f54f7e": {
     "model_module": "@jupyter-widgets/controls",
     "model_name": "ProgressStyleModel",
     "state": {
      "_model_module": "@jupyter-widgets/controls",
      "_model_module_version": "1.5.0",
      "_model_name": "ProgressStyleModel",
      "_view_count": null,
      "_view_module": "@jupyter-widgets/base",
      "_view_module_version": "1.2.0",
      "_view_name": "StyleView",
      "bar_color": null,
      "description_width": ""
     }
    },
    "e7a7843af7534532a9410b217dccb308": {
     "model_module": "@jupyter-widgets/base",
     "model_name": "LayoutModel",
     "state": {
      "_model_module": "@jupyter-widgets/base",
      "_model_module_version": "1.2.0",
      "_model_name": "LayoutModel",
      "_view_count": null,
      "_view_module": "@jupyter-widgets/base",
      "_view_module_version": "1.2.0",
      "_view_name": "LayoutView",
      "align_content": null,
      "align_items": null,
      "align_self": null,
      "border": null,
      "bottom": null,
      "display": null,
      "flex": null,
      "flex_flow": null,
      "grid_area": null,
      "grid_auto_columns": null,
      "grid_auto_flow": null,
      "grid_auto_rows": null,
      "grid_column": null,
      "grid_gap": null,
      "grid_row": null,
      "grid_template_areas": null,
      "grid_template_columns": null,
      "grid_template_rows": null,
      "height": null,
      "justify_content": null,
      "justify_items": null,
      "left": null,
      "margin": null,
      "max_height": null,
      "max_width": null,
      "min_height": null,
      "min_width": null,
      "object_fit": null,
      "object_position": null,
      "order": null,
      "overflow": null,
      "overflow_x": null,
      "overflow_y": null,
      "padding": null,
      "right": null,
      "top": null,
      "visibility": null,
      "width": null
     }
    },
    "e7d562e2b2a54436b6e4fa53033a00d7": {
     "model_module": "@jupyter-widgets/base",
     "model_name": "LayoutModel",
     "state": {
      "_model_module": "@jupyter-widgets/base",
      "_model_module_version": "1.2.0",
      "_model_name": "LayoutModel",
      "_view_count": null,
      "_view_module": "@jupyter-widgets/base",
      "_view_module_version": "1.2.0",
      "_view_name": "LayoutView",
      "align_content": null,
      "align_items": null,
      "align_self": null,
      "border": null,
      "bottom": null,
      "display": null,
      "flex": null,
      "flex_flow": null,
      "grid_area": null,
      "grid_auto_columns": null,
      "grid_auto_flow": null,
      "grid_auto_rows": null,
      "grid_column": null,
      "grid_gap": null,
      "grid_row": null,
      "grid_template_areas": null,
      "grid_template_columns": null,
      "grid_template_rows": null,
      "height": null,
      "justify_content": null,
      "justify_items": null,
      "left": null,
      "margin": null,
      "max_height": null,
      "max_width": null,
      "min_height": null,
      "min_width": null,
      "object_fit": null,
      "object_position": null,
      "order": null,
      "overflow": null,
      "overflow_x": null,
      "overflow_y": null,
      "padding": null,
      "right": null,
      "top": null,
      "visibility": null,
      "width": null
     }
    },
    "e8e13b52873c40b5adfd974801198986": {
     "model_module": "@jupyter-widgets/base",
     "model_name": "LayoutModel",
     "state": {
      "_model_module": "@jupyter-widgets/base",
      "_model_module_version": "1.2.0",
      "_model_name": "LayoutModel",
      "_view_count": null,
      "_view_module": "@jupyter-widgets/base",
      "_view_module_version": "1.2.0",
      "_view_name": "LayoutView",
      "align_content": null,
      "align_items": null,
      "align_self": null,
      "border": null,
      "bottom": null,
      "display": null,
      "flex": null,
      "flex_flow": null,
      "grid_area": null,
      "grid_auto_columns": null,
      "grid_auto_flow": null,
      "grid_auto_rows": null,
      "grid_column": null,
      "grid_gap": null,
      "grid_row": null,
      "grid_template_areas": null,
      "grid_template_columns": null,
      "grid_template_rows": null,
      "height": null,
      "justify_content": null,
      "justify_items": null,
      "left": null,
      "margin": null,
      "max_height": null,
      "max_width": null,
      "min_height": null,
      "min_width": null,
      "object_fit": null,
      "object_position": null,
      "order": null,
      "overflow": null,
      "overflow_x": null,
      "overflow_y": null,
      "padding": null,
      "right": null,
      "top": null,
      "visibility": null,
      "width": null
     }
    },
    "e992eaac14bd4662bb454cf1f5d68d34": {
     "model_module": "@jupyter-widgets/controls",
     "model_name": "VBoxModel",
     "state": {
      "_dom_classes": [],
      "_model_module": "@jupyter-widgets/controls",
      "_model_module_version": "1.5.0",
      "_model_name": "VBoxModel",
      "_view_count": null,
      "_view_module": "@jupyter-widgets/controls",
      "_view_module_version": "1.5.0",
      "_view_name": "VBoxView",
      "box_style": "",
      "children": [
       "IPY_MODEL_f5f13ecb028741f3aebf81fb3c0ffc22",
       "IPY_MODEL_ad851da36aa04e0a8595aa641e006aba"
      ],
      "layout": "IPY_MODEL_5462dc8b7df64747875702e562486a9e"
     }
    },
    "ed1ea875f67448978c8caafedfcacf53": {
     "model_module": "@jupyter-widgets/base",
     "model_name": "LayoutModel",
     "state": {
      "_model_module": "@jupyter-widgets/base",
      "_model_module_version": "1.2.0",
      "_model_name": "LayoutModel",
      "_view_count": null,
      "_view_module": "@jupyter-widgets/base",
      "_view_module_version": "1.2.0",
      "_view_name": "LayoutView",
      "align_content": null,
      "align_items": null,
      "align_self": null,
      "border": null,
      "bottom": null,
      "display": null,
      "flex": null,
      "flex_flow": null,
      "grid_area": null,
      "grid_auto_columns": null,
      "grid_auto_flow": null,
      "grid_auto_rows": null,
      "grid_column": null,
      "grid_gap": null,
      "grid_row": null,
      "grid_template_areas": null,
      "grid_template_columns": null,
      "grid_template_rows": null,
      "height": null,
      "justify_content": null,
      "justify_items": null,
      "left": null,
      "margin": null,
      "max_height": null,
      "max_width": null,
      "min_height": null,
      "min_width": null,
      "object_fit": null,
      "object_position": null,
      "order": null,
      "overflow": null,
      "overflow_x": null,
      "overflow_y": null,
      "padding": null,
      "right": null,
      "top": null,
      "visibility": null,
      "width": null
     }
    },
    "ee4bacaeb1964876ae65e002b2211406": {
     "model_module": "@jupyter-widgets/controls",
     "model_name": "ProgressStyleModel",
     "state": {
      "_model_module": "@jupyter-widgets/controls",
      "_model_module_version": "1.5.0",
      "_model_name": "ProgressStyleModel",
      "_view_count": null,
      "_view_module": "@jupyter-widgets/base",
      "_view_module_version": "1.2.0",
      "_view_name": "StyleView",
      "bar_color": null,
      "description_width": ""
     }
    },
    "f521ed1dd10843fba20af4d50adb75e4": {
     "model_module": "@jupyter-widgets/base",
     "model_name": "LayoutModel",
     "state": {
      "_model_module": "@jupyter-widgets/base",
      "_model_module_version": "1.2.0",
      "_model_name": "LayoutModel",
      "_view_count": null,
      "_view_module": "@jupyter-widgets/base",
      "_view_module_version": "1.2.0",
      "_view_name": "LayoutView",
      "align_content": null,
      "align_items": null,
      "align_self": null,
      "border": null,
      "bottom": null,
      "display": null,
      "flex": null,
      "flex_flow": null,
      "grid_area": null,
      "grid_auto_columns": null,
      "grid_auto_flow": null,
      "grid_auto_rows": null,
      "grid_column": null,
      "grid_gap": null,
      "grid_row": null,
      "grid_template_areas": null,
      "grid_template_columns": null,
      "grid_template_rows": null,
      "height": null,
      "justify_content": null,
      "justify_items": null,
      "left": null,
      "margin": null,
      "max_height": null,
      "max_width": null,
      "min_height": null,
      "min_width": null,
      "object_fit": null,
      "object_position": null,
      "order": null,
      "overflow": null,
      "overflow_x": null,
      "overflow_y": null,
      "padding": null,
      "right": null,
      "top": null,
      "visibility": null,
      "width": null
     }
    },
    "f5f13ecb028741f3aebf81fb3c0ffc22": {
     "model_module": "@jupyter-widgets/controls",
     "model_name": "LabelModel",
     "state": {
      "_dom_classes": [],
      "_model_module": "@jupyter-widgets/controls",
      "_model_module_version": "1.5.0",
      "_model_name": "LabelModel",
      "_view_count": null,
      "_view_module": "@jupyter-widgets/controls",
      "_view_module_version": "1.5.0",
      "_view_name": "LabelView",
      "description": "",
      "description_tooltip": null,
      "layout": "IPY_MODEL_21afdeb9bf034f8db10955965c42834b",
      "placeholder": "​",
      "style": "IPY_MODEL_95af67eb25c842e8b30b762c08b1e4f2",
      "value": " 0.01MB of 0.01MB uploaded (0.00MB deduped)\r"
     }
    },
    "f6b2f3f6647e4a38a75ea59cc2b4e4a2": {
     "model_module": "@jupyter-widgets/controls",
     "model_name": "LabelModel",
     "state": {
      "_dom_classes": [],
      "_model_module": "@jupyter-widgets/controls",
      "_model_module_version": "1.5.0",
      "_model_name": "LabelModel",
      "_view_count": null,
      "_view_module": "@jupyter-widgets/controls",
      "_view_module_version": "1.5.0",
      "_view_name": "LabelView",
      "description": "",
      "description_tooltip": null,
      "layout": "IPY_MODEL_4c71dd197bf147d78da845f76e8ab447",
      "placeholder": "​",
      "style": "IPY_MODEL_35e8aa8161044f9ab3c79ae983337a28",
      "value": " 0.01MB of 0.01MB uploaded (0.00MB deduped)\r"
     }
    },
    "f716205589cd4db3915e7d0ad1423732": {
     "model_module": "@jupyter-widgets/controls",
     "model_name": "LabelModel",
     "state": {
      "_dom_classes": [],
      "_model_module": "@jupyter-widgets/controls",
      "_model_module_version": "1.5.0",
      "_model_name": "LabelModel",
      "_view_count": null,
      "_view_module": "@jupyter-widgets/controls",
      "_view_module_version": "1.5.0",
      "_view_name": "LabelView",
      "description": "",
      "description_tooltip": null,
      "layout": "IPY_MODEL_581df011ede641ccac7f6f670efa64fd",
      "placeholder": "​",
      "style": "IPY_MODEL_ff776f6c204e4febb876cf0d5e54a632",
      "value": " 0.01MB of 0.01MB uploaded (0.00MB deduped)\r"
     }
    },
    "fbd45d28521d42bfa812b946418efe0b": {
     "model_module": "@jupyter-widgets/controls",
     "model_name": "FloatProgressModel",
     "state": {
      "_dom_classes": [],
      "_model_module": "@jupyter-widgets/controls",
      "_model_module_version": "1.5.0",
      "_model_name": "FloatProgressModel",
      "_view_count": null,
      "_view_module": "@jupyter-widgets/controls",
      "_view_module_version": "1.5.0",
      "_view_name": "ProgressView",
      "bar_style": "",
      "description": "",
      "description_tooltip": null,
      "layout": "IPY_MODEL_6739b71c97924853813dfc98a355815d",
      "max": 1,
      "min": 0,
      "orientation": "horizontal",
      "style": "IPY_MODEL_1b00672d027943049ab399041b01552d",
      "value": 1
     }
    },
    "fe54aa7f3f414c4dbd155d6cbd1f3a1c": {
     "model_module": "@jupyter-widgets/controls",
     "model_name": "LabelModel",
     "state": {
      "_dom_classes": [],
      "_model_module": "@jupyter-widgets/controls",
      "_model_module_version": "1.5.0",
      "_model_name": "LabelModel",
      "_view_count": null,
      "_view_module": "@jupyter-widgets/controls",
      "_view_module_version": "1.5.0",
      "_view_name": "LabelView",
      "description": "",
      "description_tooltip": null,
      "layout": "IPY_MODEL_2d043ba24125422c94ec7a4c60b112f1",
      "placeholder": "​",
      "style": "IPY_MODEL_66ce997acc0a49df92852577bca474ac",
      "value": " 0.01MB of 0.01MB uploaded (0.00MB deduped)\r"
     }
    },
    "ff776f6c204e4febb876cf0d5e54a632": {
     "model_module": "@jupyter-widgets/controls",
     "model_name": "DescriptionStyleModel",
     "state": {
      "_model_module": "@jupyter-widgets/controls",
      "_model_module_version": "1.5.0",
      "_model_name": "DescriptionStyleModel",
      "_view_count": null,
      "_view_module": "@jupyter-widgets/base",
      "_view_module_version": "1.2.0",
      "_view_name": "StyleView",
      "description_width": ""
     }
    }
   }
  }
 },
 "nbformat": 4,
 "nbformat_minor": 1
}
