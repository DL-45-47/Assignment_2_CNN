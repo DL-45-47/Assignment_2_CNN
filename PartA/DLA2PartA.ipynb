{
  "nbformat": 4,
  "nbformat_minor": 0,
  "metadata": {
    "colab": {
      "name": "DLA2Git",
      "provenance": []
    },
    "kernelspec": {
      "name": "python3",
      "display_name": "Python 3"
    },
    "accelerator": "GPU"
  },
  "cells": [
    {
      "cell_type": "code",
      "metadata": {
        "id": "B94-WQlkpyvt"
      },
      "source": [
        "import numpy as np\n",
        "import math\n",
        "import os\n",
        "import random\n",
        "import cv2\n",
        "from keras.datasets import mnist\n",
        "import matplotlib.pyplot as plt\n",
        "from keras.utils import to_categorical\n",
        "\n",
        "from keras.models import Sequential\n",
        "from keras.layers import Dense, Conv2D, Flatten, MaxPooling2D\n",
        "from keras import regularizers"
      ],
      "execution_count": 1,
      "outputs": []
    },
    {
      "cell_type": "code",
      "metadata": {
        "id": "BgohxSTTqZbl"
      },
      "source": [
        "# num_per_cls = 10"
      ],
      "execution_count": null,
      "outputs": []
    },
    {
      "cell_type": "code",
      "metadata": {
        "colab": {
          "base_uri": "https://localhost:8080/"
        },
        "id": "IUzZcLScqcmU",
        "outputId": "b1d8ce93-b3b2-4197-a010-398f4431b7e9"
      },
      "source": [
        "(X_train, y_train), (X_test, y_test) = mnist.load_data()"
      ],
      "execution_count": 4,
      "outputs": [
        {
          "output_type": "stream",
          "text": [
            "Downloading data from https://storage.googleapis.com/tensorflow/tf-keras-datasets/mnist.npz\n",
            "11493376/11490434 [==============================] - 0s 0us/step\n"
          ],
          "name": "stdout"
        }
      ]
    },
    {
      "cell_type": "code",
      "metadata": {
        "id": "eYeWOPu7qiTT"
      },
      "source": [
        "X_train = X_train.reshape(60000,28,28,1)\n",
        "X_test = X_test.reshape(10000,28,28,1)"
      ],
      "execution_count": 5,
      "outputs": []
    },
    {
      "cell_type": "code",
      "metadata": {
        "colab": {
          "base_uri": "https://localhost:8080/"
        },
        "id": "kLCrwNsltiFj",
        "outputId": "5cb04424-d9ed-45a2-d42e-cb9019a53f88"
      },
      "source": [
        "X_train.shape"
      ],
      "execution_count": 13,
      "outputs": [
        {
          "output_type": "execute_result",
          "data": {
            "text/plain": [
              "(60000, 28, 28, 1)"
            ]
          },
          "metadata": {
            "tags": []
          },
          "execution_count": 13
        }
      ]
    },
    {
      "cell_type": "code",
      "metadata": {
        "id": "7quHNjLXrlyU"
      },
      "source": [
        "y_train = to_categorical(y_train)\n",
        "y_test = to_categorical(y_test)"
      ],
      "execution_count": 6,
      "outputs": []
    },
    {
      "cell_type": "code",
      "metadata": {
        "colab": {
          "base_uri": "https://localhost:8080/"
        },
        "id": "hx08WNWbt2BO",
        "outputId": "809d4925-c08a-41c0-d4df-ad99e98c1963"
      },
      "source": [
        "y_train.shape"
      ],
      "execution_count": 21,
      "outputs": [
        {
          "output_type": "execute_result",
          "data": {
            "text/plain": [
              "(60000, 10)"
            ]
          },
          "metadata": {
            "tags": []
          },
          "execution_count": 21
        }
      ]
    },
    {
      "cell_type": "code",
      "metadata": {
        "id": "0WE-R5nOryJI"
      },
      "source": [
        "#create model\n",
        "model = Sequential()"
      ],
      "execution_count": 28,
      "outputs": []
    },
    {
      "cell_type": "code",
      "metadata": {
        "id": "4m9Ylw-rryyt"
      },
      "source": [
        "#add model layers\n",
        "model.add(Conv2D(32, kernel_size=3, activation=\"relu\", input_shape=(28,28,1)))\n",
        "model.add(MaxPooling2D(pool_size=(2, 2), strides=(2,2), padding=\"valid\"))\n",
        "model.add(Flatten())\n",
        "model.add(Dense(128, activation='relu', kernel_regularizer=regularizers.l2(0.01)))\n",
        "model.add(Dense(10, activation=\"softmax\", kernel_regularizer=regularizers.l2(0.01)))"
      ],
      "execution_count": 29,
      "outputs": []
    },
    {
      "cell_type": "code",
      "metadata": {
        "id": "oM6nCIpvsFfu"
      },
      "source": [
        "model.compile(optimizer='adam', loss='categorical_crossentropy', metrics=['accuracy'])"
      ],
      "execution_count": 30,
      "outputs": []
    },
    {
      "cell_type": "code",
      "metadata": {
        "colab": {
          "base_uri": "https://localhost:8080/"
        },
        "id": "mSHfHzSIsHiO",
        "outputId": "b992df36-1c3e-40f8-a5bc-353a7f7bf47a"
      },
      "source": [
        "params = model.fit(X_train, y_train, validation_data=(X_test, y_test), epochs=10)"
      ],
      "execution_count": 31,
      "outputs": [
        {
          "output_type": "stream",
          "text": [
            "Epoch 1/10\n",
            "1875/1875 [==============================] - 37s 3ms/step - loss: 3.3338 - accuracy: 0.8875 - val_loss: 0.4838 - val_accuracy: 0.9669\n",
            "Epoch 2/10\n",
            "1875/1875 [==============================] - 5s 3ms/step - loss: 0.4007 - accuracy: 0.9698 - val_loss: 0.3315 - val_accuracy: 0.9546\n",
            "Epoch 3/10\n",
            "1875/1875 [==============================] - 5s 3ms/step - loss: 0.2529 - accuracy: 0.9701 - val_loss: 0.2325 - val_accuracy: 0.9647\n",
            "Epoch 4/10\n",
            "1875/1875 [==============================] - 5s 3ms/step - loss: 0.2158 - accuracy: 0.9712 - val_loss: 0.1991 - val_accuracy: 0.9720\n",
            "Epoch 5/10\n",
            "1875/1875 [==============================] - 5s 3ms/step - loss: 0.2037 - accuracy: 0.9708 - val_loss: 0.2019 - val_accuracy: 0.9710\n",
            "Epoch 6/10\n",
            "1875/1875 [==============================] - 5s 3ms/step - loss: 0.1932 - accuracy: 0.9710 - val_loss: 0.1864 - val_accuracy: 0.9722\n",
            "Epoch 7/10\n",
            "1875/1875 [==============================] - 5s 3ms/step - loss: 0.1799 - accuracy: 0.9739 - val_loss: 0.1904 - val_accuracy: 0.9687\n",
            "Epoch 8/10\n",
            "1875/1875 [==============================] - 5s 3ms/step - loss: 0.1704 - accuracy: 0.9736 - val_loss: 0.1679 - val_accuracy: 0.9744\n",
            "Epoch 9/10\n",
            "1875/1875 [==============================] - 5s 3ms/step - loss: 0.1657 - accuracy: 0.9742 - val_loss: 0.1656 - val_accuracy: 0.9735\n",
            "Epoch 10/10\n",
            "1875/1875 [==============================] - 5s 3ms/step - loss: 0.1667 - accuracy: 0.9744 - val_loss: 0.1588 - val_accuracy: 0.9739\n"
          ],
          "name": "stdout"
        }
      ]
    },
    {
      "cell_type": "code",
      "metadata": {
        "colab": {
          "base_uri": "https://localhost:8080/"
        },
        "id": "HLABw29csSOa",
        "outputId": "778504e1-63fc-48d8-fd40-7efabb0f338d"
      },
      "source": [
        "params.history.keys()"
      ],
      "execution_count": 32,
      "outputs": [
        {
          "output_type": "execute_result",
          "data": {
            "text/plain": [
              "dict_keys(['loss', 'accuracy', 'val_loss', 'val_accuracy'])"
            ]
          },
          "metadata": {
            "tags": []
          },
          "execution_count": 32
        }
      ]
    },
    {
      "cell_type": "code",
      "metadata": {
        "colab": {
          "base_uri": "https://localhost:8080/"
        },
        "id": "JsZW0yFssX5f",
        "outputId": "3b7dac02-fb94-47a6-b5d9-953adddef582"
      },
      "source": [
        "print(params.history['accuracy'])"
      ],
      "execution_count": 33,
      "outputs": [
        {
          "output_type": "stream",
          "text": [
            "[0.9368333220481873, 0.9680166840553284, 0.9693499803543091, 0.9699833393096924, 0.9703999757766724, 0.9710166454315186, 0.9724000096321106, 0.9728000164031982, 0.9733333587646484, 0.9736666679382324]\n"
          ],
          "name": "stdout"
        }
      ]
    },
    {
      "cell_type": "code",
      "metadata": {
        "id": "nFJ-iLd7tTH8"
      },
      "source": [
        ""
      ],
      "execution_count": null,
      "outputs": []
    }
  ]
}