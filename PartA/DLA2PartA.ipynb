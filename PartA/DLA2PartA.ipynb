{
  "nbformat": 4,
  "nbformat_minor": 0,
  "metadata": {
    "colab": {
      "name": "DLA2Git.ipynb",
      "provenance": []
    },
    "kernelspec": {
      "name": "python3",
      "display_name": "Python 3"
    },
    "accelerator": "GPU"
  },
  "cells": [
    {
      "cell_type": "code",
      "metadata": {
        "id": "B94-WQlkpyvt"
      },
      "source": [
        "import numpy as np\n",
        "import math\n",
        "import os\n",
        "import random\n",
        "import cv2\n",
        "from keras.datasets import mnist\n",
        "import matplotlib.pyplot as plt\n",
        "from keras.utils import to_categorical\n",
        "\n",
        "from keras.models import Sequential\n",
        "from keras.layers import Dense, Conv2D, Flatten, MaxPooling2D\n",
        "from keras import regularizers"
      ],
      "execution_count": null,
      "outputs": []
    },
    {
      "cell_type": "code",
      "metadata": {
        "id": "4zAwwz8AWohY"
      },
      "source": [
        "from google.colab import drive\n",
        "drive.mount('/content/drive')"
      ],
      "execution_count": null,
      "outputs": []
    },
    {
      "cell_type": "code",
      "metadata": {
        "colab": {
          "base_uri": "https://localhost:8080/"
        },
        "id": "YhqDolkkWpTK",
        "outputId": "013883be-36e8-4218-e10e-96d30062bd2f"
      },
      "source": [
        "!ls /content/drive/MyDrive/nature_12K/inaturalist_12K/train"
      ],
      "execution_count": null,
      "outputs": [
        {
          "output_type": "stream",
          "text": [
            "Amphibia  Arachnida  Fungi    Mammalia\tPlantae\n",
            "Animalia  Aves\t     Insecta  Mollusca\tReptilia\n"
          ],
          "name": "stdout"
        }
      ]
    },
    {
      "cell_type": "code",
      "metadata": {
        "colab": {
          "base_uri": "https://localhost:8080/"
        },
        "id": "9cbl5hc3Wt8A",
        "outputId": "bd979427-ce56-4ac3-bfc1-6da42f767151"
      },
      "source": [
        "dir_train = \"/content/drive/MyDrive/nature_12K/inaturalist_12K/train\"\n",
        "dir_val = \"/content/drive/MyDrive/nature_12K/inaturalist_12K/val\"\n",
        "class_list = os.listdir(dir_train)\n",
        "if '.DS_Store' in class_list:\n",
        "  class_list.remove('.DS_Store')\n",
        "class_list"
      ],
      "execution_count": null,
      "outputs": [
        {
          "output_type": "execute_result",
          "data": {
            "text/plain": [
              "['Insecta',\n",
              " 'Plantae',\n",
              " 'Arachnida',\n",
              " 'Fungi',\n",
              " 'Reptilia',\n",
              " 'Mollusca',\n",
              " 'Animalia',\n",
              " 'Amphibia',\n",
              " 'Aves',\n",
              " 'Mammalia']"
            ]
          },
          "metadata": {
            "tags": []
          },
          "execution_count": 9
        }
      ]
    },
    {
      "cell_type": "code",
      "metadata": {
        "id": "4y_CtTijYa0z"
      },
      "source": [
        "num_per_cls = 10"
      ],
      "execution_count": null,
      "outputs": []
    },
    {
      "cell_type": "code",
      "metadata": {
        "colab": {
          "base_uri": "https://localhost:8080/"
        },
        "id": "jG9sacf4XC9R",
        "outputId": "2b54f6d6-e4ef-4b8f-c89e-b37da12994d9"
      },
      "source": [
        "train_img = []\n",
        "test_img = []\n",
        "for cls in class_list:\n",
        "  dir = dir_train+\"/\"+cls\n",
        "  train_img += random.choices(os.listdir(dir), k=num_per_cls)\n",
        "  dir = dir_val+\"/\"+cls\n",
        "  test_img += random.choices(os.listdir(dir), k=num_per_cls)\n",
        "print(len(test_img))\n",
        "\n",
        "x_amp_train = []\n",
        "x_amp_test = []\n",
        "for i in range(len(class_list)):\n",
        "  dir = dir_train+\"/\"+class_list[i]\n",
        "  for f in train_img[(i*num_per_cls):((i+1)*num_per_cls)]:\n",
        "    img = cv2.imread(os.path.join(dir,f))\n",
        "    # print(type(img))\n",
        "    if img is not None:\n",
        "        x_amp_train.append(img)\n",
        "  dir = dir_val+\"/\"+class_list[i]\n",
        "  for f in test_img[(i*num_per_cls):((i+1)*num_per_cls)]:\n",
        "    img = cv2.imread(os.path.join(dir,f))\n",
        "    if img is not None:\n",
        "        x_amp_test.append(img)\n",
        "  print(len(x_amp_train), len(x_amp_test))"
      ],
      "execution_count": null,
      "outputs": [
        {
          "output_type": "stream",
          "text": [
            "100\n",
            "10 10\n",
            "20 20\n",
            "30 30\n",
            "40 40\n",
            "50 50\n",
            "60 60\n",
            "70 70\n",
            "80 80\n",
            "90 90\n",
            "100 100\n"
          ],
          "name": "stdout"
        }
      ]
    },
    {
      "cell_type": "code",
      "metadata": {
        "id": "GxFccZFoXfFt"
      },
      "source": [
        "y_amp_train = np.zeros((len(x_amp_train),10), dtype=float)\n",
        "y_amp_test = np.zeros((len(x_amp_test),10), dtype=float)\n",
        "for i in range(len(class_list)):\n",
        "  y_amp_train[(i*num_per_cls):((i+1)*num_per_cls),i] += 1\n",
        "  y_amp_test[(i*num_per_cls):((i+1)*num_per_cls),i] += 1"
      ],
      "execution_count": null,
      "outputs": []
    },
    {
      "cell_type": "code",
      "metadata": {
        "id": "40JHnRPRXhQp"
      },
      "source": [
        "ind = 0\n",
        "for img in x_amp_train:\n",
        "  if img is None:\n",
        "    x_amp_train.remove(i)\n",
        "    y_amp_train = np.delete(y_amp_train, ind, 0)\n",
        "  ind += 1\n",
        "ind = 0\n",
        "for img in x_amp_test:\n",
        "  if img is None:\n",
        "    x_amp_test.remove(i)\n",
        "    y_amp_test = np.delete(y_amp_test, ind, 0)"
      ],
      "execution_count": null,
      "outputs": []
    },
    {
      "cell_type": "code",
      "metadata": {
        "id": "w1N8QWRnX-aI"
      },
      "source": [
        "ind = 0\n",
        "x_amp_train_new = []\n",
        "for img in x_amp_train[:]:\n",
        "  x_amp_train_new.append(cv2.resize(img, (500,500)))"
      ],
      "execution_count": null,
      "outputs": []
    },
    {
      "cell_type": "code",
      "metadata": {
        "id": "71w3E0d2YCsZ"
      },
      "source": [
        "ind = 0\n",
        "x_amp_test_new = []\n",
        "for img in x_amp_test[:]:\n",
        "  x_amp_test_new.append(cv2.resize(img, (500,500)))"
      ],
      "execution_count": null,
      "outputs": []
    },
    {
      "cell_type": "code",
      "metadata": {
        "id": "DzBqHfOjaPq8"
      },
      "source": [
        "x_amp_train = np.array(x_amp_train_new)\n",
        "x_amp_test = np.array(x_amp_test_new) "
      ],
      "execution_count": null,
      "outputs": []
    },
    {
      "cell_type": "code",
      "metadata": {
        "id": "BgohxSTTqZbl"
      },
      "source": [
        "# num_per_cls = 10"
      ],
      "execution_count": null,
      "outputs": []
    },
    {
      "cell_type": "code",
      "metadata": {
        "id": "IUzZcLScqcmU"
      },
      "source": [
        "# (X_train, y_train), (X_test, y_test) = mnist.load_data()"
      ],
      "execution_count": null,
      "outputs": []
    },
    {
      "cell_type": "code",
      "metadata": {
        "id": "eYeWOPu7qiTT"
      },
      "source": [
        "# X_train = X_train.reshape(60000,28,28,1)\n",
        "# X_test = X_test.reshape(10000,28,28,1)"
      ],
      "execution_count": null,
      "outputs": []
    },
    {
      "cell_type": "code",
      "metadata": {
        "id": "kLCrwNsltiFj"
      },
      "source": [
        "# X_train.shape"
      ],
      "execution_count": null,
      "outputs": []
    },
    {
      "cell_type": "code",
      "metadata": {
        "id": "7quHNjLXrlyU"
      },
      "source": [
        "# y_train = to_categorical(y_train)\n",
        "# y_test = to_categorical(y_test)"
      ],
      "execution_count": null,
      "outputs": []
    },
    {
      "cell_type": "code",
      "metadata": {
        "id": "hx08WNWbt2BO"
      },
      "source": [
        "# y_train.shape"
      ],
      "execution_count": null,
      "outputs": []
    },
    {
      "cell_type": "code",
      "metadata": {
        "id": "0WE-R5nOryJI"
      },
      "source": [
        "#create model\n",
        "model = Sequential()"
      ],
      "execution_count": null,
      "outputs": []
    },
    {
      "cell_type": "code",
      "metadata": {
        "id": "4m9Ylw-rryyt"
      },
      "source": [
        "#add model layers\n",
        "model.add(Conv2D(32, kernel_size=3, activation=\"relu\", input_shape=(500,500,3)))\n",
        "model.add(MaxPooling2D(pool_size=(2, 2), strides=(2,2), padding=\"valid\"))\n",
        "model.add(Flatten())\n",
        "model.add(Dense(128, activation='relu', kernel_regularizer=regularizers.l2(0.01)))\n",
        "model.add(Dense(10, activation=\"softmax\", kernel_regularizer=regularizers.l2(0.01)))"
      ],
      "execution_count": null,
      "outputs": []
    },
    {
      "cell_type": "code",
      "metadata": {
        "id": "oM6nCIpvsFfu"
      },
      "source": [
        "model.compile(optimizer='adam', loss='categorical_crossentropy', metrics=['accuracy'])"
      ],
      "execution_count": null,
      "outputs": []
    },
    {
      "cell_type": "code",
      "metadata": {
        "colab": {
          "base_uri": "https://localhost:8080/"
        },
        "id": "mSHfHzSIsHiO",
        "outputId": "e86ad503-8180-497a-df06-47bf57daf1d4"
      },
      "source": [
        "params = model.fit(x_amp_train, y_amp_train, validation_data=(x_amp_test, y_amp_test), epochs=10)"
      ],
      "execution_count": null,
      "outputs": [
        {
          "output_type": "stream",
          "text": [
            "Epoch 1/10\n",
            "4/4 [==============================] - 41s 8s/step - loss: 15694.2679 - accuracy: 0.1426 - val_loss: 31765.1504 - val_accuracy: 0.1000\n",
            "Epoch 2/10\n",
            "4/4 [==============================] - 28s 7s/step - loss: 27646.7418 - accuracy: 0.1350 - val_loss: 16103.8438 - val_accuracy: 0.1000\n",
            "Epoch 3/10\n",
            "4/4 [==============================] - 28s 7s/step - loss: 12217.8453 - accuracy: 0.1852 - val_loss: 8742.9131 - val_accuracy: 0.1100\n",
            "Epoch 4/10\n",
            "4/4 [==============================] - 28s 7s/step - loss: 7091.1782 - accuracy: 0.2064 - val_loss: 4085.1213 - val_accuracy: 0.1100\n",
            "Epoch 5/10\n",
            "4/4 [==============================] - 28s 7s/step - loss: 2644.3934 - accuracy: 0.3629 - val_loss: 1811.3311 - val_accuracy: 0.0900\n",
            "Epoch 6/10\n",
            "4/4 [==============================] - 28s 7s/step - loss: 789.9392 - accuracy: 0.5123 - val_loss: 740.5301 - val_accuracy: 0.0700\n",
            "Epoch 7/10\n",
            "4/4 [==============================] - 28s 7s/step - loss: 207.5732 - accuracy: 0.6670 - val_loss: 538.5125 - val_accuracy: 0.1500\n",
            "Epoch 8/10\n",
            "4/4 [==============================] - 28s 7s/step - loss: 187.4173 - accuracy: 0.6678 - val_loss: 409.0963 - val_accuracy: 0.1100\n",
            "Epoch 9/10\n",
            "4/4 [==============================] - 28s 7s/step - loss: 141.0052 - accuracy: 0.6699 - val_loss: 273.4427 - val_accuracy: 0.1500\n",
            "Epoch 10/10\n",
            "4/4 [==============================] - 28s 7s/step - loss: 88.6791 - accuracy: 0.8063 - val_loss: 272.2481 - val_accuracy: 0.1200\n"
          ],
          "name": "stdout"
        }
      ]
    },
    {
      "cell_type": "code",
      "metadata": {
        "colab": {
          "base_uri": "https://localhost:8080/"
        },
        "id": "HLABw29csSOa",
        "outputId": "85a9ffa6-b224-4836-bac0-91d5abe6144f"
      },
      "source": [
        "params.history.keys()"
      ],
      "execution_count": null,
      "outputs": [
        {
          "output_type": "execute_result",
          "data": {
            "text/plain": [
              "dict_keys(['loss', 'accuracy', 'val_loss', 'val_accuracy'])"
            ]
          },
          "metadata": {
            "tags": []
          },
          "execution_count": 34
        }
      ]
    },
    {
      "cell_type": "code",
      "metadata": {
        "colab": {
          "base_uri": "https://localhost:8080/"
        },
        "id": "JsZW0yFssX5f",
        "outputId": "8b1c0ca3-3761-42b7-f651-75f1882a82d4"
      },
      "source": [
        "print(params.history['accuracy'])"
      ],
      "execution_count": null,
      "outputs": [
        {
          "output_type": "stream",
          "text": [
            "[0.12999999523162842, 0.15000000596046448, 0.20000000298023224, 0.23999999463558197, 0.3499999940395355, 0.5099999904632568, 0.6700000166893005, 0.6800000071525574, 0.6800000071525574, 0.8100000023841858]\n"
          ],
          "name": "stdout"
        }
      ]
    },
    {
      "cell_type": "code",
      "metadata": {
        "id": "nFJ-iLd7tTH8"
      },
      "source": [
        ""
      ],
      "execution_count": null,
      "outputs": []
    }
  ]
}