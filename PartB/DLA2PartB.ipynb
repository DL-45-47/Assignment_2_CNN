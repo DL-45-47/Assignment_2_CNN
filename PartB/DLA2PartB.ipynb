{
 "cells": [
  {
   "cell_type": "code",
   "execution_count": null,
   "metadata": {
    "colab": {
     "base_uri": "https://localhost:8080/"
    },
    "id": "m-UbacE3YrYl",
    "outputId": "3d699711-9422-40b3-b04c-d0c0c44f76b1"
   },
   "outputs": [
    {
     "name": "stdout",
     "output_type": "stream",
     "text": [
      "Requirement already satisfied: wandb in /usr/local/lib/python3.7/dist-packages (0.10.26)\n",
      "Requirement already satisfied: promise<3,>=2.0 in /usr/local/lib/python3.7/dist-packages (from wandb) (2.3)\n",
      "Requirement already satisfied: PyYAML in /usr/local/lib/python3.7/dist-packages (from wandb) (3.13)\n",
      "Requirement already satisfied: docker-pycreds>=0.4.0 in /usr/local/lib/python3.7/dist-packages (from wandb) (0.4.0)\n",
      "Requirement already satisfied: Click>=7.0 in /usr/local/lib/python3.7/dist-packages (from wandb) (7.1.2)\n",
      "Requirement already satisfied: shortuuid>=0.5.0 in /usr/local/lib/python3.7/dist-packages (from wandb) (1.0.1)\n",
      "Requirement already satisfied: subprocess32>=3.5.3 in /usr/local/lib/python3.7/dist-packages (from wandb) (3.5.4)\n",
      "Requirement already satisfied: pathtools in /usr/local/lib/python3.7/dist-packages (from wandb) (0.1.2)\n",
      "Requirement already satisfied: configparser>=3.8.1 in /usr/local/lib/python3.7/dist-packages (from wandb) (5.0.2)\n",
      "Requirement already satisfied: protobuf>=3.12.0 in /usr/local/lib/python3.7/dist-packages (from wandb) (3.12.4)\n",
      "Requirement already satisfied: six>=1.13.0 in /usr/local/lib/python3.7/dist-packages (from wandb) (1.15.0)\n",
      "Requirement already satisfied: sentry-sdk>=0.4.0 in /usr/local/lib/python3.7/dist-packages (from wandb) (1.0.0)\n",
      "Requirement already satisfied: requests<3,>=2.0.0 in /usr/local/lib/python3.7/dist-packages (from wandb) (2.23.0)\n",
      "Requirement already satisfied: python-dateutil>=2.6.1 in /usr/local/lib/python3.7/dist-packages (from wandb) (2.8.1)\n",
      "Requirement already satisfied: GitPython>=1.0.0 in /usr/local/lib/python3.7/dist-packages (from wandb) (3.1.14)\n",
      "Requirement already satisfied: psutil>=5.0.0 in /usr/local/lib/python3.7/dist-packages (from wandb) (5.4.8)\n",
      "Requirement already satisfied: setuptools in /usr/local/lib/python3.7/dist-packages (from protobuf>=3.12.0->wandb) (54.2.0)\n",
      "Requirement already satisfied: certifi in /usr/local/lib/python3.7/dist-packages (from sentry-sdk>=0.4.0->wandb) (2020.12.5)\n",
      "Requirement already satisfied: urllib3>=1.10.0 in /usr/local/lib/python3.7/dist-packages (from sentry-sdk>=0.4.0->wandb) (1.24.3)\n",
      "Requirement already satisfied: chardet<4,>=3.0.2 in /usr/local/lib/python3.7/dist-packages (from requests<3,>=2.0.0->wandb) (3.0.4)\n",
      "Requirement already satisfied: idna<3,>=2.5 in /usr/local/lib/python3.7/dist-packages (from requests<3,>=2.0.0->wandb) (2.10)\n",
      "Requirement already satisfied: gitdb<5,>=4.0.1 in /usr/local/lib/python3.7/dist-packages (from GitPython>=1.0.0->wandb) (4.0.7)\n",
      "Requirement already satisfied: smmap<5,>=3.0.1 in /usr/local/lib/python3.7/dist-packages (from gitdb<5,>=4.0.1->GitPython>=1.0.0->wandb) (4.0.0)\n"
     ]
    }
   ],
   "source": [
    "! pip install wandb"
   ]
  },
  {
   "cell_type": "code",
   "execution_count": null,
   "metadata": {
    "id": "oIiUWUrPWYUv"
   },
   "outputs": [],
   "source": [
    "import wandb"
   ]
  },
  {
   "cell_type": "code",
   "execution_count": null,
   "metadata": {
    "id": "XGjnZ6_VYngP"
   },
   "outputs": [],
   "source": [
    "import numpy as np\n",
    "import math\n",
    "import os\n",
    "import random\n",
    "import cv2\n",
    "import matplotlib.pyplot as plt\n",
    "from keras.utils import to_categorical\n",
    "\n",
    "from keras import Input, regularizers, Model\n",
    "from keras.models import Sequential\n",
    "from keras.applications.vgg16 import VGG16\n",
    "from keras.applications.inception_v3 import InceptionV3\n",
    "from keras.applications.inception_resnet_v2 import InceptionResNetV2\n",
    "from keras.applications.resnet import ResNet50\n",
    "from keras.applications.xception import Xception\n",
    "from keras.layers import Dense, Conv2D, Flatten, MaxPooling2D, AveragePooling2D, Dropout, BatchNormalization, GlobalAveragePooling2D"
   ]
  },
  {
   "cell_type": "code",
   "execution_count": null,
   "metadata": {
    "colab": {
     "base_uri": "https://localhost:8080/"
    },
    "id": "-BPHSH2kJVvm",
    "outputId": "3cce51c1-4097-466c-b4d5-a4cfb96fa8ba"
   },
   "outputs": [
    {
     "name": "stdout",
     "output_type": "stream",
     "text": [
      "Drive already mounted at /content/drive; to attempt to forcibly remount, call drive.mount(\"/content/drive\", force_remount=True).\n"
     ]
    }
   ],
   "source": [
    "from google.colab import drive\n",
    "drive.mount('/content/drive')"
   ]
  },
  {
   "cell_type": "code",
   "execution_count": null,
   "metadata": {
    "colab": {
     "base_uri": "https://localhost:8080/"
    },
    "id": "ttZkcQzRJYrd",
    "outputId": "50088dbc-1b45-4f15-b047-a26c0a4ffdc6"
   },
   "outputs": [
    {
     "name": "stdout",
     "output_type": "stream",
     "text": [
      "1177\n"
     ]
    }
   ],
   "source": [
    "!ls /content/drive/MyDrive/demo_augumentation/Fungi | wc -l"
   ]
  },
  {
   "cell_type": "code",
   "execution_count": null,
   "metadata": {
    "colab": {
     "base_uri": "https://localhost:8080/"
    },
    "id": "ngAuxIF-JZn-",
    "outputId": "155b7a36-90a6-4f2b-c178-f09881ccce78"
   },
   "outputs": [
    {
     "data": {
      "text/plain": [
       "['Reptilia',\n",
       " 'Mollusca',\n",
       " 'Animalia',\n",
       " 'Amphibia',\n",
       " 'Aves',\n",
       " 'Mammalia',\n",
       " 'Insecta',\n",
       " 'Plantae',\n",
       " 'Arachnida',\n",
       " 'Fungi']"
      ]
     },
     "execution_count": 14,
     "metadata": {
      "tags": []
     },
     "output_type": "execute_result"
    }
   ],
   "source": [
    "dir_train = \"/content/drive/MyDrive/demo_augumentation\"\n",
    "# dir_train = \"/content/drive/MyDrive/nature_12k_new/inaturalist_12K/train\"\n",
    "# dir_val = \"/content/drive/MyDrive/nature_12k_new/inaturalist_12K/val\"\n",
    "class_list = os.listdir(dir_train)\n",
    "if '.DS_Store' in class_list:\n",
    "  class_list.remove('.DS_Store')\n",
    "class_list"
   ]
  },
  {
   "cell_type": "code",
   "execution_count": null,
   "metadata": {
    "id": "hrk8K28DJchY"
   },
   "outputs": [],
   "source": [
    "num_per_cls = 400"
   ]
  },
  {
   "cell_type": "code",
   "execution_count": null,
   "metadata": {
    "colab": {
     "base_uri": "https://localhost:8080/"
    },
    "id": "UP2Hvn1yJhMM",
    "outputId": "9ae8a8a5-1260-447c-eacd-85a0c9e95bc6"
   },
   "outputs": [
    {
     "name": "stdout",
     "output_type": "stream",
     "text": [
      "400 40\n",
      "800 80\n",
      "1200 120\n",
      "1600 160\n",
      "2000 200\n",
      "2400 240\n",
      "2800 280\n",
      "3200 320\n",
      "3600 360\n",
      "4000 400\n"
     ]
    }
   ],
   "source": [
    "  # Load data\n",
    "  ######### FOURTH CODE ############################\n",
    "\n",
    "  x_amp_train = []\n",
    "  x_amp_test = []\n",
    "\n",
    "  y_amp_train = []\n",
    "  y_amp_test = []\n",
    "\n",
    "  # num_per_cls = config.epochs\n",
    "    \n",
    "  for i in range(len(class_list)):\n",
    "    dir = dir_train+\"/\"+class_list[i]\n",
    "    #img_name = random.choices(os.listdir(dir), k=(num_per_cls+math.ceil(0.1*num_per_cls)))\n",
    "    img_name = random.sample(os.listdir(dir), k=(num_per_cls+math.ceil(0.1*num_per_cls)))\n",
    "    for inc in range(num_per_cls):\n",
    "      # print(inc)\n",
    "      # print(img_name[inc])\n",
    "      img = cv2.resize(cv2.imread(os.path.join(dir, img_name[inc])), (350,350))\n",
    "      # print(type(img))\n",
    "      if img is not None:\n",
    "          x_amp_train.append(img)\n",
    "          y_amp_train.append(i)\n",
    "\n",
    "        # print(\"----------------------------------------\")\n",
    "    for inc in range(num_per_cls, num_per_cls+math.ceil(0.1*num_per_cls)):\n",
    "      # print(inc)\n",
    "      # print(img_name[inc])\n",
    "      img = cv2.resize(cv2.imread(os.path.join(dir, img_name[inc])), (350,350))\n",
    "      if img is not None:\n",
    "          x_amp_test.append(img)\n",
    "          y_amp_test.append(i)\n",
    "    print(len(x_amp_train), len(x_amp_test))\n",
    "\n",
    "      ######### FOURTH CODE ############################"
   ]
  },
  {
   "cell_type": "code",
   "execution_count": null,
   "metadata": {
    "id": "jfzAdvlx9tKp"
   },
   "outputs": [],
   "source": [
    "# y_amp_train=y_amp_train[0:200]\n",
    "# y_amp_test=y_amp_test[0:200]\n",
    "# x_amp_train=x_amp_train[0:200]\n",
    "# x_amp_test=x_amp_test[0:200]"
   ]
  },
  {
   "cell_type": "code",
   "execution_count": null,
   "metadata": {
    "id": "czrqmPlaJmPo"
   },
   "outputs": [],
   "source": [
    "    y_amp_train = to_categorical(y_amp_train)\n",
    "    y_amp_test = to_categorical(y_amp_test)"
   ]
  },
  {
   "cell_type": "code",
   "execution_count": null,
   "metadata": {
    "id": "-f4FKcsdJpY6"
   },
   "outputs": [],
   "source": [
    "    x_amp_train = np.array(x_amp_train)\n",
    "    x_amp_test = np.array(x_amp_test) "
   ]
  },
  {
   "cell_type": "code",
   "execution_count": null,
   "metadata": {
    "id": "avCepPMekPhK"
   },
   "outputs": [],
   "source": [
    "dir_no_aug_train ='/content/drive/MyDrive/nature_12k_new/inaturalist_12K/train'\n"
   ]
  },
  {
   "cell_type": "code",
   "execution_count": null,
   "metadata": {
    "colab": {
     "base_uri": "https://localhost:8080/"
    },
    "id": "XsqURrE9jUPG",
    "outputId": "5522732d-113c-4aa1-a99a-f3700382d6c3"
   },
   "outputs": [
    {
     "name": "stdout",
     "output_type": "stream",
     "text": [
      "400 40\n",
      "800 80\n",
      "1200 120\n",
      "1600 160\n",
      "2000 200\n",
      "2400 240\n",
      "2800 280\n",
      "3200 320\n",
      "3600 360\n",
      "4000 400\n"
     ]
    }
   ],
   "source": [
    "x_no_aug_train = []\n",
    "x_no_aug_test = []\n",
    "\n",
    "y_no_aug_train = []\n",
    "y_no_aug_test = []\n",
    "\n",
    "  # num_per_cls = config.epochs\n",
    "    \n",
    "for i in range(len(class_list)):\n",
    "  dir = dir_no_aug_train+\"/\"+class_list[i]\n",
    "  #img_name = random.choices(os.listdir(dir), k=(num_per_cls+math.ceil(0.1*num_per_cls)))\n",
    "  img_name = random.sample(os.listdir(dir), k=(num_per_cls+math.ceil(0.1*num_per_cls)))\n",
    "  for inc in range(num_per_cls):\n",
    "    # print(inc)\n",
    "    # print(img_name[inc])\n",
    "    img = cv2.resize(cv2.imread(os.path.join(dir, img_name[inc])), (350,350))\n",
    "    # print(type(img))\n",
    "    if img is not None:\n",
    "        x_no_aug_train.append(img)\n",
    "        y_no_aug_train.append(i)\n",
    "       # print(\"----------------------------------------\")\n",
    "  for inc in range(num_per_cls, num_per_cls+math.ceil(0.1*num_per_cls)):\n",
    "    # print(inc)\n",
    "    # print(img_name[inc])\n",
    "    img = cv2.resize(cv2.imread(os.path.join(dir, img_name[inc])), (350,350))\n",
    "    if img is not None:\n",
    "        x_no_aug_test.append(img)\n",
    "        y_no_aug_test.append(i)\n",
    "  print(len(x_no_aug_train), len(x_no_aug_test))"
   ]
  },
  {
   "cell_type": "code",
   "execution_count": null,
   "metadata": {
    "id": "f5bfCnWymYMV"
   },
   "outputs": [],
   "source": [
    "    y_no_aug_train = to_categorical(y_no_aug_train)\n",
    "    y_no_aug_test = to_categorical(y_no_aug_test)"
   ]
  },
  {
   "cell_type": "code",
   "execution_count": null,
   "metadata": {
    "id": "3BExQpcp9EbA"
   },
   "outputs": [],
   "source": [
    "# y_no_aug_train=y_no_aug_train[0:200]\n",
    "# y_no_aug_test=y_no_aug_test[0:200]\n",
    "# x_no_aug_train=x_no_aug_train[0:200]\n",
    "# x_no_aug_test=x_no_aug_test[0:200]"
   ]
  },
  {
   "cell_type": "code",
   "execution_count": null,
   "metadata": {
    "id": "me4SMUhI9Yu1"
   },
   "outputs": [],
   "source": []
  },
  {
   "cell_type": "code",
   "execution_count": null,
   "metadata": {
    "id": "ULi1R7B79ip2"
   },
   "outputs": [],
   "source": []
  },
  {
   "cell_type": "code",
   "execution_count": null,
   "metadata": {
    "id": "N9fNm07snc0P"
   },
   "outputs": [],
   "source": [
    "    x_no_aug_train = np.array(x_no_aug_train)\n",
    "    x_no_aug_test = np.array(x_no_aug_test) "
   ]
  },
  {
   "cell_type": "code",
   "execution_count": null,
   "metadata": {
    "id": "60YPpPs4JnC5"
   },
   "outputs": [],
   "source": [
    "# print(len(x_amp_train),len(x_amp_test))"
   ]
  },
  {
   "cell_type": "code",
   "execution_count": null,
   "metadata": {
    "id": "VgpBrM6hJwIW"
   },
   "outputs": [],
   "source": [
    "# plt.imshow(x_amp_test[0])"
   ]
  },
  {
   "cell_type": "code",
   "execution_count": null,
   "metadata": {
    "id": "eR2RYX3QZTpD"
   },
   "outputs": [],
   "source": [
    "# Configure the sweep – specify the parameters to search through, the search strategy, the optimization metric et all.\n",
    "sweep_config = {\n",
    "    'method': 'random', #grid, random\n",
    "    'metric': {\n",
    "      'name': 'accuracy',\n",
    "      'goal': 'maximize'   \n",
    "    },\n",
    "    'parameters': {\n",
    "        'epochs': {\n",
    "            'values': [5,7,9, 10,11]\n",
    "        },\n",
    "        'weight_decay':{\n",
    "           'values': [1e-1, 1e-2, 1e-3,0.00099,0.00111]\n",
    "        },\n",
    "        'pooling':{\n",
    "            'values': ['max', 'avg']\n",
    "        },\n",
    "        'pre_trained_model':{\n",
    "            'values': ['VGG16', 'InceptionV3', 'InceptionResNetV2', 'ResNet50', 'Xception']\n",
    "        },\n",
    "        # 'number_of_filters': { \n",
    "        #     'values': [16,32, 64]\n",
    "        # },\n",
    "        # 'filter_organisation': {\n",
    "        #     'values': [2,1,0.5]\n",
    "        # },\n",
    "        'data_augmentation':{\n",
    "             'values':[False,True,True]\n",
    "         },\n",
    "         'bs':{\n",
    "            'values':[8,16,32]\n",
    "        }\n",
    "        # 'Batch_normalization':{\n",
    "        #     'values':[False,True,True]\n",
    "        # },\n",
    "        # 'kernel_size':{\n",
    "        #     'values':[3,5,7]\n",
    "        # },\n",
    "        # 'neurons_in_denseLyr':{\n",
    "        #     'values':[32,64,128,256]\n",
    "        # },\n",
    "        # 'dropout':{\n",
    "        #     'values':[0.2,0.3]\n",
    "        # },\n",
    "        # 'no_of_layers':{\n",
    "        #     'values':[4,5,6,7]\n",
    "        # }\n",
    "              \n",
    "        \n",
    "        #'activation': {\n",
    "            # 'values': ['relu', 'elu', 'selu', 'softmax']\n",
    "         #   'values': ['sigmoid','tanh','ReLu']\n",
    "        #}\n",
    "        \n",
    "        \n",
    "    }\n",
    "}"
   ]
  },
  {
   "cell_type": "code",
   "execution_count": null,
   "metadata": {
    "colab": {
     "base_uri": "https://localhost:8080/",
     "height": 86
    },
    "id": "vF111VMdGMbW",
    "outputId": "51f35ec7-6b72-4dd8-d7c2-91e4c314c0bc"
   },
   "outputs": [
    {
     "data": {
      "application/javascript": [
       "\n",
       "        window._wandbApiKey = new Promise((resolve, reject) => {\n",
       "            function loadScript(url) {\n",
       "            return new Promise(function(resolve, reject) {\n",
       "                let newScript = document.createElement(\"script\");\n",
       "                newScript.onerror = reject;\n",
       "                newScript.onload = resolve;\n",
       "                document.body.appendChild(newScript);\n",
       "                newScript.src = url;\n",
       "            });\n",
       "            }\n",
       "            loadScript(\"https://cdn.jsdelivr.net/npm/postmate/build/postmate.min.js\").then(() => {\n",
       "            const iframe = document.createElement('iframe')\n",
       "            iframe.style.cssText = \"width:0;height:0;border:none\"\n",
       "            document.body.appendChild(iframe)\n",
       "            const handshake = new Postmate({\n",
       "                container: iframe,\n",
       "                url: 'https://wandb.ai/authorize'\n",
       "            });\n",
       "            const timeout = setTimeout(() => reject(\"Couldn't auto authenticate\"), 5000)\n",
       "            handshake.then(function(child) {\n",
       "                child.on('authorize', data => {\n",
       "                    clearTimeout(timeout)\n",
       "                    resolve(data)\n",
       "                });\n",
       "            });\n",
       "            })\n",
       "        });\n",
       "    "
      ],
      "text/plain": [
       "<IPython.core.display.Javascript object>"
      ]
     },
     "metadata": {
      "tags": []
     },
     "output_type": "display_data"
    },
    {
     "name": "stderr",
     "output_type": "stream",
     "text": [
      "\u001b[34m\u001b[1mwandb\u001b[0m: Appending key for api.wandb.ai to your netrc file: /root/.netrc\n"
     ]
    },
    {
     "name": "stdout",
     "output_type": "stream",
     "text": [
      "Create sweep with ID: rirsl9ne\n",
      "Sweep URL: https://wandb.ai/dl_45_47/Fine_tuning_of_Pretrained_models/sweeps/rirsl9ne\n"
     ]
    }
   ],
   "source": [
    "sweep_id = wandb.sweep(sweep_config,  project=\"Fine_tuning_of_Pretrained_models\")"
   ]
  },
  {
   "cell_type": "code",
   "execution_count": null,
   "metadata": {
    "id": "wZiBndU0BLFa"
   },
   "outputs": [],
   "source": [
    "\n",
    "def VGG16_model(config, new_input):\n",
    "  model = VGG16(weights='imagenet',include_top=False , input_tensor=new_input, pooling=config.pooling)\n",
    "  x = Flatten()(model.layers[-1].output)\n",
    "  x = Dense(4096, activation='relu')(x)\n",
    "  x = Dense(4096, activation='relu')(x)\n",
    "  output = Dense(10, activation=\"softmax\", kernel_regularizer=regularizers.l2(config.weight_decay))(x)\n",
    "  # define new model\n",
    "  model = Model(inputs=model.inputs, outputs=output)\n",
    "  return model"
   ]
  },
  {
   "cell_type": "code",
   "execution_count": null,
   "metadata": {
    "id": "LLke1lgHHd_E"
   },
   "outputs": [],
   "source": [
    "# The sweep calls this function with each set of hyperparameters\n",
    "def train():\n",
    "  # Default values for hyper-parameters we're going to sweep over\n",
    "  #\n",
    "\n",
    "    config_defaults = {\n",
    "        'epochs': 5,\n",
    "        'weight_decay':1e-2,\n",
    "        'pooling': max,\n",
    "        'pre_trained_model': 'VGG16',\n",
    "        'bs':16,\n",
    "        # 'number_of_filters': 32,\n",
    "        # 'filter_organisation': 1,\n",
    "         'data_augmentation' : True\n",
    "        # 'Batch_normalization': True,\n",
    "        # 'neurons_in_denseLyr':64,\n",
    "        # 'kernel_size':3,\n",
    "        # 'dropout':0.2,\n",
    "        # 'no_of_layers': 5\n",
    "    }\n",
    "\n",
    "\n",
    "    # Initialize a new wandb run\n",
    "    wandb.init(config=config_defaults)\n",
    "    \n",
    "    # Config is a variable that holds and saves hyperparameters and inputs\n",
    "    config = wandb.config\n",
    "\n",
    "    new_input = Input(shape=(350, 350, 3))\n",
    "\n",
    "    if config.pre_trained_model == 'VGG16':\n",
    "      model = VGG16_model(config, new_input)\n",
    "    else:\n",
    "      if config.pre_trained_model == 'InceptionV3':\n",
    "        model = InceptionV3(weights='imagenet',include_top=False , input_tensor=new_input, pooling=config.pooling)\n",
    "      elif config.pre_trained_model == 'InceptionResNetV2':\n",
    "        model = InceptionResNetV2(weights='imagenet',include_top=False , input_tensor=new_input, pooling=config.pooling)\n",
    "      elif config.pre_trained_model == 'ResNet50':\n",
    "        model = ResNet50(weights='imagenet',include_top=False , input_tensor=new_input, pooling=config.pooling)\n",
    "      elif config.pre_trained_model == 'Xception':\n",
    "        model = Xception(weights='imagenet',include_top=False , input_tensor=new_input, pooling=config.pooling)\n",
    "      #x = (GlobalAveragePooling2D())\n",
    "      output = Dense(10, activation=\"softmax\", kernel_regularizer=regularizers.l2(config.weight_decay))(model.layers[-1].output)\n",
    "      # define new model\n",
    "      model = Model(inputs=model.inputs, outputs=output)\n",
    "\n",
    "    if config.data_augmentation :\n",
    "      x_train=x_amp_train\n",
    "      y_train=y_amp_train\n",
    "      x_test=x_amp_test\n",
    "      y_test=y_amp_test\n",
    "    else:\n",
    "      x_train=x_no_aug_train\n",
    "      y_train=y_no_aug_train\n",
    "      x_test=x_no_aug_test\n",
    "      y_test=y_no_aug_test\n",
    "\n",
    "    # filter_no=config.number_of_filters \n",
    "\n",
    "    # #create model\n",
    "    # model = Sequential()    \n",
    "\n",
    "    # #add model layers\n",
    "    # if config.Batch_normalization :\n",
    "    #   # model.add(BatchNormalization(input_shape=(500,500,3)))\n",
    "    #   model.add(BatchNormalization(input_shape=(350,350,3)))\n",
    "    #   model.add(Dropout(config.dropout))\n",
    "    # else:\n",
    "    #   # model.add(Dropout(config.dropout, input_shape=(500,500,3)))\n",
    "    #   model.add(Dropout(config.dropout, input_shape=(350,350,3)))\n",
    "    # model.add(Conv2D(filter_no, kernel_size=config.kernel_size, activation=\"relu\"))\n",
    "    # if config.Batch_normalization :\n",
    "    #   model.add(BatchNormalization())\n",
    "    # model.add(MaxPooling2D(pool_size=(2, 2), strides=(2,2), padding=\"valid\"))\n",
    "    # model.add(Dropout(config.dropout))\n",
    "    # for i in range(config.no_of_layers-1):\n",
    "    #   filter_no=math.ceil(filter_no*config.filter_organisation)\n",
    "    #   #filter_no =math.ceil(config.number_of_filters*pow(config.filter_organisation,(i+1)))\n",
    "    #   if(filter_no < 8 or filter_no > 256 ):\n",
    "    #     filter_no=config.number_of_filters\n",
    "    #   model.add(Conv2D(filter_no, kernel_size=config.kernel_size, activation=\"relu\"))\n",
    "    #   if config.Batch_normalization :\n",
    "    #     model.add(BatchNormalization())\n",
    "    #   model.add(MaxPooling2D(pool_size=(2, 2), strides=(2,2), padding=\"valid\"))\n",
    "    #   model.add(Dropout(config.dropout))\n",
    "    # model.add(Flatten())\n",
    "    # model.add(Dense(128, activation='relu', kernel_regularizer=regularizers.l2(config.weight_decay)))\n",
    "    # if config.Batch_normalization :\n",
    "    #   model.add(BatchNormalization())\n",
    "    # model.add(Dropout(config.dropout))\n",
    "    # model.add(Dense(10, activation=\"softmax\", kernel_regularizer=regularizers.l2(config.weight_decay)))\n",
    "\n",
    "    model.compile(optimizer='adam', loss='categorical_crossentropy', metrics=['accuracy'])\n",
    "\n",
    "    history = model.fit(x_train, y_train, validation_data=(x_test, y_test), epochs=config.epochs, batch_size=config.bs)\n",
    "\n",
    "    accuracy, loss, val_accuracy, val_loss = history.history['accuracy'], history.history['loss'], history.history['val_accuracy'], history.history['val_loss']\n",
    "\n",
    "    # wandb.log({'val_loss' : val_loss, 'val_accuracy': val_accuracy})\n",
    "\n",
    "    for i in range(config.epochs):\n",
    "      wandb.log({'val_loss' : val_loss[i], 'val_accuracy': val_accuracy[i],'loss' : loss[i], 'accuracy': accuracy[i], 'epoch': i})\n",
    "    # wandb.finish()"
   ]
  },
  {
   "cell_type": "code",
   "execution_count": null,
   "metadata": {
    "colab": {
     "base_uri": "https://localhost:8080/",
     "height": 1000,
     "referenced_widgets": [
      "5e814c3f586143f88adf09e66b1f21be",
      "05fc00137178457095999d649c381fc3",
      "17d00889ee304b6e8f53e558fd617d2b",
      "1f69a0e864f24cedb36cb1d6f22b3354",
      "d4ef8cfd4e274d5885a79ff8bdaa9f2d",
      "da37dc822174482eb13e82aa577c782f",
      "4d158bd471fe42d6911009ed8b39cf94",
      "8aa6175f46784afdb396c8726f3a969d",
      "243880f6886e4a2c9a7ba1a76b16916a",
      "995f415c2420484ca11bbf81c0598d75",
      "1e27930e80934176b1390b9cb52873c2",
      "7127cd6f81cb454e8fbe482673199946",
      "ce16f0ac08f44b8f87c2a7eae14afc94",
      "799683a9f1f74d8f938c7aece23918d2",
      "98f36503855a4ee392c2cc55f3ea6313",
      "046961a525c34a68b02e4a7934746368",
      "b6034a35b1e84ac9a655842aedb737dd",
      "ca5deb2c7d5c4af1b8630835903738ab",
      "a244b38f5b65475ba6ccc37de4dd1969",
      "2eb28a0ccdda4bed982b905e98fabc6c",
      "387ef958582e47cbb3cb2b4e71fa8931",
      "4e81211c4b5a4317b699694e33fef945",
      "f209748d205745f78447e6134b3809bf",
      "fd1d9b9d91a94691982a58b6f3ed0654",
      "8a2bb057fc56414e84a7c16c3247cc9b",
      "5e3757a965bc4f7db682b72ea4b56d31",
      "dcad92a8274e4eb581e670381b3c83d8",
      "a62404f4ba4949b6aa56bcc0bc0220a0",
      "397e381d680a4f04b81be704d30384c7",
      "92b37958cbb749458e133aeb7e52f9aa",
      "802826ebecc54d389bddaef39bea359d",
      "c0a6265a624b4c41903901e8476dc3aa",
      "5949ac16488149c8afa214292d63acd1",
      "3074c311040942b881e6264e76a84f26",
      "ecf08fc0e0c64314bbdf16e257543cc8",
      "b7520d2a3c8f44d5a6637caaffce7a03",
      "fd3c98a9709f466283fcd1eb27e57253",
      "4acae6d4a7664d02aa19f0799f539d9b",
      "26e7006e539b43248c47be8066e0da11",
      "cdac31bde1434882879137ba8c309991",
      "d80ba04c43204fe8af9f9500d9439430",
      "eb62a6a555e946e0979f0435f6440c14",
      "b61af2b39f1743d88aee99460d2944bc",
      "833e0908e16f4d55a80afb93110ef87d",
      "9977c3bee74841d9be794d5b85da9cc3",
      "f5ef0e75a3e04026a7f2a5ce4673cb20",
      "17f3b055e84b46f5b24a00db3411bb68",
      "46e2bc1546c843cebc90ca1940f3837b",
      "21411264ed7444efba2d10eac09f13eb",
      "b5940a7518a6461eae87ff0c793d560c",
      "c65d2ef3761d45018db418edb86950a0",
      "30247bfe3e9149de8412547b6d4d42db",
      "7de602801e6a4025a0ab032efbe08a3e",
      "1634004f9bb74144b8c8102f437b3e4d",
      "6ca8d5703cbc4e458ad70da584873a4c",
      "46d8282e16a94517907bc75e74ef0a32",
      "181917e5830a45c1a3bc4dea4000a237",
      "1b8ab5eaff3d469e8814bcd5f82fe60a",
      "42de60b67d4f47c1aa4c10cbe98829a3",
      "6ac20903d612467f8b94600b4f6df54e",
      "2b2dcd8243114dd19f70bc3e754f0ce6",
      "69ab81792f514607beddcd69b0093932",
      "cd6bd7d2ebc74041988ee5c4d4a2181b",
      "b70c9ef505a6453bbc3475600038c4ed",
      "0b21337fe6ae42d4aafab60fcb7a78cd",
      "7bf2d6b0c0dd450293789cbf98a98d85",
      "9240cef1f69a4e5aa195da8affcbfeed",
      "41e65eb786d84812b52f2437cc6ca664",
      "2d2e996eb8b542e0b8a9d753d6bbc7b8",
      "dec771ec49fa44d9b4284216049362ce",
      "73b97b17fc8a4c3e9bd0d3f75bd773b5",
      "aaf3e40350374cddb3eb5f5e06014130",
      "e8aa7986cbd9430ca386ff473bef40db",
      "f13cd6f867fb4a25a18c2b0f187cd030",
      "b2558642b69c4eebba0613e4e32da280",
      "b1087d6444ef429d8f633b3d4b1178ee",
      "6d5d08e2cb0b431c8a3a5dedc0bd8bb2",
      "d45d917eab2241e9a0496348c7b7997b",
      "3699c26d624c47428dfdff795fd52260",
      "3855f289c861474984ef86638dfe9a7c",
      "8ea87935484c4f22989a8ddd177a5a74",
      "04e5919a6ea7477b9c06d91b78852356",
      "a0baadec6f17418aac18c2fc88c94ed9",
      "2a4ba4f6a28b4c61859e2bcbb2f16e70",
      "70591aaaecde49fb86c6813718904a22",
      "32da031bb378495ea0f6b3709a53c5f1",
      "124ec949bede4692a0f63a146caa8648",
      "e4d53fb9e895450c9f309fc9c462fdd6",
      "6994904c4cae4344963526699a1b4679",
      "74566a6fd8984840ada06e2abe27834e",
      "1a6f733047074753a07f4ed36a2118c0",
      "ba358e4dab4949fe93d5d8d75c2e3587",
      "1dbfb14f763d427181b7f81a289157e1",
      "243d80fae60948ae8fc12b7298ec184a",
      "6874dea9984d468ea373aa3a736a75b6",
      "6b7d0acbdcc542e98df5d446d2c38509"
     ]
    },
    "id": "Z8Hsb5UEIj5n",
    "outputId": "f69f68fb-00f9-46cb-bebc-537e0c3ec4ad"
   },
   "outputs": [
    {
     "name": "stderr",
     "output_type": "stream",
     "text": [
      "\u001b[34m\u001b[1mwandb\u001b[0m: \u001b[33mWARNING\u001b[0m Calling wandb.login() after wandb.init() has no effect.\n"
     ]
    },
    {
     "data": {
      "text/html": [
       "Find user logs for this run at: <code>/content/wandb/run-20210415_033719-mg1pzu7d/logs/debug.log</code>"
      ],
      "text/plain": [
       "<IPython.core.display.HTML object>"
      ]
     },
     "metadata": {
      "tags": []
     },
     "output_type": "display_data"
    },
    {
     "data": {
      "text/html": [
       "Find internal logs for this run at: <code>/content/wandb/run-20210415_033719-mg1pzu7d/logs/debug-internal.log</code>"
      ],
      "text/plain": [
       "<IPython.core.display.HTML object>"
      ]
     },
     "metadata": {
      "tags": []
     },
     "output_type": "display_data"
    },
    {
     "data": {
      "text/html": [
       "Synced 5 W&B file(s), 0 media file(s), 0 artifact file(s) and 0 other file(s)"
      ],
      "text/plain": [
       "<IPython.core.display.HTML object>"
      ]
     },
     "metadata": {
      "tags": []
     },
     "output_type": "display_data"
    },
    {
     "data": {
      "text/html": [
       "\n",
       "                    <br/>Synced <strong style=\"color:#cdcd00\">ruby-sweep-16</strong>: <a href=\"https://wandb.ai/dl_45_47/Fine_tuning_of_Pretrained_models/runs/mg1pzu7d\" target=\"_blank\">https://wandb.ai/dl_45_47/Fine_tuning_of_Pretrained_models/runs/mg1pzu7d</a><br/>\n",
       "                "
      ],
      "text/plain": [
       "<IPython.core.display.HTML object>"
      ]
     },
     "metadata": {
      "tags": []
     },
     "output_type": "display_data"
    },
    {
     "name": "stderr",
     "output_type": "stream",
     "text": [
      "\u001b[34m\u001b[1mwandb\u001b[0m: Agent Starting Run: 4avk2z53 with config:\n",
      "\u001b[34m\u001b[1mwandb\u001b[0m: \tbs: 8\n",
      "\u001b[34m\u001b[1mwandb\u001b[0m: \tdata_augmentation: True\n",
      "\u001b[34m\u001b[1mwandb\u001b[0m: \tepochs: 5\n",
      "\u001b[34m\u001b[1mwandb\u001b[0m: \tpooling: avg\n",
      "\u001b[34m\u001b[1mwandb\u001b[0m: \tpre_trained_model: InceptionResNetV2\n",
      "\u001b[34m\u001b[1mwandb\u001b[0m: \tweight_decay: 0.00099\n"
     ]
    },
    {
     "data": {
      "text/html": [
       "\n",
       "                Tracking run with wandb version 0.10.26<br/>\n",
       "                Syncing run <strong style=\"color:#cdcd00\">morning-sweep-17</strong> to <a href=\"https://wandb.ai\" target=\"_blank\">Weights & Biases</a> <a href=\"https://docs.wandb.com/integrations/jupyter.html\" target=\"_blank\">(Documentation)</a>.<br/>\n",
       "                Project page: <a href=\"https://wandb.ai/dl_45_47/Fine_tuning_of_Pretrained_models\" target=\"_blank\">https://wandb.ai/dl_45_47/Fine_tuning_of_Pretrained_models</a><br/>\n",
       "                Sweep page: <a href=\"https://wandb.ai/dl_45_47/Fine_tuning_of_Pretrained_models/sweeps/niuru2a4\" target=\"_blank\">https://wandb.ai/dl_45_47/Fine_tuning_of_Pretrained_models/sweeps/niuru2a4</a><br/>\n",
       "Run page: <a href=\"https://wandb.ai/dl_45_47/Fine_tuning_of_Pretrained_models/runs/4avk2z53\" target=\"_blank\">https://wandb.ai/dl_45_47/Fine_tuning_of_Pretrained_models/runs/4avk2z53</a><br/>\n",
       "                Run data is saved locally in <code>/content/wandb/run-20210415_033842-4avk2z53</code><br/><br/>\n",
       "            "
      ],
      "text/plain": [
       "<IPython.core.display.HTML object>"
      ]
     },
     "metadata": {
      "tags": []
     },
     "output_type": "display_data"
    },
    {
     "name": "stdout",
     "output_type": "stream",
     "text": [
      "Downloading data from https://storage.googleapis.com/tensorflow/keras-applications/inception_resnet_v2/inception_resnet_v2_weights_tf_dim_ordering_tf_kernels_notop.h5\n",
      "219062272/219055592 [==============================] - 2s 0us/step\n",
      "Epoch 1/5\n",
      "500/500 [==============================] - 230s 419ms/step - loss: 2.2114 - accuracy: 0.2342 - val_loss: 5.4746 - val_accuracy: 0.1625\n",
      "Epoch 2/5\n",
      "500/500 [==============================] - 208s 415ms/step - loss: 1.9157 - accuracy: 0.3495 - val_loss: 6.5307 - val_accuracy: 0.1600\n",
      "Epoch 3/5\n",
      "500/500 [==============================] - 208s 415ms/step - loss: 1.7513 - accuracy: 0.3944 - val_loss: 2.3079 - val_accuracy: 0.3375\n",
      "Epoch 4/5\n",
      "500/500 [==============================] - 208s 416ms/step - loss: 1.6417 - accuracy: 0.4344 - val_loss: 3.0774 - val_accuracy: 0.1375\n",
      "Epoch 5/5\n",
      "500/500 [==============================] - 207s 415ms/step - loss: 1.8096 - accuracy: 0.3822 - val_loss: 2.2993 - val_accuracy: 0.3125\n"
     ]
    },
    {
     "data": {
      "text/html": [
       "<br/>Waiting for W&B process to finish, PID 1480<br/>Program ended successfully."
      ],
      "text/plain": [
       "<IPython.core.display.HTML object>"
      ]
     },
     "metadata": {
      "tags": []
     },
     "output_type": "display_data"
    },
    {
     "data": {
      "application/vnd.jupyter.widget-view+json": {
       "model_id": "5e814c3f586143f88adf09e66b1f21be",
       "version_major": 2,
       "version_minor": 0
      },
      "text/plain": [
       "VBox(children=(Label(value=' 0.00MB of 0.00MB uploaded (0.00MB deduped)\\r'), FloatProgress(value=1.0, max=1.0)…"
      ]
     },
     "metadata": {
      "tags": []
     },
     "output_type": "display_data"
    },
    {
     "data": {
      "text/html": [
       "Find user logs for this run at: <code>/content/wandb/run-20210415_033842-4avk2z53/logs/debug.log</code>"
      ],
      "text/plain": [
       "<IPython.core.display.HTML object>"
      ]
     },
     "metadata": {
      "tags": []
     },
     "output_type": "display_data"
    },
    {
     "data": {
      "text/html": [
       "Find internal logs for this run at: <code>/content/wandb/run-20210415_033842-4avk2z53/logs/debug-internal.log</code>"
      ],
      "text/plain": [
       "<IPython.core.display.HTML object>"
      ]
     },
     "metadata": {
      "tags": []
     },
     "output_type": "display_data"
    },
    {
     "data": {
      "text/html": [
       "<h3>Run summary:</h3><br/><style>\n",
       "    table.wandb td:nth-child(1) { padding: 0 10px; text-align: right }\n",
       "    </style><table class=\"wandb\">\n",
       "<tr><td>val_loss</td><td>2.2993</td></tr><tr><td>val_accuracy</td><td>0.3125</td></tr><tr><td>loss</td><td>1.84824</td></tr><tr><td>accuracy</td><td>0.3685</td></tr><tr><td>epoch</td><td>4</td></tr><tr><td>_runtime</td><td>1070</td></tr><tr><td>_timestamp</td><td>1618458992</td></tr><tr><td>_step</td><td>4</td></tr></table>"
      ],
      "text/plain": [
       "<IPython.core.display.HTML object>"
      ]
     },
     "metadata": {
      "tags": []
     },
     "output_type": "display_data"
    },
    {
     "data": {
      "text/html": [
       "<h3>Run history:</h3><br/><style>\n",
       "    table.wandb td:nth-child(1) { padding: 0 10px; text-align: right }\n",
       "    </style><table class=\"wandb\">\n",
       "<tr><td>val_loss</td><td>▆█▁▂▁</td></tr><tr><td>val_accuracy</td><td>▂▂█▁▇</td></tr><tr><td>loss</td><td>█▄▂▁▄</td></tr><tr><td>accuracy</td><td>▁▅▇█▆</td></tr><tr><td>epoch</td><td>▁▃▅▆█</td></tr><tr><td>_runtime</td><td>▁▁▁▁▁</td></tr><tr><td>_timestamp</td><td>▁▁▁▁▁</td></tr><tr><td>_step</td><td>▁▃▅▆█</td></tr></table><br/>"
      ],
      "text/plain": [
       "<IPython.core.display.HTML object>"
      ]
     },
     "metadata": {
      "tags": []
     },
     "output_type": "display_data"
    },
    {
     "data": {
      "text/html": [
       "Synced 5 W&B file(s), 0 media file(s), 0 artifact file(s) and 0 other file(s)"
      ],
      "text/plain": [
       "<IPython.core.display.HTML object>"
      ]
     },
     "metadata": {
      "tags": []
     },
     "output_type": "display_data"
    },
    {
     "data": {
      "text/html": [
       "\n",
       "                    <br/>Synced <strong style=\"color:#cdcd00\">morning-sweep-17</strong>: <a href=\"https://wandb.ai/dl_45_47/Fine_tuning_of_Pretrained_models/runs/4avk2z53\" target=\"_blank\">https://wandb.ai/dl_45_47/Fine_tuning_of_Pretrained_models/runs/4avk2z53</a><br/>\n",
       "                "
      ],
      "text/plain": [
       "<IPython.core.display.HTML object>"
      ]
     },
     "metadata": {
      "tags": []
     },
     "output_type": "display_data"
    },
    {
     "name": "stderr",
     "output_type": "stream",
     "text": [
      "\u001b[34m\u001b[1mwandb\u001b[0m: Agent Starting Run: 03wusume with config:\n",
      "\u001b[34m\u001b[1mwandb\u001b[0m: \tbs: 16\n",
      "\u001b[34m\u001b[1mwandb\u001b[0m: \tdata_augmentation: True\n",
      "\u001b[34m\u001b[1mwandb\u001b[0m: \tepochs: 11\n",
      "\u001b[34m\u001b[1mwandb\u001b[0m: \tpooling: avg\n",
      "\u001b[34m\u001b[1mwandb\u001b[0m: \tpre_trained_model: InceptionV3\n",
      "\u001b[34m\u001b[1mwandb\u001b[0m: \tweight_decay: 0.00111\n"
     ]
    },
    {
     "data": {
      "text/html": [
       "\n",
       "                Tracking run with wandb version 0.10.26<br/>\n",
       "                Syncing run <strong style=\"color:#cdcd00\">zany-sweep-18</strong> to <a href=\"https://wandb.ai\" target=\"_blank\">Weights & Biases</a> <a href=\"https://docs.wandb.com/integrations/jupyter.html\" target=\"_blank\">(Documentation)</a>.<br/>\n",
       "                Project page: <a href=\"https://wandb.ai/dl_45_47/Fine_tuning_of_Pretrained_models\" target=\"_blank\">https://wandb.ai/dl_45_47/Fine_tuning_of_Pretrained_models</a><br/>\n",
       "                Sweep page: <a href=\"https://wandb.ai/dl_45_47/Fine_tuning_of_Pretrained_models/sweeps/niuru2a4\" target=\"_blank\">https://wandb.ai/dl_45_47/Fine_tuning_of_Pretrained_models/sweeps/niuru2a4</a><br/>\n",
       "Run page: <a href=\"https://wandb.ai/dl_45_47/Fine_tuning_of_Pretrained_models/runs/03wusume\" target=\"_blank\">https://wandb.ai/dl_45_47/Fine_tuning_of_Pretrained_models/runs/03wusume</a><br/>\n",
       "                Run data is saved locally in <code>/content/wandb/run-20210415_035636-03wusume</code><br/><br/>\n",
       "            "
      ],
      "text/plain": [
       "<IPython.core.display.HTML object>"
      ]
     },
     "metadata": {
      "tags": []
     },
     "output_type": "display_data"
    },
    {
     "name": "stdout",
     "output_type": "stream",
     "text": [
      "Epoch 1/11\n",
      "250/250 [==============================] - 84s 309ms/step - loss: 2.2155 - accuracy: 0.2145 - val_loss: 3.9240 - val_accuracy: 0.1750\n",
      "Epoch 2/11\n",
      "250/250 [==============================] - 76s 305ms/step - loss: 2.0206 - accuracy: 0.2800 - val_loss: 2.3781 - val_accuracy: 0.1450\n",
      "Epoch 3/11\n",
      "250/250 [==============================] - 76s 305ms/step - loss: 1.9159 - accuracy: 0.3157 - val_loss: 2.1724 - val_accuracy: 0.3225\n",
      "Epoch 4/11\n",
      "250/250 [==============================] - 76s 306ms/step - loss: 1.7619 - accuracy: 0.3882 - val_loss: 4.3138 - val_accuracy: 0.2200\n",
      "Epoch 5/11\n",
      "250/250 [==============================] - 76s 306ms/step - loss: 1.5723 - accuracy: 0.4599 - val_loss: 4.0489 - val_accuracy: 0.2325\n",
      "Epoch 6/11\n",
      "250/250 [==============================] - 76s 306ms/step - loss: 1.4488 - accuracy: 0.4894 - val_loss: 2.2419 - val_accuracy: 0.3725\n",
      "Epoch 7/11\n",
      "250/250 [==============================] - 76s 306ms/step - loss: 1.3314 - accuracy: 0.5428 - val_loss: 2.1047 - val_accuracy: 0.3575\n",
      "Epoch 8/11\n",
      "250/250 [==============================] - 76s 305ms/step - loss: 1.1384 - accuracy: 0.6240 - val_loss: 1.8498 - val_accuracy: 0.4250\n",
      "Epoch 9/11\n",
      "250/250 [==============================] - 76s 306ms/step - loss: 1.0157 - accuracy: 0.6562 - val_loss: 1.7977 - val_accuracy: 0.3975\n",
      "Epoch 10/11\n",
      "250/250 [==============================] - 76s 306ms/step - loss: 0.8571 - accuracy: 0.7146 - val_loss: 2.1942 - val_accuracy: 0.4100\n",
      "Epoch 11/11\n",
      "250/250 [==============================] - 76s 306ms/step - loss: 0.7414 - accuracy: 0.7613 - val_loss: 2.9693 - val_accuracy: 0.3800\n"
     ]
    },
    {
     "data": {
      "text/html": [
       "<br/>Waiting for W&B process to finish, PID 1572<br/>Program ended successfully."
      ],
      "text/plain": [
       "<IPython.core.display.HTML object>"
      ]
     },
     "metadata": {
      "tags": []
     },
     "output_type": "display_data"
    },
    {
     "data": {
      "application/vnd.jupyter.widget-view+json": {
       "model_id": "243880f6886e4a2c9a7ba1a76b16916a",
       "version_major": 2,
       "version_minor": 0
      },
      "text/plain": [
       "VBox(children=(Label(value=' 0.00MB of 0.00MB uploaded (0.00MB deduped)\\r'), FloatProgress(value=1.0, max=1.0)…"
      ]
     },
     "metadata": {
      "tags": []
     },
     "output_type": "display_data"
    },
    {
     "data": {
      "text/html": [
       "Find user logs for this run at: <code>/content/wandb/run-20210415_035636-03wusume/logs/debug.log</code>"
      ],
      "text/plain": [
       "<IPython.core.display.HTML object>"
      ]
     },
     "metadata": {
      "tags": []
     },
     "output_type": "display_data"
    },
    {
     "data": {
      "text/html": [
       "Find internal logs for this run at: <code>/content/wandb/run-20210415_035636-03wusume/logs/debug-internal.log</code>"
      ],
      "text/plain": [
       "<IPython.core.display.HTML object>"
      ]
     },
     "metadata": {
      "tags": []
     },
     "output_type": "display_data"
    },
    {
     "data": {
      "text/html": [
       "<h3>Run summary:</h3><br/><style>\n",
       "    table.wandb td:nth-child(1) { padding: 0 10px; text-align: right }\n",
       "    </style><table class=\"wandb\">\n",
       "<tr><td>val_loss</td><td>2.96932</td></tr><tr><td>val_accuracy</td><td>0.38</td></tr><tr><td>loss</td><td>0.78839</td></tr><tr><td>accuracy</td><td>0.743</td></tr><tr><td>epoch</td><td>10</td></tr><tr><td>_runtime</td><td>853</td></tr><tr><td>_timestamp</td><td>1618459849</td></tr><tr><td>_step</td><td>10</td></tr></table>"
      ],
      "text/plain": [
       "<IPython.core.display.HTML object>"
      ]
     },
     "metadata": {
      "tags": []
     },
     "output_type": "display_data"
    },
    {
     "data": {
      "text/html": [
       "<h3>Run history:</h3><br/><style>\n",
       "    table.wandb td:nth-child(1) { padding: 0 10px; text-align: right }\n",
       "    </style><table class=\"wandb\">\n",
       "<tr><td>val_loss</td><td>▇▃▂█▇▂▂▁▁▂▄</td></tr><tr><td>val_accuracy</td><td>▂▁▅▃▃▇▆█▇█▇</td></tr><tr><td>loss</td><td>█▇▇▆▅▄▄▃▂▂▁</td></tr><tr><td>accuracy</td><td>▁▂▂▃▄▅▅▆▇▇█</td></tr><tr><td>epoch</td><td>▁▂▂▃▄▅▅▆▇▇█</td></tr><tr><td>_runtime</td><td>▁▁▁▁▁▁▁▁▁▁▁</td></tr><tr><td>_timestamp</td><td>▁▁▁▁▁▁▁▁▁▁▁</td></tr><tr><td>_step</td><td>▁▂▂▃▄▅▅▆▇▇█</td></tr></table><br/>"
      ],
      "text/plain": [
       "<IPython.core.display.HTML object>"
      ]
     },
     "metadata": {
      "tags": []
     },
     "output_type": "display_data"
    },
    {
     "data": {
      "text/html": [
       "Synced 5 W&B file(s), 0 media file(s), 0 artifact file(s) and 0 other file(s)"
      ],
      "text/plain": [
       "<IPython.core.display.HTML object>"
      ]
     },
     "metadata": {
      "tags": []
     },
     "output_type": "display_data"
    },
    {
     "data": {
      "text/html": [
       "\n",
       "                    <br/>Synced <strong style=\"color:#cdcd00\">zany-sweep-18</strong>: <a href=\"https://wandb.ai/dl_45_47/Fine_tuning_of_Pretrained_models/runs/03wusume\" target=\"_blank\">https://wandb.ai/dl_45_47/Fine_tuning_of_Pretrained_models/runs/03wusume</a><br/>\n",
       "                "
      ],
      "text/plain": [
       "<IPython.core.display.HTML object>"
      ]
     },
     "metadata": {
      "tags": []
     },
     "output_type": "display_data"
    },
    {
     "name": "stderr",
     "output_type": "stream",
     "text": [
      "\u001b[34m\u001b[1mwandb\u001b[0m: Agent Starting Run: ggw4im67 with config:\n",
      "\u001b[34m\u001b[1mwandb\u001b[0m: \tbs: 32\n",
      "\u001b[34m\u001b[1mwandb\u001b[0m: \tdata_augmentation: False\n",
      "\u001b[34m\u001b[1mwandb\u001b[0m: \tepochs: 9\n",
      "\u001b[34m\u001b[1mwandb\u001b[0m: \tpooling: avg\n",
      "\u001b[34m\u001b[1mwandb\u001b[0m: \tpre_trained_model: ResNet50\n",
      "\u001b[34m\u001b[1mwandb\u001b[0m: \tweight_decay: 0.01\n"
     ]
    },
    {
     "data": {
      "text/html": [
       "\n",
       "                Tracking run with wandb version 0.10.26<br/>\n",
       "                Syncing run <strong style=\"color:#cdcd00\">charmed-sweep-19</strong> to <a href=\"https://wandb.ai\" target=\"_blank\">Weights & Biases</a> <a href=\"https://docs.wandb.com/integrations/jupyter.html\" target=\"_blank\">(Documentation)</a>.<br/>\n",
       "                Project page: <a href=\"https://wandb.ai/dl_45_47/Fine_tuning_of_Pretrained_models\" target=\"_blank\">https://wandb.ai/dl_45_47/Fine_tuning_of_Pretrained_models</a><br/>\n",
       "                Sweep page: <a href=\"https://wandb.ai/dl_45_47/Fine_tuning_of_Pretrained_models/sweeps/niuru2a4\" target=\"_blank\">https://wandb.ai/dl_45_47/Fine_tuning_of_Pretrained_models/sweeps/niuru2a4</a><br/>\n",
       "Run page: <a href=\"https://wandb.ai/dl_45_47/Fine_tuning_of_Pretrained_models/runs/ggw4im67\" target=\"_blank\">https://wandb.ai/dl_45_47/Fine_tuning_of_Pretrained_models/runs/ggw4im67</a><br/>\n",
       "                Run data is saved locally in <code>/content/wandb/run-20210415_041053-ggw4im67</code><br/><br/>\n",
       "            "
      ],
      "text/plain": [
       "<IPython.core.display.HTML object>"
      ]
     },
     "metadata": {
      "tags": []
     },
     "output_type": "display_data"
    },
    {
     "name": "stdout",
     "output_type": "stream",
     "text": [
      "Epoch 1/9\n",
      "125/125 [==============================] - 105s 762ms/step - loss: 2.4877 - accuracy: 0.2687 - val_loss: 516.6379 - val_accuracy: 0.1000\n",
      "Epoch 2/9\n",
      "125/125 [==============================] - 94s 753ms/step - loss: 2.0137 - accuracy: 0.3244 - val_loss: 5.6450 - val_accuracy: 0.1425\n",
      "Epoch 3/9\n",
      "125/125 [==============================] - 94s 753ms/step - loss: 1.8010 - accuracy: 0.4170 - val_loss: 2.3589 - val_accuracy: 0.2075\n",
      "Epoch 4/9\n",
      "125/125 [==============================] - 94s 754ms/step - loss: 1.6188 - accuracy: 0.4668 - val_loss: 2.3981 - val_accuracy: 0.2875\n",
      "Epoch 5/9\n",
      "125/125 [==============================] - 94s 755ms/step - loss: 1.4601 - accuracy: 0.5128 - val_loss: 2.4466 - val_accuracy: 0.2500\n",
      "Epoch 6/9\n",
      "125/125 [==============================] - 94s 755ms/step - loss: 1.2231 - accuracy: 0.6135 - val_loss: 2.0721 - val_accuracy: 0.3075\n",
      "Epoch 7/9\n",
      "125/125 [==============================] - 94s 754ms/step - loss: 1.0244 - accuracy: 0.6734 - val_loss: 2.4831 - val_accuracy: 0.3525\n",
      "Epoch 8/9\n",
      "125/125 [==============================] - 94s 754ms/step - loss: 0.8309 - accuracy: 0.7482 - val_loss: 2.3285 - val_accuracy: 0.3125\n",
      "Epoch 9/9\n",
      "125/125 [==============================] - 94s 754ms/step - loss: 0.6597 - accuracy: 0.8050 - val_loss: 2.7799 - val_accuracy: 0.2925\n"
     ]
    },
    {
     "data": {
      "text/html": [
       "<br/>Waiting for W&B process to finish, PID 1676<br/>Program ended successfully."
      ],
      "text/plain": [
       "<IPython.core.display.HTML object>"
      ]
     },
     "metadata": {
      "tags": []
     },
     "output_type": "display_data"
    },
    {
     "data": {
      "application/vnd.jupyter.widget-view+json": {
       "model_id": "b6034a35b1e84ac9a655842aedb737dd",
       "version_major": 2,
       "version_minor": 0
      },
      "text/plain": [
       "VBox(children=(Label(value=' 0.00MB of 0.00MB uploaded (0.00MB deduped)\\r'), FloatProgress(value=1.0, max=1.0)…"
      ]
     },
     "metadata": {
      "tags": []
     },
     "output_type": "display_data"
    },
    {
     "data": {
      "text/html": [
       "Find user logs for this run at: <code>/content/wandb/run-20210415_041053-ggw4im67/logs/debug.log</code>"
      ],
      "text/plain": [
       "<IPython.core.display.HTML object>"
      ]
     },
     "metadata": {
      "tags": []
     },
     "output_type": "display_data"
    },
    {
     "data": {
      "text/html": [
       "Find internal logs for this run at: <code>/content/wandb/run-20210415_041053-ggw4im67/logs/debug-internal.log</code>"
      ],
      "text/plain": [
       "<IPython.core.display.HTML object>"
      ]
     },
     "metadata": {
      "tags": []
     },
     "output_type": "display_data"
    },
    {
     "data": {
      "text/html": [
       "<h3>Run summary:</h3><br/><style>\n",
       "    table.wandb td:nth-child(1) { padding: 0 10px; text-align: right }\n",
       "    </style><table class=\"wandb\">\n",
       "<tr><td>val_loss</td><td>2.77989</td></tr><tr><td>val_accuracy</td><td>0.2925</td></tr><tr><td>loss</td><td>0.70597</td></tr><tr><td>accuracy</td><td>0.78625</td></tr><tr><td>epoch</td><td>8</td></tr><tr><td>_runtime</td><td>862</td></tr><tr><td>_timestamp</td><td>1618460715</td></tr><tr><td>_step</td><td>8</td></tr></table>"
      ],
      "text/plain": [
       "<IPython.core.display.HTML object>"
      ]
     },
     "metadata": {
      "tags": []
     },
     "output_type": "display_data"
    },
    {
     "data": {
      "text/html": [
       "<h3>Run history:</h3><br/><style>\n",
       "    table.wandb td:nth-child(1) { padding: 0 10px; text-align: right }\n",
       "    </style><table class=\"wandb\">\n",
       "<tr><td>val_loss</td><td>█▁▁▁▁▁▁▁▁</td></tr><tr><td>val_accuracy</td><td>▁▂▄▆▅▇█▇▆</td></tr><tr><td>loss</td><td>█▇▆▅▄▃▃▂▁</td></tr><tr><td>accuracy</td><td>▁▂▃▃▄▅▆▇█</td></tr><tr><td>epoch</td><td>▁▂▃▄▅▅▆▇█</td></tr><tr><td>_runtime</td><td>▁▁▁▁▁▁▁▁▁</td></tr><tr><td>_timestamp</td><td>▁▁▁▁▁▁▁▁▁</td></tr><tr><td>_step</td><td>▁▂▃▄▅▅▆▇█</td></tr></table><br/>"
      ],
      "text/plain": [
       "<IPython.core.display.HTML object>"
      ]
     },
     "metadata": {
      "tags": []
     },
     "output_type": "display_data"
    },
    {
     "data": {
      "text/html": [
       "Synced 5 W&B file(s), 0 media file(s), 0 artifact file(s) and 0 other file(s)"
      ],
      "text/plain": [
       "<IPython.core.display.HTML object>"
      ]
     },
     "metadata": {
      "tags": []
     },
     "output_type": "display_data"
    },
    {
     "data": {
      "text/html": [
       "\n",
       "                    <br/>Synced <strong style=\"color:#cdcd00\">charmed-sweep-19</strong>: <a href=\"https://wandb.ai/dl_45_47/Fine_tuning_of_Pretrained_models/runs/ggw4im67\" target=\"_blank\">https://wandb.ai/dl_45_47/Fine_tuning_of_Pretrained_models/runs/ggw4im67</a><br/>\n",
       "                "
      ],
      "text/plain": [
       "<IPython.core.display.HTML object>"
      ]
     },
     "metadata": {
      "tags": []
     },
     "output_type": "display_data"
    },
    {
     "name": "stderr",
     "output_type": "stream",
     "text": [
      "\u001b[34m\u001b[1mwandb\u001b[0m: Agent Starting Run: 7dinaife with config:\n",
      "\u001b[34m\u001b[1mwandb\u001b[0m: \tbs: 8\n",
      "\u001b[34m\u001b[1mwandb\u001b[0m: \tdata_augmentation: False\n",
      "\u001b[34m\u001b[1mwandb\u001b[0m: \tepochs: 5\n",
      "\u001b[34m\u001b[1mwandb\u001b[0m: \tpooling: avg\n",
      "\u001b[34m\u001b[1mwandb\u001b[0m: \tpre_trained_model: InceptionV3\n",
      "\u001b[34m\u001b[1mwandb\u001b[0m: \tweight_decay: 0.01\n"
     ]
    },
    {
     "data": {
      "text/html": [
       "\n",
       "                Tracking run with wandb version 0.10.26<br/>\n",
       "                Syncing run <strong style=\"color:#cdcd00\">denim-sweep-20</strong> to <a href=\"https://wandb.ai\" target=\"_blank\">Weights & Biases</a> <a href=\"https://docs.wandb.com/integrations/jupyter.html\" target=\"_blank\">(Documentation)</a>.<br/>\n",
       "                Project page: <a href=\"https://wandb.ai/dl_45_47/Fine_tuning_of_Pretrained_models\" target=\"_blank\">https://wandb.ai/dl_45_47/Fine_tuning_of_Pretrained_models</a><br/>\n",
       "                Sweep page: <a href=\"https://wandb.ai/dl_45_47/Fine_tuning_of_Pretrained_models/sweeps/niuru2a4\" target=\"_blank\">https://wandb.ai/dl_45_47/Fine_tuning_of_Pretrained_models/sweeps/niuru2a4</a><br/>\n",
       "Run page: <a href=\"https://wandb.ai/dl_45_47/Fine_tuning_of_Pretrained_models/runs/7dinaife\" target=\"_blank\">https://wandb.ai/dl_45_47/Fine_tuning_of_Pretrained_models/runs/7dinaife</a><br/>\n",
       "                Run data is saved locally in <code>/content/wandb/run-20210415_042519-7dinaife</code><br/><br/>\n",
       "            "
      ],
      "text/plain": [
       "<IPython.core.display.HTML object>"
      ]
     },
     "metadata": {
      "tags": []
     },
     "output_type": "display_data"
    },
    {
     "name": "stdout",
     "output_type": "stream",
     "text": [
      "Epoch 1/5\n",
      "500/500 [==============================] - 95s 171ms/step - loss: 2.4528 - accuracy: 0.1821 - val_loss: 124.7640 - val_accuracy: 0.1075\n",
      "Epoch 2/5\n",
      "500/500 [==============================] - 85s 169ms/step - loss: 2.2317 - accuracy: 0.1899 - val_loss: 2.4995 - val_accuracy: 0.2300\n",
      "Epoch 3/5\n",
      "500/500 [==============================] - 85s 169ms/step - loss: 2.1464 - accuracy: 0.2174 - val_loss: 8.9761 - val_accuracy: 0.1375\n",
      "Epoch 4/5\n",
      "500/500 [==============================] - 85s 169ms/step - loss: 2.1361 - accuracy: 0.2329 - val_loss: 2.4571 - val_accuracy: 0.2125\n",
      "Epoch 5/5\n",
      "500/500 [==============================] - 84s 169ms/step - loss: 2.1045 - accuracy: 0.2399 - val_loss: 2.2245 - val_accuracy: 0.2175\n"
     ]
    },
    {
     "data": {
      "text/html": [
       "<br/>Waiting for W&B process to finish, PID 1798<br/>Program ended successfully."
      ],
      "text/plain": [
       "<IPython.core.display.HTML object>"
      ]
     },
     "metadata": {
      "tags": []
     },
     "output_type": "display_data"
    },
    {
     "data": {
      "application/vnd.jupyter.widget-view+json": {
       "model_id": "8a2bb057fc56414e84a7c16c3247cc9b",
       "version_major": 2,
       "version_minor": 0
      },
      "text/plain": [
       "VBox(children=(Label(value=' 0.00MB of 0.00MB uploaded (0.00MB deduped)\\r'), FloatProgress(value=1.0, max=1.0)…"
      ]
     },
     "metadata": {
      "tags": []
     },
     "output_type": "display_data"
    },
    {
     "data": {
      "text/html": [
       "Find user logs for this run at: <code>/content/wandb/run-20210415_042519-7dinaife/logs/debug.log</code>"
      ],
      "text/plain": [
       "<IPython.core.display.HTML object>"
      ]
     },
     "metadata": {
      "tags": []
     },
     "output_type": "display_data"
    },
    {
     "data": {
      "text/html": [
       "Find internal logs for this run at: <code>/content/wandb/run-20210415_042519-7dinaife/logs/debug-internal.log</code>"
      ],
      "text/plain": [
       "<IPython.core.display.HTML object>"
      ]
     },
     "metadata": {
      "tags": []
     },
     "output_type": "display_data"
    },
    {
     "data": {
      "text/html": [
       "<h3>Run summary:</h3><br/><style>\n",
       "    table.wandb td:nth-child(1) { padding: 0 10px; text-align: right }\n",
       "    </style><table class=\"wandb\">\n",
       "<tr><td>val_loss</td><td>2.22453</td></tr><tr><td>val_accuracy</td><td>0.2175</td></tr><tr><td>loss</td><td>2.09967</td></tr><tr><td>accuracy</td><td>0.23625</td></tr><tr><td>epoch</td><td>4</td></tr><tr><td>_runtime</td><td>438</td></tr><tr><td>_timestamp</td><td>1618461157</td></tr><tr><td>_step</td><td>4</td></tr></table>"
      ],
      "text/plain": [
       "<IPython.core.display.HTML object>"
      ]
     },
     "metadata": {
      "tags": []
     },
     "output_type": "display_data"
    },
    {
     "data": {
      "text/html": [
       "<h3>Run history:</h3><br/><style>\n",
       "    table.wandb td:nth-child(1) { padding: 0 10px; text-align: right }\n",
       "    </style><table class=\"wandb\">\n",
       "<tr><td>val_loss</td><td>█▁▁▁▁</td></tr><tr><td>val_accuracy</td><td>▁█▃▇▇</td></tr><tr><td>loss</td><td>█▄▂▂▁</td></tr><tr><td>accuracy</td><td>▁▄▆▇█</td></tr><tr><td>epoch</td><td>▁▃▅▆█</td></tr><tr><td>_runtime</td><td>▁▁▁▁▁</td></tr><tr><td>_timestamp</td><td>▁▁▁▁▁</td></tr><tr><td>_step</td><td>▁▃▅▆█</td></tr></table><br/>"
      ],
      "text/plain": [
       "<IPython.core.display.HTML object>"
      ]
     },
     "metadata": {
      "tags": []
     },
     "output_type": "display_data"
    },
    {
     "data": {
      "text/html": [
       "Synced 5 W&B file(s), 0 media file(s), 0 artifact file(s) and 0 other file(s)"
      ],
      "text/plain": [
       "<IPython.core.display.HTML object>"
      ]
     },
     "metadata": {
      "tags": []
     },
     "output_type": "display_data"
    },
    {
     "data": {
      "text/html": [
       "\n",
       "                    <br/>Synced <strong style=\"color:#cdcd00\">denim-sweep-20</strong>: <a href=\"https://wandb.ai/dl_45_47/Fine_tuning_of_Pretrained_models/runs/7dinaife\" target=\"_blank\">https://wandb.ai/dl_45_47/Fine_tuning_of_Pretrained_models/runs/7dinaife</a><br/>\n",
       "                "
      ],
      "text/plain": [
       "<IPython.core.display.HTML object>"
      ]
     },
     "metadata": {
      "tags": []
     },
     "output_type": "display_data"
    },
    {
     "name": "stderr",
     "output_type": "stream",
     "text": [
      "\u001b[34m\u001b[1mwandb\u001b[0m: Agent Starting Run: ra3wshi0 with config:\n",
      "\u001b[34m\u001b[1mwandb\u001b[0m: \tbs: 16\n",
      "\u001b[34m\u001b[1mwandb\u001b[0m: \tdata_augmentation: False\n",
      "\u001b[34m\u001b[1mwandb\u001b[0m: \tepochs: 9\n",
      "\u001b[34m\u001b[1mwandb\u001b[0m: \tpooling: max\n",
      "\u001b[34m\u001b[1mwandb\u001b[0m: \tpre_trained_model: Xception\n",
      "\u001b[34m\u001b[1mwandb\u001b[0m: \tweight_decay: 0.00111\n"
     ]
    },
    {
     "data": {
      "text/html": [
       "\n",
       "                Tracking run with wandb version 0.10.26<br/>\n",
       "                Syncing run <strong style=\"color:#cdcd00\">sweet-sweep-21</strong> to <a href=\"https://wandb.ai\" target=\"_blank\">Weights & Biases</a> <a href=\"https://docs.wandb.com/integrations/jupyter.html\" target=\"_blank\">(Documentation)</a>.<br/>\n",
       "                Project page: <a href=\"https://wandb.ai/dl_45_47/Fine_tuning_of_Pretrained_models\" target=\"_blank\">https://wandb.ai/dl_45_47/Fine_tuning_of_Pretrained_models</a><br/>\n",
       "                Sweep page: <a href=\"https://wandb.ai/dl_45_47/Fine_tuning_of_Pretrained_models/sweeps/niuru2a4\" target=\"_blank\">https://wandb.ai/dl_45_47/Fine_tuning_of_Pretrained_models/sweeps/niuru2a4</a><br/>\n",
       "Run page: <a href=\"https://wandb.ai/dl_45_47/Fine_tuning_of_Pretrained_models/runs/ra3wshi0\" target=\"_blank\">https://wandb.ai/dl_45_47/Fine_tuning_of_Pretrained_models/runs/ra3wshi0</a><br/>\n",
       "                Run data is saved locally in <code>/content/wandb/run-20210415_043241-ra3wshi0</code><br/><br/>\n",
       "            "
      ],
      "text/plain": [
       "<IPython.core.display.HTML object>"
      ]
     },
     "metadata": {
      "tags": []
     },
     "output_type": "display_data"
    },
    {
     "name": "stdout",
     "output_type": "stream",
     "text": [
      "Downloading data from https://storage.googleapis.com/tensorflow/keras-applications/xception/xception_weights_tf_dim_ordering_tf_kernels_notop.h5\n",
      "83689472/83683744 [==============================] - 1s 0us/step\n",
      "Epoch 1/9\n",
      "250/250 [==============================] - 194s 748ms/step - loss: 1.6371 - accuracy: 0.4781 - val_loss: 1.7540 - val_accuracy: 0.4450\n",
      "Epoch 2/9\n",
      "250/250 [==============================] - 187s 750ms/step - loss: 1.0164 - accuracy: 0.6844 - val_loss: 1.5597 - val_accuracy: 0.5175\n",
      "Epoch 3/9\n",
      "250/250 [==============================] - 187s 749ms/step - loss: 0.7708 - accuracy: 0.7641 - val_loss: 1.5408 - val_accuracy: 0.5300\n",
      "Epoch 4/9\n",
      "250/250 [==============================] - 187s 749ms/step - loss: 0.5998 - accuracy: 0.8133 - val_loss: 1.4126 - val_accuracy: 0.5625\n",
      "Epoch 5/9\n",
      "250/250 [==============================] - 188s 750ms/step - loss: 0.4900 - accuracy: 0.8465 - val_loss: 1.9663 - val_accuracy: 0.5175\n",
      "Epoch 6/9\n",
      "250/250 [==============================] - 188s 751ms/step - loss: 0.3926 - accuracy: 0.8832 - val_loss: 1.8808 - val_accuracy: 0.5800\n",
      "Epoch 7/9\n",
      "250/250 [==============================] - 188s 750ms/step - loss: 0.3286 - accuracy: 0.8978 - val_loss: 1.5637 - val_accuracy: 0.6000\n",
      "Epoch 8/9\n",
      "250/250 [==============================] - 188s 751ms/step - loss: 0.2930 - accuracy: 0.9109 - val_loss: 1.6039 - val_accuracy: 0.5875\n",
      "Epoch 9/9\n",
      "250/250 [==============================] - 187s 749ms/step - loss: 0.2276 - accuracy: 0.9304 - val_loss: 2.0186 - val_accuracy: 0.5800\n"
     ]
    },
    {
     "data": {
      "text/html": [
       "<br/>Waiting for W&B process to finish, PID 1948<br/>Program ended successfully."
      ],
      "text/plain": [
       "<IPython.core.display.HTML object>"
      ]
     },
     "metadata": {
      "tags": []
     },
     "output_type": "display_data"
    },
    {
     "data": {
      "application/vnd.jupyter.widget-view+json": {
       "model_id": "5949ac16488149c8afa214292d63acd1",
       "version_major": 2,
       "version_minor": 0
      },
      "text/plain": [
       "VBox(children=(Label(value=' 0.00MB of 0.00MB uploaded (0.00MB deduped)\\r'), FloatProgress(value=1.0, max=1.0)…"
      ]
     },
     "metadata": {
      "tags": []
     },
     "output_type": "display_data"
    },
    {
     "data": {
      "text/html": [
       "Find user logs for this run at: <code>/content/wandb/run-20210415_043241-ra3wshi0/logs/debug.log</code>"
      ],
      "text/plain": [
       "<IPython.core.display.HTML object>"
      ]
     },
     "metadata": {
      "tags": []
     },
     "output_type": "display_data"
    },
    {
     "data": {
      "text/html": [
       "Find internal logs for this run at: <code>/content/wandb/run-20210415_043241-ra3wshi0/logs/debug-internal.log</code>"
      ],
      "text/plain": [
       "<IPython.core.display.HTML object>"
      ]
     },
     "metadata": {
      "tags": []
     },
     "output_type": "display_data"
    },
    {
     "data": {
      "text/html": [
       "<h3>Run summary:</h3><br/><style>\n",
       "    table.wandb td:nth-child(1) { padding: 0 10px; text-align: right }\n",
       "    </style><table class=\"wandb\">\n",
       "<tr><td>val_loss</td><td>2.01863</td></tr><tr><td>val_accuracy</td><td>0.58</td></tr><tr><td>loss</td><td>0.29564</td></tr><tr><td>accuracy</td><td>0.911</td></tr><tr><td>epoch</td><td>8</td></tr><tr><td>_runtime</td><td>1698</td></tr><tr><td>_timestamp</td><td>1618462859</td></tr><tr><td>_step</td><td>8</td></tr></table>"
      ],
      "text/plain": [
       "<IPython.core.display.HTML object>"
      ]
     },
     "metadata": {
      "tags": []
     },
     "output_type": "display_data"
    },
    {
     "data": {
      "text/html": [
       "<h3>Run history:</h3><br/><style>\n",
       "    table.wandb td:nth-child(1) { padding: 0 10px; text-align: right }\n",
       "    </style><table class=\"wandb\">\n",
       "<tr><td>val_loss</td><td>▅▃▂▁▇▆▃▃█</td></tr><tr><td>val_accuracy</td><td>▁▄▅▆▄▇█▇▇</td></tr><tr><td>loss</td><td>█▅▄▃▂▂▂▁▁</td></tr><tr><td>accuracy</td><td>▁▄▅▆▇▇▇██</td></tr><tr><td>epoch</td><td>▁▂▃▄▅▅▆▇█</td></tr><tr><td>_runtime</td><td>▁▁▁▁▁▁▁▁▁</td></tr><tr><td>_timestamp</td><td>▁▁▁▁▁▁▁▁▁</td></tr><tr><td>_step</td><td>▁▂▃▄▅▅▆▇█</td></tr></table><br/>"
      ],
      "text/plain": [
       "<IPython.core.display.HTML object>"
      ]
     },
     "metadata": {
      "tags": []
     },
     "output_type": "display_data"
    },
    {
     "data": {
      "text/html": [
       "Synced 5 W&B file(s), 0 media file(s), 0 artifact file(s) and 0 other file(s)"
      ],
      "text/plain": [
       "<IPython.core.display.HTML object>"
      ]
     },
     "metadata": {
      "tags": []
     },
     "output_type": "display_data"
    },
    {
     "data": {
      "text/html": [
       "\n",
       "                    <br/>Synced <strong style=\"color:#cdcd00\">sweet-sweep-21</strong>: <a href=\"https://wandb.ai/dl_45_47/Fine_tuning_of_Pretrained_models/runs/ra3wshi0\" target=\"_blank\">https://wandb.ai/dl_45_47/Fine_tuning_of_Pretrained_models/runs/ra3wshi0</a><br/>\n",
       "                "
      ],
      "text/plain": [
       "<IPython.core.display.HTML object>"
      ]
     },
     "metadata": {
      "tags": []
     },
     "output_type": "display_data"
    },
    {
     "name": "stderr",
     "output_type": "stream",
     "text": [
      "\u001b[34m\u001b[1mwandb\u001b[0m: Agent Starting Run: d9vrilp5 with config:\n",
      "\u001b[34m\u001b[1mwandb\u001b[0m: \tbs: 32\n",
      "\u001b[34m\u001b[1mwandb\u001b[0m: \tdata_augmentation: True\n",
      "\u001b[34m\u001b[1mwandb\u001b[0m: \tepochs: 9\n",
      "\u001b[34m\u001b[1mwandb\u001b[0m: \tpooling: avg\n",
      "\u001b[34m\u001b[1mwandb\u001b[0m: \tpre_trained_model: Xception\n",
      "\u001b[34m\u001b[1mwandb\u001b[0m: \tweight_decay: 0.1\n"
     ]
    },
    {
     "data": {
      "text/html": [
       "\n",
       "                Tracking run with wandb version 0.10.26<br/>\n",
       "                Syncing run <strong style=\"color:#cdcd00\">chocolate-sweep-22</strong> to <a href=\"https://wandb.ai\" target=\"_blank\">Weights & Biases</a> <a href=\"https://docs.wandb.com/integrations/jupyter.html\" target=\"_blank\">(Documentation)</a>.<br/>\n",
       "                Project page: <a href=\"https://wandb.ai/dl_45_47/Fine_tuning_of_Pretrained_models\" target=\"_blank\">https://wandb.ai/dl_45_47/Fine_tuning_of_Pretrained_models</a><br/>\n",
       "                Sweep page: <a href=\"https://wandb.ai/dl_45_47/Fine_tuning_of_Pretrained_models/sweeps/niuru2a4\" target=\"_blank\">https://wandb.ai/dl_45_47/Fine_tuning_of_Pretrained_models/sweeps/niuru2a4</a><br/>\n",
       "Run page: <a href=\"https://wandb.ai/dl_45_47/Fine_tuning_of_Pretrained_models/runs/d9vrilp5\" target=\"_blank\">https://wandb.ai/dl_45_47/Fine_tuning_of_Pretrained_models/runs/d9vrilp5</a><br/>\n",
       "                Run data is saved locally in <code>/content/wandb/run-20210415_050104-d9vrilp5</code><br/><br/>\n",
       "            "
      ],
      "text/plain": [
       "<IPython.core.display.HTML object>"
      ]
     },
     "metadata": {
      "tags": []
     },
     "output_type": "display_data"
    },
    {
     "name": "stdout",
     "output_type": "stream",
     "text": [
      "Epoch 1/9\n",
      "125/125 [==============================] - 196s 2s/step - loss: 2.2024 - accuracy: 0.5997 - val_loss: 1.8242 - val_accuracy: 0.5350\n",
      "Epoch 2/9\n",
      "125/125 [==============================] - 188s 2s/step - loss: 0.6935 - accuracy: 0.8540 - val_loss: 1.2963 - val_accuracy: 0.6225\n",
      "Epoch 3/9\n",
      "125/125 [==============================] - 188s 2s/step - loss: 0.5251 - accuracy: 0.9023 - val_loss: 1.0258 - val_accuracy: 0.7250\n",
      "Epoch 4/9\n",
      "125/125 [==============================] - 188s 2s/step - loss: 0.4291 - accuracy: 0.9133 - val_loss: 1.0163 - val_accuracy: 0.7375\n",
      "Epoch 5/9\n",
      "125/125 [==============================] - 188s 2s/step - loss: 0.3421 - accuracy: 0.9422 - val_loss: 0.9112 - val_accuracy: 0.7575\n",
      "Epoch 6/9\n",
      "125/125 [==============================] - 188s 2s/step - loss: 0.2816 - accuracy: 0.9549 - val_loss: 1.4040 - val_accuracy: 0.6550\n",
      "Epoch 7/9\n",
      "125/125 [==============================] - 188s 2s/step - loss: 0.3257 - accuracy: 0.9454 - val_loss: 0.8344 - val_accuracy: 0.7975\n",
      "Epoch 8/9\n",
      "125/125 [==============================] - 190s 2s/step - loss: 0.3083 - accuracy: 0.9525 - val_loss: 1.2986 - val_accuracy: 0.6550\n",
      "Epoch 9/9\n",
      "125/125 [==============================] - 189s 2s/step - loss: 0.2616 - accuracy: 0.9604 - val_loss: 0.9638 - val_accuracy: 0.7725\n"
     ]
    },
    {
     "data": {
      "text/html": [
       "<br/>Waiting for W&B process to finish, PID 2292<br/>Program ended successfully."
      ],
      "text/plain": [
       "<IPython.core.display.HTML object>"
      ]
     },
     "metadata": {
      "tags": []
     },
     "output_type": "display_data"
    },
    {
     "data": {
      "application/vnd.jupyter.widget-view+json": {
       "model_id": "d80ba04c43204fe8af9f9500d9439430",
       "version_major": 2,
       "version_minor": 0
      },
      "text/plain": [
       "VBox(children=(Label(value=' 0.00MB of 0.00MB uploaded (0.00MB deduped)\\r'), FloatProgress(value=1.0, max=1.0)…"
      ]
     },
     "metadata": {
      "tags": []
     },
     "output_type": "display_data"
    },
    {
     "data": {
      "text/html": [
       "Find user logs for this run at: <code>/content/wandb/run-20210415_050104-d9vrilp5/logs/debug.log</code>"
      ],
      "text/plain": [
       "<IPython.core.display.HTML object>"
      ]
     },
     "metadata": {
      "tags": []
     },
     "output_type": "display_data"
    },
    {
     "data": {
      "text/html": [
       "Find internal logs for this run at: <code>/content/wandb/run-20210415_050104-d9vrilp5/logs/debug-internal.log</code>"
      ],
      "text/plain": [
       "<IPython.core.display.HTML object>"
      ]
     },
     "metadata": {
      "tags": []
     },
     "output_type": "display_data"
    },
    {
     "data": {
      "text/html": [
       "<h3>Run summary:</h3><br/><style>\n",
       "    table.wandb td:nth-child(1) { padding: 0 10px; text-align: right }\n",
       "    </style><table class=\"wandb\">\n",
       "<tr><td>val_loss</td><td>0.9638</td></tr><tr><td>val_accuracy</td><td>0.7725</td></tr><tr><td>loss</td><td>0.25461</td></tr><tr><td>accuracy</td><td>0.9625</td></tr><tr><td>epoch</td><td>8</td></tr><tr><td>_runtime</td><td>1707</td></tr><tr><td>_timestamp</td><td>1618464571</td></tr><tr><td>_step</td><td>8</td></tr></table>"
      ],
      "text/plain": [
       "<IPython.core.display.HTML object>"
      ]
     },
     "metadata": {
      "tags": []
     },
     "output_type": "display_data"
    },
    {
     "data": {
      "text/html": [
       "<h3>Run history:</h3><br/><style>\n",
       "    table.wandb td:nth-child(1) { padding: 0 10px; text-align: right }\n",
       "    </style><table class=\"wandb\">\n",
       "<tr><td>val_loss</td><td>█▄▂▂▂▅▁▄▂</td></tr><tr><td>val_accuracy</td><td>▁▃▆▆▇▄█▄▇</td></tr><tr><td>loss</td><td>█▃▂▂▁▁▁▁▁</td></tr><tr><td>accuracy</td><td>▁▅▆▇███▇█</td></tr><tr><td>epoch</td><td>▁▂▃▄▅▅▆▇█</td></tr><tr><td>_runtime</td><td>▁▁▁▁▁▁▁▁▁</td></tr><tr><td>_timestamp</td><td>▁▁▁▁▁▁▁▁▁</td></tr><tr><td>_step</td><td>▁▂▃▄▅▅▆▇█</td></tr></table><br/>"
      ],
      "text/plain": [
       "<IPython.core.display.HTML object>"
      ]
     },
     "metadata": {
      "tags": []
     },
     "output_type": "display_data"
    },
    {
     "data": {
      "text/html": [
       "Synced 5 W&B file(s), 0 media file(s), 0 artifact file(s) and 0 other file(s)"
      ],
      "text/plain": [
       "<IPython.core.display.HTML object>"
      ]
     },
     "metadata": {
      "tags": []
     },
     "output_type": "display_data"
    },
    {
     "data": {
      "text/html": [
       "\n",
       "                    <br/>Synced <strong style=\"color:#cdcd00\">chocolate-sweep-22</strong>: <a href=\"https://wandb.ai/dl_45_47/Fine_tuning_of_Pretrained_models/runs/d9vrilp5\" target=\"_blank\">https://wandb.ai/dl_45_47/Fine_tuning_of_Pretrained_models/runs/d9vrilp5</a><br/>\n",
       "                "
      ],
      "text/plain": [
       "<IPython.core.display.HTML object>"
      ]
     },
     "metadata": {
      "tags": []
     },
     "output_type": "display_data"
    },
    {
     "name": "stderr",
     "output_type": "stream",
     "text": [
      "\u001b[34m\u001b[1mwandb\u001b[0m: Agent Starting Run: fggshc1x with config:\n",
      "\u001b[34m\u001b[1mwandb\u001b[0m: \tbs: 16\n",
      "\u001b[34m\u001b[1mwandb\u001b[0m: \tdata_augmentation: True\n",
      "\u001b[34m\u001b[1mwandb\u001b[0m: \tepochs: 11\n",
      "\u001b[34m\u001b[1mwandb\u001b[0m: \tpooling: max\n",
      "\u001b[34m\u001b[1mwandb\u001b[0m: \tpre_trained_model: InceptionV3\n",
      "\u001b[34m\u001b[1mwandb\u001b[0m: \tweight_decay: 0.1\n"
     ]
    },
    {
     "data": {
      "text/html": [
       "\n",
       "                Tracking run with wandb version 0.10.26<br/>\n",
       "                Syncing run <strong style=\"color:#cdcd00\">fancy-sweep-23</strong> to <a href=\"https://wandb.ai\" target=\"_blank\">Weights & Biases</a> <a href=\"https://docs.wandb.com/integrations/jupyter.html\" target=\"_blank\">(Documentation)</a>.<br/>\n",
       "                Project page: <a href=\"https://wandb.ai/dl_45_47/Fine_tuning_of_Pretrained_models\" target=\"_blank\">https://wandb.ai/dl_45_47/Fine_tuning_of_Pretrained_models</a><br/>\n",
       "                Sweep page: <a href=\"https://wandb.ai/dl_45_47/Fine_tuning_of_Pretrained_models/sweeps/niuru2a4\" target=\"_blank\">https://wandb.ai/dl_45_47/Fine_tuning_of_Pretrained_models/sweeps/niuru2a4</a><br/>\n",
       "Run page: <a href=\"https://wandb.ai/dl_45_47/Fine_tuning_of_Pretrained_models/runs/fggshc1x\" target=\"_blank\">https://wandb.ai/dl_45_47/Fine_tuning_of_Pretrained_models/runs/fggshc1x</a><br/>\n",
       "                Run data is saved locally in <code>/content/wandb/run-20210415_052936-fggshc1x</code><br/><br/>\n",
       "            "
      ],
      "text/plain": [
       "<IPython.core.display.HTML object>"
      ]
     },
     "metadata": {
      "tags": []
     },
     "output_type": "display_data"
    },
    {
     "name": "stdout",
     "output_type": "stream",
     "text": [
      "Epoch 1/11\n",
      "250/250 [==============================] - 86s 314ms/step - loss: 4.7857 - accuracy: 0.1815 - val_loss: 3.8937 - val_accuracy: 0.1450\n",
      "Epoch 2/11\n",
      "250/250 [==============================] - 77s 307ms/step - loss: 2.7674 - accuracy: 0.2184 - val_loss: 2.9791 - val_accuracy: 0.2400\n",
      "Epoch 3/11\n",
      "250/250 [==============================] - 76s 306ms/step - loss: 2.2804 - accuracy: 0.2426 - val_loss: 138.7169 - val_accuracy: 0.1050\n",
      "Epoch 4/11\n",
      "250/250 [==============================] - 76s 306ms/step - loss: 2.1571 - accuracy: 0.2708 - val_loss: 2.1591 - val_accuracy: 0.3400\n",
      "Epoch 5/11\n",
      "250/250 [==============================] - 76s 306ms/step - loss: 2.0078 - accuracy: 0.3070 - val_loss: 8.4777 - val_accuracy: 0.2825\n",
      "Epoch 6/11\n",
      "250/250 [==============================] - 77s 307ms/step - loss: 1.9051 - accuracy: 0.3485 - val_loss: 2.3015 - val_accuracy: 0.2075\n",
      "Epoch 7/11\n",
      "250/250 [==============================] - 76s 306ms/step - loss: 1.9176 - accuracy: 0.3261 - val_loss: 3.0086 - val_accuracy: 0.1875\n",
      "Epoch 8/11\n",
      "250/250 [==============================] - 77s 306ms/step - loss: 1.8410 - accuracy: 0.3919 - val_loss: 4.7126 - val_accuracy: 0.2500\n",
      "Epoch 9/11\n",
      "250/250 [==============================] - 77s 306ms/step - loss: 1.7661 - accuracy: 0.3904 - val_loss: 3.4890 - val_accuracy: 0.2875\n",
      "Epoch 10/11\n",
      "250/250 [==============================] - 77s 306ms/step - loss: 1.6660 - accuracy: 0.4215 - val_loss: 3.0352 - val_accuracy: 0.3350\n",
      "Epoch 11/11\n",
      "250/250 [==============================] - 77s 306ms/step - loss: 1.5737 - accuracy: 0.4558 - val_loss: 2.0252 - val_accuracy: 0.2975\n"
     ]
    },
    {
     "data": {
      "text/html": [
       "<br/>Waiting for W&B process to finish, PID 2442<br/>Program ended successfully."
      ],
      "text/plain": [
       "<IPython.core.display.HTML object>"
      ]
     },
     "metadata": {
      "tags": []
     },
     "output_type": "display_data"
    },
    {
     "data": {
      "application/vnd.jupyter.widget-view+json": {
       "model_id": "21411264ed7444efba2d10eac09f13eb",
       "version_major": 2,
       "version_minor": 0
      },
      "text/plain": [
       "VBox(children=(Label(value=' 0.00MB of 0.00MB uploaded (0.00MB deduped)\\r'), FloatProgress(value=1.0, max=1.0)…"
      ]
     },
     "metadata": {
      "tags": []
     },
     "output_type": "display_data"
    },
    {
     "data": {
      "text/html": [
       "Find user logs for this run at: <code>/content/wandb/run-20210415_052936-fggshc1x/logs/debug.log</code>"
      ],
      "text/plain": [
       "<IPython.core.display.HTML object>"
      ]
     },
     "metadata": {
      "tags": []
     },
     "output_type": "display_data"
    },
    {
     "data": {
      "text/html": [
       "Find internal logs for this run at: <code>/content/wandb/run-20210415_052936-fggshc1x/logs/debug-internal.log</code>"
      ],
      "text/plain": [
       "<IPython.core.display.HTML object>"
      ]
     },
     "metadata": {
      "tags": []
     },
     "output_type": "display_data"
    },
    {
     "data": {
      "text/html": [
       "<h3>Run summary:</h3><br/><style>\n",
       "    table.wandb td:nth-child(1) { padding: 0 10px; text-align: right }\n",
       "    </style><table class=\"wandb\">\n",
       "<tr><td>val_loss</td><td>2.02515</td></tr><tr><td>val_accuracy</td><td>0.2975</td></tr><tr><td>loss</td><td>1.58627</td></tr><tr><td>accuracy</td><td>0.45325</td></tr><tr><td>epoch</td><td>10</td></tr><tr><td>_runtime</td><td>856</td></tr><tr><td>_timestamp</td><td>1618465432</td></tr><tr><td>_step</td><td>10</td></tr></table>"
      ],
      "text/plain": [
       "<IPython.core.display.HTML object>"
      ]
     },
     "metadata": {
      "tags": []
     },
     "output_type": "display_data"
    },
    {
     "data": {
      "text/html": [
       "<h3>Run history:</h3><br/><style>\n",
       "    table.wandb td:nth-child(1) { padding: 0 10px; text-align: right }\n",
       "    </style><table class=\"wandb\">\n",
       "<tr><td>val_loss</td><td>▁▁█▁▁▁▁▁▁▁▁</td></tr><tr><td>val_accuracy</td><td>▂▅▁█▆▄▃▅▆█▇</td></tr><tr><td>loss</td><td>█▄▃▃▂▂▂▂▂▁▁</td></tr><tr><td>accuracy</td><td>▁▂▂▃▄▅▅▆▆▇█</td></tr><tr><td>epoch</td><td>▁▂▂▃▄▅▅▆▇▇█</td></tr><tr><td>_runtime</td><td>▁▁▁▁▁▁▁▁▁▁▁</td></tr><tr><td>_timestamp</td><td>▁▁▁▁▁▁▁▁▁▁▁</td></tr><tr><td>_step</td><td>▁▂▂▃▄▅▅▆▇▇█</td></tr></table><br/>"
      ],
      "text/plain": [
       "<IPython.core.display.HTML object>"
      ]
     },
     "metadata": {
      "tags": []
     },
     "output_type": "display_data"
    },
    {
     "data": {
      "text/html": [
       "Synced 5 W&B file(s), 0 media file(s), 0 artifact file(s) and 0 other file(s)"
      ],
      "text/plain": [
       "<IPython.core.display.HTML object>"
      ]
     },
     "metadata": {
      "tags": []
     },
     "output_type": "display_data"
    },
    {
     "data": {
      "text/html": [
       "\n",
       "                    <br/>Synced <strong style=\"color:#cdcd00\">fancy-sweep-23</strong>: <a href=\"https://wandb.ai/dl_45_47/Fine_tuning_of_Pretrained_models/runs/fggshc1x\" target=\"_blank\">https://wandb.ai/dl_45_47/Fine_tuning_of_Pretrained_models/runs/fggshc1x</a><br/>\n",
       "                "
      ],
      "text/plain": [
       "<IPython.core.display.HTML object>"
      ]
     },
     "metadata": {
      "tags": []
     },
     "output_type": "display_data"
    },
    {
     "name": "stderr",
     "output_type": "stream",
     "text": [
      "\u001b[34m\u001b[1mwandb\u001b[0m: Agent Starting Run: qx2f7v7x with config:\n",
      "\u001b[34m\u001b[1mwandb\u001b[0m: \tbs: 32\n",
      "\u001b[34m\u001b[1mwandb\u001b[0m: \tdata_augmentation: True\n",
      "\u001b[34m\u001b[1mwandb\u001b[0m: \tepochs: 10\n",
      "\u001b[34m\u001b[1mwandb\u001b[0m: \tpooling: avg\n",
      "\u001b[34m\u001b[1mwandb\u001b[0m: \tpre_trained_model: Xception\n",
      "\u001b[34m\u001b[1mwandb\u001b[0m: \tweight_decay: 0.01\n"
     ]
    },
    {
     "data": {
      "text/html": [
       "\n",
       "                Tracking run with wandb version 0.10.26<br/>\n",
       "                Syncing run <strong style=\"color:#cdcd00\">eager-sweep-24</strong> to <a href=\"https://wandb.ai\" target=\"_blank\">Weights & Biases</a> <a href=\"https://docs.wandb.com/integrations/jupyter.html\" target=\"_blank\">(Documentation)</a>.<br/>\n",
       "                Project page: <a href=\"https://wandb.ai/dl_45_47/Fine_tuning_of_Pretrained_models\" target=\"_blank\">https://wandb.ai/dl_45_47/Fine_tuning_of_Pretrained_models</a><br/>\n",
       "                Sweep page: <a href=\"https://wandb.ai/dl_45_47/Fine_tuning_of_Pretrained_models/sweeps/niuru2a4\" target=\"_blank\">https://wandb.ai/dl_45_47/Fine_tuning_of_Pretrained_models/sweeps/niuru2a4</a><br/>\n",
       "Run page: <a href=\"https://wandb.ai/dl_45_47/Fine_tuning_of_Pretrained_models/runs/qx2f7v7x\" target=\"_blank\">https://wandb.ai/dl_45_47/Fine_tuning_of_Pretrained_models/runs/qx2f7v7x</a><br/>\n",
       "                Run data is saved locally in <code>/content/wandb/run-20210415_054356-qx2f7v7x</code><br/><br/>\n",
       "            "
      ],
      "text/plain": [
       "<IPython.core.display.HTML object>"
      ]
     },
     "metadata": {
      "tags": []
     },
     "output_type": "display_data"
    },
    {
     "name": "stdout",
     "output_type": "stream",
     "text": [
      "Epoch 1/10\n",
      "125/125 [==============================] - 207s 2s/step - loss: 1.4923 - accuracy: 0.5786 - val_loss: 2.5735 - val_accuracy: 0.4525\n",
      "Epoch 2/10\n",
      "125/125 [==============================] - 190s 2s/step - loss: 0.6331 - accuracy: 0.8343 - val_loss: 1.6481 - val_accuracy: 0.5325\n",
      "Epoch 3/10\n",
      "125/125 [==============================] - 190s 2s/step - loss: 0.4179 - accuracy: 0.8986 - val_loss: 1.1918 - val_accuracy: 0.6800\n",
      "Epoch 4/10\n",
      "125/125 [==============================] - 190s 2s/step - loss: 0.3150 - accuracy: 0.9207 - val_loss: 1.6772 - val_accuracy: 0.5875\n",
      "Epoch 5/10\n",
      "125/125 [==============================] - 190s 2s/step - loss: 0.2739 - accuracy: 0.9375 - val_loss: 1.3019 - val_accuracy: 0.6850\n",
      "Epoch 6/10\n",
      "125/125 [==============================] - 190s 2s/step - loss: 0.2218 - accuracy: 0.9528 - val_loss: 0.9102 - val_accuracy: 0.7550\n",
      "Epoch 7/10\n",
      "125/125 [==============================] - 190s 2s/step - loss: 0.1669 - accuracy: 0.9674 - val_loss: 1.2326 - val_accuracy: 0.7125\n",
      "Epoch 8/10\n",
      "125/125 [==============================] - 190s 2s/step - loss: 0.2117 - accuracy: 0.9539 - val_loss: 0.9233 - val_accuracy: 0.7775\n",
      "Epoch 9/10\n",
      "125/125 [==============================] - 190s 2s/step - loss: 0.1646 - accuracy: 0.9662 - val_loss: 0.9531 - val_accuracy: 0.7725\n",
      "Epoch 10/10\n",
      "125/125 [==============================] - 190s 2s/step - loss: 0.1219 - accuracy: 0.9781 - val_loss: 1.0643 - val_accuracy: 0.7475\n"
     ]
    },
    {
     "data": {
      "text/html": [
       "<br/>Waiting for W&B process to finish, PID 2546<br/>Program ended successfully."
      ],
      "text/plain": [
       "<IPython.core.display.HTML object>"
      ]
     },
     "metadata": {
      "tags": []
     },
     "output_type": "display_data"
    },
    {
     "data": {
      "application/vnd.jupyter.widget-view+json": {
       "model_id": "181917e5830a45c1a3bc4dea4000a237",
       "version_major": 2,
       "version_minor": 0
      },
      "text/plain": [
       "VBox(children=(Label(value=' 0.00MB of 0.00MB uploaded (0.00MB deduped)\\r'), FloatProgress(value=1.0, max=1.0)…"
      ]
     },
     "metadata": {
      "tags": []
     },
     "output_type": "display_data"
    },
    {
     "data": {
      "text/html": [
       "Find user logs for this run at: <code>/content/wandb/run-20210415_054356-qx2f7v7x/logs/debug.log</code>"
      ],
      "text/plain": [
       "<IPython.core.display.HTML object>"
      ]
     },
     "metadata": {
      "tags": []
     },
     "output_type": "display_data"
    },
    {
     "data": {
      "text/html": [
       "Find internal logs for this run at: <code>/content/wandb/run-20210415_054356-qx2f7v7x/logs/debug-internal.log</code>"
      ],
      "text/plain": [
       "<IPython.core.display.HTML object>"
      ]
     },
     "metadata": {
      "tags": []
     },
     "output_type": "display_data"
    },
    {
     "data": {
      "text/html": [
       "<h3>Run summary:</h3><br/><style>\n",
       "    table.wandb td:nth-child(1) { padding: 0 10px; text-align: right }\n",
       "    </style><table class=\"wandb\">\n",
       "<tr><td>val_loss</td><td>1.0643</td></tr><tr><td>val_accuracy</td><td>0.7475</td></tr><tr><td>loss</td><td>0.14081</td></tr><tr><td>accuracy</td><td>0.97075</td></tr><tr><td>epoch</td><td>9</td></tr><tr><td>_runtime</td><td>1920</td></tr><tr><td>_timestamp</td><td>1618467356</td></tr><tr><td>_step</td><td>9</td></tr></table>"
      ],
      "text/plain": [
       "<IPython.core.display.HTML object>"
      ]
     },
     "metadata": {
      "tags": []
     },
     "output_type": "display_data"
    },
    {
     "data": {
      "text/html": [
       "<h3>Run history:</h3><br/><style>\n",
       "    table.wandb td:nth-child(1) { padding: 0 10px; text-align: right }\n",
       "    </style><table class=\"wandb\">\n",
       "<tr><td>val_loss</td><td>█▄▂▄▃▁▂▁▁▂</td></tr><tr><td>val_accuracy</td><td>▁▃▆▄▆█▇██▇</td></tr><tr><td>loss</td><td>█▄▃▂▂▁▁▁▁▁</td></tr><tr><td>accuracy</td><td>▁▅▆▇▇█████</td></tr><tr><td>epoch</td><td>▁▂▃▃▄▅▆▆▇█</td></tr><tr><td>_runtime</td><td>▁▁▁▁▁▁▁▁▁▁</td></tr><tr><td>_timestamp</td><td>▁▁▁▁▁▁▁▁▁▁</td></tr><tr><td>_step</td><td>▁▂▃▃▄▅▆▆▇█</td></tr></table><br/>"
      ],
      "text/plain": [
       "<IPython.core.display.HTML object>"
      ]
     },
     "metadata": {
      "tags": []
     },
     "output_type": "display_data"
    },
    {
     "data": {
      "text/html": [
       "Synced 5 W&B file(s), 0 media file(s), 0 artifact file(s) and 0 other file(s)"
      ],
      "text/plain": [
       "<IPython.core.display.HTML object>"
      ]
     },
     "metadata": {
      "tags": []
     },
     "output_type": "display_data"
    },
    {
     "data": {
      "text/html": [
       "\n",
       "                    <br/>Synced <strong style=\"color:#cdcd00\">eager-sweep-24</strong>: <a href=\"https://wandb.ai/dl_45_47/Fine_tuning_of_Pretrained_models/runs/qx2f7v7x\" target=\"_blank\">https://wandb.ai/dl_45_47/Fine_tuning_of_Pretrained_models/runs/qx2f7v7x</a><br/>\n",
       "                "
      ],
      "text/plain": [
       "<IPython.core.display.HTML object>"
      ]
     },
     "metadata": {
      "tags": []
     },
     "output_type": "display_data"
    },
    {
     "name": "stderr",
     "output_type": "stream",
     "text": [
      "\u001b[34m\u001b[1mwandb\u001b[0m: Agent Starting Run: igmzzol0 with config:\n",
      "\u001b[34m\u001b[1mwandb\u001b[0m: \tbs: 8\n",
      "\u001b[34m\u001b[1mwandb\u001b[0m: \tdata_augmentation: False\n",
      "\u001b[34m\u001b[1mwandb\u001b[0m: \tepochs: 11\n",
      "\u001b[34m\u001b[1mwandb\u001b[0m: \tpooling: avg\n",
      "\u001b[34m\u001b[1mwandb\u001b[0m: \tpre_trained_model: InceptionResNetV2\n",
      "\u001b[34m\u001b[1mwandb\u001b[0m: \tweight_decay: 0.1\n"
     ]
    },
    {
     "data": {
      "text/html": [
       "\n",
       "                Tracking run with wandb version 0.10.26<br/>\n",
       "                Syncing run <strong style=\"color:#cdcd00\">curious-sweep-25</strong> to <a href=\"https://wandb.ai\" target=\"_blank\">Weights & Biases</a> <a href=\"https://docs.wandb.com/integrations/jupyter.html\" target=\"_blank\">(Documentation)</a>.<br/>\n",
       "                Project page: <a href=\"https://wandb.ai/dl_45_47/Fine_tuning_of_Pretrained_models\" target=\"_blank\">https://wandb.ai/dl_45_47/Fine_tuning_of_Pretrained_models</a><br/>\n",
       "                Sweep page: <a href=\"https://wandb.ai/dl_45_47/Fine_tuning_of_Pretrained_models/sweeps/niuru2a4\" target=\"_blank\">https://wandb.ai/dl_45_47/Fine_tuning_of_Pretrained_models/sweeps/niuru2a4</a><br/>\n",
       "Run page: <a href=\"https://wandb.ai/dl_45_47/Fine_tuning_of_Pretrained_models/runs/igmzzol0\" target=\"_blank\">https://wandb.ai/dl_45_47/Fine_tuning_of_Pretrained_models/runs/igmzzol0</a><br/>\n",
       "                Run data is saved locally in <code>/content/wandb/run-20210415_061604-igmzzol0</code><br/><br/>\n",
       "            "
      ],
      "text/plain": [
       "<IPython.core.display.HTML object>"
      ]
     },
     "metadata": {
      "tags": []
     },
     "output_type": "display_data"
    },
    {
     "name": "stdout",
     "output_type": "stream",
     "text": [
      "Epoch 1/11\n",
      "500/500 [==============================] - 230s 425ms/step - loss: 2.7875 - accuracy: 0.2105 - val_loss: 4.6237 - val_accuracy: 0.1625\n",
      "Epoch 2/11\n",
      "500/500 [==============================] - 209s 417ms/step - loss: 2.0851 - accuracy: 0.2845 - val_loss: 2.4859 - val_accuracy: 0.2150\n",
      "Epoch 3/11\n",
      "500/500 [==============================] - 209s 417ms/step - loss: 1.9686 - accuracy: 0.3249 - val_loss: 3.3069 - val_accuracy: 0.1800\n",
      "Epoch 4/11\n",
      "500/500 [==============================] - 208s 417ms/step - loss: 1.8833 - accuracy: 0.3803 - val_loss: 2.0700 - val_accuracy: 0.3200\n",
      "Epoch 5/11\n",
      "500/500 [==============================] - 208s 417ms/step - loss: 1.7986 - accuracy: 0.4087 - val_loss: 2.6130 - val_accuracy: 0.2500\n",
      "Epoch 6/11\n",
      "500/500 [==============================] - 208s 417ms/step - loss: 1.7538 - accuracy: 0.4169 - val_loss: 2.0116 - val_accuracy: 0.3625\n",
      "Epoch 7/11\n",
      "500/500 [==============================] - 208s 417ms/step - loss: 1.6493 - accuracy: 0.4706 - val_loss: 2.1280 - val_accuracy: 0.3075\n",
      "Epoch 8/11\n",
      "500/500 [==============================] - 208s 416ms/step - loss: 1.5764 - accuracy: 0.4862 - val_loss: 1.8225 - val_accuracy: 0.3650\n",
      "Epoch 9/11\n",
      "500/500 [==============================] - 208s 417ms/step - loss: 1.4456 - accuracy: 0.5532 - val_loss: 1.8513 - val_accuracy: 0.4000\n",
      "Epoch 10/11\n",
      "500/500 [==============================] - 208s 416ms/step - loss: 1.3555 - accuracy: 0.5809 - val_loss: 1.7922 - val_accuracy: 0.4150\n",
      "Epoch 11/11\n",
      "500/500 [==============================] - 208s 416ms/step - loss: 1.2621 - accuracy: 0.6154 - val_loss: 2.1349 - val_accuracy: 0.3925\n"
     ]
    },
    {
     "data": {
      "text/html": [
       "<br/>Waiting for W&B process to finish, PID 2681<br/>Program ended successfully."
      ],
      "text/plain": [
       "<IPython.core.display.HTML object>"
      ]
     },
     "metadata": {
      "tags": []
     },
     "output_type": "display_data"
    },
    {
     "data": {
      "application/vnd.jupyter.widget-view+json": {
       "model_id": "0b21337fe6ae42d4aafab60fcb7a78cd",
       "version_major": 2,
       "version_minor": 0
      },
      "text/plain": [
       "VBox(children=(Label(value=' 0.00MB of 0.00MB uploaded (0.00MB deduped)\\r'), FloatProgress(value=1.0, max=1.0)…"
      ]
     },
     "metadata": {
      "tags": []
     },
     "output_type": "display_data"
    },
    {
     "data": {
      "text/html": [
       "Find user logs for this run at: <code>/content/wandb/run-20210415_061604-igmzzol0/logs/debug.log</code>"
      ],
      "text/plain": [
       "<IPython.core.display.HTML object>"
      ]
     },
     "metadata": {
      "tags": []
     },
     "output_type": "display_data"
    },
    {
     "data": {
      "text/html": [
       "Find internal logs for this run at: <code>/content/wandb/run-20210415_061604-igmzzol0/logs/debug-internal.log</code>"
      ],
      "text/plain": [
       "<IPython.core.display.HTML object>"
      ]
     },
     "metadata": {
      "tags": []
     },
     "output_type": "display_data"
    },
    {
     "data": {
      "text/html": [
       "<h3>Run summary:</h3><br/><style>\n",
       "    table.wandb td:nth-child(1) { padding: 0 10px; text-align: right }\n",
       "    </style><table class=\"wandb\">\n",
       "<tr><td>val_loss</td><td>2.13488</td></tr><tr><td>val_accuracy</td><td>0.3925</td></tr><tr><td>loss</td><td>1.28289</td></tr><tr><td>accuracy</td><td>0.61125</td></tr><tr><td>epoch</td><td>10</td></tr><tr><td>_runtime</td><td>2321</td></tr><tr><td>_timestamp</td><td>1618469685</td></tr><tr><td>_step</td><td>10</td></tr></table>"
      ],
      "text/plain": [
       "<IPython.core.display.HTML object>"
      ]
     },
     "metadata": {
      "tags": []
     },
     "output_type": "display_data"
    },
    {
     "data": {
      "text/html": [
       "<h3>Run history:</h3><br/><style>\n",
       "    table.wandb td:nth-child(1) { padding: 0 10px; text-align: right }\n",
       "    </style><table class=\"wandb\">\n",
       "<tr><td>val_loss</td><td>█▃▅▂▃▂▂▁▁▁▂</td></tr><tr><td>val_accuracy</td><td>▁▂▁▅▃▇▅▇██▇</td></tr><tr><td>loss</td><td>█▆▅▅▄▄▄▃▂▂▁</td></tr><tr><td>accuracy</td><td>▁▂▃▃▄▄▅▆▇▇█</td></tr><tr><td>epoch</td><td>▁▂▂▃▄▅▅▆▇▇█</td></tr><tr><td>_runtime</td><td>▁▁▁▁▁▁▁▁▁▁▁</td></tr><tr><td>_timestamp</td><td>▁▁▁▁▁▁▁▁▁▁▁</td></tr><tr><td>_step</td><td>▁▂▂▃▄▅▅▆▇▇█</td></tr></table><br/>"
      ],
      "text/plain": [
       "<IPython.core.display.HTML object>"
      ]
     },
     "metadata": {
      "tags": []
     },
     "output_type": "display_data"
    },
    {
     "data": {
      "text/html": [
       "Synced 5 W&B file(s), 0 media file(s), 0 artifact file(s) and 0 other file(s)"
      ],
      "text/plain": [
       "<IPython.core.display.HTML object>"
      ]
     },
     "metadata": {
      "tags": []
     },
     "output_type": "display_data"
    },
    {
     "data": {
      "text/html": [
       "\n",
       "                    <br/>Synced <strong style=\"color:#cdcd00\">curious-sweep-25</strong>: <a href=\"https://wandb.ai/dl_45_47/Fine_tuning_of_Pretrained_models/runs/igmzzol0\" target=\"_blank\">https://wandb.ai/dl_45_47/Fine_tuning_of_Pretrained_models/runs/igmzzol0</a><br/>\n",
       "                "
      ],
      "text/plain": [
       "<IPython.core.display.HTML object>"
      ]
     },
     "metadata": {
      "tags": []
     },
     "output_type": "display_data"
    },
    {
     "name": "stderr",
     "output_type": "stream",
     "text": [
      "\u001b[34m\u001b[1mwandb\u001b[0m: Agent Starting Run: of4y5a8y with config:\n",
      "\u001b[34m\u001b[1mwandb\u001b[0m: \tbs: 8\n",
      "\u001b[34m\u001b[1mwandb\u001b[0m: \tdata_augmentation: True\n",
      "\u001b[34m\u001b[1mwandb\u001b[0m: \tepochs: 9\n",
      "\u001b[34m\u001b[1mwandb\u001b[0m: \tpooling: avg\n",
      "\u001b[34m\u001b[1mwandb\u001b[0m: \tpre_trained_model: VGG16\n",
      "\u001b[34m\u001b[1mwandb\u001b[0m: \tweight_decay: 0.00111\n"
     ]
    },
    {
     "data": {
      "text/html": [
       "\n",
       "                Tracking run with wandb version 0.10.26<br/>\n",
       "                Syncing run <strong style=\"color:#cdcd00\">dauntless-sweep-26</strong> to <a href=\"https://wandb.ai\" target=\"_blank\">Weights & Biases</a> <a href=\"https://docs.wandb.com/integrations/jupyter.html\" target=\"_blank\">(Documentation)</a>.<br/>\n",
       "                Project page: <a href=\"https://wandb.ai/dl_45_47/Fine_tuning_of_Pretrained_models\" target=\"_blank\">https://wandb.ai/dl_45_47/Fine_tuning_of_Pretrained_models</a><br/>\n",
       "                Sweep page: <a href=\"https://wandb.ai/dl_45_47/Fine_tuning_of_Pretrained_models/sweeps/niuru2a4\" target=\"_blank\">https://wandb.ai/dl_45_47/Fine_tuning_of_Pretrained_models/sweeps/niuru2a4</a><br/>\n",
       "Run page: <a href=\"https://wandb.ai/dl_45_47/Fine_tuning_of_Pretrained_models/runs/of4y5a8y\" target=\"_blank\">https://wandb.ai/dl_45_47/Fine_tuning_of_Pretrained_models/runs/of4y5a8y</a><br/>\n",
       "                Run data is saved locally in <code>/content/wandb/run-20210415_065450-of4y5a8y</code><br/><br/>\n",
       "            "
      ],
      "text/plain": [
       "<IPython.core.display.HTML object>"
      ]
     },
     "metadata": {
      "tags": []
     },
     "output_type": "display_data"
    },
    {
     "name": "stdout",
     "output_type": "stream",
     "text": [
      "Downloading data from https://storage.googleapis.com/tensorflow/keras-applications/vgg16/vgg16_weights_tf_dim_ordering_tf_kernels_notop.h5\n",
      "58892288/58889256 [==============================] - 0s 0us/step\n",
      "Epoch 1/9\n",
      "500/500 [==============================] - 169s 324ms/step - loss: 7.3653 - accuracy: 0.1062 - val_loss: 2.3166 - val_accuracy: 0.1075\n",
      "Epoch 2/9\n",
      "500/500 [==============================] - 161s 322ms/step - loss: 152.4074 - accuracy: 0.1002 - val_loss: 2.3161 - val_accuracy: 0.1000\n",
      "Epoch 3/9\n",
      "500/500 [==============================] - 160s 320ms/step - loss: 2.3189 - accuracy: 0.1054 - val_loss: 2.3142 - val_accuracy: 0.1000\n",
      "Epoch 4/9\n",
      "500/500 [==============================] - 160s 320ms/step - loss: 2.3143 - accuracy: 0.0892 - val_loss: 2.3129 - val_accuracy: 0.1000\n",
      "Epoch 5/9\n",
      "500/500 [==============================] - 160s 320ms/step - loss: 2.3131 - accuracy: 0.0878 - val_loss: 2.3118 - val_accuracy: 0.1000\n",
      "Epoch 6/9\n",
      "500/500 [==============================] - 160s 320ms/step - loss: 2.3119 - accuracy: 0.0924 - val_loss: 2.3109 - val_accuracy: 0.1000\n",
      "Epoch 7/9\n",
      "500/500 [==============================] - 160s 320ms/step - loss: 2.3109 - accuracy: 0.1059 - val_loss: 2.3101 - val_accuracy: 0.1000\n",
      "Epoch 8/9\n",
      "500/500 [==============================] - 160s 320ms/step - loss: 2.3101 - accuracy: 0.0959 - val_loss: 2.3093 - val_accuracy: 0.1000\n",
      "Epoch 9/9\n",
      "500/500 [==============================] - 160s 320ms/step - loss: 2.3093 - accuracy: 0.0965 - val_loss: 2.3086 - val_accuracy: 0.1000\n"
     ]
    },
    {
     "data": {
      "text/html": [
       "<br/>Waiting for W&B process to finish, PID 2911<br/>Program ended successfully."
      ],
      "text/plain": [
       "<IPython.core.display.HTML object>"
      ]
     },
     "metadata": {
      "tags": []
     },
     "output_type": "display_data"
    },
    {
     "data": {
      "application/vnd.jupyter.widget-view+json": {
       "model_id": "e8aa7986cbd9430ca386ff473bef40db",
       "version_major": 2,
       "version_minor": 0
      },
      "text/plain": [
       "VBox(children=(Label(value=' 0.00MB of 0.00MB uploaded (0.00MB deduped)\\r'), FloatProgress(value=1.0, max=1.0)…"
      ]
     },
     "metadata": {
      "tags": []
     },
     "output_type": "display_data"
    },
    {
     "data": {
      "text/html": [
       "Find user logs for this run at: <code>/content/wandb/run-20210415_065450-of4y5a8y/logs/debug.log</code>"
      ],
      "text/plain": [
       "<IPython.core.display.HTML object>"
      ]
     },
     "metadata": {
      "tags": []
     },
     "output_type": "display_data"
    },
    {
     "data": {
      "text/html": [
       "Find internal logs for this run at: <code>/content/wandb/run-20210415_065450-of4y5a8y/logs/debug-internal.log</code>"
      ],
      "text/plain": [
       "<IPython.core.display.HTML object>"
      ]
     },
     "metadata": {
      "tags": []
     },
     "output_type": "display_data"
    },
    {
     "data": {
      "text/html": [
       "<h3>Run summary:</h3><br/><style>\n",
       "    table.wandb td:nth-child(1) { padding: 0 10px; text-align: right }\n",
       "    </style><table class=\"wandb\">\n",
       "<tr><td>val_loss</td><td>2.30859</td></tr><tr><td>val_accuracy</td><td>0.1</td></tr><tr><td>loss</td><td>2.30938</td></tr><tr><td>accuracy</td><td>0.0955</td></tr><tr><td>epoch</td><td>8</td></tr><tr><td>_runtime</td><td>1452</td></tr><tr><td>_timestamp</td><td>1618471143</td></tr><tr><td>_step</td><td>8</td></tr></table>"
      ],
      "text/plain": [
       "<IPython.core.display.HTML object>"
      ]
     },
     "metadata": {
      "tags": []
     },
     "output_type": "display_data"
    },
    {
     "data": {
      "text/html": [
       "<h3>Run history:</h3><br/><style>\n",
       "    table.wandb td:nth-child(1) { padding: 0 10px; text-align: right }\n",
       "    </style><table class=\"wandb\">\n",
       "<tr><td>val_loss</td><td>██▆▅▄▃▂▂▁</td></tr><tr><td>val_accuracy</td><td>█▁▁▁▁▁▁▁▁</td></tr><tr><td>loss</td><td>▁█▁▁▁▁▁▁▁</td></tr><tr><td>accuracy</td><td>█▂▄▂▂▃▆▁▄</td></tr><tr><td>epoch</td><td>▁▂▃▄▅▅▆▇█</td></tr><tr><td>_runtime</td><td>▁▁▁▁▁▁▁▁▁</td></tr><tr><td>_timestamp</td><td>▁▁▁▁▁▁▁▁▁</td></tr><tr><td>_step</td><td>▁▂▃▄▅▅▆▇█</td></tr></table><br/>"
      ],
      "text/plain": [
       "<IPython.core.display.HTML object>"
      ]
     },
     "metadata": {
      "tags": []
     },
     "output_type": "display_data"
    },
    {
     "data": {
      "text/html": [
       "Synced 5 W&B file(s), 0 media file(s), 0 artifact file(s) and 0 other file(s)"
      ],
      "text/plain": [
       "<IPython.core.display.HTML object>"
      ]
     },
     "metadata": {
      "tags": []
     },
     "output_type": "display_data"
    },
    {
     "data": {
      "text/html": [
       "\n",
       "                    <br/>Synced <strong style=\"color:#cdcd00\">dauntless-sweep-26</strong>: <a href=\"https://wandb.ai/dl_45_47/Fine_tuning_of_Pretrained_models/runs/of4y5a8y\" target=\"_blank\">https://wandb.ai/dl_45_47/Fine_tuning_of_Pretrained_models/runs/of4y5a8y</a><br/>\n",
       "                "
      ],
      "text/plain": [
       "<IPython.core.display.HTML object>"
      ]
     },
     "metadata": {
      "tags": []
     },
     "output_type": "display_data"
    },
    {
     "name": "stderr",
     "output_type": "stream",
     "text": [
      "\u001b[34m\u001b[1mwandb\u001b[0m: Agent Starting Run: r01x3kqt with config:\n",
      "\u001b[34m\u001b[1mwandb\u001b[0m: \tbs: 16\n",
      "\u001b[34m\u001b[1mwandb\u001b[0m: \tdata_augmentation: False\n",
      "\u001b[34m\u001b[1mwandb\u001b[0m: \tepochs: 9\n",
      "\u001b[34m\u001b[1mwandb\u001b[0m: \tpooling: avg\n",
      "\u001b[34m\u001b[1mwandb\u001b[0m: \tpre_trained_model: Xception\n",
      "\u001b[34m\u001b[1mwandb\u001b[0m: \tweight_decay: 0.00111\n"
     ]
    },
    {
     "data": {
      "text/html": [
       "\n",
       "                Tracking run with wandb version 0.10.26<br/>\n",
       "                Syncing run <strong style=\"color:#cdcd00\">bumbling-sweep-27</strong> to <a href=\"https://wandb.ai\" target=\"_blank\">Weights & Biases</a> <a href=\"https://docs.wandb.com/integrations/jupyter.html\" target=\"_blank\">(Documentation)</a>.<br/>\n",
       "                Project page: <a href=\"https://wandb.ai/dl_45_47/Fine_tuning_of_Pretrained_models\" target=\"_blank\">https://wandb.ai/dl_45_47/Fine_tuning_of_Pretrained_models</a><br/>\n",
       "                Sweep page: <a href=\"https://wandb.ai/dl_45_47/Fine_tuning_of_Pretrained_models/sweeps/niuru2a4\" target=\"_blank\">https://wandb.ai/dl_45_47/Fine_tuning_of_Pretrained_models/sweeps/niuru2a4</a><br/>\n",
       "Run page: <a href=\"https://wandb.ai/dl_45_47/Fine_tuning_of_Pretrained_models/runs/r01x3kqt\" target=\"_blank\">https://wandb.ai/dl_45_47/Fine_tuning_of_Pretrained_models/runs/r01x3kqt</a><br/>\n",
       "                Run data is saved locally in <code>/content/wandb/run-20210415_071911-r01x3kqt</code><br/><br/>\n",
       "            "
      ],
      "text/plain": [
       "<IPython.core.display.HTML object>"
      ]
     },
     "metadata": {
      "tags": []
     },
     "output_type": "display_data"
    },
    {
     "name": "stdout",
     "output_type": "stream",
     "text": [
      "Epoch 1/9\n",
      "250/250 [==============================] - 194s 758ms/step - loss: 1.5883 - accuracy: 0.4884 - val_loss: 2.9429 - val_accuracy: 0.4200\n",
      "Epoch 2/9\n",
      "250/250 [==============================] - 189s 755ms/step - loss: 1.0459 - accuracy: 0.6706 - val_loss: 1.5223 - val_accuracy: 0.5250\n",
      "Epoch 3/9\n",
      "250/250 [==============================] - 189s 755ms/step - loss: 0.7329 - accuracy: 0.7731 - val_loss: 1.6885 - val_accuracy: 0.5425\n",
      "Epoch 4/9\n",
      "250/250 [==============================] - 189s 757ms/step - loss: 0.5992 - accuracy: 0.8121 - val_loss: 1.5945 - val_accuracy: 0.5275\n",
      "Epoch 5/9\n",
      "250/250 [==============================] - 189s 757ms/step - loss: 0.4498 - accuracy: 0.8598 - val_loss: 2.3705 - val_accuracy: 0.4475\n",
      "Epoch 6/9\n",
      "250/250 [==============================] - 189s 756ms/step - loss: 0.3807 - accuracy: 0.8854 - val_loss: 2.3143 - val_accuracy: 0.4750\n",
      "Epoch 7/9\n",
      "250/250 [==============================] - 188s 754ms/step - loss: 0.3214 - accuracy: 0.8961 - val_loss: 2.3080 - val_accuracy: 0.5075\n",
      "Epoch 8/9\n",
      "250/250 [==============================] - 189s 757ms/step - loss: 0.2867 - accuracy: 0.9218 - val_loss: 2.0878 - val_accuracy: 0.5375\n",
      "Epoch 9/9\n",
      "250/250 [==============================] - 189s 755ms/step - loss: 0.2298 - accuracy: 0.9366 - val_loss: 1.9697 - val_accuracy: 0.4950\n"
     ]
    },
    {
     "data": {
      "text/html": [
       "<br/>Waiting for W&B process to finish, PID 3043<br/>Program ended successfully."
      ],
      "text/plain": [
       "<IPython.core.display.HTML object>"
      ]
     },
     "metadata": {
      "tags": []
     },
     "output_type": "display_data"
    },
    {
     "data": {
      "application/vnd.jupyter.widget-view+json": {
       "model_id": "8ea87935484c4f22989a8ddd177a5a74",
       "version_major": 2,
       "version_minor": 0
      },
      "text/plain": [
       "VBox(children=(Label(value=' 0.00MB of 0.00MB uploaded (0.00MB deduped)\\r'), FloatProgress(value=1.0, max=1.0)…"
      ]
     },
     "metadata": {
      "tags": []
     },
     "output_type": "display_data"
    },
    {
     "data": {
      "text/html": [
       "Find user logs for this run at: <code>/content/wandb/run-20210415_071911-r01x3kqt/logs/debug.log</code>"
      ],
      "text/plain": [
       "<IPython.core.display.HTML object>"
      ]
     },
     "metadata": {
      "tags": []
     },
     "output_type": "display_data"
    },
    {
     "data": {
      "text/html": [
       "Find internal logs for this run at: <code>/content/wandb/run-20210415_071911-r01x3kqt/logs/debug-internal.log</code>"
      ],
      "text/plain": [
       "<IPython.core.display.HTML object>"
      ]
     },
     "metadata": {
      "tags": []
     },
     "output_type": "display_data"
    },
    {
     "data": {
      "text/html": [
       "<h3>Run summary:</h3><br/><style>\n",
       "    table.wandb td:nth-child(1) { padding: 0 10px; text-align: right }\n",
       "    </style><table class=\"wandb\">\n",
       "<tr><td>val_loss</td><td>1.96969</td></tr><tr><td>val_accuracy</td><td>0.495</td></tr><tr><td>loss</td><td>0.26328</td></tr><tr><td>accuracy</td><td>0.9265</td></tr><tr><td>epoch</td><td>8</td></tr><tr><td>_runtime</td><td>1708</td></tr><tr><td>_timestamp</td><td>1618472860</td></tr><tr><td>_step</td><td>8</td></tr></table>"
      ],
      "text/plain": [
       "<IPython.core.display.HTML object>"
      ]
     },
     "metadata": {
      "tags": []
     },
     "output_type": "display_data"
    },
    {
     "data": {
      "text/html": [
       "<h3>Run history:</h3><br/><style>\n",
       "    table.wandb td:nth-child(1) { padding: 0 10px; text-align: right }\n",
       "    </style><table class=\"wandb\">\n",
       "<tr><td>val_loss</td><td>█▁▂▁▅▅▅▄▃</td></tr><tr><td>val_accuracy</td><td>▁▇█▇▃▄▆█▅</td></tr><tr><td>loss</td><td>█▆▄▃▂▂▂▁▁</td></tr><tr><td>accuracy</td><td>▁▃▅▆▇▇▇██</td></tr><tr><td>epoch</td><td>▁▂▃▄▅▅▆▇█</td></tr><tr><td>_runtime</td><td>▁▁▁▁▁▁▁▁▁</td></tr><tr><td>_timestamp</td><td>▁▁▁▁▁▁▁▁▁</td></tr><tr><td>_step</td><td>▁▂▃▄▅▅▆▇█</td></tr></table><br/>"
      ],
      "text/plain": [
       "<IPython.core.display.HTML object>"
      ]
     },
     "metadata": {
      "tags": []
     },
     "output_type": "display_data"
    },
    {
     "data": {
      "text/html": [
       "Synced 5 W&B file(s), 0 media file(s), 0 artifact file(s) and 0 other file(s)"
      ],
      "text/plain": [
       "<IPython.core.display.HTML object>"
      ]
     },
     "metadata": {
      "tags": []
     },
     "output_type": "display_data"
    },
    {
     "data": {
      "text/html": [
       "\n",
       "                    <br/>Synced <strong style=\"color:#cdcd00\">bumbling-sweep-27</strong>: <a href=\"https://wandb.ai/dl_45_47/Fine_tuning_of_Pretrained_models/runs/r01x3kqt\" target=\"_blank\">https://wandb.ai/dl_45_47/Fine_tuning_of_Pretrained_models/runs/r01x3kqt</a><br/>\n",
       "                "
      ],
      "text/plain": [
       "<IPython.core.display.HTML object>"
      ]
     },
     "metadata": {
      "tags": []
     },
     "output_type": "display_data"
    },
    {
     "name": "stderr",
     "output_type": "stream",
     "text": [
      "\u001b[34m\u001b[1mwandb\u001b[0m: Agent Starting Run: 5gl2lm7d with config:\n",
      "\u001b[34m\u001b[1mwandb\u001b[0m: \tbs: 8\n",
      "\u001b[34m\u001b[1mwandb\u001b[0m: \tdata_augmentation: True\n",
      "\u001b[34m\u001b[1mwandb\u001b[0m: \tepochs: 11\n",
      "\u001b[34m\u001b[1mwandb\u001b[0m: \tpooling: max\n",
      "\u001b[34m\u001b[1mwandb\u001b[0m: \tpre_trained_model: InceptionResNetV2\n",
      "\u001b[34m\u001b[1mwandb\u001b[0m: \tweight_decay: 0.00099\n"
     ]
    },
    {
     "data": {
      "text/html": [
       "\n",
       "                Tracking run with wandb version 0.10.26<br/>\n",
       "                Syncing run <strong style=\"color:#cdcd00\">balmy-sweep-28</strong> to <a href=\"https://wandb.ai\" target=\"_blank\">Weights & Biases</a> <a href=\"https://docs.wandb.com/integrations/jupyter.html\" target=\"_blank\">(Documentation)</a>.<br/>\n",
       "                Project page: <a href=\"https://wandb.ai/dl_45_47/Fine_tuning_of_Pretrained_models\" target=\"_blank\">https://wandb.ai/dl_45_47/Fine_tuning_of_Pretrained_models</a><br/>\n",
       "                Sweep page: <a href=\"https://wandb.ai/dl_45_47/Fine_tuning_of_Pretrained_models/sweeps/niuru2a4\" target=\"_blank\">https://wandb.ai/dl_45_47/Fine_tuning_of_Pretrained_models/sweeps/niuru2a4</a><br/>\n",
       "Run page: <a href=\"https://wandb.ai/dl_45_47/Fine_tuning_of_Pretrained_models/runs/5gl2lm7d\" target=\"_blank\">https://wandb.ai/dl_45_47/Fine_tuning_of_Pretrained_models/runs/5gl2lm7d</a><br/>\n",
       "                Run data is saved locally in <code>/content/wandb/run-20210415_074747-5gl2lm7d</code><br/><br/>\n",
       "            "
      ],
      "text/plain": [
       "<IPython.core.display.HTML object>"
      ]
     },
     "metadata": {
      "tags": []
     },
     "output_type": "display_data"
    },
    {
     "name": "stdout",
     "output_type": "stream",
     "text": [
      "Epoch 1/11\n",
      "500/500 [==============================] - 231s 427ms/step - loss: 2.8489 - accuracy: 0.2325 - val_loss: 2.1213 - val_accuracy: 0.2925\n",
      "Epoch 2/11\n",
      "500/500 [==============================] - 209s 419ms/step - loss: 1.9782 - accuracy: 0.3216 - val_loss: 2.0579 - val_accuracy: 0.2825\n",
      "Epoch 3/11\n",
      "500/500 [==============================] - 209s 419ms/step - loss: 1.9663 - accuracy: 0.3308 - val_loss: 2.5109 - val_accuracy: 0.3125\n",
      "Epoch 4/11\n",
      "500/500 [==============================] - 209s 418ms/step - loss: 1.8546 - accuracy: 0.3704 - val_loss: 3.4857 - val_accuracy: 0.3775\n",
      "Epoch 5/11\n",
      "500/500 [==============================] - 209s 419ms/step - loss: 1.6348 - accuracy: 0.4481 - val_loss: 1.9052 - val_accuracy: 0.3400\n",
      "Epoch 6/11\n",
      "500/500 [==============================] - 209s 418ms/step - loss: 1.8325 - accuracy: 0.3844 - val_loss: 2.3876 - val_accuracy: 0.1925\n",
      "Epoch 7/11\n",
      "500/500 [==============================] - 209s 417ms/step - loss: 2.0558 - accuracy: 0.3058 - val_loss: 2.0284 - val_accuracy: 0.3625\n",
      "Epoch 8/11\n",
      "500/500 [==============================] - 209s 417ms/step - loss: 1.8419 - accuracy: 0.3673 - val_loss: 1.9741 - val_accuracy: 0.4075\n",
      "Epoch 9/11\n",
      "500/500 [==============================] - 209s 417ms/step - loss: 1.6511 - accuracy: 0.4396 - val_loss: 4.6813 - val_accuracy: 0.3725\n",
      "Epoch 10/11\n",
      "500/500 [==============================] - 208s 417ms/step - loss: 1.8089 - accuracy: 0.3844 - val_loss: 7.3899 - val_accuracy: 0.1925\n",
      "Epoch 11/11\n",
      "500/500 [==============================] - 208s 416ms/step - loss: 2.0316 - accuracy: 0.2929 - val_loss: 1.8768 - val_accuracy: 0.3600\n"
     ]
    },
    {
     "data": {
      "text/html": [
       "<br/>Waiting for W&B process to finish, PID 3109<br/>Program ended successfully."
      ],
      "text/plain": [
       "<IPython.core.display.HTML object>"
      ]
     },
     "metadata": {
      "tags": []
     },
     "output_type": "display_data"
    },
    {
     "data": {
      "application/vnd.jupyter.widget-view+json": {
       "model_id": "6994904c4cae4344963526699a1b4679",
       "version_major": 2,
       "version_minor": 0
      },
      "text/plain": [
       "VBox(children=(Label(value=' 0.00MB of 0.00MB uploaded (0.00MB deduped)\\r'), FloatProgress(value=1.0, max=1.0)…"
      ]
     },
     "metadata": {
      "tags": []
     },
     "output_type": "display_data"
    },
    {
     "data": {
      "text/html": [
       "Find user logs for this run at: <code>/content/wandb/run-20210415_074747-5gl2lm7d/logs/debug.log</code>"
      ],
      "text/plain": [
       "<IPython.core.display.HTML object>"
      ]
     },
     "metadata": {
      "tags": []
     },
     "output_type": "display_data"
    },
    {
     "data": {
      "text/html": [
       "Find internal logs for this run at: <code>/content/wandb/run-20210415_074747-5gl2lm7d/logs/debug-internal.log</code>"
      ],
      "text/plain": [
       "<IPython.core.display.HTML object>"
      ]
     },
     "metadata": {
      "tags": []
     },
     "output_type": "display_data"
    },
    {
     "data": {
      "text/html": [
       "<h3>Run summary:</h3><br/><style>\n",
       "    table.wandb td:nth-child(1) { padding: 0 10px; text-align: right }\n",
       "    </style><table class=\"wandb\">\n",
       "<tr><td>val_loss</td><td>1.87682</td></tr><tr><td>val_accuracy</td><td>0.36</td></tr><tr><td>loss</td><td>1.99327</td></tr><tr><td>accuracy</td><td>0.31025</td></tr><tr><td>epoch</td><td>10</td></tr><tr><td>_runtime</td><td>2328</td></tr><tr><td>_timestamp</td><td>1618475195</td></tr><tr><td>_step</td><td>10</td></tr></table>"
      ],
      "text/plain": [
       "<IPython.core.display.HTML object>"
      ]
     },
     "metadata": {
      "tags": []
     },
     "output_type": "display_data"
    },
    {
     "data": {
      "text/html": [
       "<h3>Run history:</h3><br/><style>\n",
       "    table.wandb td:nth-child(1) { padding: 0 10px; text-align: right }\n",
       "    </style><table class=\"wandb\">\n",
       "<tr><td>val_loss</td><td>▁▁▂▃▁▂▁▁▅█▁</td></tr><tr><td>val_accuracy</td><td>▄▄▅▇▆▁▇█▇▁▆</td></tr><tr><td>loss</td><td>█▅▄▃▁▄▅▃▁▅▅</td></tr><tr><td>accuracy</td><td>▁▂▃▅█▄▃▅▇▃▂</td></tr><tr><td>epoch</td><td>▁▂▂▃▄▅▅▆▇▇█</td></tr><tr><td>_runtime</td><td>▁▁▁▁▁▁▁▁▁▁▁</td></tr><tr><td>_timestamp</td><td>▁▁▁▁▁▁▁▁▁▁▁</td></tr><tr><td>_step</td><td>▁▂▂▃▄▅▅▆▇▇█</td></tr></table><br/>"
      ],
      "text/plain": [
       "<IPython.core.display.HTML object>"
      ]
     },
     "metadata": {
      "tags": []
     },
     "output_type": "display_data"
    },
    {
     "data": {
      "text/html": [
       "Synced 5 W&B file(s), 0 media file(s), 0 artifact file(s) and 0 other file(s)"
      ],
      "text/plain": [
       "<IPython.core.display.HTML object>"
      ]
     },
     "metadata": {
      "tags": []
     },
     "output_type": "display_data"
    },
    {
     "data": {
      "text/html": [
       "\n",
       "                    <br/>Synced <strong style=\"color:#cdcd00\">balmy-sweep-28</strong>: <a href=\"https://wandb.ai/dl_45_47/Fine_tuning_of_Pretrained_models/runs/5gl2lm7d\" target=\"_blank\">https://wandb.ai/dl_45_47/Fine_tuning_of_Pretrained_models/runs/5gl2lm7d</a><br/>\n",
       "                "
      ],
      "text/plain": [
       "<IPython.core.display.HTML object>"
      ]
     },
     "metadata": {
      "tags": []
     },
     "output_type": "display_data"
    },
    {
     "name": "stderr",
     "output_type": "stream",
     "text": [
      "\u001b[34m\u001b[1mwandb\u001b[0m: Agent Starting Run: zsklfztg with config:\n",
      "\u001b[34m\u001b[1mwandb\u001b[0m: \tbs: 32\n",
      "\u001b[34m\u001b[1mwandb\u001b[0m: \tdata_augmentation: False\n",
      "\u001b[34m\u001b[1mwandb\u001b[0m: \tepochs: 9\n",
      "\u001b[34m\u001b[1mwandb\u001b[0m: \tpooling: avg\n",
      "\u001b[34m\u001b[1mwandb\u001b[0m: \tpre_trained_model: InceptionResNetV2\n",
      "\u001b[34m\u001b[1mwandb\u001b[0m: \tweight_decay: 0.1\n"
     ]
    },
    {
     "data": {
      "text/html": [
       "\n",
       "                Tracking run with wandb version 0.10.26<br/>\n",
       "                Syncing run <strong style=\"color:#cdcd00\">worthy-sweep-29</strong> to <a href=\"https://wandb.ai\" target=\"_blank\">Weights & Biases</a> <a href=\"https://docs.wandb.com/integrations/jupyter.html\" target=\"_blank\">(Documentation)</a>.<br/>\n",
       "                Project page: <a href=\"https://wandb.ai/dl_45_47/Fine_tuning_of_Pretrained_models\" target=\"_blank\">https://wandb.ai/dl_45_47/Fine_tuning_of_Pretrained_models</a><br/>\n",
       "                Sweep page: <a href=\"https://wandb.ai/dl_45_47/Fine_tuning_of_Pretrained_models/sweeps/niuru2a4\" target=\"_blank\">https://wandb.ai/dl_45_47/Fine_tuning_of_Pretrained_models/sweeps/niuru2a4</a><br/>\n",
       "Run page: <a href=\"https://wandb.ai/dl_45_47/Fine_tuning_of_Pretrained_models/runs/zsklfztg\" target=\"_blank\">https://wandb.ai/dl_45_47/Fine_tuning_of_Pretrained_models/runs/zsklfztg</a><br/>\n",
       "                Run data is saved locally in <code>/content/wandb/run-20210415_082643-zsklfztg</code><br/><br/>\n",
       "            "
      ],
      "text/plain": [
       "<IPython.core.display.HTML object>"
      ]
     },
     "metadata": {
      "tags": []
     },
     "output_type": "display_data"
    },
    {
     "name": "stdout",
     "output_type": "stream",
     "text": [
      "Epoch 1/9\n",
      "125/125 [==============================] - 205s 1s/step - loss: 2.8901 - accuracy: 0.4026 - val_loss: 2.6120 - val_accuracy: 0.1875\n",
      "Epoch 2/9\n",
      "125/125 [==============================] - 180s 1s/step - loss: 1.3420 - accuracy: 0.5940 - val_loss: 2.3846 - val_accuracy: 0.4225\n",
      "Epoch 3/9\n",
      "125/125 [==============================] - 179s 1s/step - loss: 1.0998 - accuracy: 0.6830 - val_loss: 1.6512 - val_accuracy: 0.4775\n",
      "Epoch 4/9\n",
      "125/125 [==============================] - 179s 1s/step - loss: 0.8688 - accuracy: 0.7572 - val_loss: 1.6360 - val_accuracy: 0.4850\n",
      "Epoch 5/9\n",
      "125/125 [==============================] - 179s 1s/step - loss: 0.7361 - accuracy: 0.8024 - val_loss: 1.6502 - val_accuracy: 0.4825\n",
      "Epoch 6/9\n",
      "125/125 [==============================] - 179s 1s/step - loss: 0.6227 - accuracy: 0.8414 - val_loss: 1.9426 - val_accuracy: 0.4725\n",
      "Epoch 7/9\n",
      " 50/125 [===========>..................] - ETA: 1:44 - loss: 0.5697 - accuracy: 0.8523"
     ]
    }
   ],
   "source": [
    "wandb.agent('niuru2a4', train)"
   ]
  },
  {
   "cell_type": "markdown",
   "metadata": {
    "id": "q8WvEvfRwW1l"
   },
   "source": []
  }
 ],
 "metadata": {
  "accelerator": "GPU",
  "colab": {
   "collapsed_sections": [],
   "name": "A2PartB.ipynb",
   "provenance": []
  },
  "kernelspec": {
   "display_name": "Python 3",
   "language": "python",
   "name": "python3"
  },
  "language_info": {
   "codemirror_mode": {
    "name": "ipython",
    "version": 3
   },
   "file_extension": ".py",
   "mimetype": "text/x-python",
   "name": "python",
   "nbconvert_exporter": "python",
   "pygments_lexer": "ipython3",
   "version": "3.6.9"
  },
  "widgets": {
   "application/vnd.jupyter.widget-state+json": {
    "046961a525c34a68b02e4a7934746368": {
     "model_module": "@jupyter-widgets/base",
     "model_name": "LayoutModel",
     "state": {
      "_model_module": "@jupyter-widgets/base",
      "_model_module_version": "1.2.0",
      "_model_name": "LayoutModel",
      "_view_count": null,
      "_view_module": "@jupyter-widgets/base",
      "_view_module_version": "1.2.0",
      "_view_name": "LayoutView",
      "align_content": null,
      "align_items": null,
      "align_self": null,
      "border": null,
      "bottom": null,
      "display": null,
      "flex": null,
      "flex_flow": null,
      "grid_area": null,
      "grid_auto_columns": null,
      "grid_auto_flow": null,
      "grid_auto_rows": null,
      "grid_column": null,
      "grid_gap": null,
      "grid_row": null,
      "grid_template_areas": null,
      "grid_template_columns": null,
      "grid_template_rows": null,
      "height": null,
      "justify_content": null,
      "justify_items": null,
      "left": null,
      "margin": null,
      "max_height": null,
      "max_width": null,
      "min_height": null,
      "min_width": null,
      "object_fit": null,
      "object_position": null,
      "order": null,
      "overflow": null,
      "overflow_x": null,
      "overflow_y": null,
      "padding": null,
      "right": null,
      "top": null,
      "visibility": null,
      "width": null
     }
    },
    "04e5919a6ea7477b9c06d91b78852356": {
     "model_module": "@jupyter-widgets/base",
     "model_name": "LayoutModel",
     "state": {
      "_model_module": "@jupyter-widgets/base",
      "_model_module_version": "1.2.0",
      "_model_name": "LayoutModel",
      "_view_count": null,
      "_view_module": "@jupyter-widgets/base",
      "_view_module_version": "1.2.0",
      "_view_name": "LayoutView",
      "align_content": null,
      "align_items": null,
      "align_self": null,
      "border": null,
      "bottom": null,
      "display": null,
      "flex": null,
      "flex_flow": null,
      "grid_area": null,
      "grid_auto_columns": null,
      "grid_auto_flow": null,
      "grid_auto_rows": null,
      "grid_column": null,
      "grid_gap": null,
      "grid_row": null,
      "grid_template_areas": null,
      "grid_template_columns": null,
      "grid_template_rows": null,
      "height": null,
      "justify_content": null,
      "justify_items": null,
      "left": null,
      "margin": null,
      "max_height": null,
      "max_width": null,
      "min_height": null,
      "min_width": null,
      "object_fit": null,
      "object_position": null,
      "order": null,
      "overflow": null,
      "overflow_x": null,
      "overflow_y": null,
      "padding": null,
      "right": null,
      "top": null,
      "visibility": null,
      "width": null
     }
    },
    "05fc00137178457095999d649c381fc3": {
     "model_module": "@jupyter-widgets/base",
     "model_name": "LayoutModel",
     "state": {
      "_model_module": "@jupyter-widgets/base",
      "_model_module_version": "1.2.0",
      "_model_name": "LayoutModel",
      "_view_count": null,
      "_view_module": "@jupyter-widgets/base",
      "_view_module_version": "1.2.0",
      "_view_name": "LayoutView",
      "align_content": null,
      "align_items": null,
      "align_self": null,
      "border": null,
      "bottom": null,
      "display": null,
      "flex": null,
      "flex_flow": null,
      "grid_area": null,
      "grid_auto_columns": null,
      "grid_auto_flow": null,
      "grid_auto_rows": null,
      "grid_column": null,
      "grid_gap": null,
      "grid_row": null,
      "grid_template_areas": null,
      "grid_template_columns": null,
      "grid_template_rows": null,
      "height": null,
      "justify_content": null,
      "justify_items": null,
      "left": null,
      "margin": null,
      "max_height": null,
      "max_width": null,
      "min_height": null,
      "min_width": null,
      "object_fit": null,
      "object_position": null,
      "order": null,
      "overflow": null,
      "overflow_x": null,
      "overflow_y": null,
      "padding": null,
      "right": null,
      "top": null,
      "visibility": null,
      "width": null
     }
    },
    "0b21337fe6ae42d4aafab60fcb7a78cd": {
     "model_module": "@jupyter-widgets/controls",
     "model_name": "VBoxModel",
     "state": {
      "_dom_classes": [],
      "_model_module": "@jupyter-widgets/controls",
      "_model_module_version": "1.5.0",
      "_model_name": "VBoxModel",
      "_view_count": null,
      "_view_module": "@jupyter-widgets/controls",
      "_view_module_version": "1.5.0",
      "_view_name": "VBoxView",
      "box_style": "",
      "children": [
       "IPY_MODEL_9240cef1f69a4e5aa195da8affcbfeed",
       "IPY_MODEL_41e65eb786d84812b52f2437cc6ca664"
      ],
      "layout": "IPY_MODEL_7bf2d6b0c0dd450293789cbf98a98d85"
     }
    },
    "124ec949bede4692a0f63a146caa8648": {
     "model_module": "@jupyter-widgets/controls",
     "model_name": "ProgressStyleModel",
     "state": {
      "_model_module": "@jupyter-widgets/controls",
      "_model_module_version": "1.5.0",
      "_model_name": "ProgressStyleModel",
      "_view_count": null,
      "_view_module": "@jupyter-widgets/base",
      "_view_module_version": "1.2.0",
      "_view_name": "StyleView",
      "bar_color": null,
      "description_width": ""
     }
    },
    "1634004f9bb74144b8c8102f437b3e4d": {
     "model_module": "@jupyter-widgets/base",
     "model_name": "LayoutModel",
     "state": {
      "_model_module": "@jupyter-widgets/base",
      "_model_module_version": "1.2.0",
      "_model_name": "LayoutModel",
      "_view_count": null,
      "_view_module": "@jupyter-widgets/base",
      "_view_module_version": "1.2.0",
      "_view_name": "LayoutView",
      "align_content": null,
      "align_items": null,
      "align_self": null,
      "border": null,
      "bottom": null,
      "display": null,
      "flex": null,
      "flex_flow": null,
      "grid_area": null,
      "grid_auto_columns": null,
      "grid_auto_flow": null,
      "grid_auto_rows": null,
      "grid_column": null,
      "grid_gap": null,
      "grid_row": null,
      "grid_template_areas": null,
      "grid_template_columns": null,
      "grid_template_rows": null,
      "height": null,
      "justify_content": null,
      "justify_items": null,
      "left": null,
      "margin": null,
      "max_height": null,
      "max_width": null,
      "min_height": null,
      "min_width": null,
      "object_fit": null,
      "object_position": null,
      "order": null,
      "overflow": null,
      "overflow_x": null,
      "overflow_y": null,
      "padding": null,
      "right": null,
      "top": null,
      "visibility": null,
      "width": null
     }
    },
    "17d00889ee304b6e8f53e558fd617d2b": {
     "model_module": "@jupyter-widgets/controls",
     "model_name": "LabelModel",
     "state": {
      "_dom_classes": [],
      "_model_module": "@jupyter-widgets/controls",
      "_model_module_version": "1.5.0",
      "_model_name": "LabelModel",
      "_view_count": null,
      "_view_module": "@jupyter-widgets/controls",
      "_view_module_version": "1.5.0",
      "_view_name": "LabelView",
      "description": "",
      "description_tooltip": null,
      "layout": "IPY_MODEL_da37dc822174482eb13e82aa577c782f",
      "placeholder": "​",
      "style": "IPY_MODEL_d4ef8cfd4e274d5885a79ff8bdaa9f2d",
      "value": " 0.01MB of 0.01MB uploaded (0.00MB deduped)\r"
     }
    },
    "17f3b055e84b46f5b24a00db3411bb68": {
     "model_module": "@jupyter-widgets/controls",
     "model_name": "ProgressStyleModel",
     "state": {
      "_model_module": "@jupyter-widgets/controls",
      "_model_module_version": "1.5.0",
      "_model_name": "ProgressStyleModel",
      "_view_count": null,
      "_view_module": "@jupyter-widgets/base",
      "_view_module_version": "1.2.0",
      "_view_name": "StyleView",
      "bar_color": null,
      "description_width": ""
     }
    },
    "181917e5830a45c1a3bc4dea4000a237": {
     "model_module": "@jupyter-widgets/controls",
     "model_name": "VBoxModel",
     "state": {
      "_dom_classes": [],
      "_model_module": "@jupyter-widgets/controls",
      "_model_module_version": "1.5.0",
      "_model_name": "VBoxModel",
      "_view_count": null,
      "_view_module": "@jupyter-widgets/controls",
      "_view_module_version": "1.5.0",
      "_view_name": "VBoxView",
      "box_style": "",
      "children": [
       "IPY_MODEL_42de60b67d4f47c1aa4c10cbe98829a3",
       "IPY_MODEL_6ac20903d612467f8b94600b4f6df54e"
      ],
      "layout": "IPY_MODEL_1b8ab5eaff3d469e8814bcd5f82fe60a"
     }
    },
    "1a6f733047074753a07f4ed36a2118c0": {
     "model_module": "@jupyter-widgets/controls",
     "model_name": "LabelModel",
     "state": {
      "_dom_classes": [],
      "_model_module": "@jupyter-widgets/controls",
      "_model_module_version": "1.5.0",
      "_model_name": "LabelModel",
      "_view_count": null,
      "_view_module": "@jupyter-widgets/controls",
      "_view_module_version": "1.5.0",
      "_view_name": "LabelView",
      "description": "",
      "description_tooltip": null,
      "layout": "IPY_MODEL_243d80fae60948ae8fc12b7298ec184a",
      "placeholder": "​",
      "style": "IPY_MODEL_1dbfb14f763d427181b7f81a289157e1",
      "value": " 0.01MB of 0.01MB uploaded (0.00MB deduped)\r"
     }
    },
    "1b8ab5eaff3d469e8814bcd5f82fe60a": {
     "model_module": "@jupyter-widgets/base",
     "model_name": "LayoutModel",
     "state": {
      "_model_module": "@jupyter-widgets/base",
      "_model_module_version": "1.2.0",
      "_model_name": "LayoutModel",
      "_view_count": null,
      "_view_module": "@jupyter-widgets/base",
      "_view_module_version": "1.2.0",
      "_view_name": "LayoutView",
      "align_content": null,
      "align_items": null,
      "align_self": null,
      "border": null,
      "bottom": null,
      "display": null,
      "flex": null,
      "flex_flow": null,
      "grid_area": null,
      "grid_auto_columns": null,
      "grid_auto_flow": null,
      "grid_auto_rows": null,
      "grid_column": null,
      "grid_gap": null,
      "grid_row": null,
      "grid_template_areas": null,
      "grid_template_columns": null,
      "grid_template_rows": null,
      "height": null,
      "justify_content": null,
      "justify_items": null,
      "left": null,
      "margin": null,
      "max_height": null,
      "max_width": null,
      "min_height": null,
      "min_width": null,
      "object_fit": null,
      "object_position": null,
      "order": null,
      "overflow": null,
      "overflow_x": null,
      "overflow_y": null,
      "padding": null,
      "right": null,
      "top": null,
      "visibility": null,
      "width": null
     }
    },
    "1dbfb14f763d427181b7f81a289157e1": {
     "model_module": "@jupyter-widgets/controls",
     "model_name": "DescriptionStyleModel",
     "state": {
      "_model_module": "@jupyter-widgets/controls",
      "_model_module_version": "1.5.0",
      "_model_name": "DescriptionStyleModel",
      "_view_count": null,
      "_view_module": "@jupyter-widgets/base",
      "_view_module_version": "1.2.0",
      "_view_name": "StyleView",
      "description_width": ""
     }
    },
    "1e27930e80934176b1390b9cb52873c2": {
     "model_module": "@jupyter-widgets/controls",
     "model_name": "LabelModel",
     "state": {
      "_dom_classes": [],
      "_model_module": "@jupyter-widgets/controls",
      "_model_module_version": "1.5.0",
      "_model_name": "LabelModel",
      "_view_count": null,
      "_view_module": "@jupyter-widgets/controls",
      "_view_module_version": "1.5.0",
      "_view_name": "LabelView",
      "description": "",
      "description_tooltip": null,
      "layout": "IPY_MODEL_799683a9f1f74d8f938c7aece23918d2",
      "placeholder": "​",
      "style": "IPY_MODEL_ce16f0ac08f44b8f87c2a7eae14afc94",
      "value": " 0.01MB of 0.01MB uploaded (0.00MB deduped)\r"
     }
    },
    "1f69a0e864f24cedb36cb1d6f22b3354": {
     "model_module": "@jupyter-widgets/controls",
     "model_name": "FloatProgressModel",
     "state": {
      "_dom_classes": [],
      "_model_module": "@jupyter-widgets/controls",
      "_model_module_version": "1.5.0",
      "_model_name": "FloatProgressModel",
      "_view_count": null,
      "_view_module": "@jupyter-widgets/controls",
      "_view_module_version": "1.5.0",
      "_view_name": "ProgressView",
      "bar_style": "",
      "description": "",
      "description_tooltip": null,
      "layout": "IPY_MODEL_8aa6175f46784afdb396c8726f3a969d",
      "max": 1,
      "min": 0,
      "orientation": "horizontal",
      "style": "IPY_MODEL_4d158bd471fe42d6911009ed8b39cf94",
      "value": 1
     }
    },
    "21411264ed7444efba2d10eac09f13eb": {
     "model_module": "@jupyter-widgets/controls",
     "model_name": "VBoxModel",
     "state": {
      "_dom_classes": [],
      "_model_module": "@jupyter-widgets/controls",
      "_model_module_version": "1.5.0",
      "_model_name": "VBoxModel",
      "_view_count": null,
      "_view_module": "@jupyter-widgets/controls",
      "_view_module_version": "1.5.0",
      "_view_name": "VBoxView",
      "box_style": "",
      "children": [
       "IPY_MODEL_c65d2ef3761d45018db418edb86950a0",
       "IPY_MODEL_30247bfe3e9149de8412547b6d4d42db"
      ],
      "layout": "IPY_MODEL_b5940a7518a6461eae87ff0c793d560c"
     }
    },
    "243880f6886e4a2c9a7ba1a76b16916a": {
     "model_module": "@jupyter-widgets/controls",
     "model_name": "VBoxModel",
     "state": {
      "_dom_classes": [],
      "_model_module": "@jupyter-widgets/controls",
      "_model_module_version": "1.5.0",
      "_model_name": "VBoxModel",
      "_view_count": null,
      "_view_module": "@jupyter-widgets/controls",
      "_view_module_version": "1.5.0",
      "_view_name": "VBoxView",
      "box_style": "",
      "children": [
       "IPY_MODEL_1e27930e80934176b1390b9cb52873c2",
       "IPY_MODEL_7127cd6f81cb454e8fbe482673199946"
      ],
      "layout": "IPY_MODEL_995f415c2420484ca11bbf81c0598d75"
     }
    },
    "243d80fae60948ae8fc12b7298ec184a": {
     "model_module": "@jupyter-widgets/base",
     "model_name": "LayoutModel",
     "state": {
      "_model_module": "@jupyter-widgets/base",
      "_model_module_version": "1.2.0",
      "_model_name": "LayoutModel",
      "_view_count": null,
      "_view_module": "@jupyter-widgets/base",
      "_view_module_version": "1.2.0",
      "_view_name": "LayoutView",
      "align_content": null,
      "align_items": null,
      "align_self": null,
      "border": null,
      "bottom": null,
      "display": null,
      "flex": null,
      "flex_flow": null,
      "grid_area": null,
      "grid_auto_columns": null,
      "grid_auto_flow": null,
      "grid_auto_rows": null,
      "grid_column": null,
      "grid_gap": null,
      "grid_row": null,
      "grid_template_areas": null,
      "grid_template_columns": null,
      "grid_template_rows": null,
      "height": null,
      "justify_content": null,
      "justify_items": null,
      "left": null,
      "margin": null,
      "max_height": null,
      "max_width": null,
      "min_height": null,
      "min_width": null,
      "object_fit": null,
      "object_position": null,
      "order": null,
      "overflow": null,
      "overflow_x": null,
      "overflow_y": null,
      "padding": null,
      "right": null,
      "top": null,
      "visibility": null,
      "width": null
     }
    },
    "26e7006e539b43248c47be8066e0da11": {
     "model_module": "@jupyter-widgets/controls",
     "model_name": "ProgressStyleModel",
     "state": {
      "_model_module": "@jupyter-widgets/controls",
      "_model_module_version": "1.5.0",
      "_model_name": "ProgressStyleModel",
      "_view_count": null,
      "_view_module": "@jupyter-widgets/base",
      "_view_module_version": "1.2.0",
      "_view_name": "StyleView",
      "bar_color": null,
      "description_width": ""
     }
    },
    "2a4ba4f6a28b4c61859e2bcbb2f16e70": {
     "model_module": "@jupyter-widgets/controls",
     "model_name": "FloatProgressModel",
     "state": {
      "_dom_classes": [],
      "_model_module": "@jupyter-widgets/controls",
      "_model_module_version": "1.5.0",
      "_model_name": "FloatProgressModel",
      "_view_count": null,
      "_view_module": "@jupyter-widgets/controls",
      "_view_module_version": "1.5.0",
      "_view_name": "ProgressView",
      "bar_style": "",
      "description": "",
      "description_tooltip": null,
      "layout": "IPY_MODEL_e4d53fb9e895450c9f309fc9c462fdd6",
      "max": 1,
      "min": 0,
      "orientation": "horizontal",
      "style": "IPY_MODEL_124ec949bede4692a0f63a146caa8648",
      "value": 1
     }
    },
    "2b2dcd8243114dd19f70bc3e754f0ce6": {
     "model_module": "@jupyter-widgets/controls",
     "model_name": "DescriptionStyleModel",
     "state": {
      "_model_module": "@jupyter-widgets/controls",
      "_model_module_version": "1.5.0",
      "_model_name": "DescriptionStyleModel",
      "_view_count": null,
      "_view_module": "@jupyter-widgets/base",
      "_view_module_version": "1.2.0",
      "_view_name": "StyleView",
      "description_width": ""
     }
    },
    "2d2e996eb8b542e0b8a9d753d6bbc7b8": {
     "model_module": "@jupyter-widgets/controls",
     "model_name": "DescriptionStyleModel",
     "state": {
      "_model_module": "@jupyter-widgets/controls",
      "_model_module_version": "1.5.0",
      "_model_name": "DescriptionStyleModel",
      "_view_count": null,
      "_view_module": "@jupyter-widgets/base",
      "_view_module_version": "1.2.0",
      "_view_name": "StyleView",
      "description_width": ""
     }
    },
    "2eb28a0ccdda4bed982b905e98fabc6c": {
     "model_module": "@jupyter-widgets/controls",
     "model_name": "FloatProgressModel",
     "state": {
      "_dom_classes": [],
      "_model_module": "@jupyter-widgets/controls",
      "_model_module_version": "1.5.0",
      "_model_name": "FloatProgressModel",
      "_view_count": null,
      "_view_module": "@jupyter-widgets/controls",
      "_view_module_version": "1.5.0",
      "_view_name": "ProgressView",
      "bar_style": "",
      "description": "",
      "description_tooltip": null,
      "layout": "IPY_MODEL_fd1d9b9d91a94691982a58b6f3ed0654",
      "max": 1,
      "min": 0,
      "orientation": "horizontal",
      "style": "IPY_MODEL_f209748d205745f78447e6134b3809bf",
      "value": 1
     }
    },
    "30247bfe3e9149de8412547b6d4d42db": {
     "model_module": "@jupyter-widgets/controls",
     "model_name": "FloatProgressModel",
     "state": {
      "_dom_classes": [],
      "_model_module": "@jupyter-widgets/controls",
      "_model_module_version": "1.5.0",
      "_model_name": "FloatProgressModel",
      "_view_count": null,
      "_view_module": "@jupyter-widgets/controls",
      "_view_module_version": "1.5.0",
      "_view_name": "ProgressView",
      "bar_style": "",
      "description": "",
      "description_tooltip": null,
      "layout": "IPY_MODEL_46d8282e16a94517907bc75e74ef0a32",
      "max": 1,
      "min": 0,
      "orientation": "horizontal",
      "style": "IPY_MODEL_6ca8d5703cbc4e458ad70da584873a4c",
      "value": 1
     }
    },
    "3074c311040942b881e6264e76a84f26": {
     "model_module": "@jupyter-widgets/base",
     "model_name": "LayoutModel",
     "state": {
      "_model_module": "@jupyter-widgets/base",
      "_model_module_version": "1.2.0",
      "_model_name": "LayoutModel",
      "_view_count": null,
      "_view_module": "@jupyter-widgets/base",
      "_view_module_version": "1.2.0",
      "_view_name": "LayoutView",
      "align_content": null,
      "align_items": null,
      "align_self": null,
      "border": null,
      "bottom": null,
      "display": null,
      "flex": null,
      "flex_flow": null,
      "grid_area": null,
      "grid_auto_columns": null,
      "grid_auto_flow": null,
      "grid_auto_rows": null,
      "grid_column": null,
      "grid_gap": null,
      "grid_row": null,
      "grid_template_areas": null,
      "grid_template_columns": null,
      "grid_template_rows": null,
      "height": null,
      "justify_content": null,
      "justify_items": null,
      "left": null,
      "margin": null,
      "max_height": null,
      "max_width": null,
      "min_height": null,
      "min_width": null,
      "object_fit": null,
      "object_position": null,
      "order": null,
      "overflow": null,
      "overflow_x": null,
      "overflow_y": null,
      "padding": null,
      "right": null,
      "top": null,
      "visibility": null,
      "width": null
     }
    },
    "32da031bb378495ea0f6b3709a53c5f1": {
     "model_module": "@jupyter-widgets/base",
     "model_name": "LayoutModel",
     "state": {
      "_model_module": "@jupyter-widgets/base",
      "_model_module_version": "1.2.0",
      "_model_name": "LayoutModel",
      "_view_count": null,
      "_view_module": "@jupyter-widgets/base",
      "_view_module_version": "1.2.0",
      "_view_name": "LayoutView",
      "align_content": null,
      "align_items": null,
      "align_self": null,
      "border": null,
      "bottom": null,
      "display": null,
      "flex": null,
      "flex_flow": null,
      "grid_area": null,
      "grid_auto_columns": null,
      "grid_auto_flow": null,
      "grid_auto_rows": null,
      "grid_column": null,
      "grid_gap": null,
      "grid_row": null,
      "grid_template_areas": null,
      "grid_template_columns": null,
      "grid_template_rows": null,
      "height": null,
      "justify_content": null,
      "justify_items": null,
      "left": null,
      "margin": null,
      "max_height": null,
      "max_width": null,
      "min_height": null,
      "min_width": null,
      "object_fit": null,
      "object_position": null,
      "order": null,
      "overflow": null,
      "overflow_x": null,
      "overflow_y": null,
      "padding": null,
      "right": null,
      "top": null,
      "visibility": null,
      "width": null
     }
    },
    "3699c26d624c47428dfdff795fd52260": {
     "model_module": "@jupyter-widgets/controls",
     "model_name": "ProgressStyleModel",
     "state": {
      "_model_module": "@jupyter-widgets/controls",
      "_model_module_version": "1.5.0",
      "_model_name": "ProgressStyleModel",
      "_view_count": null,
      "_view_module": "@jupyter-widgets/base",
      "_view_module_version": "1.2.0",
      "_view_name": "StyleView",
      "bar_color": null,
      "description_width": ""
     }
    },
    "3855f289c861474984ef86638dfe9a7c": {
     "model_module": "@jupyter-widgets/base",
     "model_name": "LayoutModel",
     "state": {
      "_model_module": "@jupyter-widgets/base",
      "_model_module_version": "1.2.0",
      "_model_name": "LayoutModel",
      "_view_count": null,
      "_view_module": "@jupyter-widgets/base",
      "_view_module_version": "1.2.0",
      "_view_name": "LayoutView",
      "align_content": null,
      "align_items": null,
      "align_self": null,
      "border": null,
      "bottom": null,
      "display": null,
      "flex": null,
      "flex_flow": null,
      "grid_area": null,
      "grid_auto_columns": null,
      "grid_auto_flow": null,
      "grid_auto_rows": null,
      "grid_column": null,
      "grid_gap": null,
      "grid_row": null,
      "grid_template_areas": null,
      "grid_template_columns": null,
      "grid_template_rows": null,
      "height": null,
      "justify_content": null,
      "justify_items": null,
      "left": null,
      "margin": null,
      "max_height": null,
      "max_width": null,
      "min_height": null,
      "min_width": null,
      "object_fit": null,
      "object_position": null,
      "order": null,
      "overflow": null,
      "overflow_x": null,
      "overflow_y": null,
      "padding": null,
      "right": null,
      "top": null,
      "visibility": null,
      "width": null
     }
    },
    "387ef958582e47cbb3cb2b4e71fa8931": {
     "model_module": "@jupyter-widgets/controls",
     "model_name": "DescriptionStyleModel",
     "state": {
      "_model_module": "@jupyter-widgets/controls",
      "_model_module_version": "1.5.0",
      "_model_name": "DescriptionStyleModel",
      "_view_count": null,
      "_view_module": "@jupyter-widgets/base",
      "_view_module_version": "1.2.0",
      "_view_name": "StyleView",
      "description_width": ""
     }
    },
    "397e381d680a4f04b81be704d30384c7": {
     "model_module": "@jupyter-widgets/controls",
     "model_name": "DescriptionStyleModel",
     "state": {
      "_model_module": "@jupyter-widgets/controls",
      "_model_module_version": "1.5.0",
      "_model_name": "DescriptionStyleModel",
      "_view_count": null,
      "_view_module": "@jupyter-widgets/base",
      "_view_module_version": "1.2.0",
      "_view_name": "StyleView",
      "description_width": ""
     }
    },
    "41e65eb786d84812b52f2437cc6ca664": {
     "model_module": "@jupyter-widgets/controls",
     "model_name": "FloatProgressModel",
     "state": {
      "_dom_classes": [],
      "_model_module": "@jupyter-widgets/controls",
      "_model_module_version": "1.5.0",
      "_model_name": "FloatProgressModel",
      "_view_count": null,
      "_view_module": "@jupyter-widgets/controls",
      "_view_module_version": "1.5.0",
      "_view_name": "ProgressView",
      "bar_style": "",
      "description": "",
      "description_tooltip": null,
      "layout": "IPY_MODEL_aaf3e40350374cddb3eb5f5e06014130",
      "max": 1,
      "min": 0,
      "orientation": "horizontal",
      "style": "IPY_MODEL_73b97b17fc8a4c3e9bd0d3f75bd773b5",
      "value": 1
     }
    },
    "42de60b67d4f47c1aa4c10cbe98829a3": {
     "model_module": "@jupyter-widgets/controls",
     "model_name": "LabelModel",
     "state": {
      "_dom_classes": [],
      "_model_module": "@jupyter-widgets/controls",
      "_model_module_version": "1.5.0",
      "_model_name": "LabelModel",
      "_view_count": null,
      "_view_module": "@jupyter-widgets/controls",
      "_view_module_version": "1.5.0",
      "_view_name": "LabelView",
      "description": "",
      "description_tooltip": null,
      "layout": "IPY_MODEL_69ab81792f514607beddcd69b0093932",
      "placeholder": "​",
      "style": "IPY_MODEL_2b2dcd8243114dd19f70bc3e754f0ce6",
      "value": " 0.01MB of 0.01MB uploaded (0.00MB deduped)\r"
     }
    },
    "46d8282e16a94517907bc75e74ef0a32": {
     "model_module": "@jupyter-widgets/base",
     "model_name": "LayoutModel",
     "state": {
      "_model_module": "@jupyter-widgets/base",
      "_model_module_version": "1.2.0",
      "_model_name": "LayoutModel",
      "_view_count": null,
      "_view_module": "@jupyter-widgets/base",
      "_view_module_version": "1.2.0",
      "_view_name": "LayoutView",
      "align_content": null,
      "align_items": null,
      "align_self": null,
      "border": null,
      "bottom": null,
      "display": null,
      "flex": null,
      "flex_flow": null,
      "grid_area": null,
      "grid_auto_columns": null,
      "grid_auto_flow": null,
      "grid_auto_rows": null,
      "grid_column": null,
      "grid_gap": null,
      "grid_row": null,
      "grid_template_areas": null,
      "grid_template_columns": null,
      "grid_template_rows": null,
      "height": null,
      "justify_content": null,
      "justify_items": null,
      "left": null,
      "margin": null,
      "max_height": null,
      "max_width": null,
      "min_height": null,
      "min_width": null,
      "object_fit": null,
      "object_position": null,
      "order": null,
      "overflow": null,
      "overflow_x": null,
      "overflow_y": null,
      "padding": null,
      "right": null,
      "top": null,
      "visibility": null,
      "width": null
     }
    },
    "46e2bc1546c843cebc90ca1940f3837b": {
     "model_module": "@jupyter-widgets/base",
     "model_name": "LayoutModel",
     "state": {
      "_model_module": "@jupyter-widgets/base",
      "_model_module_version": "1.2.0",
      "_model_name": "LayoutModel",
      "_view_count": null,
      "_view_module": "@jupyter-widgets/base",
      "_view_module_version": "1.2.0",
      "_view_name": "LayoutView",
      "align_content": null,
      "align_items": null,
      "align_self": null,
      "border": null,
      "bottom": null,
      "display": null,
      "flex": null,
      "flex_flow": null,
      "grid_area": null,
      "grid_auto_columns": null,
      "grid_auto_flow": null,
      "grid_auto_rows": null,
      "grid_column": null,
      "grid_gap": null,
      "grid_row": null,
      "grid_template_areas": null,
      "grid_template_columns": null,
      "grid_template_rows": null,
      "height": null,
      "justify_content": null,
      "justify_items": null,
      "left": null,
      "margin": null,
      "max_height": null,
      "max_width": null,
      "min_height": null,
      "min_width": null,
      "object_fit": null,
      "object_position": null,
      "order": null,
      "overflow": null,
      "overflow_x": null,
      "overflow_y": null,
      "padding": null,
      "right": null,
      "top": null,
      "visibility": null,
      "width": null
     }
    },
    "4acae6d4a7664d02aa19f0799f539d9b": {
     "model_module": "@jupyter-widgets/base",
     "model_name": "LayoutModel",
     "state": {
      "_model_module": "@jupyter-widgets/base",
      "_model_module_version": "1.2.0",
      "_model_name": "LayoutModel",
      "_view_count": null,
      "_view_module": "@jupyter-widgets/base",
      "_view_module_version": "1.2.0",
      "_view_name": "LayoutView",
      "align_content": null,
      "align_items": null,
      "align_self": null,
      "border": null,
      "bottom": null,
      "display": null,
      "flex": null,
      "flex_flow": null,
      "grid_area": null,
      "grid_auto_columns": null,
      "grid_auto_flow": null,
      "grid_auto_rows": null,
      "grid_column": null,
      "grid_gap": null,
      "grid_row": null,
      "grid_template_areas": null,
      "grid_template_columns": null,
      "grid_template_rows": null,
      "height": null,
      "justify_content": null,
      "justify_items": null,
      "left": null,
      "margin": null,
      "max_height": null,
      "max_width": null,
      "min_height": null,
      "min_width": null,
      "object_fit": null,
      "object_position": null,
      "order": null,
      "overflow": null,
      "overflow_x": null,
      "overflow_y": null,
      "padding": null,
      "right": null,
      "top": null,
      "visibility": null,
      "width": null
     }
    },
    "4d158bd471fe42d6911009ed8b39cf94": {
     "model_module": "@jupyter-widgets/controls",
     "model_name": "ProgressStyleModel",
     "state": {
      "_model_module": "@jupyter-widgets/controls",
      "_model_module_version": "1.5.0",
      "_model_name": "ProgressStyleModel",
      "_view_count": null,
      "_view_module": "@jupyter-widgets/base",
      "_view_module_version": "1.2.0",
      "_view_name": "StyleView",
      "bar_color": null,
      "description_width": ""
     }
    },
    "4e81211c4b5a4317b699694e33fef945": {
     "model_module": "@jupyter-widgets/base",
     "model_name": "LayoutModel",
     "state": {
      "_model_module": "@jupyter-widgets/base",
      "_model_module_version": "1.2.0",
      "_model_name": "LayoutModel",
      "_view_count": null,
      "_view_module": "@jupyter-widgets/base",
      "_view_module_version": "1.2.0",
      "_view_name": "LayoutView",
      "align_content": null,
      "align_items": null,
      "align_self": null,
      "border": null,
      "bottom": null,
      "display": null,
      "flex": null,
      "flex_flow": null,
      "grid_area": null,
      "grid_auto_columns": null,
      "grid_auto_flow": null,
      "grid_auto_rows": null,
      "grid_column": null,
      "grid_gap": null,
      "grid_row": null,
      "grid_template_areas": null,
      "grid_template_columns": null,
      "grid_template_rows": null,
      "height": null,
      "justify_content": null,
      "justify_items": null,
      "left": null,
      "margin": null,
      "max_height": null,
      "max_width": null,
      "min_height": null,
      "min_width": null,
      "object_fit": null,
      "object_position": null,
      "order": null,
      "overflow": null,
      "overflow_x": null,
      "overflow_y": null,
      "padding": null,
      "right": null,
      "top": null,
      "visibility": null,
      "width": null
     }
    },
    "5949ac16488149c8afa214292d63acd1": {
     "model_module": "@jupyter-widgets/controls",
     "model_name": "VBoxModel",
     "state": {
      "_dom_classes": [],
      "_model_module": "@jupyter-widgets/controls",
      "_model_module_version": "1.5.0",
      "_model_name": "VBoxModel",
      "_view_count": null,
      "_view_module": "@jupyter-widgets/controls",
      "_view_module_version": "1.5.0",
      "_view_name": "VBoxView",
      "box_style": "",
      "children": [
       "IPY_MODEL_ecf08fc0e0c64314bbdf16e257543cc8",
       "IPY_MODEL_b7520d2a3c8f44d5a6637caaffce7a03"
      ],
      "layout": "IPY_MODEL_3074c311040942b881e6264e76a84f26"
     }
    },
    "5e3757a965bc4f7db682b72ea4b56d31": {
     "model_module": "@jupyter-widgets/base",
     "model_name": "LayoutModel",
     "state": {
      "_model_module": "@jupyter-widgets/base",
      "_model_module_version": "1.2.0",
      "_model_name": "LayoutModel",
      "_view_count": null,
      "_view_module": "@jupyter-widgets/base",
      "_view_module_version": "1.2.0",
      "_view_name": "LayoutView",
      "align_content": null,
      "align_items": null,
      "align_self": null,
      "border": null,
      "bottom": null,
      "display": null,
      "flex": null,
      "flex_flow": null,
      "grid_area": null,
      "grid_auto_columns": null,
      "grid_auto_flow": null,
      "grid_auto_rows": null,
      "grid_column": null,
      "grid_gap": null,
      "grid_row": null,
      "grid_template_areas": null,
      "grid_template_columns": null,
      "grid_template_rows": null,
      "height": null,
      "justify_content": null,
      "justify_items": null,
      "left": null,
      "margin": null,
      "max_height": null,
      "max_width": null,
      "min_height": null,
      "min_width": null,
      "object_fit": null,
      "object_position": null,
      "order": null,
      "overflow": null,
      "overflow_x": null,
      "overflow_y": null,
      "padding": null,
      "right": null,
      "top": null,
      "visibility": null,
      "width": null
     }
    },
    "5e814c3f586143f88adf09e66b1f21be": {
     "model_module": "@jupyter-widgets/controls",
     "model_name": "VBoxModel",
     "state": {
      "_dom_classes": [],
      "_model_module": "@jupyter-widgets/controls",
      "_model_module_version": "1.5.0",
      "_model_name": "VBoxModel",
      "_view_count": null,
      "_view_module": "@jupyter-widgets/controls",
      "_view_module_version": "1.5.0",
      "_view_name": "VBoxView",
      "box_style": "",
      "children": [
       "IPY_MODEL_17d00889ee304b6e8f53e558fd617d2b",
       "IPY_MODEL_1f69a0e864f24cedb36cb1d6f22b3354"
      ],
      "layout": "IPY_MODEL_05fc00137178457095999d649c381fc3"
     }
    },
    "6874dea9984d468ea373aa3a736a75b6": {
     "model_module": "@jupyter-widgets/controls",
     "model_name": "ProgressStyleModel",
     "state": {
      "_model_module": "@jupyter-widgets/controls",
      "_model_module_version": "1.5.0",
      "_model_name": "ProgressStyleModel",
      "_view_count": null,
      "_view_module": "@jupyter-widgets/base",
      "_view_module_version": "1.2.0",
      "_view_name": "StyleView",
      "bar_color": null,
      "description_width": ""
     }
    },
    "6994904c4cae4344963526699a1b4679": {
     "model_module": "@jupyter-widgets/controls",
     "model_name": "VBoxModel",
     "state": {
      "_dom_classes": [],
      "_model_module": "@jupyter-widgets/controls",
      "_model_module_version": "1.5.0",
      "_model_name": "VBoxModel",
      "_view_count": null,
      "_view_module": "@jupyter-widgets/controls",
      "_view_module_version": "1.5.0",
      "_view_name": "VBoxView",
      "box_style": "",
      "children": [
       "IPY_MODEL_1a6f733047074753a07f4ed36a2118c0",
       "IPY_MODEL_ba358e4dab4949fe93d5d8d75c2e3587"
      ],
      "layout": "IPY_MODEL_74566a6fd8984840ada06e2abe27834e"
     }
    },
    "69ab81792f514607beddcd69b0093932": {
     "model_module": "@jupyter-widgets/base",
     "model_name": "LayoutModel",
     "state": {
      "_model_module": "@jupyter-widgets/base",
      "_model_module_version": "1.2.0",
      "_model_name": "LayoutModel",
      "_view_count": null,
      "_view_module": "@jupyter-widgets/base",
      "_view_module_version": "1.2.0",
      "_view_name": "LayoutView",
      "align_content": null,
      "align_items": null,
      "align_self": null,
      "border": null,
      "bottom": null,
      "display": null,
      "flex": null,
      "flex_flow": null,
      "grid_area": null,
      "grid_auto_columns": null,
      "grid_auto_flow": null,
      "grid_auto_rows": null,
      "grid_column": null,
      "grid_gap": null,
      "grid_row": null,
      "grid_template_areas": null,
      "grid_template_columns": null,
      "grid_template_rows": null,
      "height": null,
      "justify_content": null,
      "justify_items": null,
      "left": null,
      "margin": null,
      "max_height": null,
      "max_width": null,
      "min_height": null,
      "min_width": null,
      "object_fit": null,
      "object_position": null,
      "order": null,
      "overflow": null,
      "overflow_x": null,
      "overflow_y": null,
      "padding": null,
      "right": null,
      "top": null,
      "visibility": null,
      "width": null
     }
    },
    "6ac20903d612467f8b94600b4f6df54e": {
     "model_module": "@jupyter-widgets/controls",
     "model_name": "FloatProgressModel",
     "state": {
      "_dom_classes": [],
      "_model_module": "@jupyter-widgets/controls",
      "_model_module_version": "1.5.0",
      "_model_name": "FloatProgressModel",
      "_view_count": null,
      "_view_module": "@jupyter-widgets/controls",
      "_view_module_version": "1.5.0",
      "_view_name": "ProgressView",
      "bar_style": "",
      "description": "",
      "description_tooltip": null,
      "layout": "IPY_MODEL_b70c9ef505a6453bbc3475600038c4ed",
      "max": 1,
      "min": 0,
      "orientation": "horizontal",
      "style": "IPY_MODEL_cd6bd7d2ebc74041988ee5c4d4a2181b",
      "value": 1
     }
    },
    "6b7d0acbdcc542e98df5d446d2c38509": {
     "model_module": "@jupyter-widgets/base",
     "model_name": "LayoutModel",
     "state": {
      "_model_module": "@jupyter-widgets/base",
      "_model_module_version": "1.2.0",
      "_model_name": "LayoutModel",
      "_view_count": null,
      "_view_module": "@jupyter-widgets/base",
      "_view_module_version": "1.2.0",
      "_view_name": "LayoutView",
      "align_content": null,
      "align_items": null,
      "align_self": null,
      "border": null,
      "bottom": null,
      "display": null,
      "flex": null,
      "flex_flow": null,
      "grid_area": null,
      "grid_auto_columns": null,
      "grid_auto_flow": null,
      "grid_auto_rows": null,
      "grid_column": null,
      "grid_gap": null,
      "grid_row": null,
      "grid_template_areas": null,
      "grid_template_columns": null,
      "grid_template_rows": null,
      "height": null,
      "justify_content": null,
      "justify_items": null,
      "left": null,
      "margin": null,
      "max_height": null,
      "max_width": null,
      "min_height": null,
      "min_width": null,
      "object_fit": null,
      "object_position": null,
      "order": null,
      "overflow": null,
      "overflow_x": null,
      "overflow_y": null,
      "padding": null,
      "right": null,
      "top": null,
      "visibility": null,
      "width": null
     }
    },
    "6ca8d5703cbc4e458ad70da584873a4c": {
     "model_module": "@jupyter-widgets/controls",
     "model_name": "ProgressStyleModel",
     "state": {
      "_model_module": "@jupyter-widgets/controls",
      "_model_module_version": "1.5.0",
      "_model_name": "ProgressStyleModel",
      "_view_count": null,
      "_view_module": "@jupyter-widgets/base",
      "_view_module_version": "1.2.0",
      "_view_name": "StyleView",
      "bar_color": null,
      "description_width": ""
     }
    },
    "6d5d08e2cb0b431c8a3a5dedc0bd8bb2": {
     "model_module": "@jupyter-widgets/controls",
     "model_name": "DescriptionStyleModel",
     "state": {
      "_model_module": "@jupyter-widgets/controls",
      "_model_module_version": "1.5.0",
      "_model_name": "DescriptionStyleModel",
      "_view_count": null,
      "_view_module": "@jupyter-widgets/base",
      "_view_module_version": "1.2.0",
      "_view_name": "StyleView",
      "description_width": ""
     }
    },
    "70591aaaecde49fb86c6813718904a22": {
     "model_module": "@jupyter-widgets/controls",
     "model_name": "DescriptionStyleModel",
     "state": {
      "_model_module": "@jupyter-widgets/controls",
      "_model_module_version": "1.5.0",
      "_model_name": "DescriptionStyleModel",
      "_view_count": null,
      "_view_module": "@jupyter-widgets/base",
      "_view_module_version": "1.2.0",
      "_view_name": "StyleView",
      "description_width": ""
     }
    },
    "7127cd6f81cb454e8fbe482673199946": {
     "model_module": "@jupyter-widgets/controls",
     "model_name": "FloatProgressModel",
     "state": {
      "_dom_classes": [],
      "_model_module": "@jupyter-widgets/controls",
      "_model_module_version": "1.5.0",
      "_model_name": "FloatProgressModel",
      "_view_count": null,
      "_view_module": "@jupyter-widgets/controls",
      "_view_module_version": "1.5.0",
      "_view_name": "ProgressView",
      "bar_style": "",
      "description": "",
      "description_tooltip": null,
      "layout": "IPY_MODEL_046961a525c34a68b02e4a7934746368",
      "max": 1,
      "min": 0,
      "orientation": "horizontal",
      "style": "IPY_MODEL_98f36503855a4ee392c2cc55f3ea6313",
      "value": 1
     }
    },
    "73b97b17fc8a4c3e9bd0d3f75bd773b5": {
     "model_module": "@jupyter-widgets/controls",
     "model_name": "ProgressStyleModel",
     "state": {
      "_model_module": "@jupyter-widgets/controls",
      "_model_module_version": "1.5.0",
      "_model_name": "ProgressStyleModel",
      "_view_count": null,
      "_view_module": "@jupyter-widgets/base",
      "_view_module_version": "1.2.0",
      "_view_name": "StyleView",
      "bar_color": null,
      "description_width": ""
     }
    },
    "74566a6fd8984840ada06e2abe27834e": {
     "model_module": "@jupyter-widgets/base",
     "model_name": "LayoutModel",
     "state": {
      "_model_module": "@jupyter-widgets/base",
      "_model_module_version": "1.2.0",
      "_model_name": "LayoutModel",
      "_view_count": null,
      "_view_module": "@jupyter-widgets/base",
      "_view_module_version": "1.2.0",
      "_view_name": "LayoutView",
      "align_content": null,
      "align_items": null,
      "align_self": null,
      "border": null,
      "bottom": null,
      "display": null,
      "flex": null,
      "flex_flow": null,
      "grid_area": null,
      "grid_auto_columns": null,
      "grid_auto_flow": null,
      "grid_auto_rows": null,
      "grid_column": null,
      "grid_gap": null,
      "grid_row": null,
      "grid_template_areas": null,
      "grid_template_columns": null,
      "grid_template_rows": null,
      "height": null,
      "justify_content": null,
      "justify_items": null,
      "left": null,
      "margin": null,
      "max_height": null,
      "max_width": null,
      "min_height": null,
      "min_width": null,
      "object_fit": null,
      "object_position": null,
      "order": null,
      "overflow": null,
      "overflow_x": null,
      "overflow_y": null,
      "padding": null,
      "right": null,
      "top": null,
      "visibility": null,
      "width": null
     }
    },
    "799683a9f1f74d8f938c7aece23918d2": {
     "model_module": "@jupyter-widgets/base",
     "model_name": "LayoutModel",
     "state": {
      "_model_module": "@jupyter-widgets/base",
      "_model_module_version": "1.2.0",
      "_model_name": "LayoutModel",
      "_view_count": null,
      "_view_module": "@jupyter-widgets/base",
      "_view_module_version": "1.2.0",
      "_view_name": "LayoutView",
      "align_content": null,
      "align_items": null,
      "align_self": null,
      "border": null,
      "bottom": null,
      "display": null,
      "flex": null,
      "flex_flow": null,
      "grid_area": null,
      "grid_auto_columns": null,
      "grid_auto_flow": null,
      "grid_auto_rows": null,
      "grid_column": null,
      "grid_gap": null,
      "grid_row": null,
      "grid_template_areas": null,
      "grid_template_columns": null,
      "grid_template_rows": null,
      "height": null,
      "justify_content": null,
      "justify_items": null,
      "left": null,
      "margin": null,
      "max_height": null,
      "max_width": null,
      "min_height": null,
      "min_width": null,
      "object_fit": null,
      "object_position": null,
      "order": null,
      "overflow": null,
      "overflow_x": null,
      "overflow_y": null,
      "padding": null,
      "right": null,
      "top": null,
      "visibility": null,
      "width": null
     }
    },
    "7bf2d6b0c0dd450293789cbf98a98d85": {
     "model_module": "@jupyter-widgets/base",
     "model_name": "LayoutModel",
     "state": {
      "_model_module": "@jupyter-widgets/base",
      "_model_module_version": "1.2.0",
      "_model_name": "LayoutModel",
      "_view_count": null,
      "_view_module": "@jupyter-widgets/base",
      "_view_module_version": "1.2.0",
      "_view_name": "LayoutView",
      "align_content": null,
      "align_items": null,
      "align_self": null,
      "border": null,
      "bottom": null,
      "display": null,
      "flex": null,
      "flex_flow": null,
      "grid_area": null,
      "grid_auto_columns": null,
      "grid_auto_flow": null,
      "grid_auto_rows": null,
      "grid_column": null,
      "grid_gap": null,
      "grid_row": null,
      "grid_template_areas": null,
      "grid_template_columns": null,
      "grid_template_rows": null,
      "height": null,
      "justify_content": null,
      "justify_items": null,
      "left": null,
      "margin": null,
      "max_height": null,
      "max_width": null,
      "min_height": null,
      "min_width": null,
      "object_fit": null,
      "object_position": null,
      "order": null,
      "overflow": null,
      "overflow_x": null,
      "overflow_y": null,
      "padding": null,
      "right": null,
      "top": null,
      "visibility": null,
      "width": null
     }
    },
    "7de602801e6a4025a0ab032efbe08a3e": {
     "model_module": "@jupyter-widgets/controls",
     "model_name": "DescriptionStyleModel",
     "state": {
      "_model_module": "@jupyter-widgets/controls",
      "_model_module_version": "1.5.0",
      "_model_name": "DescriptionStyleModel",
      "_view_count": null,
      "_view_module": "@jupyter-widgets/base",
      "_view_module_version": "1.2.0",
      "_view_name": "StyleView",
      "description_width": ""
     }
    },
    "802826ebecc54d389bddaef39bea359d": {
     "model_module": "@jupyter-widgets/controls",
     "model_name": "ProgressStyleModel",
     "state": {
      "_model_module": "@jupyter-widgets/controls",
      "_model_module_version": "1.5.0",
      "_model_name": "ProgressStyleModel",
      "_view_count": null,
      "_view_module": "@jupyter-widgets/base",
      "_view_module_version": "1.2.0",
      "_view_name": "StyleView",
      "bar_color": null,
      "description_width": ""
     }
    },
    "833e0908e16f4d55a80afb93110ef87d": {
     "model_module": "@jupyter-widgets/controls",
     "model_name": "FloatProgressModel",
     "state": {
      "_dom_classes": [],
      "_model_module": "@jupyter-widgets/controls",
      "_model_module_version": "1.5.0",
      "_model_name": "FloatProgressModel",
      "_view_count": null,
      "_view_module": "@jupyter-widgets/controls",
      "_view_module_version": "1.5.0",
      "_view_name": "ProgressView",
      "bar_style": "",
      "description": "",
      "description_tooltip": null,
      "layout": "IPY_MODEL_46e2bc1546c843cebc90ca1940f3837b",
      "max": 1,
      "min": 0,
      "orientation": "horizontal",
      "style": "IPY_MODEL_17f3b055e84b46f5b24a00db3411bb68",
      "value": 1
     }
    },
    "8a2bb057fc56414e84a7c16c3247cc9b": {
     "model_module": "@jupyter-widgets/controls",
     "model_name": "VBoxModel",
     "state": {
      "_dom_classes": [],
      "_model_module": "@jupyter-widgets/controls",
      "_model_module_version": "1.5.0",
      "_model_name": "VBoxModel",
      "_view_count": null,
      "_view_module": "@jupyter-widgets/controls",
      "_view_module_version": "1.5.0",
      "_view_name": "VBoxView",
      "box_style": "",
      "children": [
       "IPY_MODEL_dcad92a8274e4eb581e670381b3c83d8",
       "IPY_MODEL_a62404f4ba4949b6aa56bcc0bc0220a0"
      ],
      "layout": "IPY_MODEL_5e3757a965bc4f7db682b72ea4b56d31"
     }
    },
    "8aa6175f46784afdb396c8726f3a969d": {
     "model_module": "@jupyter-widgets/base",
     "model_name": "LayoutModel",
     "state": {
      "_model_module": "@jupyter-widgets/base",
      "_model_module_version": "1.2.0",
      "_model_name": "LayoutModel",
      "_view_count": null,
      "_view_module": "@jupyter-widgets/base",
      "_view_module_version": "1.2.0",
      "_view_name": "LayoutView",
      "align_content": null,
      "align_items": null,
      "align_self": null,
      "border": null,
      "bottom": null,
      "display": null,
      "flex": null,
      "flex_flow": null,
      "grid_area": null,
      "grid_auto_columns": null,
      "grid_auto_flow": null,
      "grid_auto_rows": null,
      "grid_column": null,
      "grid_gap": null,
      "grid_row": null,
      "grid_template_areas": null,
      "grid_template_columns": null,
      "grid_template_rows": null,
      "height": null,
      "justify_content": null,
      "justify_items": null,
      "left": null,
      "margin": null,
      "max_height": null,
      "max_width": null,
      "min_height": null,
      "min_width": null,
      "object_fit": null,
      "object_position": null,
      "order": null,
      "overflow": null,
      "overflow_x": null,
      "overflow_y": null,
      "padding": null,
      "right": null,
      "top": null,
      "visibility": null,
      "width": null
     }
    },
    "8ea87935484c4f22989a8ddd177a5a74": {
     "model_module": "@jupyter-widgets/controls",
     "model_name": "VBoxModel",
     "state": {
      "_dom_classes": [],
      "_model_module": "@jupyter-widgets/controls",
      "_model_module_version": "1.5.0",
      "_model_name": "VBoxModel",
      "_view_count": null,
      "_view_module": "@jupyter-widgets/controls",
      "_view_module_version": "1.5.0",
      "_view_name": "VBoxView",
      "box_style": "",
      "children": [
       "IPY_MODEL_a0baadec6f17418aac18c2fc88c94ed9",
       "IPY_MODEL_2a4ba4f6a28b4c61859e2bcbb2f16e70"
      ],
      "layout": "IPY_MODEL_04e5919a6ea7477b9c06d91b78852356"
     }
    },
    "9240cef1f69a4e5aa195da8affcbfeed": {
     "model_module": "@jupyter-widgets/controls",
     "model_name": "LabelModel",
     "state": {
      "_dom_classes": [],
      "_model_module": "@jupyter-widgets/controls",
      "_model_module_version": "1.5.0",
      "_model_name": "LabelModel",
      "_view_count": null,
      "_view_module": "@jupyter-widgets/controls",
      "_view_module_version": "1.5.0",
      "_view_name": "LabelView",
      "description": "",
      "description_tooltip": null,
      "layout": "IPY_MODEL_dec771ec49fa44d9b4284216049362ce",
      "placeholder": "​",
      "style": "IPY_MODEL_2d2e996eb8b542e0b8a9d753d6bbc7b8",
      "value": " 0.01MB of 0.01MB uploaded (0.00MB deduped)\r"
     }
    },
    "92b37958cbb749458e133aeb7e52f9aa": {
     "model_module": "@jupyter-widgets/base",
     "model_name": "LayoutModel",
     "state": {
      "_model_module": "@jupyter-widgets/base",
      "_model_module_version": "1.2.0",
      "_model_name": "LayoutModel",
      "_view_count": null,
      "_view_module": "@jupyter-widgets/base",
      "_view_module_version": "1.2.0",
      "_view_name": "LayoutView",
      "align_content": null,
      "align_items": null,
      "align_self": null,
      "border": null,
      "bottom": null,
      "display": null,
      "flex": null,
      "flex_flow": null,
      "grid_area": null,
      "grid_auto_columns": null,
      "grid_auto_flow": null,
      "grid_auto_rows": null,
      "grid_column": null,
      "grid_gap": null,
      "grid_row": null,
      "grid_template_areas": null,
      "grid_template_columns": null,
      "grid_template_rows": null,
      "height": null,
      "justify_content": null,
      "justify_items": null,
      "left": null,
      "margin": null,
      "max_height": null,
      "max_width": null,
      "min_height": null,
      "min_width": null,
      "object_fit": null,
      "object_position": null,
      "order": null,
      "overflow": null,
      "overflow_x": null,
      "overflow_y": null,
      "padding": null,
      "right": null,
      "top": null,
      "visibility": null,
      "width": null
     }
    },
    "98f36503855a4ee392c2cc55f3ea6313": {
     "model_module": "@jupyter-widgets/controls",
     "model_name": "ProgressStyleModel",
     "state": {
      "_model_module": "@jupyter-widgets/controls",
      "_model_module_version": "1.5.0",
      "_model_name": "ProgressStyleModel",
      "_view_count": null,
      "_view_module": "@jupyter-widgets/base",
      "_view_module_version": "1.2.0",
      "_view_name": "StyleView",
      "bar_color": null,
      "description_width": ""
     }
    },
    "995f415c2420484ca11bbf81c0598d75": {
     "model_module": "@jupyter-widgets/base",
     "model_name": "LayoutModel",
     "state": {
      "_model_module": "@jupyter-widgets/base",
      "_model_module_version": "1.2.0",
      "_model_name": "LayoutModel",
      "_view_count": null,
      "_view_module": "@jupyter-widgets/base",
      "_view_module_version": "1.2.0",
      "_view_name": "LayoutView",
      "align_content": null,
      "align_items": null,
      "align_self": null,
      "border": null,
      "bottom": null,
      "display": null,
      "flex": null,
      "flex_flow": null,
      "grid_area": null,
      "grid_auto_columns": null,
      "grid_auto_flow": null,
      "grid_auto_rows": null,
      "grid_column": null,
      "grid_gap": null,
      "grid_row": null,
      "grid_template_areas": null,
      "grid_template_columns": null,
      "grid_template_rows": null,
      "height": null,
      "justify_content": null,
      "justify_items": null,
      "left": null,
      "margin": null,
      "max_height": null,
      "max_width": null,
      "min_height": null,
      "min_width": null,
      "object_fit": null,
      "object_position": null,
      "order": null,
      "overflow": null,
      "overflow_x": null,
      "overflow_y": null,
      "padding": null,
      "right": null,
      "top": null,
      "visibility": null,
      "width": null
     }
    },
    "9977c3bee74841d9be794d5b85da9cc3": {
     "model_module": "@jupyter-widgets/controls",
     "model_name": "DescriptionStyleModel",
     "state": {
      "_model_module": "@jupyter-widgets/controls",
      "_model_module_version": "1.5.0",
      "_model_name": "DescriptionStyleModel",
      "_view_count": null,
      "_view_module": "@jupyter-widgets/base",
      "_view_module_version": "1.2.0",
      "_view_name": "StyleView",
      "description_width": ""
     }
    },
    "a0baadec6f17418aac18c2fc88c94ed9": {
     "model_module": "@jupyter-widgets/controls",
     "model_name": "LabelModel",
     "state": {
      "_dom_classes": [],
      "_model_module": "@jupyter-widgets/controls",
      "_model_module_version": "1.5.0",
      "_model_name": "LabelModel",
      "_view_count": null,
      "_view_module": "@jupyter-widgets/controls",
      "_view_module_version": "1.5.0",
      "_view_name": "LabelView",
      "description": "",
      "description_tooltip": null,
      "layout": "IPY_MODEL_32da031bb378495ea0f6b3709a53c5f1",
      "placeholder": "​",
      "style": "IPY_MODEL_70591aaaecde49fb86c6813718904a22",
      "value": " 0.01MB of 0.01MB uploaded (0.00MB deduped)\r"
     }
    },
    "a244b38f5b65475ba6ccc37de4dd1969": {
     "model_module": "@jupyter-widgets/controls",
     "model_name": "LabelModel",
     "state": {
      "_dom_classes": [],
      "_model_module": "@jupyter-widgets/controls",
      "_model_module_version": "1.5.0",
      "_model_name": "LabelModel",
      "_view_count": null,
      "_view_module": "@jupyter-widgets/controls",
      "_view_module_version": "1.5.0",
      "_view_name": "LabelView",
      "description": "",
      "description_tooltip": null,
      "layout": "IPY_MODEL_4e81211c4b5a4317b699694e33fef945",
      "placeholder": "​",
      "style": "IPY_MODEL_387ef958582e47cbb3cb2b4e71fa8931",
      "value": " 0.01MB of 0.01MB uploaded (0.00MB deduped)\r"
     }
    },
    "a62404f4ba4949b6aa56bcc0bc0220a0": {
     "model_module": "@jupyter-widgets/controls",
     "model_name": "FloatProgressModel",
     "state": {
      "_dom_classes": [],
      "_model_module": "@jupyter-widgets/controls",
      "_model_module_version": "1.5.0",
      "_model_name": "FloatProgressModel",
      "_view_count": null,
      "_view_module": "@jupyter-widgets/controls",
      "_view_module_version": "1.5.0",
      "_view_name": "ProgressView",
      "bar_style": "",
      "description": "",
      "description_tooltip": null,
      "layout": "IPY_MODEL_c0a6265a624b4c41903901e8476dc3aa",
      "max": 1,
      "min": 0,
      "orientation": "horizontal",
      "style": "IPY_MODEL_802826ebecc54d389bddaef39bea359d",
      "value": 1
     }
    },
    "aaf3e40350374cddb3eb5f5e06014130": {
     "model_module": "@jupyter-widgets/base",
     "model_name": "LayoutModel",
     "state": {
      "_model_module": "@jupyter-widgets/base",
      "_model_module_version": "1.2.0",
      "_model_name": "LayoutModel",
      "_view_count": null,
      "_view_module": "@jupyter-widgets/base",
      "_view_module_version": "1.2.0",
      "_view_name": "LayoutView",
      "align_content": null,
      "align_items": null,
      "align_self": null,
      "border": null,
      "bottom": null,
      "display": null,
      "flex": null,
      "flex_flow": null,
      "grid_area": null,
      "grid_auto_columns": null,
      "grid_auto_flow": null,
      "grid_auto_rows": null,
      "grid_column": null,
      "grid_gap": null,
      "grid_row": null,
      "grid_template_areas": null,
      "grid_template_columns": null,
      "grid_template_rows": null,
      "height": null,
      "justify_content": null,
      "justify_items": null,
      "left": null,
      "margin": null,
      "max_height": null,
      "max_width": null,
      "min_height": null,
      "min_width": null,
      "object_fit": null,
      "object_position": null,
      "order": null,
      "overflow": null,
      "overflow_x": null,
      "overflow_y": null,
      "padding": null,
      "right": null,
      "top": null,
      "visibility": null,
      "width": null
     }
    },
    "b1087d6444ef429d8f633b3d4b1178ee": {
     "model_module": "@jupyter-widgets/controls",
     "model_name": "FloatProgressModel",
     "state": {
      "_dom_classes": [],
      "_model_module": "@jupyter-widgets/controls",
      "_model_module_version": "1.5.0",
      "_model_name": "FloatProgressModel",
      "_view_count": null,
      "_view_module": "@jupyter-widgets/controls",
      "_view_module_version": "1.5.0",
      "_view_name": "ProgressView",
      "bar_style": "",
      "description": "",
      "description_tooltip": null,
      "layout": "IPY_MODEL_3855f289c861474984ef86638dfe9a7c",
      "max": 1,
      "min": 0,
      "orientation": "horizontal",
      "style": "IPY_MODEL_3699c26d624c47428dfdff795fd52260",
      "value": 1
     }
    },
    "b2558642b69c4eebba0613e4e32da280": {
     "model_module": "@jupyter-widgets/controls",
     "model_name": "LabelModel",
     "state": {
      "_dom_classes": [],
      "_model_module": "@jupyter-widgets/controls",
      "_model_module_version": "1.5.0",
      "_model_name": "LabelModel",
      "_view_count": null,
      "_view_module": "@jupyter-widgets/controls",
      "_view_module_version": "1.5.0",
      "_view_name": "LabelView",
      "description": "",
      "description_tooltip": null,
      "layout": "IPY_MODEL_d45d917eab2241e9a0496348c7b7997b",
      "placeholder": "​",
      "style": "IPY_MODEL_6d5d08e2cb0b431c8a3a5dedc0bd8bb2",
      "value": " 0.01MB of 0.01MB uploaded (0.00MB deduped)\r"
     }
    },
    "b5940a7518a6461eae87ff0c793d560c": {
     "model_module": "@jupyter-widgets/base",
     "model_name": "LayoutModel",
     "state": {
      "_model_module": "@jupyter-widgets/base",
      "_model_module_version": "1.2.0",
      "_model_name": "LayoutModel",
      "_view_count": null,
      "_view_module": "@jupyter-widgets/base",
      "_view_module_version": "1.2.0",
      "_view_name": "LayoutView",
      "align_content": null,
      "align_items": null,
      "align_self": null,
      "border": null,
      "bottom": null,
      "display": null,
      "flex": null,
      "flex_flow": null,
      "grid_area": null,
      "grid_auto_columns": null,
      "grid_auto_flow": null,
      "grid_auto_rows": null,
      "grid_column": null,
      "grid_gap": null,
      "grid_row": null,
      "grid_template_areas": null,
      "grid_template_columns": null,
      "grid_template_rows": null,
      "height": null,
      "justify_content": null,
      "justify_items": null,
      "left": null,
      "margin": null,
      "max_height": null,
      "max_width": null,
      "min_height": null,
      "min_width": null,
      "object_fit": null,
      "object_position": null,
      "order": null,
      "overflow": null,
      "overflow_x": null,
      "overflow_y": null,
      "padding": null,
      "right": null,
      "top": null,
      "visibility": null,
      "width": null
     }
    },
    "b6034a35b1e84ac9a655842aedb737dd": {
     "model_module": "@jupyter-widgets/controls",
     "model_name": "VBoxModel",
     "state": {
      "_dom_classes": [],
      "_model_module": "@jupyter-widgets/controls",
      "_model_module_version": "1.5.0",
      "_model_name": "VBoxModel",
      "_view_count": null,
      "_view_module": "@jupyter-widgets/controls",
      "_view_module_version": "1.5.0",
      "_view_name": "VBoxView",
      "box_style": "",
      "children": [
       "IPY_MODEL_a244b38f5b65475ba6ccc37de4dd1969",
       "IPY_MODEL_2eb28a0ccdda4bed982b905e98fabc6c"
      ],
      "layout": "IPY_MODEL_ca5deb2c7d5c4af1b8630835903738ab"
     }
    },
    "b61af2b39f1743d88aee99460d2944bc": {
     "model_module": "@jupyter-widgets/controls",
     "model_name": "LabelModel",
     "state": {
      "_dom_classes": [],
      "_model_module": "@jupyter-widgets/controls",
      "_model_module_version": "1.5.0",
      "_model_name": "LabelModel",
      "_view_count": null,
      "_view_module": "@jupyter-widgets/controls",
      "_view_module_version": "1.5.0",
      "_view_name": "LabelView",
      "description": "",
      "description_tooltip": null,
      "layout": "IPY_MODEL_f5ef0e75a3e04026a7f2a5ce4673cb20",
      "placeholder": "​",
      "style": "IPY_MODEL_9977c3bee74841d9be794d5b85da9cc3",
      "value": " 0.01MB of 0.01MB uploaded (0.00MB deduped)\r"
     }
    },
    "b70c9ef505a6453bbc3475600038c4ed": {
     "model_module": "@jupyter-widgets/base",
     "model_name": "LayoutModel",
     "state": {
      "_model_module": "@jupyter-widgets/base",
      "_model_module_version": "1.2.0",
      "_model_name": "LayoutModel",
      "_view_count": null,
      "_view_module": "@jupyter-widgets/base",
      "_view_module_version": "1.2.0",
      "_view_name": "LayoutView",
      "align_content": null,
      "align_items": null,
      "align_self": null,
      "border": null,
      "bottom": null,
      "display": null,
      "flex": null,
      "flex_flow": null,
      "grid_area": null,
      "grid_auto_columns": null,
      "grid_auto_flow": null,
      "grid_auto_rows": null,
      "grid_column": null,
      "grid_gap": null,
      "grid_row": null,
      "grid_template_areas": null,
      "grid_template_columns": null,
      "grid_template_rows": null,
      "height": null,
      "justify_content": null,
      "justify_items": null,
      "left": null,
      "margin": null,
      "max_height": null,
      "max_width": null,
      "min_height": null,
      "min_width": null,
      "object_fit": null,
      "object_position": null,
      "order": null,
      "overflow": null,
      "overflow_x": null,
      "overflow_y": null,
      "padding": null,
      "right": null,
      "top": null,
      "visibility": null,
      "width": null
     }
    },
    "b7520d2a3c8f44d5a6637caaffce7a03": {
     "model_module": "@jupyter-widgets/controls",
     "model_name": "FloatProgressModel",
     "state": {
      "_dom_classes": [],
      "_model_module": "@jupyter-widgets/controls",
      "_model_module_version": "1.5.0",
      "_model_name": "FloatProgressModel",
      "_view_count": null,
      "_view_module": "@jupyter-widgets/controls",
      "_view_module_version": "1.5.0",
      "_view_name": "ProgressView",
      "bar_style": "",
      "description": "",
      "description_tooltip": null,
      "layout": "IPY_MODEL_cdac31bde1434882879137ba8c309991",
      "max": 1,
      "min": 0,
      "orientation": "horizontal",
      "style": "IPY_MODEL_26e7006e539b43248c47be8066e0da11",
      "value": 1
     }
    },
    "ba358e4dab4949fe93d5d8d75c2e3587": {
     "model_module": "@jupyter-widgets/controls",
     "model_name": "FloatProgressModel",
     "state": {
      "_dom_classes": [],
      "_model_module": "@jupyter-widgets/controls",
      "_model_module_version": "1.5.0",
      "_model_name": "FloatProgressModel",
      "_view_count": null,
      "_view_module": "@jupyter-widgets/controls",
      "_view_module_version": "1.5.0",
      "_view_name": "ProgressView",
      "bar_style": "",
      "description": "",
      "description_tooltip": null,
      "layout": "IPY_MODEL_6b7d0acbdcc542e98df5d446d2c38509",
      "max": 1,
      "min": 0,
      "orientation": "horizontal",
      "style": "IPY_MODEL_6874dea9984d468ea373aa3a736a75b6",
      "value": 1
     }
    },
    "c0a6265a624b4c41903901e8476dc3aa": {
     "model_module": "@jupyter-widgets/base",
     "model_name": "LayoutModel",
     "state": {
      "_model_module": "@jupyter-widgets/base",
      "_model_module_version": "1.2.0",
      "_model_name": "LayoutModel",
      "_view_count": null,
      "_view_module": "@jupyter-widgets/base",
      "_view_module_version": "1.2.0",
      "_view_name": "LayoutView",
      "align_content": null,
      "align_items": null,
      "align_self": null,
      "border": null,
      "bottom": null,
      "display": null,
      "flex": null,
      "flex_flow": null,
      "grid_area": null,
      "grid_auto_columns": null,
      "grid_auto_flow": null,
      "grid_auto_rows": null,
      "grid_column": null,
      "grid_gap": null,
      "grid_row": null,
      "grid_template_areas": null,
      "grid_template_columns": null,
      "grid_template_rows": null,
      "height": null,
      "justify_content": null,
      "justify_items": null,
      "left": null,
      "margin": null,
      "max_height": null,
      "max_width": null,
      "min_height": null,
      "min_width": null,
      "object_fit": null,
      "object_position": null,
      "order": null,
      "overflow": null,
      "overflow_x": null,
      "overflow_y": null,
      "padding": null,
      "right": null,
      "top": null,
      "visibility": null,
      "width": null
     }
    },
    "c65d2ef3761d45018db418edb86950a0": {
     "model_module": "@jupyter-widgets/controls",
     "model_name": "LabelModel",
     "state": {
      "_dom_classes": [],
      "_model_module": "@jupyter-widgets/controls",
      "_model_module_version": "1.5.0",
      "_model_name": "LabelModel",
      "_view_count": null,
      "_view_module": "@jupyter-widgets/controls",
      "_view_module_version": "1.5.0",
      "_view_name": "LabelView",
      "description": "",
      "description_tooltip": null,
      "layout": "IPY_MODEL_1634004f9bb74144b8c8102f437b3e4d",
      "placeholder": "​",
      "style": "IPY_MODEL_7de602801e6a4025a0ab032efbe08a3e",
      "value": " 0.01MB of 0.01MB uploaded (0.00MB deduped)\r"
     }
    },
    "ca5deb2c7d5c4af1b8630835903738ab": {
     "model_module": "@jupyter-widgets/base",
     "model_name": "LayoutModel",
     "state": {
      "_model_module": "@jupyter-widgets/base",
      "_model_module_version": "1.2.0",
      "_model_name": "LayoutModel",
      "_view_count": null,
      "_view_module": "@jupyter-widgets/base",
      "_view_module_version": "1.2.0",
      "_view_name": "LayoutView",
      "align_content": null,
      "align_items": null,
      "align_self": null,
      "border": null,
      "bottom": null,
      "display": null,
      "flex": null,
      "flex_flow": null,
      "grid_area": null,
      "grid_auto_columns": null,
      "grid_auto_flow": null,
      "grid_auto_rows": null,
      "grid_column": null,
      "grid_gap": null,
      "grid_row": null,
      "grid_template_areas": null,
      "grid_template_columns": null,
      "grid_template_rows": null,
      "height": null,
      "justify_content": null,
      "justify_items": null,
      "left": null,
      "margin": null,
      "max_height": null,
      "max_width": null,
      "min_height": null,
      "min_width": null,
      "object_fit": null,
      "object_position": null,
      "order": null,
      "overflow": null,
      "overflow_x": null,
      "overflow_y": null,
      "padding": null,
      "right": null,
      "top": null,
      "visibility": null,
      "width": null
     }
    },
    "cd6bd7d2ebc74041988ee5c4d4a2181b": {
     "model_module": "@jupyter-widgets/controls",
     "model_name": "ProgressStyleModel",
     "state": {
      "_model_module": "@jupyter-widgets/controls",
      "_model_module_version": "1.5.0",
      "_model_name": "ProgressStyleModel",
      "_view_count": null,
      "_view_module": "@jupyter-widgets/base",
      "_view_module_version": "1.2.0",
      "_view_name": "StyleView",
      "bar_color": null,
      "description_width": ""
     }
    },
    "cdac31bde1434882879137ba8c309991": {
     "model_module": "@jupyter-widgets/base",
     "model_name": "LayoutModel",
     "state": {
      "_model_module": "@jupyter-widgets/base",
      "_model_module_version": "1.2.0",
      "_model_name": "LayoutModel",
      "_view_count": null,
      "_view_module": "@jupyter-widgets/base",
      "_view_module_version": "1.2.0",
      "_view_name": "LayoutView",
      "align_content": null,
      "align_items": null,
      "align_self": null,
      "border": null,
      "bottom": null,
      "display": null,
      "flex": null,
      "flex_flow": null,
      "grid_area": null,
      "grid_auto_columns": null,
      "grid_auto_flow": null,
      "grid_auto_rows": null,
      "grid_column": null,
      "grid_gap": null,
      "grid_row": null,
      "grid_template_areas": null,
      "grid_template_columns": null,
      "grid_template_rows": null,
      "height": null,
      "justify_content": null,
      "justify_items": null,
      "left": null,
      "margin": null,
      "max_height": null,
      "max_width": null,
      "min_height": null,
      "min_width": null,
      "object_fit": null,
      "object_position": null,
      "order": null,
      "overflow": null,
      "overflow_x": null,
      "overflow_y": null,
      "padding": null,
      "right": null,
      "top": null,
      "visibility": null,
      "width": null
     }
    },
    "ce16f0ac08f44b8f87c2a7eae14afc94": {
     "model_module": "@jupyter-widgets/controls",
     "model_name": "DescriptionStyleModel",
     "state": {
      "_model_module": "@jupyter-widgets/controls",
      "_model_module_version": "1.5.0",
      "_model_name": "DescriptionStyleModel",
      "_view_count": null,
      "_view_module": "@jupyter-widgets/base",
      "_view_module_version": "1.2.0",
      "_view_name": "StyleView",
      "description_width": ""
     }
    },
    "d45d917eab2241e9a0496348c7b7997b": {
     "model_module": "@jupyter-widgets/base",
     "model_name": "LayoutModel",
     "state": {
      "_model_module": "@jupyter-widgets/base",
      "_model_module_version": "1.2.0",
      "_model_name": "LayoutModel",
      "_view_count": null,
      "_view_module": "@jupyter-widgets/base",
      "_view_module_version": "1.2.0",
      "_view_name": "LayoutView",
      "align_content": null,
      "align_items": null,
      "align_self": null,
      "border": null,
      "bottom": null,
      "display": null,
      "flex": null,
      "flex_flow": null,
      "grid_area": null,
      "grid_auto_columns": null,
      "grid_auto_flow": null,
      "grid_auto_rows": null,
      "grid_column": null,
      "grid_gap": null,
      "grid_row": null,
      "grid_template_areas": null,
      "grid_template_columns": null,
      "grid_template_rows": null,
      "height": null,
      "justify_content": null,
      "justify_items": null,
      "left": null,
      "margin": null,
      "max_height": null,
      "max_width": null,
      "min_height": null,
      "min_width": null,
      "object_fit": null,
      "object_position": null,
      "order": null,
      "overflow": null,
      "overflow_x": null,
      "overflow_y": null,
      "padding": null,
      "right": null,
      "top": null,
      "visibility": null,
      "width": null
     }
    },
    "d4ef8cfd4e274d5885a79ff8bdaa9f2d": {
     "model_module": "@jupyter-widgets/controls",
     "model_name": "DescriptionStyleModel",
     "state": {
      "_model_module": "@jupyter-widgets/controls",
      "_model_module_version": "1.5.0",
      "_model_name": "DescriptionStyleModel",
      "_view_count": null,
      "_view_module": "@jupyter-widgets/base",
      "_view_module_version": "1.2.0",
      "_view_name": "StyleView",
      "description_width": ""
     }
    },
    "d80ba04c43204fe8af9f9500d9439430": {
     "model_module": "@jupyter-widgets/controls",
     "model_name": "VBoxModel",
     "state": {
      "_dom_classes": [],
      "_model_module": "@jupyter-widgets/controls",
      "_model_module_version": "1.5.0",
      "_model_name": "VBoxModel",
      "_view_count": null,
      "_view_module": "@jupyter-widgets/controls",
      "_view_module_version": "1.5.0",
      "_view_name": "VBoxView",
      "box_style": "",
      "children": [
       "IPY_MODEL_b61af2b39f1743d88aee99460d2944bc",
       "IPY_MODEL_833e0908e16f4d55a80afb93110ef87d"
      ],
      "layout": "IPY_MODEL_eb62a6a555e946e0979f0435f6440c14"
     }
    },
    "da37dc822174482eb13e82aa577c782f": {
     "model_module": "@jupyter-widgets/base",
     "model_name": "LayoutModel",
     "state": {
      "_model_module": "@jupyter-widgets/base",
      "_model_module_version": "1.2.0",
      "_model_name": "LayoutModel",
      "_view_count": null,
      "_view_module": "@jupyter-widgets/base",
      "_view_module_version": "1.2.0",
      "_view_name": "LayoutView",
      "align_content": null,
      "align_items": null,
      "align_self": null,
      "border": null,
      "bottom": null,
      "display": null,
      "flex": null,
      "flex_flow": null,
      "grid_area": null,
      "grid_auto_columns": null,
      "grid_auto_flow": null,
      "grid_auto_rows": null,
      "grid_column": null,
      "grid_gap": null,
      "grid_row": null,
      "grid_template_areas": null,
      "grid_template_columns": null,
      "grid_template_rows": null,
      "height": null,
      "justify_content": null,
      "justify_items": null,
      "left": null,
      "margin": null,
      "max_height": null,
      "max_width": null,
      "min_height": null,
      "min_width": null,
      "object_fit": null,
      "object_position": null,
      "order": null,
      "overflow": null,
      "overflow_x": null,
      "overflow_y": null,
      "padding": null,
      "right": null,
      "top": null,
      "visibility": null,
      "width": null
     }
    },
    "dcad92a8274e4eb581e670381b3c83d8": {
     "model_module": "@jupyter-widgets/controls",
     "model_name": "LabelModel",
     "state": {
      "_dom_classes": [],
      "_model_module": "@jupyter-widgets/controls",
      "_model_module_version": "1.5.0",
      "_model_name": "LabelModel",
      "_view_count": null,
      "_view_module": "@jupyter-widgets/controls",
      "_view_module_version": "1.5.0",
      "_view_name": "LabelView",
      "description": "",
      "description_tooltip": null,
      "layout": "IPY_MODEL_92b37958cbb749458e133aeb7e52f9aa",
      "placeholder": "​",
      "style": "IPY_MODEL_397e381d680a4f04b81be704d30384c7",
      "value": " 0.01MB of 0.01MB uploaded (0.00MB deduped)\r"
     }
    },
    "dec771ec49fa44d9b4284216049362ce": {
     "model_module": "@jupyter-widgets/base",
     "model_name": "LayoutModel",
     "state": {
      "_model_module": "@jupyter-widgets/base",
      "_model_module_version": "1.2.0",
      "_model_name": "LayoutModel",
      "_view_count": null,
      "_view_module": "@jupyter-widgets/base",
      "_view_module_version": "1.2.0",
      "_view_name": "LayoutView",
      "align_content": null,
      "align_items": null,
      "align_self": null,
      "border": null,
      "bottom": null,
      "display": null,
      "flex": null,
      "flex_flow": null,
      "grid_area": null,
      "grid_auto_columns": null,
      "grid_auto_flow": null,
      "grid_auto_rows": null,
      "grid_column": null,
      "grid_gap": null,
      "grid_row": null,
      "grid_template_areas": null,
      "grid_template_columns": null,
      "grid_template_rows": null,
      "height": null,
      "justify_content": null,
      "justify_items": null,
      "left": null,
      "margin": null,
      "max_height": null,
      "max_width": null,
      "min_height": null,
      "min_width": null,
      "object_fit": null,
      "object_position": null,
      "order": null,
      "overflow": null,
      "overflow_x": null,
      "overflow_y": null,
      "padding": null,
      "right": null,
      "top": null,
      "visibility": null,
      "width": null
     }
    },
    "e4d53fb9e895450c9f309fc9c462fdd6": {
     "model_module": "@jupyter-widgets/base",
     "model_name": "LayoutModel",
     "state": {
      "_model_module": "@jupyter-widgets/base",
      "_model_module_version": "1.2.0",
      "_model_name": "LayoutModel",
      "_view_count": null,
      "_view_module": "@jupyter-widgets/base",
      "_view_module_version": "1.2.0",
      "_view_name": "LayoutView",
      "align_content": null,
      "align_items": null,
      "align_self": null,
      "border": null,
      "bottom": null,
      "display": null,
      "flex": null,
      "flex_flow": null,
      "grid_area": null,
      "grid_auto_columns": null,
      "grid_auto_flow": null,
      "grid_auto_rows": null,
      "grid_column": null,
      "grid_gap": null,
      "grid_row": null,
      "grid_template_areas": null,
      "grid_template_columns": null,
      "grid_template_rows": null,
      "height": null,
      "justify_content": null,
      "justify_items": null,
      "left": null,
      "margin": null,
      "max_height": null,
      "max_width": null,
      "min_height": null,
      "min_width": null,
      "object_fit": null,
      "object_position": null,
      "order": null,
      "overflow": null,
      "overflow_x": null,
      "overflow_y": null,
      "padding": null,
      "right": null,
      "top": null,
      "visibility": null,
      "width": null
     }
    },
    "e8aa7986cbd9430ca386ff473bef40db": {
     "model_module": "@jupyter-widgets/controls",
     "model_name": "VBoxModel",
     "state": {
      "_dom_classes": [],
      "_model_module": "@jupyter-widgets/controls",
      "_model_module_version": "1.5.0",
      "_model_name": "VBoxModel",
      "_view_count": null,
      "_view_module": "@jupyter-widgets/controls",
      "_view_module_version": "1.5.0",
      "_view_name": "VBoxView",
      "box_style": "",
      "children": [
       "IPY_MODEL_b2558642b69c4eebba0613e4e32da280",
       "IPY_MODEL_b1087d6444ef429d8f633b3d4b1178ee"
      ],
      "layout": "IPY_MODEL_f13cd6f867fb4a25a18c2b0f187cd030"
     }
    },
    "eb62a6a555e946e0979f0435f6440c14": {
     "model_module": "@jupyter-widgets/base",
     "model_name": "LayoutModel",
     "state": {
      "_model_module": "@jupyter-widgets/base",
      "_model_module_version": "1.2.0",
      "_model_name": "LayoutModel",
      "_view_count": null,
      "_view_module": "@jupyter-widgets/base",
      "_view_module_version": "1.2.0",
      "_view_name": "LayoutView",
      "align_content": null,
      "align_items": null,
      "align_self": null,
      "border": null,
      "bottom": null,
      "display": null,
      "flex": null,
      "flex_flow": null,
      "grid_area": null,
      "grid_auto_columns": null,
      "grid_auto_flow": null,
      "grid_auto_rows": null,
      "grid_column": null,
      "grid_gap": null,
      "grid_row": null,
      "grid_template_areas": null,
      "grid_template_columns": null,
      "grid_template_rows": null,
      "height": null,
      "justify_content": null,
      "justify_items": null,
      "left": null,
      "margin": null,
      "max_height": null,
      "max_width": null,
      "min_height": null,
      "min_width": null,
      "object_fit": null,
      "object_position": null,
      "order": null,
      "overflow": null,
      "overflow_x": null,
      "overflow_y": null,
      "padding": null,
      "right": null,
      "top": null,
      "visibility": null,
      "width": null
     }
    },
    "ecf08fc0e0c64314bbdf16e257543cc8": {
     "model_module": "@jupyter-widgets/controls",
     "model_name": "LabelModel",
     "state": {
      "_dom_classes": [],
      "_model_module": "@jupyter-widgets/controls",
      "_model_module_version": "1.5.0",
      "_model_name": "LabelModel",
      "_view_count": null,
      "_view_module": "@jupyter-widgets/controls",
      "_view_module_version": "1.5.0",
      "_view_name": "LabelView",
      "description": "",
      "description_tooltip": null,
      "layout": "IPY_MODEL_4acae6d4a7664d02aa19f0799f539d9b",
      "placeholder": "​",
      "style": "IPY_MODEL_fd3c98a9709f466283fcd1eb27e57253",
      "value": " 0.01MB of 0.01MB uploaded (0.00MB deduped)\r"
     }
    },
    "f13cd6f867fb4a25a18c2b0f187cd030": {
     "model_module": "@jupyter-widgets/base",
     "model_name": "LayoutModel",
     "state": {
      "_model_module": "@jupyter-widgets/base",
      "_model_module_version": "1.2.0",
      "_model_name": "LayoutModel",
      "_view_count": null,
      "_view_module": "@jupyter-widgets/base",
      "_view_module_version": "1.2.0",
      "_view_name": "LayoutView",
      "align_content": null,
      "align_items": null,
      "align_self": null,
      "border": null,
      "bottom": null,
      "display": null,
      "flex": null,
      "flex_flow": null,
      "grid_area": null,
      "grid_auto_columns": null,
      "grid_auto_flow": null,
      "grid_auto_rows": null,
      "grid_column": null,
      "grid_gap": null,
      "grid_row": null,
      "grid_template_areas": null,
      "grid_template_columns": null,
      "grid_template_rows": null,
      "height": null,
      "justify_content": null,
      "justify_items": null,
      "left": null,
      "margin": null,
      "max_height": null,
      "max_width": null,
      "min_height": null,
      "min_width": null,
      "object_fit": null,
      "object_position": null,
      "order": null,
      "overflow": null,
      "overflow_x": null,
      "overflow_y": null,
      "padding": null,
      "right": null,
      "top": null,
      "visibility": null,
      "width": null
     }
    },
    "f209748d205745f78447e6134b3809bf": {
     "model_module": "@jupyter-widgets/controls",
     "model_name": "ProgressStyleModel",
     "state": {
      "_model_module": "@jupyter-widgets/controls",
      "_model_module_version": "1.5.0",
      "_model_name": "ProgressStyleModel",
      "_view_count": null,
      "_view_module": "@jupyter-widgets/base",
      "_view_module_version": "1.2.0",
      "_view_name": "StyleView",
      "bar_color": null,
      "description_width": ""
     }
    },
    "f5ef0e75a3e04026a7f2a5ce4673cb20": {
     "model_module": "@jupyter-widgets/base",
     "model_name": "LayoutModel",
     "state": {
      "_model_module": "@jupyter-widgets/base",
      "_model_module_version": "1.2.0",
      "_model_name": "LayoutModel",
      "_view_count": null,
      "_view_module": "@jupyter-widgets/base",
      "_view_module_version": "1.2.0",
      "_view_name": "LayoutView",
      "align_content": null,
      "align_items": null,
      "align_self": null,
      "border": null,
      "bottom": null,
      "display": null,
      "flex": null,
      "flex_flow": null,
      "grid_area": null,
      "grid_auto_columns": null,
      "grid_auto_flow": null,
      "grid_auto_rows": null,
      "grid_column": null,
      "grid_gap": null,
      "grid_row": null,
      "grid_template_areas": null,
      "grid_template_columns": null,
      "grid_template_rows": null,
      "height": null,
      "justify_content": null,
      "justify_items": null,
      "left": null,
      "margin": null,
      "max_height": null,
      "max_width": null,
      "min_height": null,
      "min_width": null,
      "object_fit": null,
      "object_position": null,
      "order": null,
      "overflow": null,
      "overflow_x": null,
      "overflow_y": null,
      "padding": null,
      "right": null,
      "top": null,
      "visibility": null,
      "width": null
     }
    },
    "fd1d9b9d91a94691982a58b6f3ed0654": {
     "model_module": "@jupyter-widgets/base",
     "model_name": "LayoutModel",
     "state": {
      "_model_module": "@jupyter-widgets/base",
      "_model_module_version": "1.2.0",
      "_model_name": "LayoutModel",
      "_view_count": null,
      "_view_module": "@jupyter-widgets/base",
      "_view_module_version": "1.2.0",
      "_view_name": "LayoutView",
      "align_content": null,
      "align_items": null,
      "align_self": null,
      "border": null,
      "bottom": null,
      "display": null,
      "flex": null,
      "flex_flow": null,
      "grid_area": null,
      "grid_auto_columns": null,
      "grid_auto_flow": null,
      "grid_auto_rows": null,
      "grid_column": null,
      "grid_gap": null,
      "grid_row": null,
      "grid_template_areas": null,
      "grid_template_columns": null,
      "grid_template_rows": null,
      "height": null,
      "justify_content": null,
      "justify_items": null,
      "left": null,
      "margin": null,
      "max_height": null,
      "max_width": null,
      "min_height": null,
      "min_width": null,
      "object_fit": null,
      "object_position": null,
      "order": null,
      "overflow": null,
      "overflow_x": null,
      "overflow_y": null,
      "padding": null,
      "right": null,
      "top": null,
      "visibility": null,
      "width": null
     }
    },
    "fd3c98a9709f466283fcd1eb27e57253": {
     "model_module": "@jupyter-widgets/controls",
     "model_name": "DescriptionStyleModel",
     "state": {
      "_model_module": "@jupyter-widgets/controls",
      "_model_module_version": "1.5.0",
      "_model_name": "DescriptionStyleModel",
      "_view_count": null,
      "_view_module": "@jupyter-widgets/base",
      "_view_module_version": "1.2.0",
      "_view_name": "StyleView",
      "description_width": ""
     }
    }
   }
  }
 },
 "nbformat": 4,
 "nbformat_minor": 1
}
