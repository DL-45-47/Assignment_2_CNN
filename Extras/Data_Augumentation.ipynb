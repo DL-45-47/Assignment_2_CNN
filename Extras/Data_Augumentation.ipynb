{
  "nbformat": 4,
  "nbformat_minor": 0,
  "metadata": {
    "accelerator": "GPU",
    "colab": {
      "name": "copy_A2.ipynb",
      "provenance": [],
      "collapsed_sections": []
    },
    "kernelspec": {
      "display_name": "Python 3",
      "name": "python3"
    },
    "language_info": {
      "name": "python"
    }
  },
  "cells": [
    {
      "cell_type": "code",
      "metadata": {
        "id": "VwuaK0McROOw"
      },
      "source": [
        "import numpy as np\n",
        "import os\n",
        "import random\n",
        "import cv2\n",
        "from keras.utils import to_categorical\n",
        "\n",
        "from keras.models import Sequential\n",
        "from keras.layers import Dense, Conv2D, Flatten, MaxPooling2D\n",
        "from keras import regularizers\n",
        "from keras.layers import BatchNormalization\n",
        "from keras.preprocessing.image import img_to_array\n",
        "from keras.preprocessing.image import ImageDataGenerator\n",
        "\n",
        "from numpy import expand_dims\n",
        "from keras.preprocessing.image import load_img\n",
        "\n",
        "from matplotlib import pyplot\n",
        "#model.add(BatchNormalization()) before each layer"
      ],
      "execution_count": null,
      "outputs": []
    },
    {
      "cell_type": "code",
      "metadata": {
        "colab": {
          "base_uri": "https://localhost:8080/"
        },
        "id": "UeSKURed6jMs",
        "outputId": "99edaea2-b3e7-4cc3-efac-dd654cb59ef6"
      },
      "source": [
        "from google.colab import drive\n",
        "drive.mount('/content/drive')"
      ],
      "execution_count": null,
      "outputs": [
        {
          "output_type": "stream",
          "text": [
            "Mounted at /content/drive\n"
          ],
          "name": "stdout"
        }
      ]
    },
    {
      "cell_type": "code",
      "metadata": {
        "id": "Ml6WCFlKMZ8W"
      },
      "source": [
        "!ls /content/drive/MyDrive"
      ],
      "execution_count": null,
      "outputs": []
    },
    {
      "cell_type": "code",
      "metadata": {
        "colab": {
          "base_uri": "https://localhost:8080/"
        },
        "id": "mPgC5Cme8Rxr",
        "outputId": "f379d145-2b6e-4468-b737-633cf1e2fabd"
      },
      "source": [
        "dir = \"/content/drive/MyDrive/nature_12k_new/inaturalist_12K/train\"\n",
        "class_list = os.listdir(dir)\n",
        "#class_list.remove('.DS_Store')\n",
        "class_list"
      ],
      "execution_count": null,
      "outputs": [
        {
          "output_type": "execute_result",
          "data": {
            "text/plain": [
              "['Reptilia',\n",
              " 'Mollusca',\n",
              " 'Animalia',\n",
              " 'Amphibia',\n",
              " 'Aves',\n",
              " 'Mammalia',\n",
              " 'Insecta',\n",
              " 'Plantae',\n",
              " 'Arachnida',\n",
              " 'Fungi']"
            ]
          },
          "metadata": {
            "tags": []
          },
          "execution_count": 3
        }
      ]
    },
    {
      "cell_type": "code",
      "metadata": {
        "id": "1CWIYNl6IjVB"
      },
      "source": [
        "num_per_cls = 150"
      ],
      "execution_count": null,
      "outputs": []
    },
    {
      "cell_type": "code",
      "metadata": {
        "colab": {
          "base_uri": "https://localhost:8080/"
        },
        "id": "lj4qrL8XBb6b",
        "outputId": "aa67edcf-0b9b-4511-b677-98383d23972f"
      },
      "source": [
        "train_img = []\n",
        "for cls in class_list:\n",
        "  dir = \"/content/drive/MyDrive/nature_12k_new/inaturalist_12K/train/\"+cls\n",
        "  train_img += random.choices(os.listdir(dir), k=num_per_cls)\n",
        "print(len(train_img))"
      ],
      "execution_count": null,
      "outputs": [
        {
          "output_type": "stream",
          "text": [
            "1500\n"
          ],
          "name": "stdout"
        }
      ]
    },
    {
      "cell_type": "code",
      "metadata": {
        "colab": {
          "base_uri": "https://localhost:8080/"
        },
        "id": "CZ-mvnO1938a",
        "outputId": "98633d6a-51fc-4992-b336-539aba0511bd"
      },
      "source": [
        "x_amp_train = []\n",
        "for i in range(len(class_list)):\n",
        "  dir = \"/content/drive/MyDrive/nature_12k_new/inaturalist_12K/train/\"+class_list[i]\n",
        "  for f in train_img[(i*num_per_cls):((i+1)*num_per_cls)]:\n",
        "    img = cv2.imread(os.path.join(dir,f))\n",
        "    x_amp_train.append(img)\n",
        "    \n",
        "  print(len(x_amp_train))"
      ],
      "execution_count": null,
      "outputs": [
        {
          "output_type": "stream",
          "text": [
            "150\n",
            "300\n",
            "450\n",
            "600\n",
            "750\n",
            "900\n",
            "1050\n",
            "1200\n",
            "1350\n",
            "1500\n"
          ],
          "name": "stdout"
        }
      ]
    },
    {
      "cell_type": "code",
      "metadata": {
        "id": "g3nwOOveuTYV"
      },
      "source": [
        "x_amp_train = np.array(x_amp_train)\n"
      ],
      "execution_count": null,
      "outputs": []
    },
    {
      "cell_type": "markdown",
      "metadata": {
        "id": "erkcefHu18QD"
      },
      "source": [
        ""
      ]
    },
    {
      "cell_type": "code",
      "metadata": {
        "id": "m_DyMM7CzS81"
      },
      "source": [
        "datagen = ImageDataGenerator(\n",
        "        rotation_range=40,\n",
        "        width_shift_range=0.2,\n",
        "        height_shift_range=0.2,\n",
        "        shear_range=0.2,\n",
        "        zoom_range=0.2,\n",
        "        horizontal_flip=True,\n",
        "        fill_mode='nearest')\n"
      ],
      "execution_count": null,
      "outputs": []
    },
    {
      "cell_type": "code",
      "metadata": {
        "colab": {
          "base_uri": "https://localhost:8080/"
        },
        "id": "0tdiYdu22GED",
        "outputId": "5a9069c6-e46d-44cb-c9b9-a00e7b258cdc"
      },
      "source": [
        "for c in range(len(class_list)):\n",
        "  j=c*100+50\n",
        "  x = img_to_array(x_amp_train[j])  \n",
        "  x = x.reshape((1,) + x.shape)\n",
        "  i = 0\n",
        "  for batch in datagen.flow(x, batch_size=1,save_to_dir='/content/drive/MyDrive/demo_augumentation/'+class_list[c], save_prefix= class_list[c], save_format='jpeg'):\n",
        "    i += 1\n",
        "    if i == 5:\n",
        "      break\n",
        "  print(class_list[c])"
      ],
      "execution_count": null,
      "outputs": [
        {
          "output_type": "stream",
          "text": [
            "Reptilia\n",
            "Mollusca\n",
            "Animalia\n",
            "Amphibia\n",
            "Aves\n",
            "Mammalia\n",
            "Insecta\n",
            "Plantae\n",
            "Arachnida\n",
            "Fungi\n"
          ],
          "name": "stdout"
        }
      ]
    },
    {
      "cell_type": "code",
      "metadata": {
        "colab": {
          "base_uri": "https://localhost:8080/"
        },
        "id": "MIX_52G8zcAz",
        "outputId": "e1ff741f-ac10-4cbf-8d99-8431e3bc204b"
      },
      "source": [
        "for c in range(len(class_list)):\n",
        "  for j in range(c*num_per_cls,(c+1)*num_per_cls):\n",
        "    x = img_to_array(x_amp_train[j])  \n",
        "    x = x.reshape((1,) + x.shape)\n",
        "    i = 0\n",
        "    for batch in datagen.flow(x, batch_size=1,save_to_dir='/content/drive/MyDrive/demo_augumentation/'+class_list[c], save_prefix= class_list[c], save_format='jpeg'):\n",
        "      i += 1\n",
        "      if i == 5:\n",
        "        break\n",
        "  print(class_list[c])"
      ],
      "execution_count": null,
      "outputs": [
        {
          "output_type": "stream",
          "text": [
            "Reptilia\n",
            "Mollusca\n",
            "Animalia\n",
            "Amphibia\n",
            "Aves\n",
            "Mammalia\n",
            "Insecta\n",
            "Plantae\n",
            "Arachnida\n",
            "Fungi\n"
          ],
          "name": "stdout"
        }
      ]
    }
  ]
}