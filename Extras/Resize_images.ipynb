{
  "nbformat": 4,
  "nbformat_minor": 0,
  "metadata": {
    "colab": {
      "name": "Resize_images.ipynb",
      "provenance": []
    },
    "kernelspec": {
      "name": "python3",
      "display_name": "Python 3"
    },
    "language_info": {
      "name": "python"
    },
    "accelerator": "GPU"
  },
  "cells": [
    {
      "cell_type": "code",
      "metadata": {
        "id": "6bapMf4cKHcZ"
      },
      "source": [
        "import numpy as np\n",
        "import os\n",
        "import random\n",
        "import cv2\n",
        "from keras.datasets import mnist\n",
        "import matplotlib.pyplot as plt\n",
        "from keras.utils import to_categorical"
      ],
      "execution_count": 1,
      "outputs": []
    },
    {
      "cell_type": "code",
      "metadata": {
        "colab": {
          "base_uri": "https://localhost:8080/"
        },
        "id": "Gzkk1lqTK2Ur",
        "outputId": "a8951ac1-deb6-4709-e732-828c16b3ae4a"
      },
      "source": [
        "from google.colab import drive\n",
        "drive.mount('/content/drive')"
      ],
      "execution_count": 2,
      "outputs": [
        {
          "output_type": "stream",
          "text": [
            "Mounted at /content/drive\n"
          ],
          "name": "stdout"
        }
      ]
    },
    {
      "cell_type": "code",
      "metadata": {
        "id": "K_XHr1AULBfJ",
        "colab": {
          "base_uri": "https://localhost:8080/"
        },
        "outputId": "aab74c30-ae94-4216-a284-28a9b8ea2cf1"
      },
      "source": [
        "!ls /content/drive/MyDrive/nature_12k_new/inaturalist_12K/train"
      ],
      "execution_count": 3,
      "outputs": [
        {
          "output_type": "stream",
          "text": [
            "Amphibia  Arachnida  Fungi    Mammalia\tPlantae\n",
            "Animalia  Aves\t     Insecta  Mollusca\tReptilia\n"
          ],
          "name": "stdout"
        }
      ]
    },
    {
      "cell_type": "code",
      "metadata": {
        "colab": {
          "base_uri": "https://localhost:8080/"
        },
        "id": "1w672YhaLIFd",
        "outputId": "903b5431-3d49-44d8-af98-d76aa0e33987"
      },
      "source": [
        "dir = \"/content/drive/MyDrive/nature_12K/inaturalist_12K/train\"\n",
        "class_list = os.listdir(dir)\n",
        "class_list.remove('.DS_Store')\n",
        "class_list"
      ],
      "execution_count": 4,
      "outputs": [
        {
          "output_type": "execute_result",
          "data": {
            "text/plain": [
              "['Insecta',\n",
              " 'Plantae',\n",
              " 'Arachnida',\n",
              " 'Fungi',\n",
              " 'Reptilia',\n",
              " 'Mollusca',\n",
              " 'Animalia',\n",
              " 'Amphibia',\n",
              " 'Aves',\n",
              " 'Mammalia']"
            ]
          },
          "metadata": {
            "tags": []
          },
          "execution_count": 4
        }
      ]
    },
    {
      "cell_type": "code",
      "metadata": {
        "id": "pga5vK_WLOlP"
      },
      "source": [
        "for cls in class_list:\n",
        "  print(cls)\n",
        "  dir = \"/content/drive/MyDrive/nature_12K/inaturalist_12K/train/\"+cls\n",
        "  train_img = os.listdir(dir)\n",
        "  for name in train_img:\n",
        "    img = cv2.imread(os.path.join(dir,name))\n",
        "    # print(type(img))\n",
        "    if img is not None:\n",
        "        img = cv2.resize(img, (500,500))\n",
        "        cv2.imwrite(os.path.join(\"/content/drive/MyDrive/nature_12k_new/inaturalist_12K/train/\"+cls , name), img)\n",
        "        cv2.waitKey(0)\n",
        "        # print(\"/content/drive/MyDrive/nature_12K_n/inaturalist_12K/train/\"+cls+\"/\"+name)\n",
        "  dir = \"/content/drive/MyDrive/nature_12K/inaturalist_12K/val/\"+cls\n",
        "  test_img = os.listdir(dir)\n",
        "  for name in test_img:\n",
        "    img = cv2.imread(os.path.join(dir,name))\n",
        "    # print(type(img))\n",
        "    if img is not None:\n",
        "        img = cv2.resize(img, (500,500))\n",
        "        cv2.imwrite(os.path.join(\"/content/drive/MyDrive/nature_12k_new/inaturalist_12K/val/\"+cls , name), img)\n",
        "        cv2.waitKey(0)\n",
        "print(len(train_img), len(test_img))"
      ],
      "execution_count": 5,
      "outputs": []
    },
    {
      "cell_type": "code",
      "metadata": {
        "id": "ReypeejtOAv0"
      },
      "source": [
        ""
      ],
      "execution_count": 5,
      "outputs": []
    }
  ]
}